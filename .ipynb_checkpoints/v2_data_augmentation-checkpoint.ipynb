{
 "cells": [
  {
   "cell_type": "markdown",
   "id": "eae82575",
   "metadata": {},
   "source": [
    "# WIP Data augmentation \n"
   ]
  },
  {
   "cell_type": "code",
   "execution_count": 2,
   "id": "c2a75b1a",
   "metadata": {},
   "outputs": [
    {
     "name": "stdout",
     "output_type": "stream",
     "text": [
      "2.6.0\n"
     ]
    }
   ],
   "source": [
    "import numpy as np\n",
    "import os\n",
    "import PIL\n",
    "import PIL.Image\n",
    "import tensorflow as tf\n",
    "\n",
    "\n",
    "import pathlib\n",
    "import pandas as pd\n",
    "\n",
    "import pydicom # for DICOM images\n",
    "from skimage.transform import resize\n",
    "\n",
    "import matplotlib.pyplot as plt\n",
    "from matplotlib import gridspec\n",
    "%matplotlib inline\n",
    "print(tf.__version__)"
   ]
  },
  {
   "cell_type": "code",
   "execution_count": 3,
   "id": "c1022b6e",
   "metadata": {},
   "outputs": [],
   "source": [
    "def set_seed(seed=31415):\n",
    "    np.random.seed(seed)\n",
    "    tf.random.set_seed(seed)\n",
    "    os.environ['PYTHONHASHSEED'] = str(seed)\n",
    "    os.environ['TF_DETERMINISTIC_OPS'] = '1'\n",
    "set_seed()"
   ]
  },
  {
   "cell_type": "code",
   "execution_count": 4,
   "id": "d0e7b5f0",
   "metadata": {},
   "outputs": [
    {
     "name": "stdout",
     "output_type": "stream",
     "text": [
      "Train has 33,126 rows and Test has 10,982 rows.\n"
     ]
    }
   ],
   "source": [
    "# Directory\n",
    "directory = '/Users/renau/Desktop/DATA/data_proj_melanoma'\n",
    "\n",
    "# Import the 2 csv s\n",
    "train_df = pd.read_csv(directory + '/train.csv')\n",
    "test_df = pd.read_csv(directory + '/test.csv')\n",
    "\n",
    "print('Train has {:,} rows and Test has {:,} rows.'.format(len(train_df), len(test_df)))\n",
    "\n",
    "# Change columns names\n",
    "new_names = ['dcm_name', 'ID', 'sex', 'age', 'anatomy', 'diagnosis', 'benign_malignant', 'target']\n",
    "train_df.columns = new_names\n",
    "test_df.columns = new_names[:5]"
   ]
  },
  {
   "cell_type": "code",
   "execution_count": 5,
   "id": "5e09f3c8",
   "metadata": {},
   "outputs": [],
   "source": [
    "# === JPEG ===\n",
    "# Create the paths\n",
    "path_train = directory + '/jpeg/train/' + train_df['dcm_name'] + '.jpg'\n",
    "path_test = directory + '/jpeg/test/' + test_df['dcm_name'] + '.jpg'\n",
    "\n",
    "# Append to the original dataframes\n",
    "train_df['path_jpeg'] = path_train\n",
    "test_df['path_jpeg'] = path_test"
   ]
  },
  {
   "cell_type": "code",
   "execution_count": 6,
   "id": "670fb0a1",
   "metadata": {
    "scrolled": true
   },
   "outputs": [
    {
     "data": {
      "text/html": [
       "<div>\n",
       "<style scoped>\n",
       "    .dataframe tbody tr th:only-of-type {\n",
       "        vertical-align: middle;\n",
       "    }\n",
       "\n",
       "    .dataframe tbody tr th {\n",
       "        vertical-align: top;\n",
       "    }\n",
       "\n",
       "    .dataframe thead th {\n",
       "        text-align: right;\n",
       "    }\n",
       "</style>\n",
       "<table border=\"1\" class=\"dataframe\">\n",
       "  <thead>\n",
       "    <tr style=\"text-align: right;\">\n",
       "      <th></th>\n",
       "      <th>dcm_name</th>\n",
       "      <th>ID</th>\n",
       "      <th>sex</th>\n",
       "      <th>age</th>\n",
       "      <th>anatomy</th>\n",
       "      <th>diagnosis</th>\n",
       "      <th>benign_malignant</th>\n",
       "      <th>target</th>\n",
       "      <th>path_jpeg</th>\n",
       "    </tr>\n",
       "  </thead>\n",
       "  <tbody>\n",
       "    <tr>\n",
       "      <th>91</th>\n",
       "      <td>ISIC_0149568</td>\n",
       "      <td>IP_0962375</td>\n",
       "      <td>female</td>\n",
       "      <td>55.0</td>\n",
       "      <td>upper extremity</td>\n",
       "      <td>melanoma</td>\n",
       "      <td>malignant</td>\n",
       "      <td>1</td>\n",
       "      <td>/Users/renau/Desktop/DATA/data_proj_melanoma/j...</td>\n",
       "    </tr>\n",
       "    <tr>\n",
       "      <th>235</th>\n",
       "      <td>ISIC_0188432</td>\n",
       "      <td>IP_0135517</td>\n",
       "      <td>female</td>\n",
       "      <td>50.0</td>\n",
       "      <td>upper extremity</td>\n",
       "      <td>melanoma</td>\n",
       "      <td>malignant</td>\n",
       "      <td>1</td>\n",
       "      <td>/Users/renau/Desktop/DATA/data_proj_melanoma/j...</td>\n",
       "    </tr>\n",
       "    <tr>\n",
       "      <th>314</th>\n",
       "      <td>ISIC_0207268</td>\n",
       "      <td>IP_7735373</td>\n",
       "      <td>male</td>\n",
       "      <td>55.0</td>\n",
       "      <td>torso</td>\n",
       "      <td>melanoma</td>\n",
       "      <td>malignant</td>\n",
       "      <td>1</td>\n",
       "      <td>/Users/renau/Desktop/DATA/data_proj_melanoma/j...</td>\n",
       "    </tr>\n",
       "    <tr>\n",
       "      <th>399</th>\n",
       "      <td>ISIC_0232101</td>\n",
       "      <td>IP_8349964</td>\n",
       "      <td>male</td>\n",
       "      <td>65.0</td>\n",
       "      <td>torso</td>\n",
       "      <td>melanoma</td>\n",
       "      <td>malignant</td>\n",
       "      <td>1</td>\n",
       "      <td>/Users/renau/Desktop/DATA/data_proj_melanoma/j...</td>\n",
       "    </tr>\n",
       "    <tr>\n",
       "      <th>459</th>\n",
       "      <td>ISIC_0247330</td>\n",
       "      <td>IP_3232631</td>\n",
       "      <td>female</td>\n",
       "      <td>65.0</td>\n",
       "      <td>lower extremity</td>\n",
       "      <td>melanoma</td>\n",
       "      <td>malignant</td>\n",
       "      <td>1</td>\n",
       "      <td>/Users/renau/Desktop/DATA/data_proj_melanoma/j...</td>\n",
       "    </tr>\n",
       "  </tbody>\n",
       "</table>\n",
       "</div>"
      ],
      "text/plain": [
       "         dcm_name          ID     sex   age          anatomy diagnosis  \\\n",
       "91   ISIC_0149568  IP_0962375  female  55.0  upper extremity  melanoma   \n",
       "235  ISIC_0188432  IP_0135517  female  50.0  upper extremity  melanoma   \n",
       "314  ISIC_0207268  IP_7735373    male  55.0            torso  melanoma   \n",
       "399  ISIC_0232101  IP_8349964    male  65.0            torso  melanoma   \n",
       "459  ISIC_0247330  IP_3232631  female  65.0  lower extremity  melanoma   \n",
       "\n",
       "    benign_malignant  target  \\\n",
       "91         malignant       1   \n",
       "235        malignant       1   \n",
       "314        malignant       1   \n",
       "399        malignant       1   \n",
       "459        malignant       1   \n",
       "\n",
       "                                             path_jpeg  \n",
       "91   /Users/renau/Desktop/DATA/data_proj_melanoma/j...  \n",
       "235  /Users/renau/Desktop/DATA/data_proj_melanoma/j...  \n",
       "314  /Users/renau/Desktop/DATA/data_proj_melanoma/j...  \n",
       "399  /Users/renau/Desktop/DATA/data_proj_melanoma/j...  \n",
       "459  /Users/renau/Desktop/DATA/data_proj_melanoma/j...  "
      ]
     },
     "execution_count": 6,
     "metadata": {},
     "output_type": "execute_result"
    }
   ],
   "source": [
    "malignant_df = train_df[train_df['target'] == 1]\n",
    "malignant_df.head()"
   ]
  },
  {
   "cell_type": "code",
   "execution_count": 7,
   "id": "d5691d32",
   "metadata": {
    "scrolled": true
   },
   "outputs": [
    {
     "data": {
      "text/html": [
       "<div>\n",
       "<style scoped>\n",
       "    .dataframe tbody tr th:only-of-type {\n",
       "        vertical-align: middle;\n",
       "    }\n",
       "\n",
       "    .dataframe tbody tr th {\n",
       "        vertical-align: top;\n",
       "    }\n",
       "\n",
       "    .dataframe thead th {\n",
       "        text-align: right;\n",
       "    }\n",
       "</style>\n",
       "<table border=\"1\" class=\"dataframe\">\n",
       "  <thead>\n",
       "    <tr style=\"text-align: right;\">\n",
       "      <th></th>\n",
       "      <th>dcm_name</th>\n",
       "      <th>ID</th>\n",
       "      <th>sex</th>\n",
       "      <th>age</th>\n",
       "      <th>anatomy</th>\n",
       "      <th>diagnosis</th>\n",
       "      <th>benign_malignant</th>\n",
       "      <th>target</th>\n",
       "      <th>path_jpeg</th>\n",
       "    </tr>\n",
       "  </thead>\n",
       "  <tbody>\n",
       "    <tr>\n",
       "      <th>0</th>\n",
       "      <td>ISIC_2637011</td>\n",
       "      <td>IP_7279968</td>\n",
       "      <td>male</td>\n",
       "      <td>45.0</td>\n",
       "      <td>head/neck</td>\n",
       "      <td>unknown</td>\n",
       "      <td>benign</td>\n",
       "      <td>0</td>\n",
       "      <td>/Users/renau/Desktop/DATA/data_proj_melanoma/j...</td>\n",
       "    </tr>\n",
       "    <tr>\n",
       "      <th>1</th>\n",
       "      <td>ISIC_0015719</td>\n",
       "      <td>IP_3075186</td>\n",
       "      <td>female</td>\n",
       "      <td>45.0</td>\n",
       "      <td>upper extremity</td>\n",
       "      <td>unknown</td>\n",
       "      <td>benign</td>\n",
       "      <td>0</td>\n",
       "      <td>/Users/renau/Desktop/DATA/data_proj_melanoma/j...</td>\n",
       "    </tr>\n",
       "    <tr>\n",
       "      <th>2</th>\n",
       "      <td>ISIC_0052212</td>\n",
       "      <td>IP_2842074</td>\n",
       "      <td>female</td>\n",
       "      <td>50.0</td>\n",
       "      <td>lower extremity</td>\n",
       "      <td>nevus</td>\n",
       "      <td>benign</td>\n",
       "      <td>0</td>\n",
       "      <td>/Users/renau/Desktop/DATA/data_proj_melanoma/j...</td>\n",
       "    </tr>\n",
       "    <tr>\n",
       "      <th>3</th>\n",
       "      <td>ISIC_0068279</td>\n",
       "      <td>IP_6890425</td>\n",
       "      <td>female</td>\n",
       "      <td>45.0</td>\n",
       "      <td>head/neck</td>\n",
       "      <td>unknown</td>\n",
       "      <td>benign</td>\n",
       "      <td>0</td>\n",
       "      <td>/Users/renau/Desktop/DATA/data_proj_melanoma/j...</td>\n",
       "    </tr>\n",
       "    <tr>\n",
       "      <th>4</th>\n",
       "      <td>ISIC_0074268</td>\n",
       "      <td>IP_8723313</td>\n",
       "      <td>female</td>\n",
       "      <td>55.0</td>\n",
       "      <td>upper extremity</td>\n",
       "      <td>unknown</td>\n",
       "      <td>benign</td>\n",
       "      <td>0</td>\n",
       "      <td>/Users/renau/Desktop/DATA/data_proj_melanoma/j...</td>\n",
       "    </tr>\n",
       "  </tbody>\n",
       "</table>\n",
       "</div>"
      ],
      "text/plain": [
       "       dcm_name          ID     sex   age          anatomy diagnosis  \\\n",
       "0  ISIC_2637011  IP_7279968    male  45.0        head/neck   unknown   \n",
       "1  ISIC_0015719  IP_3075186  female  45.0  upper extremity   unknown   \n",
       "2  ISIC_0052212  IP_2842074  female  50.0  lower extremity     nevus   \n",
       "3  ISIC_0068279  IP_6890425  female  45.0        head/neck   unknown   \n",
       "4  ISIC_0074268  IP_8723313  female  55.0  upper extremity   unknown   \n",
       "\n",
       "  benign_malignant  target                                          path_jpeg  \n",
       "0           benign       0  /Users/renau/Desktop/DATA/data_proj_melanoma/j...  \n",
       "1           benign       0  /Users/renau/Desktop/DATA/data_proj_melanoma/j...  \n",
       "2           benign       0  /Users/renau/Desktop/DATA/data_proj_melanoma/j...  \n",
       "3           benign       0  /Users/renau/Desktop/DATA/data_proj_melanoma/j...  \n",
       "4           benign       0  /Users/renau/Desktop/DATA/data_proj_melanoma/j...  "
      ]
     },
     "execution_count": 7,
     "metadata": {},
     "output_type": "execute_result"
    }
   ],
   "source": [
    "benin_df = train_df[train_df['target'] == 0]\n",
    "benin_df.head()"
   ]
  },
  {
   "cell_type": "code",
   "execution_count": 8,
   "id": "fe8c4729",
   "metadata": {},
   "outputs": [
    {
     "data": {
      "text/plain": [
       "584"
      ]
     },
     "execution_count": 8,
     "metadata": {},
     "output_type": "execute_result"
    }
   ],
   "source": [
    "mal_file = malignant_df['path_jpeg'].values\n",
    "mal_labels = malignant_df['target'].values\n",
    "mal_train_ds = tf.data.Dataset.from_tensor_slices((mal_file, mal_labels))\n",
    "len(list(mal_train_ds))"
   ]
  },
  {
   "cell_type": "code",
   "execution_count": 9,
   "id": "ae0eff34",
   "metadata": {},
   "outputs": [
    {
     "data": {
      "text/plain": [
       "32542"
      ]
     },
     "execution_count": 9,
     "metadata": {},
     "output_type": "execute_result"
    }
   ],
   "source": [
    "ben_file = benin_df['path_jpeg'].values\n",
    "ben_labels = benin_df['target'].values\n",
    "ben_train_ds = tf.data.Dataset.from_tensor_slices((ben_file, ben_labels))\n",
    "len(list(ben_train_ds))"
   ]
  },
  {
   "cell_type": "code",
   "execution_count": 10,
   "id": "8d15a23f",
   "metadata": {},
   "outputs": [
    {
     "data": {
      "text/plain": [
       "584"
      ]
     },
     "execution_count": 10,
     "metadata": {},
     "output_type": "execute_result"
    }
   ],
   "source": [
    "benPart_train_ds = ben_train_ds.take(len(list(mal_train_ds)))\n",
    "#benPart_train_ds = ben_train_ds.take(15000)\n",
    "len(list(benPart_train_ds))"
   ]
  },
  {
   "cell_type": "code",
   "execution_count": 11,
   "id": "8ad0efcf",
   "metadata": {},
   "outputs": [
    {
     "data": {
      "text/plain": [
       "1168"
      ]
     },
     "execution_count": 11,
     "metadata": {},
     "output_type": "execute_result"
    }
   ],
   "source": [
    "train_ds = mal_train_ds.concatenate(benPart_train_ds)\n",
    "#train_ds = ben_train_ds.take(1000)\n",
    "shuf_train_ds = train_ds.shuffle(len(list(train_ds)))\n",
    "len(list(shuf_train_ds))"
   ]
  },
  {
   "cell_type": "code",
   "execution_count": 12,
   "id": "77b57288",
   "metadata": {},
   "outputs": [
    {
     "name": "stdout",
     "output_type": "stream",
     "text": [
      "233 935\n"
     ]
    }
   ],
   "source": [
    "def make_balanced_dataset(ds_class1, ds_class2):\n",
    "    half_size = min(len(list(ds_class1)),len(list(ds_class2)))\n",
    "    ds_1 = ds_class1.take(half_size)\n",
    "    ds_2 = ds_class2.take(half_size)\n",
    "    ds_full = ds_1.concatenate(ds_2)\n",
    "    ds_full = ds_full.shuffle(half_size*2, reshuffle_each_iteration=False)\n",
    "    return ds_full.skip((half_size*2)//5),ds_full.take((half_size*2)//5),\n",
    "#print(make_balanced_dataset(ben_train_ds,mal_train_ds))   \n",
    "ds_train, ds_val = make_balanced_dataset(ben_train_ds,mal_train_ds)\n",
    "size = len(list(ds_val))\n",
    "print(size, len(list(ds_train)))"
   ]
  },
  {
   "cell_type": "code",
   "execution_count": 13,
   "id": "7452be65",
   "metadata": {
    "scrolled": false
   },
   "outputs": [
    {
     "name": "stdout",
     "output_type": "stream",
     "text": [
      "b'/Users/renau/Desktop/DATA/data_proj_melanoma/jpeg/train/ISIC_0082934.jpg' and target:  0\n",
      "b'/Users/renau/Desktop/DATA/data_proj_melanoma/jpeg/train/ISIC_0599605.jpg' and target:  1\n",
      "b'/Users/renau/Desktop/DATA/data_proj_melanoma/jpeg/train/ISIC_0249269.jpg' and target:  0\n",
      "b'/Users/renau/Desktop/DATA/data_proj_melanoma/jpeg/train/ISIC_2937642.jpg' and target:  1\n"
     ]
    }
   ],
   "source": [
    "ex_ds = ds_train.take(4)\n",
    "for element in ex_ds :\n",
    "    print(element[0].numpy(),'and target: ',element[1].numpy())"
   ]
  },
  {
   "cell_type": "code",
   "execution_count": 14,
   "id": "724bf6ee",
   "metadata": {},
   "outputs": [],
   "source": [
    "def read_image(path, label):\n",
    "    image = tf.io.read_file(path)\n",
    "    image = tf.image.decode_image(image, channels=3, dtype = tf.uint8, expand_animations = False)\n",
    "    return image, label\n",
    "\n",
    "ds_train = ds_train.map(read_image)\n",
    "ds_val = ds_val.map(read_image)"
   ]
  },
  {
   "cell_type": "code",
   "execution_count": 15,
   "id": "ae09d9ef",
   "metadata": {
    "scrolled": true
   },
   "outputs": [
    {
     "name": "stdout",
     "output_type": "stream",
     "text": [
      "(4000, 6000, 3)\n",
      "(2448, 3264, 3)\n",
      "(4000, 6000, 3)\n"
     ]
    }
   ],
   "source": [
    "ex_ds = ds_train.take(3)\n",
    "for element in ex_ds :\n",
    "    print(element[0].numpy().shape)"
   ]
  },
  {
   "cell_type": "code",
   "execution_count": 16,
   "id": "222d1391-24e9-436b-9c34-cd8474bcd4e3",
   "metadata": {},
   "outputs": [
    {
     "name": "stdout",
     "output_type": "stream",
     "text": [
      "(32, 256, 256, 3)\n",
      "(32,)\n",
      "(32, 256, 256, 3)\n",
      "(32,)\n",
      "(32, 256, 256, 3)\n",
      "(32,)\n"
     ]
    }
   ],
   "source": [
    "def adapt_data(image, label):\n",
    "    image = tf.image.resize(image, [256,256])\n",
    "    return image, label\n",
    "\n",
    "def convert_to_float(image, label):\n",
    "    image = tf.image.convert_image_dtype(image, dtype=tf.float64)\n",
    "    return image, label\n",
    "    \n",
    "ds_train= ds_train.map(adapt_data).map(convert_to_float).batch(32)\n",
    "ds_val= ds_val.map(adapt_data).map(convert_to_float).batch(32)\n",
    "\n",
    "ex_ds = ds_train.take(3)\n",
    "for element in ex_ds :\n",
    "    print(element[0].shape)\n",
    "    print(element[1].shape)"
   ]
  },
  {
   "cell_type": "code",
   "execution_count": 17,
   "id": "c16f2e9b",
   "metadata": {},
   "outputs": [],
   "source": [
    "AUTOTUNE = tf.data.AUTOTUNE\n",
    "\n",
    "ds_train = ds_train.cache().prefetch(buffer_size=AUTOTUNE)\n",
    "ds_val = ds_val.cache().prefetch(buffer_size=AUTOTUNE)"
   ]
  },
  {
   "cell_type": "code",
   "execution_count": 26,
   "id": "c41ebe5f",
   "metadata": {},
   "outputs": [],
   "source": [
    "from tensorflow import keras\n",
    "from tensorflow.keras import layers\n",
    "from tensorflow.keras.layers.experimental import preprocessing\n",
    "\n",
    "model = tf.keras.Sequential([ \n",
    "    \n",
    "#==Data Augment==\n",
    "    \n",
    "    preprocessing.RandomContrast(factor=0.1),\n",
    "    preprocessing.RandomFlip(mode='horizontal'), \n",
    "    preprocessing.RandomFlip(mode='vertical'), \n",
    "    preprocessing.RandomRotation(factor=0.20),\n",
    "\n",
    "#==CONV== \n",
    "    \n",
    "    layers.Rescaling(1./255),\n",
    "    layers.Conv2D(32, 3, activation='relu'),\n",
    "    layers.MaxPooling2D(),\n",
    "    layers.Conv2D(32, 3, activation='relu'),\n",
    "    layers.MaxPooling2D(),\n",
    "    layers.Conv2D(32, 3, activation='relu'),\n",
    "    layers.MaxPooling2D(),\n",
    "\n",
    "#==HEAD==<\n",
    "    layers.Flatten(),\n",
    "    \n",
    "    layers.Dense(128, activation='relu'),\n",
    "    layers.Dropout(0.2),\n",
    "    #layers.BatchNormalization(),\n",
    "    \n",
    "    layers.Dense(64, activation='relu'),\n",
    "    layers.Dropout(0.2),\n",
    "    #layers.BatchNormalization(),\n",
    "    \n",
    "    layers.Dense(32, activation='relu'),\n",
    "    layers.Dropout(0.2),\n",
    "    #layers.BatchNormalization(),\n",
    "    \n",
    "    layers.Dense(1,activation='sigmoid')\n",
    "])"
   ]
  },
  {
   "cell_type": "code",
   "execution_count": 27,
   "id": "2f942f43",
   "metadata": {},
   "outputs": [],
   "source": [
    "model.compile(\n",
    "    optimizer=tf.keras.optimizers.Adam(epsilon=0.01),\n",
    "    loss='binary_crossentropy',\n",
    "    metrics=['binary_accuracy']\n",
    ")"
   ]
  },
  {
   "cell_type": "code",
   "execution_count": 28,
   "id": "04c25c91",
   "metadata": {
    "scrolled": false
   },
   "outputs": [
    {
     "name": "stdout",
     "output_type": "stream",
     "text": [
      "Epoch 1/150\n",
      "30/30 [==============================] - 2s 42ms/step - loss: 0.6898 - binary_accuracy: 0.4941 - val_loss: 0.6813 - val_binary_accuracy: 0.5064\n",
      "Epoch 2/150\n",
      "30/30 [==============================] - 1s 39ms/step - loss: 0.6848 - binary_accuracy: 0.5198 - val_loss: 0.6724 - val_binary_accuracy: 0.5880\n",
      "Epoch 3/150\n",
      "30/30 [==============================] - 1s 39ms/step - loss: 0.6740 - binary_accuracy: 0.5668 - val_loss: 0.6569 - val_binary_accuracy: 0.6738\n",
      "Epoch 4/150\n",
      "30/30 [==============================] - 1s 39ms/step - loss: 0.6659 - binary_accuracy: 0.5850 - val_loss: 0.6785 - val_binary_accuracy: 0.6137\n",
      "Epoch 5/150\n",
      "30/30 [==============================] - 1s 39ms/step - loss: 0.6581 - binary_accuracy: 0.6128 - val_loss: 0.6302 - val_binary_accuracy: 0.6996\n",
      "Epoch 6/150\n",
      "30/30 [==============================] - 1s 39ms/step - loss: 0.6415 - binary_accuracy: 0.6578 - val_loss: 0.6061 - val_binary_accuracy: 0.7210\n",
      "Epoch 7/150\n",
      "30/30 [==============================] - 1s 39ms/step - loss: 0.6272 - binary_accuracy: 0.6738 - val_loss: 0.6238 - val_binary_accuracy: 0.6266\n",
      "Epoch 8/150\n",
      "30/30 [==============================] - 1s 39ms/step - loss: 0.6298 - binary_accuracy: 0.6588 - val_loss: 0.5758 - val_binary_accuracy: 0.7039\n",
      "Epoch 9/150\n",
      "30/30 [==============================] - 1s 39ms/step - loss: 0.6066 - binary_accuracy: 0.6834 - val_loss: 0.5868 - val_binary_accuracy: 0.6953\n",
      "Epoch 10/150\n",
      "30/30 [==============================] - 1s 39ms/step - loss: 0.6061 - binary_accuracy: 0.6770 - val_loss: 0.5747 - val_binary_accuracy: 0.6953\n",
      "Epoch 11/150\n",
      "30/30 [==============================] - 1s 39ms/step - loss: 0.5904 - binary_accuracy: 0.6856 - val_loss: 0.5510 - val_binary_accuracy: 0.7253\n",
      "Epoch 12/150\n",
      "30/30 [==============================] - 1s 39ms/step - loss: 0.5884 - binary_accuracy: 0.6973 - val_loss: 0.5545 - val_binary_accuracy: 0.7039\n",
      "Epoch 13/150\n",
      "30/30 [==============================] - 1s 39ms/step - loss: 0.5761 - binary_accuracy: 0.7112 - val_loss: 0.5829 - val_binary_accuracy: 0.7082\n",
      "Epoch 14/150\n",
      "30/30 [==============================] - 1s 39ms/step - loss: 0.5972 - binary_accuracy: 0.6888 - val_loss: 0.5566 - val_binary_accuracy: 0.7296\n",
      "Epoch 15/150\n",
      "30/30 [==============================] - 1s 39ms/step - loss: 0.5834 - binary_accuracy: 0.6888 - val_loss: 0.5382 - val_binary_accuracy: 0.7425\n",
      "Epoch 16/150\n",
      "30/30 [==============================] - 1s 39ms/step - loss: 0.5599 - binary_accuracy: 0.7070 - val_loss: 0.5388 - val_binary_accuracy: 0.7339\n",
      "Epoch 17/150\n",
      "30/30 [==============================] - 1s 39ms/step - loss: 0.5643 - binary_accuracy: 0.7112 - val_loss: 0.5357 - val_binary_accuracy: 0.7339\n",
      "Epoch 18/150\n",
      "30/30 [==============================] - 1s 39ms/step - loss: 0.5487 - binary_accuracy: 0.7144 - val_loss: 0.5429 - val_binary_accuracy: 0.7210\n",
      "Epoch 19/150\n",
      "30/30 [==============================] - 1s 39ms/step - loss: 0.5511 - binary_accuracy: 0.7080 - val_loss: 0.5267 - val_binary_accuracy: 0.7554\n",
      "Epoch 20/150\n",
      "30/30 [==============================] - 1s 39ms/step - loss: 0.5488 - binary_accuracy: 0.7209 - val_loss: 0.5205 - val_binary_accuracy: 0.7554\n",
      "Epoch 21/150\n",
      "30/30 [==============================] - 1s 39ms/step - loss: 0.5443 - binary_accuracy: 0.7080 - val_loss: 0.5249 - val_binary_accuracy: 0.7339\n",
      "Epoch 22/150\n",
      "30/30 [==============================] - 1s 39ms/step - loss: 0.5689 - binary_accuracy: 0.6824 - val_loss: 0.5881 - val_binary_accuracy: 0.6609\n",
      "Epoch 23/150\n",
      "30/30 [==============================] - 1s 39ms/step - loss: 0.5646 - binary_accuracy: 0.7027 - val_loss: 0.5796 - val_binary_accuracy: 0.6695\n",
      "Epoch 24/150\n",
      "30/30 [==============================] - 1s 39ms/step - loss: 0.5915 - binary_accuracy: 0.6941 - val_loss: 0.5912 - val_binary_accuracy: 0.6738\n",
      "Epoch 25/150\n",
      "30/30 [==============================] - 1s 39ms/step - loss: 0.5647 - binary_accuracy: 0.7016 - val_loss: 0.5456 - val_binary_accuracy: 0.7167\n",
      "Epoch 26/150\n",
      "30/30 [==============================] - 1s 39ms/step - loss: 0.5617 - binary_accuracy: 0.7059 - val_loss: 0.5901 - val_binary_accuracy: 0.6910\n",
      "Epoch 27/150\n",
      "30/30 [==============================] - 1s 39ms/step - loss: 0.5562 - binary_accuracy: 0.7027 - val_loss: 0.5214 - val_binary_accuracy: 0.7382\n",
      "Epoch 28/150\n",
      "30/30 [==============================] - 1s 39ms/step - loss: 0.5491 - binary_accuracy: 0.7144 - val_loss: 0.5450 - val_binary_accuracy: 0.7210\n",
      "Epoch 29/150\n",
      "30/30 [==============================] - 1s 39ms/step - loss: 0.5734 - binary_accuracy: 0.6995 - val_loss: 0.5490 - val_binary_accuracy: 0.7253\n",
      "Epoch 30/150\n",
      "30/30 [==============================] - 1s 39ms/step - loss: 0.5418 - binary_accuracy: 0.7230 - val_loss: 0.5518 - val_binary_accuracy: 0.7167\n",
      "Epoch 31/150\n",
      "30/30 [==============================] - 1s 39ms/step - loss: 0.5456 - binary_accuracy: 0.7080 - val_loss: 0.5717 - val_binary_accuracy: 0.6996\n",
      "Epoch 32/150\n",
      "30/30 [==============================] - 1s 39ms/step - loss: 0.5728 - binary_accuracy: 0.6941 - val_loss: 0.5304 - val_binary_accuracy: 0.7425\n",
      "Epoch 33/150\n",
      "30/30 [==============================] - 1s 39ms/step - loss: 0.5469 - binary_accuracy: 0.7134 - val_loss: 0.5586 - val_binary_accuracy: 0.7210\n",
      "Epoch 34/150\n",
      "30/30 [==============================] - 1s 39ms/step - loss: 0.5336 - binary_accuracy: 0.7316 - val_loss: 0.5253 - val_binary_accuracy: 0.7339\n",
      "Epoch 35/150\n",
      "30/30 [==============================] - 1s 39ms/step - loss: 0.5573 - binary_accuracy: 0.7027 - val_loss: 0.5276 - val_binary_accuracy: 0.7339\n",
      "Epoch 36/150\n",
      "30/30 [==============================] - 1s 39ms/step - loss: 0.5334 - binary_accuracy: 0.7412 - val_loss: 0.5178 - val_binary_accuracy: 0.7511\n",
      "Epoch 37/150\n",
      "30/30 [==============================] - 1s 39ms/step - loss: 0.5338 - binary_accuracy: 0.7155 - val_loss: 0.5433 - val_binary_accuracy: 0.7039\n",
      "Epoch 38/150\n",
      "30/30 [==============================] - 1s 39ms/step - loss: 0.5532 - binary_accuracy: 0.7102 - val_loss: 0.5558 - val_binary_accuracy: 0.7210\n",
      "Epoch 39/150\n",
      "30/30 [==============================] - 1s 39ms/step - loss: 0.5365 - binary_accuracy: 0.7273 - val_loss: 0.5121 - val_binary_accuracy: 0.7468\n",
      "Epoch 40/150\n",
      "30/30 [==============================] - 1s 39ms/step - loss: 0.5509 - binary_accuracy: 0.7059 - val_loss: 0.5772 - val_binary_accuracy: 0.6781\n",
      "Epoch 41/150\n",
      "30/30 [==============================] - 1s 39ms/step - loss: 0.5287 - binary_accuracy: 0.7305 - val_loss: 0.5290 - val_binary_accuracy: 0.7468\n",
      "Epoch 42/150\n",
      "30/30 [==============================] - 1s 39ms/step - loss: 0.5285 - binary_accuracy: 0.7187 - val_loss: 0.5098 - val_binary_accuracy: 0.7425\n",
      "Epoch 43/150\n",
      "30/30 [==============================] - 1s 39ms/step - loss: 0.5205 - binary_accuracy: 0.7230 - val_loss: 0.5595 - val_binary_accuracy: 0.6953\n",
      "Epoch 44/150\n",
      "30/30 [==============================] - 1s 39ms/step - loss: 0.5419 - binary_accuracy: 0.7123 - val_loss: 0.5156 - val_binary_accuracy: 0.7511\n",
      "Epoch 45/150\n",
      "30/30 [==============================] - 1s 39ms/step - loss: 0.5157 - binary_accuracy: 0.7390 - val_loss: 0.5090 - val_binary_accuracy: 0.7511\n",
      "Epoch 46/150\n",
      "30/30 [==============================] - 1s 39ms/step - loss: 0.5056 - binary_accuracy: 0.7444 - val_loss: 0.5115 - val_binary_accuracy: 0.7511\n",
      "Epoch 47/150\n",
      "30/30 [==============================] - 1s 39ms/step - loss: 0.5231 - binary_accuracy: 0.7369 - val_loss: 0.5565 - val_binary_accuracy: 0.6867\n",
      "Epoch 48/150\n",
      "30/30 [==============================] - 1s 39ms/step - loss: 0.5392 - binary_accuracy: 0.7134 - val_loss: 0.5174 - val_binary_accuracy: 0.7511\n",
      "Epoch 49/150\n",
      "30/30 [==============================] - 1s 39ms/step - loss: 0.4931 - binary_accuracy: 0.7636 - val_loss: 0.5004 - val_binary_accuracy: 0.7639\n",
      "Epoch 50/150\n",
      "30/30 [==============================] - 1s 39ms/step - loss: 0.5181 - binary_accuracy: 0.7348 - val_loss: 0.5170 - val_binary_accuracy: 0.7554\n",
      "Epoch 51/150\n",
      "30/30 [==============================] - 1s 39ms/step - loss: 0.5116 - binary_accuracy: 0.7305 - val_loss: 0.5178 - val_binary_accuracy: 0.7639\n",
      "Epoch 52/150\n",
      "30/30 [==============================] - 1s 39ms/step - loss: 0.5067 - binary_accuracy: 0.7476 - val_loss: 0.5133 - val_binary_accuracy: 0.7554\n",
      "Epoch 53/150\n"
     ]
    },
    {
     "name": "stdout",
     "output_type": "stream",
     "text": [
      "30/30 [==============================] - 1s 39ms/step - loss: 0.5257 - binary_accuracy: 0.7380 - val_loss: 0.5289 - val_binary_accuracy: 0.7339\n",
      "Epoch 54/150\n",
      "30/30 [==============================] - 1s 39ms/step - loss: 0.5079 - binary_accuracy: 0.7572 - val_loss: 0.4967 - val_binary_accuracy: 0.7682\n",
      "Epoch 55/150\n",
      "30/30 [==============================] - 1s 39ms/step - loss: 0.4942 - binary_accuracy: 0.7497 - val_loss: 0.5086 - val_binary_accuracy: 0.7725\n",
      "Epoch 56/150\n",
      "30/30 [==============================] - 1s 39ms/step - loss: 0.4860 - binary_accuracy: 0.7551 - val_loss: 0.4962 - val_binary_accuracy: 0.7811\n",
      "Epoch 57/150\n",
      "30/30 [==============================] - 1s 39ms/step - loss: 0.4788 - binary_accuracy: 0.7658 - val_loss: 0.4840 - val_binary_accuracy: 0.7811\n",
      "Epoch 58/150\n",
      "30/30 [==============================] - 1s 39ms/step - loss: 0.4898 - binary_accuracy: 0.7487 - val_loss: 0.5124 - val_binary_accuracy: 0.7811\n",
      "Epoch 59/150\n",
      "30/30 [==============================] - 1s 39ms/step - loss: 0.5084 - binary_accuracy: 0.7508 - val_loss: 0.5116 - val_binary_accuracy: 0.7382\n",
      "Epoch 60/150\n",
      "30/30 [==============================] - 1s 39ms/step - loss: 0.4943 - binary_accuracy: 0.7540 - val_loss: 0.5292 - val_binary_accuracy: 0.7597\n",
      "Epoch 61/150\n",
      "30/30 [==============================] - 1s 39ms/step - loss: 0.5053 - binary_accuracy: 0.7551 - val_loss: 0.4907 - val_binary_accuracy: 0.7854\n",
      "Epoch 62/150\n",
      "30/30 [==============================] - 1s 39ms/step - loss: 0.4859 - binary_accuracy: 0.7604 - val_loss: 0.4921 - val_binary_accuracy: 0.7768\n",
      "Epoch 63/150\n",
      "30/30 [==============================] - 1s 39ms/step - loss: 0.4890 - binary_accuracy: 0.7604 - val_loss: 0.4931 - val_binary_accuracy: 0.7682\n",
      "Epoch 64/150\n",
      "30/30 [==============================] - 1s 39ms/step - loss: 0.4776 - binary_accuracy: 0.7679 - val_loss: 0.5215 - val_binary_accuracy: 0.7554\n",
      "Epoch 65/150\n",
      "30/30 [==============================] - 1s 39ms/step - loss: 0.4829 - binary_accuracy: 0.7658 - val_loss: 0.5039 - val_binary_accuracy: 0.7468\n",
      "Epoch 66/150\n",
      "30/30 [==============================] - 1s 39ms/step - loss: 0.4748 - binary_accuracy: 0.7636 - val_loss: 0.5329 - val_binary_accuracy: 0.7811\n",
      "Epoch 67/150\n",
      "30/30 [==============================] - 1s 39ms/step - loss: 0.4703 - binary_accuracy: 0.7743 - val_loss: 0.4891 - val_binary_accuracy: 0.7725\n",
      "Epoch 68/150\n",
      "30/30 [==============================] - 1s 39ms/step - loss: 0.4673 - binary_accuracy: 0.7701 - val_loss: 0.5215 - val_binary_accuracy: 0.7597\n",
      "Epoch 69/150\n",
      "30/30 [==============================] - 1s 39ms/step - loss: 0.4815 - binary_accuracy: 0.7615 - val_loss: 0.5110 - val_binary_accuracy: 0.7511\n",
      "Epoch 70/150\n",
      "30/30 [==============================] - 1s 39ms/step - loss: 0.4847 - binary_accuracy: 0.7583 - val_loss: 0.5124 - val_binary_accuracy: 0.7811\n",
      "Epoch 71/150\n",
      "30/30 [==============================] - 1s 39ms/step - loss: 0.4637 - binary_accuracy: 0.7797 - val_loss: 0.5060 - val_binary_accuracy: 0.7811\n",
      "Epoch 72/150\n",
      "30/30 [==============================] - 1s 39ms/step - loss: 0.4818 - binary_accuracy: 0.7594 - val_loss: 0.4842 - val_binary_accuracy: 0.7940\n",
      "Epoch 73/150\n",
      "30/30 [==============================] - 1s 39ms/step - loss: 0.4637 - binary_accuracy: 0.7786 - val_loss: 0.4747 - val_binary_accuracy: 0.7811\n",
      "Epoch 74/150\n",
      "30/30 [==============================] - 1s 39ms/step - loss: 0.4687 - binary_accuracy: 0.7733 - val_loss: 0.4614 - val_binary_accuracy: 0.7854\n",
      "Epoch 75/150\n",
      "30/30 [==============================] - 1s 39ms/step - loss: 0.4750 - binary_accuracy: 0.7690 - val_loss: 0.4800 - val_binary_accuracy: 0.7682\n",
      "Epoch 76/150\n",
      "30/30 [==============================] - 1s 39ms/step - loss: 0.4723 - binary_accuracy: 0.7733 - val_loss: 0.4695 - val_binary_accuracy: 0.7811\n",
      "Epoch 77/150\n",
      "30/30 [==============================] - 1s 39ms/step - loss: 0.4514 - binary_accuracy: 0.7850 - val_loss: 0.4830 - val_binary_accuracy: 0.7854\n",
      "Epoch 78/150\n",
      "30/30 [==============================] - 1s 39ms/step - loss: 0.4511 - binary_accuracy: 0.7968 - val_loss: 0.4844 - val_binary_accuracy: 0.7554\n",
      "Epoch 79/150\n",
      "30/30 [==============================] - 1s 39ms/step - loss: 0.4836 - binary_accuracy: 0.7658 - val_loss: 0.5208 - val_binary_accuracy: 0.7639\n",
      "Epoch 80/150\n",
      "30/30 [==============================] - 1s 39ms/step - loss: 0.4803 - binary_accuracy: 0.7583 - val_loss: 0.4755 - val_binary_accuracy: 0.7940\n",
      "Epoch 81/150\n",
      "30/30 [==============================] - 1s 39ms/step - loss: 0.4589 - binary_accuracy: 0.7754 - val_loss: 0.4935 - val_binary_accuracy: 0.7854\n",
      "Epoch 82/150\n",
      "30/30 [==============================] - 1s 39ms/step - loss: 0.4592 - binary_accuracy: 0.7775 - val_loss: 0.4863 - val_binary_accuracy: 0.7854\n",
      "Epoch 83/150\n",
      "30/30 [==============================] - 1s 39ms/step - loss: 0.4556 - binary_accuracy: 0.7754 - val_loss: 0.4781 - val_binary_accuracy: 0.7768\n",
      "Epoch 84/150\n",
      "30/30 [==============================] - 1s 39ms/step - loss: 0.4515 - binary_accuracy: 0.7722 - val_loss: 0.4683 - val_binary_accuracy: 0.7940\n",
      "Epoch 85/150\n",
      "30/30 [==============================] - 1s 39ms/step - loss: 0.4494 - binary_accuracy: 0.7829 - val_loss: 0.4610 - val_binary_accuracy: 0.7854\n",
      "Epoch 86/150\n",
      "30/30 [==============================] - 1s 39ms/step - loss: 0.4448 - binary_accuracy: 0.7861 - val_loss: 0.4844 - val_binary_accuracy: 0.7811\n",
      "Epoch 87/150\n",
      "30/30 [==============================] - 1s 39ms/step - loss: 0.4372 - binary_accuracy: 0.7818 - val_loss: 0.4760 - val_binary_accuracy: 0.7854\n",
      "Epoch 88/150\n",
      "30/30 [==============================] - 1s 39ms/step - loss: 0.4590 - binary_accuracy: 0.7807 - val_loss: 0.4773 - val_binary_accuracy: 0.7897\n",
      "Epoch 89/150\n",
      "30/30 [==============================] - 1s 39ms/step - loss: 0.4755 - binary_accuracy: 0.7701 - val_loss: 0.5076 - val_binary_accuracy: 0.7811\n",
      "Epoch 90/150\n",
      "30/30 [==============================] - 1s 39ms/step - loss: 0.4655 - binary_accuracy: 0.7743 - val_loss: 0.4860 - val_binary_accuracy: 0.7897\n",
      "Epoch 91/150\n",
      "30/30 [==============================] - 1s 39ms/step - loss: 0.4461 - binary_accuracy: 0.7947 - val_loss: 0.4617 - val_binary_accuracy: 0.7897\n",
      "Epoch 92/150\n",
      "30/30 [==============================] - 1s 39ms/step - loss: 0.4312 - binary_accuracy: 0.7872 - val_loss: 0.4904 - val_binary_accuracy: 0.7854\n",
      "Epoch 93/150\n",
      "30/30 [==============================] - 1s 39ms/step - loss: 0.4284 - binary_accuracy: 0.8011 - val_loss: 0.4822 - val_binary_accuracy: 0.7854\n",
      "Epoch 94/150\n",
      "30/30 [==============================] - 1s 39ms/step - loss: 0.4232 - binary_accuracy: 0.8118 - val_loss: 0.4847 - val_binary_accuracy: 0.7811\n",
      "Epoch 95/150\n",
      "30/30 [==============================] - 1s 39ms/step - loss: 0.4200 - binary_accuracy: 0.7957 - val_loss: 0.4890 - val_binary_accuracy: 0.7768\n",
      "Epoch 96/150\n",
      "30/30 [==============================] - 1s 39ms/step - loss: 0.4368 - binary_accuracy: 0.7893 - val_loss: 0.4590 - val_binary_accuracy: 0.7811\n",
      "Epoch 97/150\n",
      "30/30 [==============================] - 1s 39ms/step - loss: 0.4194 - binary_accuracy: 0.8064 - val_loss: 0.4730 - val_binary_accuracy: 0.7897\n",
      "Epoch 98/150\n",
      "30/30 [==============================] - 1s 39ms/step - loss: 0.4312 - binary_accuracy: 0.7936 - val_loss: 0.4744 - val_binary_accuracy: 0.7768\n",
      "Epoch 99/150\n",
      "30/30 [==============================] - 1s 39ms/step - loss: 0.4160 - binary_accuracy: 0.7979 - val_loss: 0.5179 - val_binary_accuracy: 0.7682\n",
      "Epoch 100/150\n",
      "30/30 [==============================] - 1s 39ms/step - loss: 0.4439 - binary_accuracy: 0.7882 - val_loss: 0.5047 - val_binary_accuracy: 0.7511\n",
      "Epoch 101/150\n",
      "30/30 [==============================] - 1s 39ms/step - loss: 0.4453 - binary_accuracy: 0.7989 - val_loss: 0.4990 - val_binary_accuracy: 0.7725\n",
      "Epoch 102/150\n",
      "30/30 [==============================] - 1s 39ms/step - loss: 0.4311 - binary_accuracy: 0.8011 - val_loss: 0.5084 - val_binary_accuracy: 0.8026\n",
      "Epoch 103/150\n",
      "30/30 [==============================] - 1s 39ms/step - loss: 0.4474 - binary_accuracy: 0.7807 - val_loss: 0.4755 - val_binary_accuracy: 0.7768\n",
      "Epoch 104/150\n",
      "30/30 [==============================] - 1s 39ms/step - loss: 0.4300 - binary_accuracy: 0.7979 - val_loss: 0.4766 - val_binary_accuracy: 0.7897\n",
      "Epoch 105/150\n"
     ]
    },
    {
     "name": "stdout",
     "output_type": "stream",
     "text": [
      "30/30 [==============================] - 1s 39ms/step - loss: 0.4799 - binary_accuracy: 0.7626 - val_loss: 0.4980 - val_binary_accuracy: 0.7725\n",
      "Epoch 106/150\n",
      "30/30 [==============================] - 1s 39ms/step - loss: 0.4538 - binary_accuracy: 0.7840 - val_loss: 0.4848 - val_binary_accuracy: 0.7940\n",
      "Epoch 107/150\n",
      "30/30 [==============================] - 1s 39ms/step - loss: 0.4092 - binary_accuracy: 0.8096 - val_loss: 0.4922 - val_binary_accuracy: 0.7854\n",
      "Epoch 108/150\n",
      "30/30 [==============================] - 1s 39ms/step - loss: 0.4119 - binary_accuracy: 0.8000 - val_loss: 0.4898 - val_binary_accuracy: 0.7940\n",
      "Epoch 109/150\n",
      "30/30 [==============================] - 1s 39ms/step - loss: 0.4232 - binary_accuracy: 0.8032 - val_loss: 0.4728 - val_binary_accuracy: 0.7811\n",
      "Epoch 110/150\n",
      "30/30 [==============================] - 1s 39ms/step - loss: 0.4125 - binary_accuracy: 0.8032 - val_loss: 0.4686 - val_binary_accuracy: 0.7682\n",
      "Epoch 111/150\n",
      "30/30 [==============================] - 1s 39ms/step - loss: 0.3949 - binary_accuracy: 0.8150 - val_loss: 0.4597 - val_binary_accuracy: 0.7854\n",
      "Epoch 112/150\n",
      "30/30 [==============================] - 1s 39ms/step - loss: 0.4048 - binary_accuracy: 0.7957 - val_loss: 0.4842 - val_binary_accuracy: 0.7983\n",
      "Epoch 113/150\n",
      "30/30 [==============================] - 1s 39ms/step - loss: 0.4055 - binary_accuracy: 0.8064 - val_loss: 0.4800 - val_binary_accuracy: 0.7811\n",
      "Epoch 114/150\n",
      "30/30 [==============================] - 1s 39ms/step - loss: 0.4230 - binary_accuracy: 0.8043 - val_loss: 0.4573 - val_binary_accuracy: 0.7811\n",
      "Epoch 115/150\n",
      "30/30 [==============================] - 1s 39ms/step - loss: 0.4126 - binary_accuracy: 0.7957 - val_loss: 0.4822 - val_binary_accuracy: 0.7725\n",
      "Epoch 116/150\n",
      "30/30 [==============================] - 1s 39ms/step - loss: 0.4000 - binary_accuracy: 0.8096 - val_loss: 0.4923 - val_binary_accuracy: 0.7811\n",
      "Epoch 117/150\n",
      "30/30 [==============================] - 1s 39ms/step - loss: 0.4257 - binary_accuracy: 0.7925 - val_loss: 0.4832 - val_binary_accuracy: 0.7940\n",
      "Epoch 118/150\n",
      "30/30 [==============================] - 1s 39ms/step - loss: 0.4057 - binary_accuracy: 0.8118 - val_loss: 0.4640 - val_binary_accuracy: 0.7940\n",
      "Epoch 119/150\n",
      "30/30 [==============================] - 1s 39ms/step - loss: 0.3836 - binary_accuracy: 0.8332 - val_loss: 0.4805 - val_binary_accuracy: 0.7854\n",
      "Epoch 120/150\n",
      "30/30 [==============================] - 1s 39ms/step - loss: 0.3929 - binary_accuracy: 0.8128 - val_loss: 0.4977 - val_binary_accuracy: 0.7811\n",
      "Epoch 121/150\n",
      "30/30 [==============================] - 1s 40ms/step - loss: 0.4363 - binary_accuracy: 0.8000 - val_loss: 0.4754 - val_binary_accuracy: 0.7940\n",
      "Epoch 122/150\n",
      "30/30 [==============================] - 1s 39ms/step - loss: 0.4267 - binary_accuracy: 0.8053 - val_loss: 0.4498 - val_binary_accuracy: 0.7897\n",
      "Epoch 123/150\n",
      "30/30 [==============================] - 1s 39ms/step - loss: 0.3776 - binary_accuracy: 0.8299 - val_loss: 0.4889 - val_binary_accuracy: 0.7854\n",
      "Epoch 124/150\n",
      "30/30 [==============================] - 1s 39ms/step - loss: 0.3837 - binary_accuracy: 0.8182 - val_loss: 0.5037 - val_binary_accuracy: 0.7682\n",
      "Epoch 125/150\n",
      "30/30 [==============================] - 1s 39ms/step - loss: 0.4215 - binary_accuracy: 0.8053 - val_loss: 0.4917 - val_binary_accuracy: 0.7682\n",
      "Epoch 126/150\n",
      "30/30 [==============================] - 1s 39ms/step - loss: 0.3919 - binary_accuracy: 0.8021 - val_loss: 0.5159 - val_binary_accuracy: 0.7639\n",
      "Epoch 127/150\n",
      "30/30 [==============================] - 1s 39ms/step - loss: 0.3812 - binary_accuracy: 0.8257 - val_loss: 0.4674 - val_binary_accuracy: 0.7725\n",
      "Epoch 128/150\n",
      "30/30 [==============================] - 1s 39ms/step - loss: 0.3819 - binary_accuracy: 0.8128 - val_loss: 0.5289 - val_binary_accuracy: 0.7725\n",
      "Epoch 129/150\n",
      "30/30 [==============================] - 1s 39ms/step - loss: 0.3811 - binary_accuracy: 0.8267 - val_loss: 0.4943 - val_binary_accuracy: 0.7768\n",
      "Epoch 130/150\n",
      "30/30 [==============================] - 1s 39ms/step - loss: 0.3800 - binary_accuracy: 0.8246 - val_loss: 0.4615 - val_binary_accuracy: 0.7854\n",
      "Epoch 131/150\n",
      "30/30 [==============================] - 1s 39ms/step - loss: 0.3612 - binary_accuracy: 0.8374 - val_loss: 0.5049 - val_binary_accuracy: 0.7811\n",
      "Epoch 132/150\n",
      "30/30 [==============================] - 1s 39ms/step - loss: 0.3877 - binary_accuracy: 0.8289 - val_loss: 0.4438 - val_binary_accuracy: 0.7725\n",
      "Epoch 133/150\n",
      "30/30 [==============================] - 1s 39ms/step - loss: 0.3799 - binary_accuracy: 0.8225 - val_loss: 0.4516 - val_binary_accuracy: 0.8026\n",
      "Epoch 134/150\n",
      "30/30 [==============================] - 1s 39ms/step - loss: 0.3968 - binary_accuracy: 0.8150 - val_loss: 0.5115 - val_binary_accuracy: 0.7682\n",
      "Epoch 135/150\n",
      "30/30 [==============================] - 1s 39ms/step - loss: 0.3615 - binary_accuracy: 0.8374 - val_loss: 0.5558 - val_binary_accuracy: 0.7725\n",
      "Epoch 136/150\n",
      "30/30 [==============================] - 1s 39ms/step - loss: 0.3808 - binary_accuracy: 0.8278 - val_loss: 0.4832 - val_binary_accuracy: 0.7554\n",
      "Epoch 137/150\n",
      "30/30 [==============================] - 1s 39ms/step - loss: 0.3796 - binary_accuracy: 0.8225 - val_loss: 0.5179 - val_binary_accuracy: 0.7597\n",
      "Epoch 138/150\n",
      "30/30 [==============================] - 1s 39ms/step - loss: 0.3959 - binary_accuracy: 0.8096 - val_loss: 0.5077 - val_binary_accuracy: 0.7639\n",
      "Epoch 139/150\n",
      "30/30 [==============================] - 1s 39ms/step - loss: 0.3933 - binary_accuracy: 0.8225 - val_loss: 0.4351 - val_binary_accuracy: 0.7811\n",
      "Epoch 140/150\n",
      "30/30 [==============================] - 1s 39ms/step - loss: 0.3865 - binary_accuracy: 0.8246 - val_loss: 0.4632 - val_binary_accuracy: 0.7854\n",
      "Epoch 141/150\n",
      "30/30 [==============================] - 1s 39ms/step - loss: 0.3605 - binary_accuracy: 0.8332 - val_loss: 0.4828 - val_binary_accuracy: 0.7682\n",
      "Epoch 142/150\n",
      "30/30 [==============================] - 1s 39ms/step - loss: 0.3565 - binary_accuracy: 0.8342 - val_loss: 0.4833 - val_binary_accuracy: 0.7639\n",
      "Epoch 143/150\n",
      "30/30 [==============================] - 1s 39ms/step - loss: 0.3689 - binary_accuracy: 0.8310 - val_loss: 0.5216 - val_binary_accuracy: 0.7554\n",
      "Epoch 144/150\n",
      "30/30 [==============================] - 1s 39ms/step - loss: 0.3662 - binary_accuracy: 0.8396 - val_loss: 0.5173 - val_binary_accuracy: 0.7768\n",
      "Epoch 145/150\n",
      "30/30 [==============================] - 1s 39ms/step - loss: 0.3413 - binary_accuracy: 0.8417 - val_loss: 0.5003 - val_binary_accuracy: 0.7811\n",
      "Epoch 146/150\n",
      "30/30 [==============================] - 1s 40ms/step - loss: 0.3453 - binary_accuracy: 0.8374 - val_loss: 0.5332 - val_binary_accuracy: 0.7725\n",
      "Epoch 147/150\n",
      "30/30 [==============================] - 1s 39ms/step - loss: 0.3518 - binary_accuracy: 0.8342 - val_loss: 0.5110 - val_binary_accuracy: 0.7554\n",
      "Epoch 148/150\n",
      "30/30 [==============================] - 1s 39ms/step - loss: 0.3232 - binary_accuracy: 0.8374 - val_loss: 0.5323 - val_binary_accuracy: 0.7639\n",
      "Epoch 149/150\n",
      "30/30 [==============================] - 1s 39ms/step - loss: 0.3481 - binary_accuracy: 0.8332 - val_loss: 0.5169 - val_binary_accuracy: 0.7682\n",
      "Epoch 150/150\n",
      "30/30 [==============================] - 1s 39ms/step - loss: 0.3550 - binary_accuracy: 0.8171 - val_loss: 0.5206 - val_binary_accuracy: 0.7854\n"
     ]
    }
   ],
   "source": [
    "history = model.fit(\n",
    "    ds_train,\n",
    "    validation_data=ds_val,\n",
    "    epochs=150,\n",
    ")"
   ]
  },
  {
   "cell_type": "code",
   "execution_count": 29,
   "id": "62fe4e6f",
   "metadata": {
    "scrolled": true
   },
   "outputs": [
    {
     "data": {
      "image/png": "[encoded data removed]",
      "text/plain": [
       "<Figure size 432x288 with 1 Axes>"
      ]
     },
     "metadata": {
      "needs_background": "light"
     },
     "output_type": "display_data"
    },
    {
     "data": {
      "image/png": "[encoded data removed]",
      "text/plain": [
       "<Figure size 432x288 with 1 Axes>"
      ]
     },
     "metadata": {
      "needs_background": "light"
     },
     "output_type": "display_data"
    }
   ],
   "source": [
    "import pandas as pd\n",
    "history_frame = pd.DataFrame(history.history)\n",
    "history_frame.loc[:, ['loss', 'val_loss']].plot()\n",
    "history_frame.loc[:, ['binary_accuracy', 'val_binary_accuracy']].plot();"
   ]
  },
  {
   "cell_type": "code",
   "execution_count": 38,
   "id": "377b9d3e",
   "metadata": {
    "scrolled": true
   },
   "outputs": [
    {
     "name": "stdout",
     "output_type": "stream",
     "text": [
      "Prédictions ;\n",
      " - Malin(s):  138 \n",
      " - Bénins:  261 \n",
      " - doutes:  536 \n",
      " - Total comp:  935  vs  935\n"
     ]
    }
   ],
   "source": [
    "predictions = model.predict(ds_train)\n",
    "\n",
    "b =0\n",
    "m = 0\n",
    "u = 0\n",
    "for element in predictions :\n",
    "    if(element[0] > 0.95) :\n",
    "        m +=1\n",
    "    elif(element[0]< 0.05) :\n",
    "        b +=1\n",
    "    else :\n",
    "        u +=1\n",
    "        \n",
    "print(\"Prédictions ;\\n - Malin(s): \", m, \"\\n - Bénins: \", b, \"\\n - doutes: \", u, \"\\n - Total comp: \", b+u+m,\" vs \",len(predictions))"
   ]
  },
  {
   "cell_type": "code",
   "execution_count": 36,
   "id": "a648f006",
   "metadata": {},
   "outputs": [
    {
     "name": "stdout",
     "output_type": "stream",
     "text": [
      "Prédictions ;\n",
      " - Malin(s):  115 \n",
      " - Bénins:  118 \n",
      " - Total comp:  233  vs  233\n"
     ]
    }
   ],
   "source": [
    "predictions = model.predict(ds_val)\n",
    "\n",
    "b =0\n",
    "m = 0\n",
    "for element in predictions :\n",
    "    if(element[0] > 0.5) :\n",
    "        m +=1\n",
    "    elif(element[0]< 0.5) :\n",
    "        b +=1\n",
    "        \n",
    "print(\"Prédictions ;\\n - Malin(s): \", m, \"\\n - Bénins: \", b, \"\\n - Total comp: \", b+m,\" vs \",len(predictions))"
   ]
  },
  {
   "cell_type": "code",
   "execution_count": 32,
   "id": "785ced0b",
   "metadata": {},
   "outputs": [],
   "source": [
    "from sklearn.metrics import plot_confusion_matrix  \n",
    "\n",
    "def predict_class_label_number(dataset):\n",
    "    predictions =  model.predict(dataset)\n",
    "    res = np.zeros(len(predictions))\n",
    "    i = 0 \n",
    "    for element in predictions : \n",
    "        if(element[0]> 0.5):\n",
    "            res[i] = 1\n",
    "        i += 1\n",
    "    return tf.convert_to_tensor(res)\n",
    "\n",
    "def give_labels (dataset, size):\n",
    "    lab = np.zeros(size)\n",
    "    i = 0\n",
    "    for batch in dataset:\n",
    "        for element in batch[1] :\n",
    "            lab[i] = element.numpy()\n",
    "            i +=1\n",
    "    return tf.convert_to_tensor(lab)\n",
    "    \n",
    "def show_confusion_matrix(cm, labels):\n",
    "    plt.figure(figsize=(5,5))\n",
    "    plt.imshow(cm)\n",
    "    plt.colorbar()\n",
    "    plt.xlabel('Prediction')\n",
    "    plt.ylabel('Label')\n",
    "    plt.show()"
   ]
  },
  {
   "cell_type": "code",
   "execution_count": 33,
   "id": "59fe0431",
   "metadata": {
    "scrolled": false
   },
   "outputs": [
    {
     "data": {
      "image/png": "[encoded data removed]",
      "text/plain": [
       "<Figure size 360x360 with 2 Axes>"
      ]
     },
     "metadata": {
      "needs_background": "light"
     },
     "output_type": "display_data"
    }
   ],
   "source": [
    "dataset = ds_val\n",
    "#size = define upper bcs easier\n",
    "confusion_mtx = tf.math.confusion_matrix(\n",
    "    give_labels(dataset, size),\n",
    "    predict_class_label_number(dataset),\n",
    "    num_classes=2)\n",
    "show_confusion_matrix(confusion_mtx, [0,1])"
   ]
  },
  {
   "cell_type": "code",
   "execution_count": null,
   "id": "148dda0f",
   "metadata": {},
   "outputs": [],
   "source": []
  },
  {
   "cell_type": "code",
   "execution_count": null,
   "id": "862cbb03",
   "metadata": {},
   "outputs": [],
   "source": []
  },
  {
   "cell_type": "code",
   "execution_count": null,
   "id": "170b8b3b",
   "metadata": {},
   "outputs": [],
   "source": []
  }
 ],
 "metadata": {
  "kernelspec": {
   "display_name": "Python 3 (ipykernel)",
   "language": "python",
   "name": "python3"
  },
  "language_info": {
   "codemirror_mode": {
    "name": "ipython",
    "version": 3
   },
   "file_extension": ".py",
   "mimetype": "text/x-python",
   "name": "python",
   "nbconvert_exporter": "python",
   "pygments_lexer": "ipython3",
   "version": "3.9.7"
  }
 },
 "nbformat": 4,
 "nbformat_minor": 5
}
