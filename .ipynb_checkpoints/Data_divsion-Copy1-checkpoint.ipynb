{
 "cells": [
  {
   "cell_type": "markdown",
   "id": "eae82575",
   "metadata": {},
   "source": [
    "# Data division Try \n"
   ]
  },
  {
   "cell_type": "code",
   "execution_count": 28,
   "id": "c2a75b1a",
   "metadata": {},
   "outputs": [],
   "source": [
    "import numpy as np\n",
    "import os\n",
    "import PIL\n",
    "import PIL.Image\n",
    "import tensorflow as tf\n",
    "\n",
    "\n",
    "import pathlib\n",
    "import pandas as pd\n",
    "\n",
    "import pydicom # for DICOM images\n",
    "from skimage.transform import resize\n",
    "\n",
    "import matplotlib.pyplot as plt\n",
    "from matplotlib import gridspec\n",
    "%matplotlib inline"
   ]
  },
  {
   "cell_type": "code",
   "execution_count": 29,
   "id": "6aee4e4a",
   "metadata": {},
   "outputs": [
    {
     "name": "stdout",
     "output_type": "stream",
     "text": [
      "2.6.0\n"
     ]
    }
   ],
   "source": [
    "print(tf.__version__)"
   ]
  },
  {
   "cell_type": "code",
   "execution_count": 30,
   "id": "c1022b6e",
   "metadata": {},
   "outputs": [],
   "source": [
    "def set_seed(seed=31415):\n",
    "    np.random.seed(seed)\n",
    "    tf.random.set_seed(seed)\n",
    "    os.environ['PYTHONHASHSEED'] = str(seed)\n",
    "    os.environ['TF_DETERMINISTIC_OPS'] = '1'\n",
    "set_seed()"
   ]
  },
  {
   "cell_type": "code",
   "execution_count": 31,
   "id": "d0e7b5f0",
   "metadata": {},
   "outputs": [
    {
     "name": "stdout",
     "output_type": "stream",
     "text": [
      "Train has 33,126 rows and Test has 10,982 rows.\n"
     ]
    }
   ],
   "source": [
    "# Directory\n",
    "directory = '/Users/renau/Desktop/DATA/data_proj_melanoma'\n",
    "\n",
    "# Import the 2 csv s\n",
    "train_df = pd.read_csv(directory + '/train.csv')\n",
    "test_df = pd.read_csv(directory + '/test.csv')\n",
    "\n",
    "print('Train has {:,} rows and Test has {:,} rows.'.format(len(train_df), len(test_df)))\n",
    "\n",
    "# Change columns names\n",
    "new_names = ['dcm_name', 'ID', 'sex', 'age', 'anatomy', 'diagnosis', 'benign_malignant', 'target']\n",
    "train_df.columns = new_names\n",
    "test_df.columns = new_names[:5]"
   ]
  },
  {
   "cell_type": "code",
   "execution_count": 32,
   "id": "5e09f3c8",
   "metadata": {},
   "outputs": [],
   "source": [
    "# === DICOM ===\n",
    "# Create the paths\n",
    "path_train = directory + '/train/' + train_df['dcm_name'] + '.dcm'\n",
    "path_test = directory + '/test/' + test_df['dcm_name'] + '.dcm'\n",
    "\n",
    "# Append to the original dataframes\n",
    "train_df['path_dicom'] = path_train\n",
    "test_df['path_dicom'] = path_test\n",
    "\n",
    "# === JPEG ===\n",
    "# Create the paths\n",
    "path_train = directory + '/jpeg/train/' + train_df['dcm_name'] + '.jpg'\n",
    "path_test = directory + '/jpeg/test/' + test_df['dcm_name'] + '.jpg'\n",
    "\n",
    "# Append to the original dataframes\n",
    "train_df['path_jpeg'] = path_train\n",
    "test_df['path_jpeg'] = path_test"
   ]
  },
  {
   "cell_type": "code",
   "execution_count": 33,
   "id": "670fb0a1",
   "metadata": {
    "scrolled": false
   },
   "outputs": [
    {
     "data": {
      "text/html": [
       "<div>\n",
       "<style scoped>\n",
       "    .dataframe tbody tr th:only-of-type {\n",
       "        vertical-align: middle;\n",
       "    }\n",
       "\n",
       "    .dataframe tbody tr th {\n",
       "        vertical-align: top;\n",
       "    }\n",
       "\n",
       "    .dataframe thead th {\n",
       "        text-align: right;\n",
       "    }\n",
       "</style>\n",
       "<table border=\"1\" class=\"dataframe\">\n",
       "  <thead>\n",
       "    <tr style=\"text-align: right;\">\n",
       "      <th></th>\n",
       "      <th>dcm_name</th>\n",
       "      <th>ID</th>\n",
       "      <th>sex</th>\n",
       "      <th>age</th>\n",
       "      <th>anatomy</th>\n",
       "      <th>diagnosis</th>\n",
       "      <th>benign_malignant</th>\n",
       "      <th>target</th>\n",
       "      <th>path_dicom</th>\n",
       "      <th>path_jpeg</th>\n",
       "    </tr>\n",
       "  </thead>\n",
       "  <tbody>\n",
       "    <tr>\n",
       "      <th>91</th>\n",
       "      <td>ISIC_0149568</td>\n",
       "      <td>IP_0962375</td>\n",
       "      <td>female</td>\n",
       "      <td>55.0</td>\n",
       "      <td>upper extremity</td>\n",
       "      <td>melanoma</td>\n",
       "      <td>malignant</td>\n",
       "      <td>1</td>\n",
       "      <td>/Users/renau/Desktop/DATA/data_proj_melanoma/t...</td>\n",
       "      <td>/Users/renau/Desktop/DATA/data_proj_melanoma/j...</td>\n",
       "    </tr>\n",
       "    <tr>\n",
       "      <th>235</th>\n",
       "      <td>ISIC_0188432</td>\n",
       "      <td>IP_0135517</td>\n",
       "      <td>female</td>\n",
       "      <td>50.0</td>\n",
       "      <td>upper extremity</td>\n",
       "      <td>melanoma</td>\n",
       "      <td>malignant</td>\n",
       "      <td>1</td>\n",
       "      <td>/Users/renau/Desktop/DATA/data_proj_melanoma/t...</td>\n",
       "      <td>/Users/renau/Desktop/DATA/data_proj_melanoma/j...</td>\n",
       "    </tr>\n",
       "    <tr>\n",
       "      <th>314</th>\n",
       "      <td>ISIC_0207268</td>\n",
       "      <td>IP_7735373</td>\n",
       "      <td>male</td>\n",
       "      <td>55.0</td>\n",
       "      <td>torso</td>\n",
       "      <td>melanoma</td>\n",
       "      <td>malignant</td>\n",
       "      <td>1</td>\n",
       "      <td>/Users/renau/Desktop/DATA/data_proj_melanoma/t...</td>\n",
       "      <td>/Users/renau/Desktop/DATA/data_proj_melanoma/j...</td>\n",
       "    </tr>\n",
       "    <tr>\n",
       "      <th>399</th>\n",
       "      <td>ISIC_0232101</td>\n",
       "      <td>IP_8349964</td>\n",
       "      <td>male</td>\n",
       "      <td>65.0</td>\n",
       "      <td>torso</td>\n",
       "      <td>melanoma</td>\n",
       "      <td>malignant</td>\n",
       "      <td>1</td>\n",
       "      <td>/Users/renau/Desktop/DATA/data_proj_melanoma/t...</td>\n",
       "      <td>/Users/renau/Desktop/DATA/data_proj_melanoma/j...</td>\n",
       "    </tr>\n",
       "    <tr>\n",
       "      <th>459</th>\n",
       "      <td>ISIC_0247330</td>\n",
       "      <td>IP_3232631</td>\n",
       "      <td>female</td>\n",
       "      <td>65.0</td>\n",
       "      <td>lower extremity</td>\n",
       "      <td>melanoma</td>\n",
       "      <td>malignant</td>\n",
       "      <td>1</td>\n",
       "      <td>/Users/renau/Desktop/DATA/data_proj_melanoma/t...</td>\n",
       "      <td>/Users/renau/Desktop/DATA/data_proj_melanoma/j...</td>\n",
       "    </tr>\n",
       "  </tbody>\n",
       "</table>\n",
       "</div>"
      ],
      "text/plain": [
       "         dcm_name          ID     sex   age          anatomy diagnosis  \\\n",
       "91   ISIC_0149568  IP_0962375  female  55.0  upper extremity  melanoma   \n",
       "235  ISIC_0188432  IP_0135517  female  50.0  upper extremity  melanoma   \n",
       "314  ISIC_0207268  IP_7735373    male  55.0            torso  melanoma   \n",
       "399  ISIC_0232101  IP_8349964    male  65.0            torso  melanoma   \n",
       "459  ISIC_0247330  IP_3232631  female  65.0  lower extremity  melanoma   \n",
       "\n",
       "    benign_malignant  target  \\\n",
       "91         malignant       1   \n",
       "235        malignant       1   \n",
       "314        malignant       1   \n",
       "399        malignant       1   \n",
       "459        malignant       1   \n",
       "\n",
       "                                            path_dicom  \\\n",
       "91   /Users/renau/Desktop/DATA/data_proj_melanoma/t...   \n",
       "235  /Users/renau/Desktop/DATA/data_proj_melanoma/t...   \n",
       "314  /Users/renau/Desktop/DATA/data_proj_melanoma/t...   \n",
       "399  /Users/renau/Desktop/DATA/data_proj_melanoma/t...   \n",
       "459  /Users/renau/Desktop/DATA/data_proj_melanoma/t...   \n",
       "\n",
       "                                             path_jpeg  \n",
       "91   /Users/renau/Desktop/DATA/data_proj_melanoma/j...  \n",
       "235  /Users/renau/Desktop/DATA/data_proj_melanoma/j...  \n",
       "314  /Users/renau/Desktop/DATA/data_proj_melanoma/j...  \n",
       "399  /Users/renau/Desktop/DATA/data_proj_melanoma/j...  \n",
       "459  /Users/renau/Desktop/DATA/data_proj_melanoma/j...  "
      ]
     },
     "execution_count": 33,
     "metadata": {},
     "output_type": "execute_result"
    }
   ],
   "source": [
    "malignant_df = train_df[train_df['target'] == 1]\n",
    "malignant_df.head()"
   ]
  },
  {
   "cell_type": "code",
   "execution_count": 34,
   "id": "d5691d32",
   "metadata": {},
   "outputs": [
    {
     "data": {
      "text/html": [
       "<div>\n",
       "<style scoped>\n",
       "    .dataframe tbody tr th:only-of-type {\n",
       "        vertical-align: middle;\n",
       "    }\n",
       "\n",
       "    .dataframe tbody tr th {\n",
       "        vertical-align: top;\n",
       "    }\n",
       "\n",
       "    .dataframe thead th {\n",
       "        text-align: right;\n",
       "    }\n",
       "</style>\n",
       "<table border=\"1\" class=\"dataframe\">\n",
       "  <thead>\n",
       "    <tr style=\"text-align: right;\">\n",
       "      <th></th>\n",
       "      <th>dcm_name</th>\n",
       "      <th>ID</th>\n",
       "      <th>sex</th>\n",
       "      <th>age</th>\n",
       "      <th>anatomy</th>\n",
       "      <th>diagnosis</th>\n",
       "      <th>benign_malignant</th>\n",
       "      <th>target</th>\n",
       "      <th>path_dicom</th>\n",
       "      <th>path_jpeg</th>\n",
       "    </tr>\n",
       "  </thead>\n",
       "  <tbody>\n",
       "    <tr>\n",
       "      <th>0</th>\n",
       "      <td>ISIC_2637011</td>\n",
       "      <td>IP_7279968</td>\n",
       "      <td>male</td>\n",
       "      <td>45.0</td>\n",
       "      <td>head/neck</td>\n",
       "      <td>unknown</td>\n",
       "      <td>benign</td>\n",
       "      <td>0</td>\n",
       "      <td>/Users/renau/Desktop/DATA/data_proj_melanoma/t...</td>\n",
       "      <td>/Users/renau/Desktop/DATA/data_proj_melanoma/j...</td>\n",
       "    </tr>\n",
       "    <tr>\n",
       "      <th>1</th>\n",
       "      <td>ISIC_0015719</td>\n",
       "      <td>IP_3075186</td>\n",
       "      <td>female</td>\n",
       "      <td>45.0</td>\n",
       "      <td>upper extremity</td>\n",
       "      <td>unknown</td>\n",
       "      <td>benign</td>\n",
       "      <td>0</td>\n",
       "      <td>/Users/renau/Desktop/DATA/data_proj_melanoma/t...</td>\n",
       "      <td>/Users/renau/Desktop/DATA/data_proj_melanoma/j...</td>\n",
       "    </tr>\n",
       "    <tr>\n",
       "      <th>2</th>\n",
       "      <td>ISIC_0052212</td>\n",
       "      <td>IP_2842074</td>\n",
       "      <td>female</td>\n",
       "      <td>50.0</td>\n",
       "      <td>lower extremity</td>\n",
       "      <td>nevus</td>\n",
       "      <td>benign</td>\n",
       "      <td>0</td>\n",
       "      <td>/Users/renau/Desktop/DATA/data_proj_melanoma/t...</td>\n",
       "      <td>/Users/renau/Desktop/DATA/data_proj_melanoma/j...</td>\n",
       "    </tr>\n",
       "    <tr>\n",
       "      <th>3</th>\n",
       "      <td>ISIC_0068279</td>\n",
       "      <td>IP_6890425</td>\n",
       "      <td>female</td>\n",
       "      <td>45.0</td>\n",
       "      <td>head/neck</td>\n",
       "      <td>unknown</td>\n",
       "      <td>benign</td>\n",
       "      <td>0</td>\n",
       "      <td>/Users/renau/Desktop/DATA/data_proj_melanoma/t...</td>\n",
       "      <td>/Users/renau/Desktop/DATA/data_proj_melanoma/j...</td>\n",
       "    </tr>\n",
       "    <tr>\n",
       "      <th>4</th>\n",
       "      <td>ISIC_0074268</td>\n",
       "      <td>IP_8723313</td>\n",
       "      <td>female</td>\n",
       "      <td>55.0</td>\n",
       "      <td>upper extremity</td>\n",
       "      <td>unknown</td>\n",
       "      <td>benign</td>\n",
       "      <td>0</td>\n",
       "      <td>/Users/renau/Desktop/DATA/data_proj_melanoma/t...</td>\n",
       "      <td>/Users/renau/Desktop/DATA/data_proj_melanoma/j...</td>\n",
       "    </tr>\n",
       "  </tbody>\n",
       "</table>\n",
       "</div>"
      ],
      "text/plain": [
       "       dcm_name          ID     sex   age          anatomy diagnosis  \\\n",
       "0  ISIC_2637011  IP_7279968    male  45.0        head/neck   unknown   \n",
       "1  ISIC_0015719  IP_3075186  female  45.0  upper extremity   unknown   \n",
       "2  ISIC_0052212  IP_2842074  female  50.0  lower extremity     nevus   \n",
       "3  ISIC_0068279  IP_6890425  female  45.0        head/neck   unknown   \n",
       "4  ISIC_0074268  IP_8723313  female  55.0  upper extremity   unknown   \n",
       "\n",
       "  benign_malignant  target                                         path_dicom  \\\n",
       "0           benign       0  /Users/renau/Desktop/DATA/data_proj_melanoma/t...   \n",
       "1           benign       0  /Users/renau/Desktop/DATA/data_proj_melanoma/t...   \n",
       "2           benign       0  /Users/renau/Desktop/DATA/data_proj_melanoma/t...   \n",
       "3           benign       0  /Users/renau/Desktop/DATA/data_proj_melanoma/t...   \n",
       "4           benign       0  /Users/renau/Desktop/DATA/data_proj_melanoma/t...   \n",
       "\n",
       "                                           path_jpeg  \n",
       "0  /Users/renau/Desktop/DATA/data_proj_melanoma/j...  \n",
       "1  /Users/renau/Desktop/DATA/data_proj_melanoma/j...  \n",
       "2  /Users/renau/Desktop/DATA/data_proj_melanoma/j...  \n",
       "3  /Users/renau/Desktop/DATA/data_proj_melanoma/j...  \n",
       "4  /Users/renau/Desktop/DATA/data_proj_melanoma/j...  "
      ]
     },
     "execution_count": 34,
     "metadata": {},
     "output_type": "execute_result"
    }
   ],
   "source": [
    "benin_df = train_df[train_df['target'] == 0]\n",
    "benin_df.head()"
   ]
  },
  {
   "cell_type": "code",
   "execution_count": 35,
   "id": "13a7cf29",
   "metadata": {
    "scrolled": true
   },
   "outputs": [
    {
     "data": {
      "text/plain": [
       "\"file_paths = train_df['path_jpeg'].values\\nlabels = train_df['target'].values\\ntrain_ds = tf.data.Dataset.from_tensor_slices((file_paths, labels))\""
      ]
     },
     "execution_count": 35,
     "metadata": {},
     "output_type": "execute_result"
    }
   ],
   "source": [
    "\"\"\"file_paths = train_df['path_jpeg'].values\n",
    "labels = train_df['target'].values\n",
    "train_ds = tf.data.Dataset.from_tensor_slices((file_paths, labels))\"\"\""
   ]
  },
  {
   "cell_type": "code",
   "execution_count": 36,
   "id": "fe8c4729",
   "metadata": {},
   "outputs": [
    {
     "data": {
      "text/plain": [
       "584"
      ]
     },
     "execution_count": 36,
     "metadata": {},
     "output_type": "execute_result"
    }
   ],
   "source": [
    "mal_file = malignant_df['path_jpeg'].values\n",
    "mal_labels = malignant_df['target'].values\n",
    "mal_train_ds = tf.data.Dataset.from_tensor_slices((mal_file, mal_labels))\n",
    "len(list(mal_train_ds))"
   ]
  },
  {
   "cell_type": "code",
   "execution_count": 37,
   "id": "ae0eff34",
   "metadata": {},
   "outputs": [
    {
     "data": {
      "text/plain": [
       "32542"
      ]
     },
     "execution_count": 37,
     "metadata": {},
     "output_type": "execute_result"
    }
   ],
   "source": [
    "ben_file = benin_df['path_jpeg'].values\n",
    "ben_labels = benin_df['target'].values\n",
    "ben_train_ds = tf.data.Dataset.from_tensor_slices((ben_file, ben_labels))\n",
    "len(list(ben_train_ds))"
   ]
  },
  {
   "cell_type": "code",
   "execution_count": 62,
   "id": "8d15a23f",
   "metadata": {},
   "outputs": [
    {
     "data": {
      "text/plain": [
       "2000"
      ]
     },
     "execution_count": 62,
     "metadata": {},
     "output_type": "execute_result"
    }
   ],
   "source": [
    "#benPart_train_ds = ben_train_ds.take(len(list(mal_train_ds)))\n",
    "benPart_train_ds = ben_train_ds.take(2000)\n",
    "len(list(benPart_train_ds))"
   ]
  },
  {
   "cell_type": "code",
   "execution_count": 63,
   "id": "8ad0efcf",
   "metadata": {},
   "outputs": [
    {
     "data": {
      "text/plain": [
       "2584"
      ]
     },
     "execution_count": 63,
     "metadata": {},
     "output_type": "execute_result"
    }
   ],
   "source": [
    "train_ds = mal_train_ds.concatenate(benPart_train_ds)\n",
    "#train_ds = ben_train_ds.take(1000)\n",
    "shuf_train_ds = train_ds.shuffle(len(list(train_ds)))\n",
    "len(list(shuf_train_ds))"
   ]
  },
  {
   "cell_type": "code",
   "execution_count": 64,
   "id": "7452be65",
   "metadata": {
    "scrolled": false
   },
   "outputs": [
    {
     "name": "stdout",
     "output_type": "stream",
     "text": [
      "b'/Users/renau/Desktop/DATA/data_proj_melanoma/jpeg/train/ISIC_0381169.jpg' and target:  0\n",
      "b'/Users/renau/Desktop/DATA/data_proj_melanoma/jpeg/train/ISIC_0179056.jpg' and target:  0\n",
      "b'/Users/renau/Desktop/DATA/data_proj_melanoma/jpeg/train/ISIC_0472796.jpg' and target:  0\n"
     ]
    }
   ],
   "source": [
    "ex_ds = shuf_train_ds.take(3)\n",
    "for element in ex_ds :\n",
    "    print(element[0].numpy(),'and target: ',element[1].numpy())"
   ]
  },
  {
   "cell_type": "code",
   "execution_count": 65,
   "id": "724bf6ee",
   "metadata": {},
   "outputs": [],
   "source": [
    "def read_image(path, label):\n",
    "    image = tf.io.read_file(path)\n",
    "    image = tf.image.decode_image(image, channels=3, dtype = tf.uint8, expand_animations = False)\n",
    "    return image, label\n",
    "dstry = shuf_train_ds.map(read_image)\n",
    "ds_vali = ben_train_ds.skip(200)\n",
    "ds_val = ds_vali.take(200).map(read_image)"
   ]
  },
  {
   "cell_type": "code",
   "execution_count": 66,
   "id": "ae09d9ef",
   "metadata": {
    "scrolled": true
   },
   "outputs": [
    {
     "name": "stdout",
     "output_type": "stream",
     "text": [
      "(1053, 1872, 3)\n",
      "(480, 640, 3)\n",
      "(1053, 1872, 3)\n"
     ]
    }
   ],
   "source": [
    "ex_ds = dstry.take(3)\n",
    "for element in ex_ds :\n",
    "    print(element[0].numpy().shape)"
   ]
  },
  {
   "cell_type": "code",
   "execution_count": 67,
   "id": "222d1391-24e9-436b-9c34-cd8474bcd4e3",
   "metadata": {},
   "outputs": [
    {
     "name": "stdout",
     "output_type": "stream",
     "text": [
      "(32, 128, 128, 3)\n",
      "(32,)\n",
      "(32, 128, 128, 3)\n",
      "(32,)\n",
      "(32, 128, 128, 3)\n",
      "(32,)\n"
     ]
    }
   ],
   "source": [
    "\"\"\"cut = 24000\n",
    "ds_train = dstry.take(cut) \n",
    "ds_val = dstry.skip(cut)\"\"\"\n",
    "\n",
    "def adapt_data(image, label):\n",
    "    image = tf.image.resize(image, [128,128])\n",
    "    return image, label\n",
    "\n",
    "def convert_to_float(image, label):\n",
    "    #image = image/255\n",
    "    image = tf.image.convert_image_dtype(image, dtype=tf.float64)\n",
    "    return image, label\n",
    "    \n",
    "ds_train= dstry.map(adapt_data).map(convert_to_float).batch(32)\n",
    "ds_val= ds_val.map(adapt_data).map(convert_to_float).batch(32)\n",
    "\n",
    "ex_ds = ds_train.take(3)\n",
    "for element in ex_ds :\n",
    "    print(element[0].shape)\n",
    "    print(element[1].shape)"
   ]
  },
  {
   "cell_type": "code",
   "execution_count": 68,
   "id": "c16f2e9b",
   "metadata": {},
   "outputs": [],
   "source": [
    "AUTOTUNE = tf.data.AUTOTUNE\n",
    "\n",
    "ds_train = ds_train.cache().prefetch(buffer_size=AUTOTUNE)\n",
    "ds_val = ds_val.cache().prefetch(buffer_size=AUTOTUNE)"
   ]
  },
  {
   "cell_type": "code",
   "execution_count": 69,
   "id": "c41ebe5f",
   "metadata": {},
   "outputs": [],
   "source": [
    "from tensorflow import keras\n",
    "from tensorflow.keras import layers\n",
    "\n",
    "model = tf.keras.Sequential([\n",
    "  tf.keras.layers.Rescaling(1./255),\n",
    "  tf.keras.layers.Conv2D(32, 3, activation='relu'),\n",
    "  tf.keras.layers.MaxPooling2D(),\n",
    "  tf.keras.layers.Conv2D(16, 3, activation='relu'),\n",
    "  tf.keras.layers.MaxPooling2D(),\n",
    "  tf.keras.layers.Conv2D(8, 3, activation='relu'),\n",
    "  tf.keras.layers.MaxPooling2D(),\n",
    "  tf.keras.layers.Flatten(),\n",
    "  tf.keras.layers.Dense(128, activation='relu'),\n",
    "  tf.keras.layers.Dense(1,activation='sigmoid')\n",
    "])"
   ]
  },
  {
   "cell_type": "code",
   "execution_count": 70,
   "id": "2f942f43",
   "metadata": {},
   "outputs": [],
   "source": [
    "model.compile(\n",
    "    optimizer=tf.keras.optimizers.Adam(epsilon=0.01),\n",
    "    loss='binary_crossentropy',\n",
    "    metrics=['binary_accuracy']\n",
    ")"
   ]
  },
  {
   "cell_type": "code",
   "execution_count": null,
   "id": "04c25c91",
   "metadata": {
    "scrolled": false
   },
   "outputs": [
    {
     "name": "stdout",
     "output_type": "stream",
     "text": [
      "Epoch 1/20\n",
      "81/81 [==============================] - 15s 177ms/step - loss: 0.5396 - binary_accuracy: 0.7740 - val_loss: 0.2425 - val_binary_accuracy: 1.0000\n",
      "Epoch 2/20\n",
      "81/81 [==============================] - 1s 12ms/step - loss: 0.5042 - binary_accuracy: 0.7740 - val_loss: 0.2579 - val_binary_accuracy: 1.0000\n",
      "Epoch 3/20\n",
      "81/81 [==============================] - 1s 10ms/step - loss: 0.4975 - binary_accuracy: 0.7740 - val_loss: 0.2752 - val_binary_accuracy: 1.0000\n",
      "Epoch 4/20\n",
      "81/81 [==============================] - 1s 10ms/step - loss: 0.4925 - binary_accuracy: 0.7736 - val_loss: 0.2879 - val_binary_accuracy: 0.9800\n",
      "Epoch 5/20\n",
      "81/81 [==============================] - 1s 10ms/step - loss: 0.4901 - binary_accuracy: 0.7744 - val_loss: 0.2775 - val_binary_accuracy: 0.9800\n",
      "Epoch 6/20\n",
      "81/81 [==============================] - 1s 10ms/step - loss: 0.4849 - binary_accuracy: 0.7752 - val_loss: 0.2920 - val_binary_accuracy: 0.9500\n",
      "Epoch 7/20\n",
      "81/81 [==============================] - 1s 10ms/step - loss: 0.4813 - binary_accuracy: 0.7744 - val_loss: 0.2548 - val_binary_accuracy: 0.9800\n",
      "Epoch 8/20\n",
      "81/81 [==============================] - 1s 10ms/step - loss: 0.4758 - binary_accuracy: 0.7755 - val_loss: 0.2577 - val_binary_accuracy: 0.9500\n",
      "Epoch 9/20\n",
      "81/81 [==============================] - 1s 10ms/step - loss: 0.4692 - binary_accuracy: 0.7755 - val_loss: 0.3239 - val_binary_accuracy: 0.9350\n",
      "Epoch 10/20\n",
      "81/81 [==============================] - 1s 10ms/step - loss: 0.4632 - binary_accuracy: 0.7783 - val_loss: 0.2497 - val_binary_accuracy: 0.9500\n",
      "Epoch 11/20\n",
      "81/81 [==============================] - 1s 10ms/step - loss: 0.4544 - binary_accuracy: 0.7841 - val_loss: 0.2711 - val_binary_accuracy: 0.9400\n",
      "Epoch 12/20\n",
      "81/81 [==============================] - 1s 10ms/step - loss: 0.4465 - binary_accuracy: 0.7848 - val_loss: 0.2886 - val_binary_accuracy: 0.9300\n",
      "Epoch 13/20\n",
      "81/81 [==============================] - 1s 10ms/step - loss: 0.4399 - binary_accuracy: 0.7891 - val_loss: 0.2479 - val_binary_accuracy: 0.9250\n",
      "Epoch 14/20\n",
      "81/81 [==============================] - 1s 10ms/step - loss: 0.4347 - binary_accuracy: 0.7902 - val_loss: 0.2656 - val_binary_accuracy: 0.9150\n",
      "Epoch 15/20\n",
      "81/81 [==============================] - 1s 10ms/step - loss: 0.4270 - binary_accuracy: 0.7891 - val_loss: 0.2458 - val_binary_accuracy: 0.9150\n",
      "Epoch 16/20\n",
      " 7/81 [=>............................] - ETA: 0s - loss: 0.4095 - binary_accuracy: 0.7946"
     ]
    }
   ],
   "source": [
    "history = model.fit(\n",
    "    ds_train,\n",
    "    validation_data=ds_val,\n",
    "    epochs=20,\n",
    ")"
   ]
  },
  {
   "cell_type": "code",
   "execution_count": null,
   "id": "62fe4e6f",
   "metadata": {
    "scrolled": true
   },
   "outputs": [],
   "source": [
    "import pandas as pd\n",
    "history_frame = pd.DataFrame(history.history)\n",
    "history_frame.loc[:, ['loss', 'val_loss']].plot()\n",
    "history_frame.loc[:, ['binary_accuracy', 'val_binary_accuracy']].plot();\n",
    "\n",
    "\"\"\"import pandas as pd\n",
    "history_frame = pd.DataFrame(history.history)\n",
    "history_frame.loc[:, ['loss']].plot()\n",
    "history_frame.loc[:, ['binary_accuracy']].plot();\"\"\""
   ]
  },
  {
   "cell_type": "code",
   "execution_count": null,
   "id": "377b9d3e",
   "metadata": {
    "scrolled": true
   },
   "outputs": [],
   "source": [
    "predictions = model.predict(ds_train)\n",
    "\n",
    "b =0\n",
    "m = 0\n",
    "for element in predictions :\n",
    "    if(element > 0.5) :\n",
    "        m +=1\n",
    "    else :\n",
    "        b +=1\n",
    "print(\"Prédictions ;\\n - Malin(s): \", m, \"\\n - Bénins: \", b)"
   ]
  },
  {
   "cell_type": "code",
   "execution_count": null,
   "id": "96928d15",
   "metadata": {},
   "outputs": [],
   "source": []
  },
  {
   "cell_type": "code",
   "execution_count": null,
   "id": "f863c82d",
   "metadata": {},
   "outputs": [],
   "source": []
  }
 ],
 "metadata": {
  "kernelspec": {
   "display_name": "Python 3 (ipykernel)",
   "language": "python",
   "name": "python3"
  },
  "language_info": {
   "codemirror_mode": {
    "name": "ipython",
    "version": 3
   },
   "file_extension": ".py",
   "mimetype": "text/x-python",
   "name": "python",
   "nbconvert_exporter": "python",
   "pygments_lexer": "ipython3",
   "version": "3.9.7"
  }
 },
 "nbformat": 4,
 "nbformat_minor": 5
}
