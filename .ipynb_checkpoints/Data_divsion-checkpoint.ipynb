{
 "cells": [
  {
   "cell_type": "markdown",
   "id": "eae82575",
   "metadata": {},
   "source": [
    "# Data division Try \n"
   ]
  },
  {
   "cell_type": "code",
   "execution_count": 1,
   "id": "c2a75b1a",
   "metadata": {},
   "outputs": [],
   "source": [
    "import numpy as np\n",
    "import os\n",
    "import PIL\n",
    "import PIL.Image\n",
    "import tensorflow as tf\n",
    "\n",
    "\n",
    "import pathlib\n",
    "import pandas as pd\n",
    "\n",
    "import pydicom # for DICOM images\n",
    "from skimage.transform import resize\n",
    "\n",
    "import matplotlib.pyplot as plt\n",
    "from matplotlib import gridspec\n",
    "%matplotlib inline"
   ]
  },
  {
   "cell_type": "code",
   "execution_count": 2,
   "id": "6aee4e4a",
   "metadata": {},
   "outputs": [
    {
     "name": "stdout",
     "output_type": "stream",
     "text": [
      "2.6.0\n"
     ]
    }
   ],
   "source": [
    "print(tf.__version__)"
   ]
  },
  {
   "cell_type": "code",
   "execution_count": 3,
   "id": "c1022b6e",
   "metadata": {},
   "outputs": [],
   "source": [
    "def set_seed(seed=31415):\n",
    "    np.random.seed(seed)\n",
    "    tf.random.set_seed(seed)\n",
    "    os.environ['PYTHONHASHSEED'] = str(seed)\n",
    "    os.environ['TF_DETERMINISTIC_OPS'] = '1'\n",
    "set_seed()"
   ]
  },
  {
   "cell_type": "code",
   "execution_count": 4,
   "id": "d0e7b5f0",
   "metadata": {},
   "outputs": [
    {
     "name": "stdout",
     "output_type": "stream",
     "text": [
      "Train has 33,126 rows and Test has 10,982 rows.\n"
     ]
    }
   ],
   "source": [
    "# Directory\n",
    "directory = '/Users/renau/Desktop/DATA/data_proj_melanoma'\n",
    "\n",
    "# Import the 2 csv s\n",
    "train_df = pd.read_csv(directory + '/train.csv')\n",
    "test_df = pd.read_csv(directory + '/test.csv')\n",
    "\n",
    "print('Train has {:,} rows and Test has {:,} rows.'.format(len(train_df), len(test_df)))\n",
    "\n",
    "# Change columns names\n",
    "new_names = ['dcm_name', 'ID', 'sex', 'age', 'anatomy', 'diagnosis', 'benign_malignant', 'target']\n",
    "train_df.columns = new_names\n",
    "test_df.columns = new_names[:5]"
   ]
  },
  {
   "cell_type": "code",
   "execution_count": 5,
   "id": "5e09f3c8",
   "metadata": {},
   "outputs": [],
   "source": [
    "# === DICOM ===\n",
    "# Create the paths\n",
    "path_train = directory + '/train/' + train_df['dcm_name'] + '.dcm'\n",
    "path_test = directory + '/test/' + test_df['dcm_name'] + '.dcm'\n",
    "\n",
    "# Append to the original dataframes\n",
    "train_df['path_dicom'] = path_train\n",
    "test_df['path_dicom'] = path_test\n",
    "\n",
    "# === JPEG ===\n",
    "# Create the paths\n",
    "path_train = directory + '/jpeg/train/' + train_df['dcm_name'] + '.jpg'\n",
    "path_test = directory + '/jpeg/test/' + test_df['dcm_name'] + '.jpg'\n",
    "\n",
    "# Append to the original dataframes\n",
    "train_df['path_jpeg'] = path_train\n",
    "test_df['path_jpeg'] = path_test"
   ]
  },
  {
   "cell_type": "code",
   "execution_count": 6,
   "id": "670fb0a1",
   "metadata": {
    "scrolled": false
   },
   "outputs": [
    {
     "data": {
      "text/html": [
       "<div>\n",
       "<style scoped>\n",
       "    .dataframe tbody tr th:only-of-type {\n",
       "        vertical-align: middle;\n",
       "    }\n",
       "\n",
       "    .dataframe tbody tr th {\n",
       "        vertical-align: top;\n",
       "    }\n",
       "\n",
       "    .dataframe thead th {\n",
       "        text-align: right;\n",
       "    }\n",
       "</style>\n",
       "<table border=\"1\" class=\"dataframe\">\n",
       "  <thead>\n",
       "    <tr style=\"text-align: right;\">\n",
       "      <th></th>\n",
       "      <th>dcm_name</th>\n",
       "      <th>ID</th>\n",
       "      <th>sex</th>\n",
       "      <th>age</th>\n",
       "      <th>anatomy</th>\n",
       "      <th>diagnosis</th>\n",
       "      <th>benign_malignant</th>\n",
       "      <th>target</th>\n",
       "      <th>path_dicom</th>\n",
       "      <th>path_jpeg</th>\n",
       "    </tr>\n",
       "  </thead>\n",
       "  <tbody>\n",
       "    <tr>\n",
       "      <th>91</th>\n",
       "      <td>ISIC_0149568</td>\n",
       "      <td>IP_0962375</td>\n",
       "      <td>female</td>\n",
       "      <td>55.0</td>\n",
       "      <td>upper extremity</td>\n",
       "      <td>melanoma</td>\n",
       "      <td>malignant</td>\n",
       "      <td>1</td>\n",
       "      <td>/Users/renau/Desktop/DATA/data_proj_melanoma/t...</td>\n",
       "      <td>/Users/renau/Desktop/DATA/data_proj_melanoma/j...</td>\n",
       "    </tr>\n",
       "    <tr>\n",
       "      <th>235</th>\n",
       "      <td>ISIC_0188432</td>\n",
       "      <td>IP_0135517</td>\n",
       "      <td>female</td>\n",
       "      <td>50.0</td>\n",
       "      <td>upper extremity</td>\n",
       "      <td>melanoma</td>\n",
       "      <td>malignant</td>\n",
       "      <td>1</td>\n",
       "      <td>/Users/renau/Desktop/DATA/data_proj_melanoma/t...</td>\n",
       "      <td>/Users/renau/Desktop/DATA/data_proj_melanoma/j...</td>\n",
       "    </tr>\n",
       "    <tr>\n",
       "      <th>314</th>\n",
       "      <td>ISIC_0207268</td>\n",
       "      <td>IP_7735373</td>\n",
       "      <td>male</td>\n",
       "      <td>55.0</td>\n",
       "      <td>torso</td>\n",
       "      <td>melanoma</td>\n",
       "      <td>malignant</td>\n",
       "      <td>1</td>\n",
       "      <td>/Users/renau/Desktop/DATA/data_proj_melanoma/t...</td>\n",
       "      <td>/Users/renau/Desktop/DATA/data_proj_melanoma/j...</td>\n",
       "    </tr>\n",
       "    <tr>\n",
       "      <th>399</th>\n",
       "      <td>ISIC_0232101</td>\n",
       "      <td>IP_8349964</td>\n",
       "      <td>male</td>\n",
       "      <td>65.0</td>\n",
       "      <td>torso</td>\n",
       "      <td>melanoma</td>\n",
       "      <td>malignant</td>\n",
       "      <td>1</td>\n",
       "      <td>/Users/renau/Desktop/DATA/data_proj_melanoma/t...</td>\n",
       "      <td>/Users/renau/Desktop/DATA/data_proj_melanoma/j...</td>\n",
       "    </tr>\n",
       "    <tr>\n",
       "      <th>459</th>\n",
       "      <td>ISIC_0247330</td>\n",
       "      <td>IP_3232631</td>\n",
       "      <td>female</td>\n",
       "      <td>65.0</td>\n",
       "      <td>lower extremity</td>\n",
       "      <td>melanoma</td>\n",
       "      <td>malignant</td>\n",
       "      <td>1</td>\n",
       "      <td>/Users/renau/Desktop/DATA/data_proj_melanoma/t...</td>\n",
       "      <td>/Users/renau/Desktop/DATA/data_proj_melanoma/j...</td>\n",
       "    </tr>\n",
       "  </tbody>\n",
       "</table>\n",
       "</div>"
      ],
      "text/plain": [
       "         dcm_name          ID     sex   age          anatomy diagnosis  \\\n",
       "91   ISIC_0149568  IP_0962375  female  55.0  upper extremity  melanoma   \n",
       "235  ISIC_0188432  IP_0135517  female  50.0  upper extremity  melanoma   \n",
       "314  ISIC_0207268  IP_7735373    male  55.0            torso  melanoma   \n",
       "399  ISIC_0232101  IP_8349964    male  65.0            torso  melanoma   \n",
       "459  ISIC_0247330  IP_3232631  female  65.0  lower extremity  melanoma   \n",
       "\n",
       "    benign_malignant  target  \\\n",
       "91         malignant       1   \n",
       "235        malignant       1   \n",
       "314        malignant       1   \n",
       "399        malignant       1   \n",
       "459        malignant       1   \n",
       "\n",
       "                                            path_dicom  \\\n",
       "91   /Users/renau/Desktop/DATA/data_proj_melanoma/t...   \n",
       "235  /Users/renau/Desktop/DATA/data_proj_melanoma/t...   \n",
       "314  /Users/renau/Desktop/DATA/data_proj_melanoma/t...   \n",
       "399  /Users/renau/Desktop/DATA/data_proj_melanoma/t...   \n",
       "459  /Users/renau/Desktop/DATA/data_proj_melanoma/t...   \n",
       "\n",
       "                                             path_jpeg  \n",
       "91   /Users/renau/Desktop/DATA/data_proj_melanoma/j...  \n",
       "235  /Users/renau/Desktop/DATA/data_proj_melanoma/j...  \n",
       "314  /Users/renau/Desktop/DATA/data_proj_melanoma/j...  \n",
       "399  /Users/renau/Desktop/DATA/data_proj_melanoma/j...  \n",
       "459  /Users/renau/Desktop/DATA/data_proj_melanoma/j...  "
      ]
     },
     "execution_count": 6,
     "metadata": {},
     "output_type": "execute_result"
    }
   ],
   "source": [
    "malignant_df = train_df[train_df['target'] == 1]\n",
    "malignant_df.head()"
   ]
  },
  {
   "cell_type": "code",
   "execution_count": 7,
   "id": "d5691d32",
   "metadata": {},
   "outputs": [
    {
     "data": {
      "text/html": [
       "<div>\n",
       "<style scoped>\n",
       "    .dataframe tbody tr th:only-of-type {\n",
       "        vertical-align: middle;\n",
       "    }\n",
       "\n",
       "    .dataframe tbody tr th {\n",
       "        vertical-align: top;\n",
       "    }\n",
       "\n",
       "    .dataframe thead th {\n",
       "        text-align: right;\n",
       "    }\n",
       "</style>\n",
       "<table border=\"1\" class=\"dataframe\">\n",
       "  <thead>\n",
       "    <tr style=\"text-align: right;\">\n",
       "      <th></th>\n",
       "      <th>dcm_name</th>\n",
       "      <th>ID</th>\n",
       "      <th>sex</th>\n",
       "      <th>age</th>\n",
       "      <th>anatomy</th>\n",
       "      <th>diagnosis</th>\n",
       "      <th>benign_malignant</th>\n",
       "      <th>target</th>\n",
       "      <th>path_dicom</th>\n",
       "      <th>path_jpeg</th>\n",
       "    </tr>\n",
       "  </thead>\n",
       "  <tbody>\n",
       "    <tr>\n",
       "      <th>0</th>\n",
       "      <td>ISIC_2637011</td>\n",
       "      <td>IP_7279968</td>\n",
       "      <td>male</td>\n",
       "      <td>45.0</td>\n",
       "      <td>head/neck</td>\n",
       "      <td>unknown</td>\n",
       "      <td>benign</td>\n",
       "      <td>0</td>\n",
       "      <td>/Users/renau/Desktop/DATA/data_proj_melanoma/t...</td>\n",
       "      <td>/Users/renau/Desktop/DATA/data_proj_melanoma/j...</td>\n",
       "    </tr>\n",
       "    <tr>\n",
       "      <th>1</th>\n",
       "      <td>ISIC_0015719</td>\n",
       "      <td>IP_3075186</td>\n",
       "      <td>female</td>\n",
       "      <td>45.0</td>\n",
       "      <td>upper extremity</td>\n",
       "      <td>unknown</td>\n",
       "      <td>benign</td>\n",
       "      <td>0</td>\n",
       "      <td>/Users/renau/Desktop/DATA/data_proj_melanoma/t...</td>\n",
       "      <td>/Users/renau/Desktop/DATA/data_proj_melanoma/j...</td>\n",
       "    </tr>\n",
       "    <tr>\n",
       "      <th>2</th>\n",
       "      <td>ISIC_0052212</td>\n",
       "      <td>IP_2842074</td>\n",
       "      <td>female</td>\n",
       "      <td>50.0</td>\n",
       "      <td>lower extremity</td>\n",
       "      <td>nevus</td>\n",
       "      <td>benign</td>\n",
       "      <td>0</td>\n",
       "      <td>/Users/renau/Desktop/DATA/data_proj_melanoma/t...</td>\n",
       "      <td>/Users/renau/Desktop/DATA/data_proj_melanoma/j...</td>\n",
       "    </tr>\n",
       "    <tr>\n",
       "      <th>3</th>\n",
       "      <td>ISIC_0068279</td>\n",
       "      <td>IP_6890425</td>\n",
       "      <td>female</td>\n",
       "      <td>45.0</td>\n",
       "      <td>head/neck</td>\n",
       "      <td>unknown</td>\n",
       "      <td>benign</td>\n",
       "      <td>0</td>\n",
       "      <td>/Users/renau/Desktop/DATA/data_proj_melanoma/t...</td>\n",
       "      <td>/Users/renau/Desktop/DATA/data_proj_melanoma/j...</td>\n",
       "    </tr>\n",
       "    <tr>\n",
       "      <th>4</th>\n",
       "      <td>ISIC_0074268</td>\n",
       "      <td>IP_8723313</td>\n",
       "      <td>female</td>\n",
       "      <td>55.0</td>\n",
       "      <td>upper extremity</td>\n",
       "      <td>unknown</td>\n",
       "      <td>benign</td>\n",
       "      <td>0</td>\n",
       "      <td>/Users/renau/Desktop/DATA/data_proj_melanoma/t...</td>\n",
       "      <td>/Users/renau/Desktop/DATA/data_proj_melanoma/j...</td>\n",
       "    </tr>\n",
       "  </tbody>\n",
       "</table>\n",
       "</div>"
      ],
      "text/plain": [
       "       dcm_name          ID     sex   age          anatomy diagnosis  \\\n",
       "0  ISIC_2637011  IP_7279968    male  45.0        head/neck   unknown   \n",
       "1  ISIC_0015719  IP_3075186  female  45.0  upper extremity   unknown   \n",
       "2  ISIC_0052212  IP_2842074  female  50.0  lower extremity     nevus   \n",
       "3  ISIC_0068279  IP_6890425  female  45.0        head/neck   unknown   \n",
       "4  ISIC_0074268  IP_8723313  female  55.0  upper extremity   unknown   \n",
       "\n",
       "  benign_malignant  target                                         path_dicom  \\\n",
       "0           benign       0  /Users/renau/Desktop/DATA/data_proj_melanoma/t...   \n",
       "1           benign       0  /Users/renau/Desktop/DATA/data_proj_melanoma/t...   \n",
       "2           benign       0  /Users/renau/Desktop/DATA/data_proj_melanoma/t...   \n",
       "3           benign       0  /Users/renau/Desktop/DATA/data_proj_melanoma/t...   \n",
       "4           benign       0  /Users/renau/Desktop/DATA/data_proj_melanoma/t...   \n",
       "\n",
       "                                           path_jpeg  \n",
       "0  /Users/renau/Desktop/DATA/data_proj_melanoma/j...  \n",
       "1  /Users/renau/Desktop/DATA/data_proj_melanoma/j...  \n",
       "2  /Users/renau/Desktop/DATA/data_proj_melanoma/j...  \n",
       "3  /Users/renau/Desktop/DATA/data_proj_melanoma/j...  \n",
       "4  /Users/renau/Desktop/DATA/data_proj_melanoma/j...  "
      ]
     },
     "execution_count": 7,
     "metadata": {},
     "output_type": "execute_result"
    }
   ],
   "source": [
    "benin_df = train_df[train_df['target'] == 0]\n",
    "benin_df.head()"
   ]
  },
  {
   "cell_type": "code",
   "execution_count": 8,
   "id": "13a7cf29",
   "metadata": {
    "scrolled": true
   },
   "outputs": [
    {
     "data": {
      "text/plain": [
       "\"file_paths = train_df['path_jpeg'].values\\nlabels = train_df['target'].values\\ntrain_ds = tf.data.Dataset.from_tensor_slices((file_paths, labels))\""
      ]
     },
     "execution_count": 8,
     "metadata": {},
     "output_type": "execute_result"
    }
   ],
   "source": [
    "\"\"\"file_paths = train_df['path_jpeg'].values\n",
    "labels = train_df['target'].values\n",
    "train_ds = tf.data.Dataset.from_tensor_slices((file_paths, labels))\"\"\""
   ]
  },
  {
   "cell_type": "code",
   "execution_count": 9,
   "id": "fe8c4729",
   "metadata": {},
   "outputs": [
    {
     "data": {
      "text/plain": [
       "584"
      ]
     },
     "execution_count": 9,
     "metadata": {},
     "output_type": "execute_result"
    }
   ],
   "source": [
    "mal_file = malignant_df['path_jpeg'].values\n",
    "mal_labels = malignant_df['target'].values\n",
    "mal_train_ds = tf.data.Dataset.from_tensor_slices((mal_file, mal_labels))\n",
    "len(list(mal_train_ds))"
   ]
  },
  {
   "cell_type": "code",
   "execution_count": 10,
   "id": "ae0eff34",
   "metadata": {},
   "outputs": [
    {
     "data": {
      "text/plain": [
       "32542"
      ]
     },
     "execution_count": 10,
     "metadata": {},
     "output_type": "execute_result"
    }
   ],
   "source": [
    "ben_file = benin_df['path_jpeg'].values\n",
    "ben_labels = benin_df['target'].values\n",
    "ben_train_ds = tf.data.Dataset.from_tensor_slices((ben_file, ben_labels))\n",
    "len(list(ben_train_ds))"
   ]
  },
  {
   "cell_type": "code",
   "execution_count": 11,
   "id": "8d15a23f",
   "metadata": {},
   "outputs": [
    {
     "data": {
      "text/plain": [
       "584"
      ]
     },
     "execution_count": 11,
     "metadata": {},
     "output_type": "execute_result"
    }
   ],
   "source": [
    "benPart_train_ds = ben_train_ds.take(len(list(mal_train_ds)))\n",
    "#benPart_train_ds = ben_train_ds.take(15000)\n",
    "len(list(benPart_train_ds))"
   ]
  },
  {
   "cell_type": "code",
   "execution_count": 12,
   "id": "8ad0efcf",
   "metadata": {},
   "outputs": [
    {
     "data": {
      "text/plain": [
       "1168"
      ]
     },
     "execution_count": 12,
     "metadata": {},
     "output_type": "execute_result"
    }
   ],
   "source": [
    "train_ds = mal_train_ds.concatenate(benPart_train_ds)\n",
    "#train_ds = ben_train_ds.take(1000)\n",
    "shuf_train_ds = train_ds.shuffle(len(list(train_ds)))\n",
    "len(list(shuf_train_ds))"
   ]
  },
  {
   "cell_type": "code",
   "execution_count": 13,
   "id": "7452be65",
   "metadata": {
    "scrolled": false
   },
   "outputs": [
    {
     "name": "stdout",
     "output_type": "stream",
     "text": [
      "b'/Users/renau/Desktop/DATA/data_proj_melanoma/jpeg/train/ISIC_0185177.jpg' and target:  0\n",
      "b'/Users/renau/Desktop/DATA/data_proj_melanoma/jpeg/train/ISIC_8521610.jpg' and target:  1\n",
      "b'/Users/renau/Desktop/DATA/data_proj_melanoma/jpeg/train/ISIC_0103298.jpg' and target:  0\n"
     ]
    }
   ],
   "source": [
    "ex_ds = shuf_train_ds.take(3)\n",
    "for element in ex_ds :\n",
    "    print(element[0].numpy(),'and target: ',element[1].numpy())"
   ]
  },
  {
   "cell_type": "code",
   "execution_count": 14,
   "id": "724bf6ee",
   "metadata": {},
   "outputs": [],
   "source": [
    "def read_image(path, label):\n",
    "    image = tf.io.read_file(path)\n",
    "    image = tf.image.decode_image(image, channels=3, dtype = tf.uint8, expand_animations = False)\n",
    "    return image, label\n",
    "dstry = shuf_train_ds.map(read_image)\n",
    "ds_vali = ben_train_ds.skip(1500)\n",
    "ds_val = ds_vali.take(200).map(read_image)"
   ]
  },
  {
   "cell_type": "code",
   "execution_count": 15,
   "id": "ae09d9ef",
   "metadata": {
    "scrolled": true
   },
   "outputs": [
    {
     "name": "stdout",
     "output_type": "stream",
     "text": [
      "(1936, 2592, 3)\n",
      "(1936, 2592, 3)\n",
      "(2448, 3264, 3)\n"
     ]
    }
   ],
   "source": [
    "ex_ds = dstry.take(3)\n",
    "for element in ex_ds :\n",
    "    print(element[0].numpy().shape)"
   ]
  },
  {
   "cell_type": "code",
   "execution_count": 16,
   "id": "222d1391-24e9-436b-9c34-cd8474bcd4e3",
   "metadata": {},
   "outputs": [
    {
     "name": "stdout",
     "output_type": "stream",
     "text": [
      "(32, 128, 128, 3)\n",
      "(32,)\n",
      "(32, 128, 128, 3)\n",
      "(32,)\n",
      "(32, 128, 128, 3)\n",
      "(32,)\n"
     ]
    }
   ],
   "source": [
    "def adapt_data(image, label):\n",
    "    image = tf.image.resize(image, [128,128])\n",
    "    return image, label\n",
    "\n",
    "def convert_to_float(image, label):\n",
    "    image = tf.image.convert_image_dtype(image, dtype=tf.float64)\n",
    "    return image, label\n",
    "    \n",
    "ds_train= dstry.map(adapt_data).map(convert_to_float).batch(32)\n",
    "ds_val= ds_val.map(adapt_data).map(convert_to_float).batch(32)\n",
    "\n",
    "ex_ds = ds_train.take(3)\n",
    "for element in ex_ds :\n",
    "    print(element[0].shape)\n",
    "    print(element[1].shape)"
   ]
  },
  {
   "cell_type": "code",
   "execution_count": 17,
   "id": "c16f2e9b",
   "metadata": {},
   "outputs": [],
   "source": [
    "AUTOTUNE = tf.data.AUTOTUNE\n",
    "\n",
    "ds_train = ds_train.cache().prefetch(buffer_size=AUTOTUNE)\n",
    "ds_val = ds_val.cache().prefetch(buffer_size=AUTOTUNE)"
   ]
  },
  {
   "cell_type": "code",
   "execution_count": 18,
   "id": "c41ebe5f",
   "metadata": {},
   "outputs": [],
   "source": [
    "from tensorflow import keras\n",
    "from tensorflow.keras import layers\n",
    "\n",
    "model = tf.keras.Sequential([\n",
    "  tf.keras.layers.Rescaling(1./255),\n",
    "  tf.keras.layers.Conv2D(32, 3, activation='relu'),\n",
    "  tf.keras.layers.MaxPooling2D(),\n",
    "  tf.keras.layers.Conv2D(16, 3, activation='relu'),\n",
    "  tf.keras.layers.MaxPooling2D(),\n",
    "  tf.keras.layers.Conv2D(8, 3, activation='relu'),\n",
    "  tf.keras.layers.MaxPooling2D(),\n",
    "  tf.keras.layers.Flatten(),\n",
    "  tf.keras.layers.Dense(128, activation='relu'),\n",
    "  tf.keras.layers.Dense(1,activation='sigmoid')\n",
    "])"
   ]
  },
  {
   "cell_type": "code",
   "execution_count": 19,
   "id": "2f942f43",
   "metadata": {},
   "outputs": [],
   "source": [
    "model.compile(\n",
    "    optimizer=tf.keras.optimizers.Adam(epsilon=0.01),\n",
    "    loss='binary_crossentropy',\n",
    "    metrics=['binary_accuracy']\n",
    ")"
   ]
  },
  {
   "cell_type": "code",
   "execution_count": 20,
   "id": "04c25c91",
   "metadata": {
    "scrolled": false
   },
   "outputs": [
    {
     "name": "stdout",
     "output_type": "stream",
     "text": [
      "Epoch 1/50\n",
      "37/37 [==============================] - 10s 178ms/step - loss: 0.6885 - binary_accuracy: 0.5265 - val_loss: 0.5847 - val_binary_accuracy: 1.0000\n",
      "Epoch 2/50\n",
      "37/37 [==============================] - 1s 15ms/step - loss: 0.6764 - binary_accuracy: 0.5479 - val_loss: 0.6396 - val_binary_accuracy: 0.7450\n",
      "Epoch 3/50\n",
      "37/37 [==============================] - 0s 10ms/step - loss: 0.6584 - binary_accuracy: 0.5933 - val_loss: 0.5649 - val_binary_accuracy: 0.7800\n",
      "Epoch 4/50\n",
      "37/37 [==============================] - 0s 10ms/step - loss: 0.6350 - binary_accuracy: 0.6361 - val_loss: 0.7597 - val_binary_accuracy: 0.5050\n",
      "Epoch 5/50\n",
      "37/37 [==============================] - 0s 10ms/step - loss: 0.6270 - binary_accuracy: 0.6455 - val_loss: 0.7253 - val_binary_accuracy: 0.5500\n",
      "Epoch 6/50\n",
      "37/37 [==============================] - 0s 10ms/step - loss: 0.6158 - binary_accuracy: 0.6601 - val_loss: 0.7375 - val_binary_accuracy: 0.5200\n",
      "Epoch 7/50\n",
      "37/37 [==============================] - 0s 11ms/step - loss: 0.6058 - binary_accuracy: 0.6721 - val_loss: 0.7383 - val_binary_accuracy: 0.5200\n",
      "Epoch 8/50\n",
      "37/37 [==============================] - 0s 10ms/step - loss: 0.5974 - binary_accuracy: 0.6729 - val_loss: 0.7150 - val_binary_accuracy: 0.5400\n",
      "Epoch 9/50\n",
      "37/37 [==============================] - 0s 10ms/step - loss: 0.5844 - binary_accuracy: 0.6918 - val_loss: 0.6984 - val_binary_accuracy: 0.5750\n",
      "Epoch 10/50\n",
      "37/37 [==============================] - 0s 11ms/step - loss: 0.5736 - binary_accuracy: 0.6978 - val_loss: 0.7583 - val_binary_accuracy: 0.5100\n",
      "Epoch 11/50\n",
      "37/37 [==============================] - 0s 10ms/step - loss: 0.5654 - binary_accuracy: 0.7021 - val_loss: 0.7399 - val_binary_accuracy: 0.5300\n",
      "Epoch 12/50\n",
      "37/37 [==============================] - 0s 10ms/step - loss: 0.5582 - binary_accuracy: 0.7063 - val_loss: 0.7770 - val_binary_accuracy: 0.5000\n",
      "Epoch 13/50\n",
      "37/37 [==============================] - 0s 10ms/step - loss: 0.5484 - binary_accuracy: 0.7209 - val_loss: 0.7632 - val_binary_accuracy: 0.5200\n",
      "Epoch 14/50\n",
      "37/37 [==============================] - 0s 11ms/step - loss: 0.5439 - binary_accuracy: 0.7277 - val_loss: 0.8002 - val_binary_accuracy: 0.4900\n",
      "Epoch 15/50\n",
      "37/37 [==============================] - 0s 11ms/step - loss: 0.5321 - binary_accuracy: 0.7372 - val_loss: 0.7077 - val_binary_accuracy: 0.5550\n",
      "Epoch 16/50\n",
      "37/37 [==============================] - 0s 11ms/step - loss: 0.5302 - binary_accuracy: 0.7363 - val_loss: 0.8062 - val_binary_accuracy: 0.5000\n",
      "Epoch 17/50\n",
      "37/37 [==============================] - 0s 11ms/step - loss: 0.5212 - binary_accuracy: 0.7380 - val_loss: 0.7110 - val_binary_accuracy: 0.5550\n",
      "Epoch 18/50\n",
      "37/37 [==============================] - 0s 11ms/step - loss: 0.5136 - binary_accuracy: 0.7483 - val_loss: 0.7659 - val_binary_accuracy: 0.5400\n",
      "Epoch 19/50\n",
      "37/37 [==============================] - 0s 11ms/step - loss: 0.5063 - binary_accuracy: 0.7586 - val_loss: 0.7587 - val_binary_accuracy: 0.5450\n",
      "Epoch 20/50\n",
      "37/37 [==============================] - 0s 10ms/step - loss: 0.5021 - binary_accuracy: 0.7603 - val_loss: 0.7578 - val_binary_accuracy: 0.5550\n",
      "Epoch 21/50\n",
      "37/37 [==============================] - 0s 10ms/step - loss: 0.4967 - binary_accuracy: 0.7611 - val_loss: 0.7755 - val_binary_accuracy: 0.5400\n",
      "Epoch 22/50\n",
      "37/37 [==============================] - 0s 10ms/step - loss: 0.4934 - binary_accuracy: 0.7628 - val_loss: 0.7740 - val_binary_accuracy: 0.5400\n",
      "Epoch 23/50\n",
      "37/37 [==============================] - 0s 11ms/step - loss: 0.4896 - binary_accuracy: 0.7705 - val_loss: 0.7785 - val_binary_accuracy: 0.5500\n",
      "Epoch 24/50\n",
      "37/37 [==============================] - 0s 11ms/step - loss: 0.4889 - binary_accuracy: 0.7620 - val_loss: 0.7589 - val_binary_accuracy: 0.5650\n",
      "Epoch 25/50\n",
      "37/37 [==============================] - 0s 11ms/step - loss: 0.4856 - binary_accuracy: 0.7697 - val_loss: 0.7435 - val_binary_accuracy: 0.5750\n",
      "Epoch 26/50\n",
      "37/37 [==============================] - 0s 10ms/step - loss: 0.4838 - binary_accuracy: 0.7671 - val_loss: 0.7144 - val_binary_accuracy: 0.5800\n",
      "Epoch 27/50\n",
      "37/37 [==============================] - 0s 11ms/step - loss: 0.4785 - binary_accuracy: 0.7705 - val_loss: 0.7154 - val_binary_accuracy: 0.5750\n",
      "Epoch 28/50\n",
      "37/37 [==============================] - 0s 10ms/step - loss: 0.4701 - binary_accuracy: 0.7791 - val_loss: 0.6946 - val_binary_accuracy: 0.5900\n",
      "Epoch 29/50\n",
      "37/37 [==============================] - 0s 10ms/step - loss: 0.4736 - binary_accuracy: 0.7791 - val_loss: 0.7593 - val_binary_accuracy: 0.5550\n",
      "Epoch 30/50\n",
      "37/37 [==============================] - 0s 10ms/step - loss: 0.4707 - binary_accuracy: 0.7731 - val_loss: 0.7138 - val_binary_accuracy: 0.5850\n",
      "Epoch 31/50\n",
      "37/37 [==============================] - 0s 10ms/step - loss: 0.4620 - binary_accuracy: 0.7834 - val_loss: 0.7790 - val_binary_accuracy: 0.5400\n",
      "Epoch 32/50\n",
      "37/37 [==============================] - 0s 10ms/step - loss: 0.4624 - binary_accuracy: 0.7834 - val_loss: 0.7307 - val_binary_accuracy: 0.5650\n",
      "Epoch 33/50\n",
      "37/37 [==============================] - 0s 10ms/step - loss: 0.4544 - binary_accuracy: 0.7877 - val_loss: 0.7357 - val_binary_accuracy: 0.5700\n",
      "Epoch 34/50\n",
      "37/37 [==============================] - 0s 10ms/step - loss: 0.4467 - binary_accuracy: 0.7971 - val_loss: 0.7591 - val_binary_accuracy: 0.5650\n",
      "Epoch 35/50\n",
      "37/37 [==============================] - 0s 10ms/step - loss: 0.4410 - binary_accuracy: 0.7945 - val_loss: 0.7755 - val_binary_accuracy: 0.5500\n",
      "Epoch 36/50\n",
      "37/37 [==============================] - 0s 10ms/step - loss: 0.4350 - binary_accuracy: 0.7988 - val_loss: 0.8160 - val_binary_accuracy: 0.5450\n",
      "Epoch 37/50\n",
      "37/37 [==============================] - 0s 10ms/step - loss: 0.4344 - binary_accuracy: 0.7979 - val_loss: 0.7958 - val_binary_accuracy: 0.5750\n",
      "Epoch 38/50\n",
      "37/37 [==============================] - 0s 10ms/step - loss: 0.4249 - binary_accuracy: 0.7979 - val_loss: 0.7720 - val_binary_accuracy: 0.5750\n",
      "Epoch 39/50\n",
      "37/37 [==============================] - 0s 10ms/step - loss: 0.4192 - binary_accuracy: 0.8031 - val_loss: 0.8190 - val_binary_accuracy: 0.5650\n",
      "Epoch 40/50\n",
      "37/37 [==============================] - 0s 10ms/step - loss: 0.4153 - binary_accuracy: 0.8022 - val_loss: 0.8225 - val_binary_accuracy: 0.5750\n",
      "Epoch 41/50\n",
      "37/37 [==============================] - 0s 10ms/step - loss: 0.4105 - binary_accuracy: 0.8074 - val_loss: 0.8020 - val_binary_accuracy: 0.5850\n",
      "Epoch 42/50\n",
      "37/37 [==============================] - 0s 10ms/step - loss: 0.4038 - binary_accuracy: 0.8108 - val_loss: 0.7902 - val_binary_accuracy: 0.5850\n",
      "Epoch 43/50\n",
      "37/37 [==============================] - 0s 10ms/step - loss: 0.3981 - binary_accuracy: 0.8134 - val_loss: 0.8050 - val_binary_accuracy: 0.5800\n",
      "Epoch 44/50\n",
      "37/37 [==============================] - 0s 10ms/step - loss: 0.4005 - binary_accuracy: 0.8074 - val_loss: 0.7519 - val_binary_accuracy: 0.5950\n",
      "Epoch 45/50\n",
      "37/37 [==============================] - 0s 10ms/step - loss: 0.3972 - binary_accuracy: 0.8116 - val_loss: 0.7372 - val_binary_accuracy: 0.6000\n",
      "Epoch 46/50\n",
      "37/37 [==============================] - 0s 11ms/step - loss: 0.3898 - binary_accuracy: 0.8185 - val_loss: 0.6854 - val_binary_accuracy: 0.6300\n",
      "Epoch 47/50\n",
      "37/37 [==============================] - 0s 11ms/step - loss: 0.3820 - binary_accuracy: 0.8236 - val_loss: 0.7129 - val_binary_accuracy: 0.6350\n",
      "Epoch 48/50\n",
      "37/37 [==============================] - 0s 10ms/step - loss: 0.3811 - binary_accuracy: 0.8211 - val_loss: 0.6718 - val_binary_accuracy: 0.6500\n",
      "Epoch 49/50\n",
      "37/37 [==============================] - 0s 10ms/step - loss: 0.3747 - binary_accuracy: 0.8236 - val_loss: 0.6349 - val_binary_accuracy: 0.6600\n",
      "Epoch 50/50\n",
      "37/37 [==============================] - 0s 10ms/step - loss: 0.3687 - binary_accuracy: 0.8348 - val_loss: 0.6896 - val_binary_accuracy: 0.6450\n"
     ]
    }
   ],
   "source": [
    "history = model.fit(\n",
    "    ds_train,\n",
    "    validation_data=ds_val,\n",
    "    epochs=50,\n",
    ")"
   ]
  },
  {
   "cell_type": "code",
   "execution_count": 21,
   "id": "62fe4e6f",
   "metadata": {
    "scrolled": false
   },
   "outputs": [
    {
     "data": {
      "image/png": "[encoded data removed]",
      "text/plain": [
       "<Figure size 432x288 with 1 Axes>"
      ]
     },
     "metadata": {
      "needs_background": "light"
     },
     "output_type": "display_data"
    },
    {
     "data": {
      "image/png": "[encoded data removed]",
      "text/plain": [
       "<Figure size 432x288 with 1 Axes>"
      ]
     },
     "metadata": {
      "needs_background": "light"
     },
     "output_type": "display_data"
    }
   ],
   "source": [
    "import pandas as pd\n",
    "history_frame = pd.DataFrame(history.history)\n",
    "history_frame.loc[:, ['loss', 'val_loss']].plot()\n",
    "history_frame.loc[:, ['binary_accuracy', 'val_binary_accuracy']].plot();"
   ]
  },
  {
   "cell_type": "code",
   "execution_count": 25,
   "id": "377b9d3e",
   "metadata": {
    "scrolled": true
   },
   "outputs": [
    {
     "name": "stdout",
     "output_type": "stream",
     "text": [
      "Prédictions ;\n",
      " - Malin(s):  4 \n",
      " - Bénins:  38 \n",
      " - doutes:  158 \n",
      " - Totale comp:  200  vs  200\n"
     ]
    }
   ],
   "source": [
    "predictions = model.predict(ds_val)\n",
    "\n",
    "b =0\n",
    "m = 0\n",
    "u = 0\n",
    "for element in predictions :\n",
    "    if(element[0] > 0.95) :\n",
    "        m +=1\n",
    "    elif(element[0]< 0.05) :\n",
    "        b +=1\n",
    "    else :\n",
    "        u +=1\n",
    "        \n",
    "print(\"Prédictions ;\\n - Malin(s): \", m, \"\\n - Bénins: \", b, \"\\n - Doutes: \", u, \"\\n - Totale comp: \", b+u+m,\" vs \",len(predictions))"
   ]
  },
  {
   "cell_type": "code",
   "execution_count": null,
   "id": "785ced0b",
   "metadata": {},
   "outputs": [],
   "source": []
  }
 ],
 "metadata": {
  "kernelspec": {
   "display_name": "Python 3 (ipykernel)",
   "language": "python",
   "name": "python3"
  },
  "language_info": {
   "codemirror_mode": {
    "name": "ipython",
    "version": 3
   },
   "file_extension": ".py",
   "mimetype": "text/x-python",
   "name": "python",
   "nbconvert_exporter": "python",
   "pygments_lexer": "ipython3",
   "version": "3.9.7"
  }
 },
 "nbformat": 4,
 "nbformat_minor": 5
}
