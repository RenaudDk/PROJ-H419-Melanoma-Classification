{
 "cells": [
  {
   "cell_type": "markdown",
   "id": "183e6aad",
   "metadata": {},
   "source": [
    "# PROJ-H419 : Melanoma Classification\n"
   ]
  },
  {
   "cell_type": "markdown",
   "id": "ecd9c799",
   "metadata": {},
   "source": [
    "## 1. Introduction\n",
    "This notebook presents a first approach to tackle the ISIC 2020 Challenge on melanoma classification. The challenge can be found on kaggle (https://www.kaggle.com/c/siim-isic-melanoma-classification) and all the datasets can be found there too. Furthermore, this notebook is widely inspired by gaggle courses on computer vision (https://www.kaggle.com/learn/computer-vision) and tensorflow tutorials (https://www.tensorflow.org/tutorials). \n",
    "\n",
    "The dataset provides tfrecord, DICOM, JPG and CSV files which contain different information about the patient. In this notebook, only the JPGs were used and were labelled with the help of the CSV files. Also, only the information about the malignancy of the melanoma is used to label the JPGs."
   ]
  },
  {
   "cell_type": "code",
   "execution_count": 1,
   "id": "792c6c05",
   "metadata": {},
   "outputs": [
    {
     "name": "stdout",
     "output_type": "stream",
     "text": [
      "2.6.0\n"
     ]
    }
   ],
   "source": [
    "import numpy as np\n",
    "import os\n",
    "import PIL\n",
    "import PIL.Image\n",
    "import tensorflow as tf\n",
    "\n",
    "\n",
    "import pathlib\n",
    "import pandas as pd\n",
    "\n",
    "import pydicom # for DICOM images\n",
    "from skimage.transform import resize\n",
    "from sklearn.metrics import plot_confusion_matrix  \n",
    "\n",
    "import matplotlib.pyplot as plt\n",
    "from matplotlib import gridspec\n",
    "%matplotlib inline\n",
    "print(tf.__version__)\n",
    "\n",
    "from tensorflow import keras\n",
    "from tensorflow.keras import layers\n",
    "from tensorflow.keras.layers.experimental import preprocessing"
   ]
  },
  {
   "cell_type": "code",
   "execution_count": 2,
   "id": "f0442180",
   "metadata": {},
   "outputs": [],
   "source": [
    "def set_seed(seed=31415):\n",
    "    np.random.seed(seed)\n",
    "    tf.random.set_seed(seed)\n",
    "    os.environ['PYTHONHASHSEED'] = str(seed)\n",
    "    os.environ['TF_DETERMINISTIC_OPS'] = '1'\n",
    "set_seed()"
   ]
  },
  {
   "cell_type": "markdown",
   "id": "17c6db48",
   "metadata": {},
   "source": [
    "## 2. Loading data"
   ]
  },
  {
   "cell_type": "code",
   "execution_count": 3,
   "id": "4db20424",
   "metadata": {},
   "outputs": [],
   "source": [
    "directory = '/Users/renau/Desktop/DATA/data_proj_melanoma'\n",
    "\n",
    "train_df = pd.read_csv(directory + '/train.csv')\n",
    "\n",
    "# Change columns names\n",
    "new_names = ['dcm_name', 'ID', 'sex', 'age', 'anatomy', 'diagnosis', 'benign_malignant', 'target']\n",
    "train_df.columns = new_names\n",
    "\n",
    "path_train = directory + '/jpeg/train/' + train_df['dcm_name'] + '.jpg'\n",
    "\n",
    "train_df['path_jpeg'] = path_train"
   ]
  },
  {
   "cell_type": "code",
   "execution_count": 4,
   "id": "8a919e12",
   "metadata": {},
   "outputs": [
    {
     "data": {
      "text/html": [
       "<div>\n",
       "<style scoped>\n",
       "    .dataframe tbody tr th:only-of-type {\n",
       "        vertical-align: middle;\n",
       "    }\n",
       "\n",
       "    .dataframe tbody tr th {\n",
       "        vertical-align: top;\n",
       "    }\n",
       "\n",
       "    .dataframe thead th {\n",
       "        text-align: right;\n",
       "    }\n",
       "</style>\n",
       "<table border=\"1\" class=\"dataframe\">\n",
       "  <thead>\n",
       "    <tr style=\"text-align: right;\">\n",
       "      <th></th>\n",
       "      <th>dcm_name</th>\n",
       "      <th>ID</th>\n",
       "      <th>sex</th>\n",
       "      <th>age</th>\n",
       "      <th>anatomy</th>\n",
       "      <th>diagnosis</th>\n",
       "      <th>benign_malignant</th>\n",
       "      <th>target</th>\n",
       "      <th>path_jpeg</th>\n",
       "    </tr>\n",
       "  </thead>\n",
       "  <tbody>\n",
       "    <tr>\n",
       "      <th>91</th>\n",
       "      <td>ISIC_0149568</td>\n",
       "      <td>IP_0962375</td>\n",
       "      <td>female</td>\n",
       "      <td>55.0</td>\n",
       "      <td>upper extremity</td>\n",
       "      <td>melanoma</td>\n",
       "      <td>malignant</td>\n",
       "      <td>1</td>\n",
       "      <td>/Users/renau/Desktop/DATA/data_proj_melanoma/j...</td>\n",
       "    </tr>\n",
       "    <tr>\n",
       "      <th>235</th>\n",
       "      <td>ISIC_0188432</td>\n",
       "      <td>IP_0135517</td>\n",
       "      <td>female</td>\n",
       "      <td>50.0</td>\n",
       "      <td>upper extremity</td>\n",
       "      <td>melanoma</td>\n",
       "      <td>malignant</td>\n",
       "      <td>1</td>\n",
       "      <td>/Users/renau/Desktop/DATA/data_proj_melanoma/j...</td>\n",
       "    </tr>\n",
       "    <tr>\n",
       "      <th>314</th>\n",
       "      <td>ISIC_0207268</td>\n",
       "      <td>IP_7735373</td>\n",
       "      <td>male</td>\n",
       "      <td>55.0</td>\n",
       "      <td>torso</td>\n",
       "      <td>melanoma</td>\n",
       "      <td>malignant</td>\n",
       "      <td>1</td>\n",
       "      <td>/Users/renau/Desktop/DATA/data_proj_melanoma/j...</td>\n",
       "    </tr>\n",
       "    <tr>\n",
       "      <th>399</th>\n",
       "      <td>ISIC_0232101</td>\n",
       "      <td>IP_8349964</td>\n",
       "      <td>male</td>\n",
       "      <td>65.0</td>\n",
       "      <td>torso</td>\n",
       "      <td>melanoma</td>\n",
       "      <td>malignant</td>\n",
       "      <td>1</td>\n",
       "      <td>/Users/renau/Desktop/DATA/data_proj_melanoma/j...</td>\n",
       "    </tr>\n",
       "    <tr>\n",
       "      <th>459</th>\n",
       "      <td>ISIC_0247330</td>\n",
       "      <td>IP_3232631</td>\n",
       "      <td>female</td>\n",
       "      <td>65.0</td>\n",
       "      <td>lower extremity</td>\n",
       "      <td>melanoma</td>\n",
       "      <td>malignant</td>\n",
       "      <td>1</td>\n",
       "      <td>/Users/renau/Desktop/DATA/data_proj_melanoma/j...</td>\n",
       "    </tr>\n",
       "  </tbody>\n",
       "</table>\n",
       "</div>"
      ],
      "text/plain": [
       "         dcm_name          ID     sex   age          anatomy diagnosis  \\\n",
       "91   ISIC_0149568  IP_0962375  female  55.0  upper extremity  melanoma   \n",
       "235  ISIC_0188432  IP_0135517  female  50.0  upper extremity  melanoma   \n",
       "314  ISIC_0207268  IP_7735373    male  55.0            torso  melanoma   \n",
       "399  ISIC_0232101  IP_8349964    male  65.0            torso  melanoma   \n",
       "459  ISIC_0247330  IP_3232631  female  65.0  lower extremity  melanoma   \n",
       "\n",
       "    benign_malignant  target  \\\n",
       "91         malignant       1   \n",
       "235        malignant       1   \n",
       "314        malignant       1   \n",
       "399        malignant       1   \n",
       "459        malignant       1   \n",
       "\n",
       "                                             path_jpeg  \n",
       "91   /Users/renau/Desktop/DATA/data_proj_melanoma/j...  \n",
       "235  /Users/renau/Desktop/DATA/data_proj_melanoma/j...  \n",
       "314  /Users/renau/Desktop/DATA/data_proj_melanoma/j...  \n",
       "399  /Users/renau/Desktop/DATA/data_proj_melanoma/j...  \n",
       "459  /Users/renau/Desktop/DATA/data_proj_melanoma/j...  "
      ]
     },
     "execution_count": 4,
     "metadata": {},
     "output_type": "execute_result"
    }
   ],
   "source": [
    "malignant_df = train_df[train_df['target'] == 1]\n",
    "malignant_df.head()"
   ]
  },
  {
   "cell_type": "code",
   "execution_count": 5,
   "id": "28e235f0",
   "metadata": {
    "scrolled": true
   },
   "outputs": [
    {
     "data": {
      "text/html": [
       "<div>\n",
       "<style scoped>\n",
       "    .dataframe tbody tr th:only-of-type {\n",
       "        vertical-align: middle;\n",
       "    }\n",
       "\n",
       "    .dataframe tbody tr th {\n",
       "        vertical-align: top;\n",
       "    }\n",
       "\n",
       "    .dataframe thead th {\n",
       "        text-align: right;\n",
       "    }\n",
       "</style>\n",
       "<table border=\"1\" class=\"dataframe\">\n",
       "  <thead>\n",
       "    <tr style=\"text-align: right;\">\n",
       "      <th></th>\n",
       "      <th>dcm_name</th>\n",
       "      <th>ID</th>\n",
       "      <th>sex</th>\n",
       "      <th>age</th>\n",
       "      <th>anatomy</th>\n",
       "      <th>diagnosis</th>\n",
       "      <th>benign_malignant</th>\n",
       "      <th>target</th>\n",
       "      <th>path_jpeg</th>\n",
       "    </tr>\n",
       "  </thead>\n",
       "  <tbody>\n",
       "    <tr>\n",
       "      <th>0</th>\n",
       "      <td>ISIC_2637011</td>\n",
       "      <td>IP_7279968</td>\n",
       "      <td>male</td>\n",
       "      <td>45.0</td>\n",
       "      <td>head/neck</td>\n",
       "      <td>unknown</td>\n",
       "      <td>benign</td>\n",
       "      <td>0</td>\n",
       "      <td>/Users/renau/Desktop/DATA/data_proj_melanoma/j...</td>\n",
       "    </tr>\n",
       "    <tr>\n",
       "      <th>1</th>\n",
       "      <td>ISIC_0015719</td>\n",
       "      <td>IP_3075186</td>\n",
       "      <td>female</td>\n",
       "      <td>45.0</td>\n",
       "      <td>upper extremity</td>\n",
       "      <td>unknown</td>\n",
       "      <td>benign</td>\n",
       "      <td>0</td>\n",
       "      <td>/Users/renau/Desktop/DATA/data_proj_melanoma/j...</td>\n",
       "    </tr>\n",
       "    <tr>\n",
       "      <th>2</th>\n",
       "      <td>ISIC_0052212</td>\n",
       "      <td>IP_2842074</td>\n",
       "      <td>female</td>\n",
       "      <td>50.0</td>\n",
       "      <td>lower extremity</td>\n",
       "      <td>nevus</td>\n",
       "      <td>benign</td>\n",
       "      <td>0</td>\n",
       "      <td>/Users/renau/Desktop/DATA/data_proj_melanoma/j...</td>\n",
       "    </tr>\n",
       "    <tr>\n",
       "      <th>3</th>\n",
       "      <td>ISIC_0068279</td>\n",
       "      <td>IP_6890425</td>\n",
       "      <td>female</td>\n",
       "      <td>45.0</td>\n",
       "      <td>head/neck</td>\n",
       "      <td>unknown</td>\n",
       "      <td>benign</td>\n",
       "      <td>0</td>\n",
       "      <td>/Users/renau/Desktop/DATA/data_proj_melanoma/j...</td>\n",
       "    </tr>\n",
       "    <tr>\n",
       "      <th>4</th>\n",
       "      <td>ISIC_0074268</td>\n",
       "      <td>IP_8723313</td>\n",
       "      <td>female</td>\n",
       "      <td>55.0</td>\n",
       "      <td>upper extremity</td>\n",
       "      <td>unknown</td>\n",
       "      <td>benign</td>\n",
       "      <td>0</td>\n",
       "      <td>/Users/renau/Desktop/DATA/data_proj_melanoma/j...</td>\n",
       "    </tr>\n",
       "  </tbody>\n",
       "</table>\n",
       "</div>"
      ],
      "text/plain": [
       "       dcm_name          ID     sex   age          anatomy diagnosis  \\\n",
       "0  ISIC_2637011  IP_7279968    male  45.0        head/neck   unknown   \n",
       "1  ISIC_0015719  IP_3075186  female  45.0  upper extremity   unknown   \n",
       "2  ISIC_0052212  IP_2842074  female  50.0  lower extremity     nevus   \n",
       "3  ISIC_0068279  IP_6890425  female  45.0        head/neck   unknown   \n",
       "4  ISIC_0074268  IP_8723313  female  55.0  upper extremity   unknown   \n",
       "\n",
       "  benign_malignant  target                                          path_jpeg  \n",
       "0           benign       0  /Users/renau/Desktop/DATA/data_proj_melanoma/j...  \n",
       "1           benign       0  /Users/renau/Desktop/DATA/data_proj_melanoma/j...  \n",
       "2           benign       0  /Users/renau/Desktop/DATA/data_proj_melanoma/j...  \n",
       "3           benign       0  /Users/renau/Desktop/DATA/data_proj_melanoma/j...  \n",
       "4           benign       0  /Users/renau/Desktop/DATA/data_proj_melanoma/j...  "
      ]
     },
     "execution_count": 5,
     "metadata": {},
     "output_type": "execute_result"
    }
   ],
   "source": [
    "benin_df = train_df[train_df['target'] == 0]\n",
    "benin_df.head()"
   ]
  },
  {
   "cell_type": "markdown",
   "id": "b2ec5d88",
   "metadata": {},
   "source": [
    "### 2.1 Imbalanced dataset\n",
    "\n",
    "This code highlights the fact that the dataset is imbalanced. The malignant files represent less than two percents of the total files. This is a problem that has to be handled otherwise this could lead to not or less detect malignant melanomas."
   ]
  },
  {
   "cell_type": "code",
   "execution_count": 6,
   "id": "7e28fb41",
   "metadata": {},
   "outputs": [
    {
     "data": {
      "text/plain": [
       "584"
      ]
     },
     "execution_count": 6,
     "metadata": {},
     "output_type": "execute_result"
    }
   ],
   "source": [
    "mal_file = malignant_df['path_jpeg'].values\n",
    "mal_labels = malignant_df['target'].values\n",
    "mal_train_ds = tf.data.Dataset.from_tensor_slices((mal_file, mal_labels))\n",
    "len(list(mal_train_ds))"
   ]
  },
  {
   "cell_type": "code",
   "execution_count": 7,
   "id": "80246e56",
   "metadata": {},
   "outputs": [
    {
     "data": {
      "text/plain": [
       "32542"
      ]
     },
     "execution_count": 7,
     "metadata": {},
     "output_type": "execute_result"
    }
   ],
   "source": [
    "ben_file = benin_df['path_jpeg'].values\n",
    "ben_labels = benin_df['target'].values\n",
    "ben_train_ds = tf.data.Dataset.from_tensor_slices((ben_file, ben_labels))\n",
    "ben_train_ds = ben_train_ds.shuffle(len(list(ben_train_ds)))\n",
    "len(list(ben_train_ds))"
   ]
  },
  {
   "cell_type": "markdown",
   "id": "8ef2091d",
   "metadata": {},
   "source": [
    "### 2.2 Making a balanced dataset\n",
    "There are different options in order to make a balanced dataset. For instance, the minority class can be oversampled or the majority class can be downsampled. In a first time downsampling was chosen and a random sample of the class in excess is taken shuffled with all the element of the class in default. Finally, the data are split into data for the training and the validation."
   ]
  },
  {
   "cell_type": "code",
   "execution_count": 8,
   "id": "0ab786bd",
   "metadata": {},
   "outputs": [
    {
     "name": "stdout",
     "output_type": "stream",
     "text": [
      "Validation dataset size is 233 and training dataset size is 935\n"
     ]
    }
   ],
   "source": [
    "def make_balanced_dataset(ds_class1, ds_class2):\n",
    "    half_size = min(len(list(ds_class1)),len(list(ds_class2)))\n",
    "    ds_1 = ds_class1.take(half_size)\n",
    "    ds_2 = ds_class2.take(half_size)\n",
    "    ds_full = ds_1.concatenate(ds_2)\n",
    "    ds_full = ds_full.shuffle(half_size*2, reshuffle_each_iteration=False)\n",
    "    return ds_full.skip((half_size*2)//5),ds_full.take((half_size*2)//5),\n",
    "\n",
    "ds_train, ds_val = make_balanced_dataset(ben_train_ds,mal_train_ds)\n",
    "size = len(list(ds_val))\n",
    "print('Validation dataset size is',size, 'and training dataset size is' , len(list(ds_train)))"
   ]
  },
  {
   "cell_type": "code",
   "execution_count": 9,
   "id": "8d9817c5",
   "metadata": {},
   "outputs": [
    {
     "name": "stdout",
     "output_type": "stream",
     "text": [
      "b'/Users/renau/Desktop/DATA/data_proj_melanoma/jpeg/train/ISIC_6257422.jpg' and target:  0\n",
      "b'/Users/renau/Desktop/DATA/data_proj_melanoma/jpeg/train/ISIC_0599605.jpg' and target:  1\n",
      "b'/Users/renau/Desktop/DATA/data_proj_melanoma/jpeg/train/ISIC_0272026.jpg' and target:  0\n",
      "b'/Users/renau/Desktop/DATA/data_proj_melanoma/jpeg/train/ISIC_2937642.jpg' and target:  1\n"
     ]
    }
   ],
   "source": [
    "ex_ds = ds_train.take(4)\n",
    "for element in ex_ds :\n",
    "    print(element[0].numpy(),'and target: ',element[1].numpy())"
   ]
  },
  {
   "cell_type": "markdown",
   "id": "5cc3ae72",
   "metadata": {},
   "source": [
    "### 2.3 Data preprocessing\n",
    "In this, the data are labelled, gathered in mini-batch and resized. Images of different size can't be used to feed the model for mathematical reasons for instance normalization of the data and for coding reasons the inputs shape of model (size of the picture) has to be specified. The size of 160x160 was chosen because VGG16 recommended using this shape and because of some limitations of computer memory."
   ]
  },
  {
   "cell_type": "code",
   "execution_count": 10,
   "id": "4fca5ce4",
   "metadata": {},
   "outputs": [],
   "source": [
    "def read_image(path, label):\n",
    "    image = tf.io.read_file(path)\n",
    "    image = tf.image.decode_image(image, channels=3, dtype = tf.uint8, expand_animations = False)\n",
    "    return image, label\n",
    "\n",
    "ds_train = ds_train.map(read_image)\n",
    "ds_val = ds_val.map(read_image)"
   ]
  },
  {
   "cell_type": "code",
   "execution_count": 11,
   "id": "b3d4279c",
   "metadata": {},
   "outputs": [
    {
     "name": "stdout",
     "output_type": "stream",
     "text": [
      "(480, 640, 3)\n",
      "(2448, 3264, 3)\n",
      "(4000, 6000, 3)\n"
     ]
    }
   ],
   "source": [
    "ex_ds = ds_train.take(3)\n",
    "for element in ex_ds :\n",
    "    print(element[0].numpy().shape)"
   ]
  },
  {
   "cell_type": "code",
   "execution_count": 12,
   "id": "34917f99",
   "metadata": {},
   "outputs": [
    {
     "name": "stdout",
     "output_type": "stream",
     "text": [
      "(16, 160, 160, 3)\n",
      "(16,)\n",
      "(16, 160, 160, 3)\n",
      "(16,)\n",
      "(16, 160, 160, 3)\n",
      "(16,)\n"
     ]
    }
   ],
   "source": [
    "def adapt_data(image, label):\n",
    "    image = tf.image.resize(image, [160,160])\n",
    "    return image, label\n",
    "\n",
    "def convert_to_float(image, label):\n",
    "    image = tf.image.convert_image_dtype(image, dtype=tf.float64)\n",
    "    return image, label\n",
    "    \n",
    "ds_train= ds_train.map(adapt_data).map(convert_to_float).batch(16)\n",
    "ds_val= ds_val.map(adapt_data).map(convert_to_float).batch(16)\n",
    "\n",
    "ex_ds = ds_train.take(3)\n",
    "for element in ex_ds :\n",
    "    print(element[0].shape)\n",
    "    print(element[1].shape)"
   ]
  },
  {
   "cell_type": "code",
   "execution_count": 13,
   "id": "ed2f5220",
   "metadata": {},
   "outputs": [],
   "source": [
    "AUTOTUNE = tf.data.AUTOTUNE\n",
    "\n",
    "ds_train = ds_train.cache().prefetch(buffer_size=AUTOTUNE)\n",
    "ds_val = ds_val.cache().prefetch(buffer_size=AUTOTUNE)"
   ]
  },
  {
   "cell_type": "markdown",
   "id": "c640960f",
   "metadata": {},
   "source": [
    "## 3. The model\n",
    "\n",
    "The model contains three mains parts:\n",
    " 1. Data augmentation: used to oversample the data during the training\n",
    " 2. Convolution layers: extract features of image\n",
    " 3. Head: use the features to determine the class\n",
    "\n",
    "The last layer uses sigmoid activation because it's a binary classification problem otherwise it would have to be a softmax activation with the same number of classes as neurons in it."
   ]
  },
  {
   "cell_type": "code",
   "execution_count": 14,
   "id": "1fbe5eb0",
   "metadata": {},
   "outputs": [],
   "source": [
    "MyModel = tf.keras.Sequential([ \n",
    "    \n",
    "# == Input == \n",
    "    \n",
    "    layers.InputLayer(input_shape=(160,160,3)),\n",
    "    \n",
    "# == Data Augmentation ==\n",
    "    \n",
    "    preprocessing.RandomContrast(factor=0.1),\n",
    "    preprocessing.RandomFlip(mode='horizontal'), \n",
    "    preprocessing.RandomFlip(mode='vertical'), \n",
    "    preprocessing.RandomRotation(factor=0.20),\n",
    "    layers.BatchNormalization(),\n",
    "\n",
    "# == Convolution == \n",
    "    \n",
    "    layers.Rescaling(1./255),\n",
    "    layers.BatchNormalization(),\n",
    "    layers.Conv2D(64, 3, activation='relu'),\n",
    "    layers.BatchNormalization(),\n",
    "    layers.MaxPooling2D(),\n",
    "    layers.Conv2D(128, 3, activation='relu'),\n",
    "    layers.BatchNormalization(),\n",
    "    layers.MaxPooling2D(),\n",
    "    layers.Conv2D(256, 3, activation='relu'),\n",
    "    layers.BatchNormalization(),\n",
    "    layers.MaxPooling2D(),\n",
    "\n",
    "# == Head ==\n",
    "    layers.Flatten(),\n",
    "    \n",
    "    layers.Dense(128, activation='relu'),\n",
    "    layers.BatchNormalization(),\n",
    "    layers.Dropout(0.2),\n",
    "    \n",
    "    layers.Dense(64, activation='relu'),\n",
    "    layers.BatchNormalization(),\n",
    "    layers.Dropout(0.2),\n",
    "    \n",
    "    layers.Dense(32, activation='relu'),\n",
    "    layers.BatchNormalization(),\n",
    "    layers.Dropout(0.2),\n",
    "\n",
    "    layers.Dense(1,activation='sigmoid')\n",
    "])"
   ]
  },
  {
   "cell_type": "code",
   "execution_count": 15,
   "id": "2adf69fa",
   "metadata": {
    "scrolled": true
   },
   "outputs": [
    {
     "name": "stdout",
     "output_type": "stream",
     "text": [
      "Model: \"sequential\"\n",
      "_________________________________________________________________\n",
      "Layer (type)                 Output Shape              Param #   \n",
      "=================================================================\n",
      "random_contrast (RandomContr (None, 160, 160, 3)       0         \n",
      "_________________________________________________________________\n",
      "random_flip (RandomFlip)     (None, 160, 160, 3)       0         \n",
      "_________________________________________________________________\n",
      "random_flip_1 (RandomFlip)   (None, 160, 160, 3)       0         \n",
      "_________________________________________________________________\n",
      "random_rotation (RandomRotat (None, 160, 160, 3)       0         \n",
      "_________________________________________________________________\n",
      "batch_normalization (BatchNo (None, 160, 160, 3)       12        \n",
      "_________________________________________________________________\n",
      "rescaling (Rescaling)        (None, 160, 160, 3)       0         \n",
      "_________________________________________________________________\n",
      "batch_normalization_1 (Batch (None, 160, 160, 3)       12        \n",
      "_________________________________________________________________\n",
      "conv2d (Conv2D)              (None, 158, 158, 64)      1792      \n",
      "_________________________________________________________________\n",
      "max_pooling2d (MaxPooling2D) (None, 79, 79, 64)        0         \n",
      "_________________________________________________________________\n",
      "conv2d_1 (Conv2D)            (None, 77, 77, 128)       73856     \n",
      "_________________________________________________________________\n",
      "max_pooling2d_1 (MaxPooling2 (None, 38, 38, 128)       0         \n",
      "_________________________________________________________________\n",
      "conv2d_2 (Conv2D)            (None, 36, 36, 256)       295168    \n",
      "_________________________________________________________________\n",
      "max_pooling2d_2 (MaxPooling2 (None, 18, 18, 256)       0         \n",
      "_________________________________________________________________\n",
      "batch_normalization_2 (Batch (None, 18, 18, 256)       1024      \n",
      "_________________________________________________________________\n",
      "flatten (Flatten)            (None, 82944)             0         \n",
      "_________________________________________________________________\n",
      "dense (Dense)                (None, 128)               10616960  \n",
      "_________________________________________________________________\n",
      "batch_normalization_3 (Batch (None, 128)               512       \n",
      "_________________________________________________________________\n",
      "dropout (Dropout)            (None, 128)               0         \n",
      "_________________________________________________________________\n",
      "dense_1 (Dense)              (None, 64)                8256      \n",
      "_________________________________________________________________\n",
      "batch_normalization_4 (Batch (None, 64)                256       \n",
      "_________________________________________________________________\n",
      "dropout_1 (Dropout)          (None, 64)                0         \n",
      "_________________________________________________________________\n",
      "dense_2 (Dense)              (None, 32)                2080      \n",
      "_________________________________________________________________\n",
      "batch_normalization_5 (Batch (None, 32)                128       \n",
      "_________________________________________________________________\n",
      "dropout_2 (Dropout)          (None, 32)                0         \n",
      "_________________________________________________________________\n",
      "dense_3 (Dense)              (None, 1)                 33        \n",
      "=================================================================\n",
      "Total params: 11,000,089\n",
      "Trainable params: 10,999,117\n",
      "Non-trainable params: 972\n",
      "_________________________________________________________________\n"
     ]
    }
   ],
   "source": [
    "MyModel.compile(\n",
    "    optimizer=tf.keras.optimizers.Adam(epsilon=0.01),\n",
    "    loss='binary_crossentropy',\n",
    "    metrics=['binary_accuracy']\n",
    ")\n",
    "MyModel.save_weights('My_model')\n",
    "MyModel.summary()"
   ]
  },
  {
   "cell_type": "markdown",
   "id": "89819876",
   "metadata": {},
   "source": [
    "## 4. Training\n",
    "\n",
    "On the training over 100 epochs even if there are dropout layers, the model seems to be overfitting a bit. That's why, only the model trained over 25 epochs is going to be used after. "
   ]
  },
  {
   "cell_type": "code",
   "execution_count": 16,
   "id": "a9fa1def",
   "metadata": {},
   "outputs": [
    {
     "name": "stdout",
     "output_type": "stream",
     "text": [
      "Epoch 1/100\n",
      "59/59 [==============================] - 10s 91ms/step - loss: 0.7396 - binary_accuracy: 0.6364 - val_loss: 0.7200 - val_binary_accuracy: 0.4936\n",
      "Epoch 2/100\n",
      "59/59 [==============================] - 2s 32ms/step - loss: 0.6801 - binary_accuracy: 0.6299 - val_loss: 0.7890 - val_binary_accuracy: 0.4936\n",
      "Epoch 3/100\n",
      "59/59 [==============================] - 2s 32ms/step - loss: 0.6416 - binary_accuracy: 0.6567 - val_loss: 0.8053 - val_binary_accuracy: 0.4936\n",
      "Epoch 4/100\n",
      "59/59 [==============================] - 2s 32ms/step - loss: 0.6306 - binary_accuracy: 0.6727 - val_loss: 0.8521 - val_binary_accuracy: 0.4936\n",
      "Epoch 5/100\n",
      "59/59 [==============================] - 2s 32ms/step - loss: 0.6115 - binary_accuracy: 0.6791 - val_loss: 0.8316 - val_binary_accuracy: 0.4936\n",
      "Epoch 6/100\n",
      "59/59 [==============================] - 2s 32ms/step - loss: 0.6045 - binary_accuracy: 0.6866 - val_loss: 0.7702 - val_binary_accuracy: 0.4936\n",
      "Epoch 7/100\n",
      "59/59 [==============================] - 2s 32ms/step - loss: 0.5740 - binary_accuracy: 0.7037 - val_loss: 0.8021 - val_binary_accuracy: 0.4936\n",
      "Epoch 8/100\n",
      "59/59 [==============================] - 2s 32ms/step - loss: 0.5937 - binary_accuracy: 0.7005 - val_loss: 0.7504 - val_binary_accuracy: 0.4936\n",
      "Epoch 9/100\n",
      "59/59 [==============================] - 2s 32ms/step - loss: 0.5668 - binary_accuracy: 0.7102 - val_loss: 0.6141 - val_binary_accuracy: 0.7039\n",
      "Epoch 10/100\n",
      "59/59 [==============================] - 2s 32ms/step - loss: 0.5838 - binary_accuracy: 0.6963 - val_loss: 0.6029 - val_binary_accuracy: 0.7039\n",
      "Epoch 11/100\n",
      "59/59 [==============================] - 2s 33ms/step - loss: 0.5463 - binary_accuracy: 0.7176 - val_loss: 0.5282 - val_binary_accuracy: 0.7468\n",
      "Epoch 12/100\n",
      "59/59 [==============================] - 2s 33ms/step - loss: 0.5692 - binary_accuracy: 0.7102 - val_loss: 0.5403 - val_binary_accuracy: 0.7382\n",
      "Epoch 13/100\n",
      "59/59 [==============================] - 2s 33ms/step - loss: 0.5686 - binary_accuracy: 0.7037 - val_loss: 0.4990 - val_binary_accuracy: 0.7811\n",
      "Epoch 14/100\n",
      "59/59 [==============================] - 2s 33ms/step - loss: 0.5280 - binary_accuracy: 0.7144 - val_loss: 0.5049 - val_binary_accuracy: 0.7682\n",
      "Epoch 15/100\n",
      "59/59 [==============================] - 2s 32ms/step - loss: 0.5189 - binary_accuracy: 0.7348 - val_loss: 0.5055 - val_binary_accuracy: 0.7597\n",
      "Epoch 16/100\n",
      "59/59 [==============================] - 2s 32ms/step - loss: 0.5468 - binary_accuracy: 0.7187 - val_loss: 0.5307 - val_binary_accuracy: 0.7339\n",
      "Epoch 17/100\n",
      "59/59 [==============================] - 2s 32ms/step - loss: 0.5331 - binary_accuracy: 0.7155 - val_loss: 0.5066 - val_binary_accuracy: 0.7682\n",
      "Epoch 18/100\n",
      "59/59 [==============================] - 2s 32ms/step - loss: 0.5207 - binary_accuracy: 0.7230 - val_loss: 0.5074 - val_binary_accuracy: 0.7511\n",
      "Epoch 19/100\n",
      "59/59 [==============================] - 2s 32ms/step - loss: 0.5148 - binary_accuracy: 0.7412 - val_loss: 0.5505 - val_binary_accuracy: 0.7382\n",
      "Epoch 20/100\n",
      "59/59 [==============================] - 2s 32ms/step - loss: 0.5331 - binary_accuracy: 0.7422 - val_loss: 0.5065 - val_binary_accuracy: 0.7597\n",
      "Epoch 21/100\n",
      "59/59 [==============================] - 2s 33ms/step - loss: 0.5016 - binary_accuracy: 0.7422 - val_loss: 0.5083 - val_binary_accuracy: 0.7554\n",
      "Epoch 22/100\n",
      "59/59 [==============================] - 2s 32ms/step - loss: 0.5113 - binary_accuracy: 0.7412 - val_loss: 0.5299 - val_binary_accuracy: 0.7253\n",
      "Epoch 23/100\n",
      "59/59 [==============================] - 2s 32ms/step - loss: 0.5142 - binary_accuracy: 0.7401 - val_loss: 0.5475 - val_binary_accuracy: 0.7210\n",
      "Epoch 24/100\n",
      "59/59 [==============================] - 2s 32ms/step - loss: 0.5116 - binary_accuracy: 0.7369 - val_loss: 0.5279 - val_binary_accuracy: 0.7425\n",
      "Epoch 25/100\n",
      "59/59 [==============================] - 2s 32ms/step - loss: 0.5112 - binary_accuracy: 0.7348 - val_loss: 0.5231 - val_binary_accuracy: 0.7554\n",
      "Epoch 26/100\n",
      "59/59 [==============================] - 2s 33ms/step - loss: 0.5044 - binary_accuracy: 0.7465 - val_loss: 0.4856 - val_binary_accuracy: 0.7811\n",
      "Epoch 27/100\n",
      "59/59 [==============================] - 2s 32ms/step - loss: 0.5025 - binary_accuracy: 0.7444 - val_loss: 0.4997 - val_binary_accuracy: 0.7682\n",
      "Epoch 28/100\n",
      "59/59 [==============================] - 2s 33ms/step - loss: 0.4865 - binary_accuracy: 0.7690 - val_loss: 0.5090 - val_binary_accuracy: 0.7554\n",
      "Epoch 29/100\n",
      "59/59 [==============================] - 2s 33ms/step - loss: 0.5020 - binary_accuracy: 0.7561 - val_loss: 0.5062 - val_binary_accuracy: 0.7468\n",
      "Epoch 30/100\n",
      "59/59 [==============================] - 2s 32ms/step - loss: 0.4774 - binary_accuracy: 0.7733 - val_loss: 0.5194 - val_binary_accuracy: 0.7597\n",
      "Epoch 31/100\n",
      "59/59 [==============================] - 2s 32ms/step - loss: 0.4761 - binary_accuracy: 0.7561 - val_loss: 0.5428 - val_binary_accuracy: 0.7382\n",
      "Epoch 32/100\n",
      "59/59 [==============================] - 2s 33ms/step - loss: 0.4863 - binary_accuracy: 0.7583 - val_loss: 0.5397 - val_binary_accuracy: 0.7339\n",
      "Epoch 33/100\n",
      "59/59 [==============================] - 2s 35ms/step - loss: 0.4746 - binary_accuracy: 0.7615 - val_loss: 0.5087 - val_binary_accuracy: 0.7597\n",
      "Epoch 34/100\n",
      "59/59 [==============================] - 2s 32ms/step - loss: 0.4749 - binary_accuracy: 0.7722 - val_loss: 0.5608 - val_binary_accuracy: 0.7468\n",
      "Epoch 35/100\n",
      "59/59 [==============================] - 2s 32ms/step - loss: 0.4784 - binary_accuracy: 0.7615 - val_loss: 0.5163 - val_binary_accuracy: 0.7639\n",
      "Epoch 36/100\n",
      "59/59 [==============================] - 2s 32ms/step - loss: 0.4780 - binary_accuracy: 0.7551 - val_loss: 0.5072 - val_binary_accuracy: 0.7725\n",
      "Epoch 37/100\n",
      "59/59 [==============================] - 2s 33ms/step - loss: 0.4598 - binary_accuracy: 0.7829 - val_loss: 0.5141 - val_binary_accuracy: 0.7554\n",
      "Epoch 38/100\n",
      "59/59 [==============================] - 2s 33ms/step - loss: 0.4752 - binary_accuracy: 0.7765 - val_loss: 0.5860 - val_binary_accuracy: 0.7425\n",
      "Epoch 39/100\n",
      "59/59 [==============================] - 2s 32ms/step - loss: 0.4580 - binary_accuracy: 0.7861 - val_loss: 0.5112 - val_binary_accuracy: 0.7639\n",
      "Epoch 40/100\n",
      "59/59 [==============================] - 2s 32ms/step - loss: 0.4597 - binary_accuracy: 0.7733 - val_loss: 0.5004 - val_binary_accuracy: 0.7854\n",
      "Epoch 41/100\n",
      "59/59 [==============================] - 2s 32ms/step - loss: 0.4627 - binary_accuracy: 0.7658 - val_loss: 0.4910 - val_binary_accuracy: 0.7854\n",
      "Epoch 42/100\n",
      "59/59 [==============================] - 2s 32ms/step - loss: 0.4428 - binary_accuracy: 0.7775 - val_loss: 0.5433 - val_binary_accuracy: 0.7682\n",
      "Epoch 43/100\n",
      "59/59 [==============================] - 2s 32ms/step - loss: 0.4440 - binary_accuracy: 0.7979 - val_loss: 0.5094 - val_binary_accuracy: 0.7811\n",
      "Epoch 44/100\n",
      "59/59 [==============================] - 2s 32ms/step - loss: 0.4536 - binary_accuracy: 0.7850 - val_loss: 0.5113 - val_binary_accuracy: 0.7811\n",
      "Epoch 45/100\n",
      "59/59 [==============================] - 2s 32ms/step - loss: 0.4480 - binary_accuracy: 0.7807 - val_loss: 0.5268 - val_binary_accuracy: 0.7768\n",
      "Epoch 46/100\n",
      "59/59 [==============================] - 2s 32ms/step - loss: 0.4331 - binary_accuracy: 0.7979 - val_loss: 0.5061 - val_binary_accuracy: 0.7811\n",
      "Epoch 47/100\n",
      "59/59 [==============================] - 2s 32ms/step - loss: 0.4336 - binary_accuracy: 0.7861 - val_loss: 0.5222 - val_binary_accuracy: 0.7554\n",
      "Epoch 48/100\n",
      "59/59 [==============================] - 2s 32ms/step - loss: 0.4380 - binary_accuracy: 0.7840 - val_loss: 0.5399 - val_binary_accuracy: 0.7639\n",
      "Epoch 49/100\n",
      "59/59 [==============================] - 2s 32ms/step - loss: 0.4465 - binary_accuracy: 0.7914 - val_loss: 0.5199 - val_binary_accuracy: 0.7897\n",
      "Epoch 50/100\n",
      "59/59 [==============================] - 2s 33ms/step - loss: 0.4310 - binary_accuracy: 0.7893 - val_loss: 0.6252 - val_binary_accuracy: 0.7167\n",
      "Epoch 51/100\n",
      "59/59 [==============================] - 2s 33ms/step - loss: 0.4277 - binary_accuracy: 0.8032 - val_loss: 0.5601 - val_binary_accuracy: 0.7768\n",
      "Epoch 52/100\n",
      "59/59 [==============================] - 2s 32ms/step - loss: 0.4260 - binary_accuracy: 0.8000 - val_loss: 0.5433 - val_binary_accuracy: 0.7768\n",
      "Epoch 53/100\n",
      "59/59 [==============================] - 2s 32ms/step - loss: 0.4321 - binary_accuracy: 0.8128 - val_loss: 0.5797 - val_binary_accuracy: 0.7425\n",
      "Epoch 54/100\n",
      "59/59 [==============================] - 2s 32ms/step - loss: 0.4220 - binary_accuracy: 0.7979 - val_loss: 0.5488 - val_binary_accuracy: 0.7468\n",
      "Epoch 55/100\n",
      "59/59 [==============================] - 2s 32ms/step - loss: 0.4278 - binary_accuracy: 0.8011 - val_loss: 0.5813 - val_binary_accuracy: 0.7554\n",
      "Epoch 56/100\n",
      "59/59 [==============================] - 2s 32ms/step - loss: 0.4211 - binary_accuracy: 0.8064 - val_loss: 0.5243 - val_binary_accuracy: 0.7682\n",
      "Epoch 57/100\n",
      "59/59 [==============================] - 2s 32ms/step - loss: 0.3995 - binary_accuracy: 0.8086 - val_loss: 0.5227 - val_binary_accuracy: 0.7811\n",
      "Epoch 58/100\n",
      "59/59 [==============================] - 2s 33ms/step - loss: 0.4115 - binary_accuracy: 0.8000 - val_loss: 0.6670 - val_binary_accuracy: 0.7425\n",
      "Epoch 59/100\n",
      "59/59 [==============================] - 2s 32ms/step - loss: 0.4257 - binary_accuracy: 0.8011 - val_loss: 0.5394 - val_binary_accuracy: 0.7897\n",
      "Epoch 60/100\n",
      "59/59 [==============================] - 2s 32ms/step - loss: 0.4097 - binary_accuracy: 0.8150 - val_loss: 0.5453 - val_binary_accuracy: 0.7682\n",
      "Epoch 61/100\n",
      "59/59 [==============================] - 2s 32ms/step - loss: 0.3815 - binary_accuracy: 0.8321 - val_loss: 0.5368 - val_binary_accuracy: 0.7725\n",
      "Epoch 62/100\n",
      "59/59 [==============================] - 2s 32ms/step - loss: 0.4015 - binary_accuracy: 0.8171 - val_loss: 0.5386 - val_binary_accuracy: 0.7639\n",
      "Epoch 63/100\n",
      "59/59 [==============================] - 2s 32ms/step - loss: 0.4034 - binary_accuracy: 0.8267 - val_loss: 0.5776 - val_binary_accuracy: 0.7296\n",
      "Epoch 64/100\n",
      "59/59 [==============================] - 2s 33ms/step - loss: 0.3912 - binary_accuracy: 0.8235 - val_loss: 0.5615 - val_binary_accuracy: 0.7511\n",
      "Epoch 65/100\n",
      "59/59 [==============================] - 2s 32ms/step - loss: 0.3924 - binary_accuracy: 0.8128 - val_loss: 0.5452 - val_binary_accuracy: 0.7725\n",
      "Epoch 66/100\n",
      "59/59 [==============================] - 2s 32ms/step - loss: 0.3738 - binary_accuracy: 0.8374 - val_loss: 0.5692 - val_binary_accuracy: 0.7639\n",
      "Epoch 67/100\n",
      "59/59 [==============================] - 2s 32ms/step - loss: 0.3863 - binary_accuracy: 0.8182 - val_loss: 0.5256 - val_binary_accuracy: 0.7682\n",
      "Epoch 68/100\n",
      "59/59 [==============================] - 2s 33ms/step - loss: 0.3914 - binary_accuracy: 0.8139 - val_loss: 0.5635 - val_binary_accuracy: 0.7682\n",
      "Epoch 69/100\n",
      "59/59 [==============================] - 2s 33ms/step - loss: 0.3656 - binary_accuracy: 0.8353 - val_loss: 0.5841 - val_binary_accuracy: 0.7511\n",
      "Epoch 70/100\n",
      "59/59 [==============================] - 2s 33ms/step - loss: 0.3672 - binary_accuracy: 0.8353 - val_loss: 0.5972 - val_binary_accuracy: 0.7554\n",
      "Epoch 71/100\n",
      "59/59 [==============================] - 2s 32ms/step - loss: 0.3644 - binary_accuracy: 0.8449 - val_loss: 0.5815 - val_binary_accuracy: 0.7725\n",
      "Epoch 72/100\n",
      "59/59 [==============================] - 2s 32ms/step - loss: 0.3804 - binary_accuracy: 0.8235 - val_loss: 0.5720 - val_binary_accuracy: 0.7511\n",
      "Epoch 73/100\n",
      "59/59 [==============================] - 2s 32ms/step - loss: 0.3759 - binary_accuracy: 0.8235 - val_loss: 0.5362 - val_binary_accuracy: 0.7854\n",
      "Epoch 74/100\n",
      "59/59 [==============================] - 2s 33ms/step - loss: 0.3754 - binary_accuracy: 0.8310 - val_loss: 0.5884 - val_binary_accuracy: 0.7682\n",
      "Epoch 75/100\n",
      "59/59 [==============================] - 2s 32ms/step - loss: 0.3609 - binary_accuracy: 0.8385 - val_loss: 0.5344 - val_binary_accuracy: 0.7597\n",
      "Epoch 76/100\n",
      "59/59 [==============================] - 2s 32ms/step - loss: 0.3558 - binary_accuracy: 0.8235 - val_loss: 0.5998 - val_binary_accuracy: 0.7597\n",
      "Epoch 77/100\n",
      "59/59 [==============================] - 2s 32ms/step - loss: 0.3383 - binary_accuracy: 0.8588 - val_loss: 0.6604 - val_binary_accuracy: 0.7639\n",
      "Epoch 78/100\n",
      "59/59 [==============================] - 2s 32ms/step - loss: 0.3512 - binary_accuracy: 0.8364 - val_loss: 0.5970 - val_binary_accuracy: 0.7597\n",
      "Epoch 79/100\n",
      "59/59 [==============================] - 2s 32ms/step - loss: 0.3478 - binary_accuracy: 0.8481 - val_loss: 0.6907 - val_binary_accuracy: 0.7210\n",
      "Epoch 80/100\n",
      "59/59 [==============================] - 2s 32ms/step - loss: 0.3382 - binary_accuracy: 0.8406 - val_loss: 0.6238 - val_binary_accuracy: 0.7768\n",
      "Epoch 81/100\n",
      "59/59 [==============================] - 2s 32ms/step - loss: 0.3149 - binary_accuracy: 0.8492 - val_loss: 0.6546 - val_binary_accuracy: 0.7639\n",
      "Epoch 82/100\n",
      "59/59 [==============================] - 2s 32ms/step - loss: 0.3449 - binary_accuracy: 0.8535 - val_loss: 0.6335 - val_binary_accuracy: 0.7597\n",
      "Epoch 83/100\n",
      "59/59 [==============================] - 2s 33ms/step - loss: 0.3243 - binary_accuracy: 0.8567 - val_loss: 0.6644 - val_binary_accuracy: 0.7639\n",
      "Epoch 84/100\n",
      "59/59 [==============================] - 2s 32ms/step - loss: 0.3388 - binary_accuracy: 0.8460 - val_loss: 0.6433 - val_binary_accuracy: 0.7082\n",
      "Epoch 85/100\n",
      "59/59 [==============================] - 2s 32ms/step - loss: 0.3495 - binary_accuracy: 0.8417 - val_loss: 0.6054 - val_binary_accuracy: 0.7554\n",
      "Epoch 86/100\n",
      "59/59 [==============================] - 2s 32ms/step - loss: 0.3282 - binary_accuracy: 0.8524 - val_loss: 0.6147 - val_binary_accuracy: 0.7511\n",
      "Epoch 87/100\n",
      "59/59 [==============================] - 2s 32ms/step - loss: 0.3464 - binary_accuracy: 0.8492 - val_loss: 0.5982 - val_binary_accuracy: 0.7811\n",
      "Epoch 88/100\n",
      "59/59 [==============================] - 2s 32ms/step - loss: 0.3387 - binary_accuracy: 0.8524 - val_loss: 0.6505 - val_binary_accuracy: 0.7468\n",
      "Epoch 89/100\n",
      "59/59 [==============================] - 2s 32ms/step - loss: 0.3199 - binary_accuracy: 0.8556 - val_loss: 0.6234 - val_binary_accuracy: 0.7639\n",
      "Epoch 90/100\n",
      "59/59 [==============================] - 2s 32ms/step - loss: 0.3132 - binary_accuracy: 0.8524 - val_loss: 0.6173 - val_binary_accuracy: 0.7768\n",
      "Epoch 91/100\n",
      "59/59 [==============================] - 2s 32ms/step - loss: 0.3186 - binary_accuracy: 0.8545 - val_loss: 0.6885 - val_binary_accuracy: 0.7639\n",
      "Epoch 92/100\n",
      "59/59 [==============================] - 2s 32ms/step - loss: 0.2883 - binary_accuracy: 0.8706 - val_loss: 0.5542 - val_binary_accuracy: 0.7897\n",
      "Epoch 93/100\n",
      "59/59 [==============================] - 2s 32ms/step - loss: 0.3130 - binary_accuracy: 0.8524 - val_loss: 0.7620 - val_binary_accuracy: 0.6867\n",
      "Epoch 94/100\n",
      "59/59 [==============================] - 2s 32ms/step - loss: 0.3124 - binary_accuracy: 0.8663 - val_loss: 0.5870 - val_binary_accuracy: 0.7639\n",
      "Epoch 95/100\n",
      "59/59 [==============================] - 2s 32ms/step - loss: 0.2958 - binary_accuracy: 0.8727 - val_loss: 0.6169 - val_binary_accuracy: 0.7425\n",
      "Epoch 96/100\n",
      "59/59 [==============================] - 2s 32ms/step - loss: 0.2947 - binary_accuracy: 0.8695 - val_loss: 0.8124 - val_binary_accuracy: 0.7339\n",
      "Epoch 97/100\n",
      "59/59 [==============================] - 2s 32ms/step - loss: 0.2843 - binary_accuracy: 0.8684 - val_loss: 0.6185 - val_binary_accuracy: 0.7554\n",
      "Epoch 98/100\n",
      "59/59 [==============================] - 2s 32ms/step - loss: 0.3039 - binary_accuracy: 0.8620 - val_loss: 0.7379 - val_binary_accuracy: 0.7296\n",
      "Epoch 99/100\n",
      "59/59 [==============================] - 2s 32ms/step - loss: 0.2580 - binary_accuracy: 0.8909 - val_loss: 0.6176 - val_binary_accuracy: 0.7768\n",
      "Epoch 100/100\n",
      "59/59 [==============================] - 2s 33ms/step - loss: 0.2588 - binary_accuracy: 0.8845 - val_loss: 0.6267 - val_binary_accuracy: 0.7468\n"
     ]
    }
   ],
   "source": [
    "history100 = MyModel.fit(\n",
    "    ds_train,\n",
    "    validation_data=ds_val,\n",
    "    epochs=100,\n",
    ")"
   ]
  },
  {
   "cell_type": "code",
   "execution_count": 17,
   "id": "02be911c",
   "metadata": {},
   "outputs": [
    {
     "data": {
      "image/png": "[encoded data removed]",
      "text/plain": [
       "<Figure size 432x288 with 1 Axes>"
      ]
     },
     "metadata": {
      "needs_background": "light"
     },
     "output_type": "display_data"
    },
    {
     "data": {
      "image/png": "[encoded data removed]",
      "text/plain": [
       "<Figure size 432x288 with 1 Axes>"
      ]
     },
     "metadata": {
      "needs_background": "light"
     },
     "output_type": "display_data"
    }
   ],
   "source": [
    "history100_frame = pd.DataFrame(history100.history)\n",
    "history100_frame.loc[:, ['loss', 'val_loss']].plot()\n",
    "history100_frame.loc[:, ['binary_accuracy', 'val_binary_accuracy']].plot();"
   ]
  },
  {
   "cell_type": "code",
   "execution_count": 18,
   "id": "7e3bddcf",
   "metadata": {},
   "outputs": [
    {
     "name": "stdout",
     "output_type": "stream",
     "text": [
      "Epoch 1/25\n",
      "59/59 [==============================] - 2s 33ms/step - loss: 0.7437 - binary_accuracy: 0.6193 - val_loss: 0.7229 - val_binary_accuracy: 0.4936\n",
      "Epoch 2/25\n",
      "59/59 [==============================] - 2s 32ms/step - loss: 0.6592 - binary_accuracy: 0.6610 - val_loss: 0.7828 - val_binary_accuracy: 0.4936\n",
      "Epoch 3/25\n",
      "59/59 [==============================] - 2s 32ms/step - loss: 0.6024 - binary_accuracy: 0.6706 - val_loss: 0.7838 - val_binary_accuracy: 0.4936\n",
      "Epoch 4/25\n",
      "59/59 [==============================] - 2s 33ms/step - loss: 0.5975 - binary_accuracy: 0.6845 - val_loss: 0.7338 - val_binary_accuracy: 0.4936\n",
      "Epoch 5/25\n",
      "59/59 [==============================] - 2s 33ms/step - loss: 0.5834 - binary_accuracy: 0.6888 - val_loss: 0.7627 - val_binary_accuracy: 0.4936\n",
      "Epoch 6/25\n",
      "59/59 [==============================] - 2s 33ms/step - loss: 0.5636 - binary_accuracy: 0.7059 - val_loss: 0.7413 - val_binary_accuracy: 0.4936\n",
      "Epoch 7/25\n",
      "59/59 [==============================] - 2s 33ms/step - loss: 0.5900 - binary_accuracy: 0.6856 - val_loss: 0.6365 - val_binary_accuracy: 0.6867\n",
      "Epoch 8/25\n",
      "59/59 [==============================] - 2s 33ms/step - loss: 0.5574 - binary_accuracy: 0.7123 - val_loss: 0.5941 - val_binary_accuracy: 0.7253\n",
      "Epoch 9/25\n",
      "59/59 [==============================] - 2s 32ms/step - loss: 0.5525 - binary_accuracy: 0.7123 - val_loss: 0.5606 - val_binary_accuracy: 0.7425\n",
      "Epoch 10/25\n",
      "59/59 [==============================] - 2s 32ms/step - loss: 0.5358 - binary_accuracy: 0.7251 - val_loss: 0.5450 - val_binary_accuracy: 0.7639\n",
      "Epoch 11/25\n",
      "59/59 [==============================] - 2s 32ms/step - loss: 0.5535 - binary_accuracy: 0.7166 - val_loss: 0.5467 - val_binary_accuracy: 0.7554\n",
      "Epoch 12/25\n",
      "59/59 [==============================] - 2s 32ms/step - loss: 0.5420 - binary_accuracy: 0.7134 - val_loss: 0.5554 - val_binary_accuracy: 0.7425\n",
      "Epoch 13/25\n",
      "59/59 [==============================] - 2s 32ms/step - loss: 0.5251 - binary_accuracy: 0.7337 - val_loss: 0.5031 - val_binary_accuracy: 0.7725\n",
      "Epoch 14/25\n",
      "59/59 [==============================] - 2s 32ms/step - loss: 0.5337 - binary_accuracy: 0.7283 - val_loss: 0.5041 - val_binary_accuracy: 0.7811\n",
      "Epoch 15/25\n",
      "59/59 [==============================] - 2s 32ms/step - loss: 0.5280 - binary_accuracy: 0.7241 - val_loss: 0.5012 - val_binary_accuracy: 0.7940\n",
      "Epoch 16/25\n",
      "59/59 [==============================] - 2s 32ms/step - loss: 0.5395 - binary_accuracy: 0.7262 - val_loss: 0.4939 - val_binary_accuracy: 0.7639\n",
      "Epoch 17/25\n",
      "59/59 [==============================] - 2s 32ms/step - loss: 0.5218 - binary_accuracy: 0.7326 - val_loss: 0.5248 - val_binary_accuracy: 0.7554\n",
      "Epoch 18/25\n",
      "59/59 [==============================] - 2s 32ms/step - loss: 0.5063 - binary_accuracy: 0.7433 - val_loss: 0.5107 - val_binary_accuracy: 0.7682\n",
      "Epoch 19/25\n",
      "59/59 [==============================] - 2s 32ms/step - loss: 0.5308 - binary_accuracy: 0.7273 - val_loss: 0.5210 - val_binary_accuracy: 0.7597\n",
      "Epoch 20/25\n",
      "59/59 [==============================] - 2s 32ms/step - loss: 0.5139 - binary_accuracy: 0.7380 - val_loss: 0.5016 - val_binary_accuracy: 0.7811\n",
      "Epoch 21/25\n",
      "59/59 [==============================] - 2s 32ms/step - loss: 0.5185 - binary_accuracy: 0.7401 - val_loss: 0.5053 - val_binary_accuracy: 0.7597\n",
      "Epoch 22/25\n",
      "59/59 [==============================] - 2s 32ms/step - loss: 0.5111 - binary_accuracy: 0.7497 - val_loss: 0.5070 - val_binary_accuracy: 0.7511\n",
      "Epoch 23/25\n",
      "59/59 [==============================] - 2s 32ms/step - loss: 0.5111 - binary_accuracy: 0.7251 - val_loss: 0.5074 - val_binary_accuracy: 0.7511\n",
      "Epoch 24/25\n",
      "59/59 [==============================] - 2s 32ms/step - loss: 0.5103 - binary_accuracy: 0.7358 - val_loss: 0.4989 - val_binary_accuracy: 0.7597\n",
      "Epoch 25/25\n",
      "59/59 [==============================] - 2s 33ms/step - loss: 0.5019 - binary_accuracy: 0.7326 - val_loss: 0.5177 - val_binary_accuracy: 0.7682\n"
     ]
    }
   ],
   "source": [
    "MyModel.load_weights('My_model')\n",
    "history40 = MyModel.fit(\n",
    "    ds_train,\n",
    "    validation_data=ds_val,\n",
    "    epochs=25,\n",
    ")"
   ]
  },
  {
   "cell_type": "code",
   "execution_count": 19,
   "id": "de679811",
   "metadata": {},
   "outputs": [
    {
     "data": {
      "image/png": "[encoded data removed]",
      "text/plain": [
       "<Figure size 432x288 with 1 Axes>"
      ]
     },
     "metadata": {
      "needs_background": "light"
     },
     "output_type": "display_data"
    },
    {
     "data": {
      "image/png": "[encoded data removed]",
      "text/plain": [
       "<Figure size 432x288 with 1 Axes>"
      ]
     },
     "metadata": {
      "needs_background": "light"
     },
     "output_type": "display_data"
    }
   ],
   "source": [
    "history40_frame = pd.DataFrame(history40.history)\n",
    "history40_frame.loc[:, ['loss', 'val_loss']].plot()\n",
    "history40_frame.loc[:, ['binary_accuracy', 'val_binary_accuracy']].plot();"
   ]
  },
  {
   "cell_type": "markdown",
   "id": "d4ed1c67",
   "metadata": {},
   "source": [
    "## 5. Results\n",
    " "
   ]
  },
  {
   "cell_type": "code",
   "execution_count": 20,
   "id": "7e9a2463",
   "metadata": {},
   "outputs": [
    {
     "name": "stdout",
     "output_type": "stream",
     "text": [
      "Prédictions ;\n",
      " - Malin(s):  113 \n",
      " - Bénins:  120 \n",
      " - Total comp:  233  vs  233\n"
     ]
    }
   ],
   "source": [
    "predictionMy = MyModel.predict(ds_val)\n",
    "b =0\n",
    "m = 0\n",
    "for element in predictionMy :\n",
    "    if(element[0] > 0.5) :\n",
    "        m +=1\n",
    "    elif(element[0]< 0.5) :\n",
    "        b +=1\n",
    "        \n",
    "print(\"Prédictions ;\\n - Malin(s): \", m, \"\\n - Bénins: \", b, \"\\n - Total comp: \", b+m,\" vs \",len(predictionMy))"
   ]
  },
  {
   "cell_type": "code",
   "execution_count": 21,
   "id": "cd78cd6d",
   "metadata": {},
   "outputs": [],
   "source": [
    "def predict_class_label_number(dataset,model):\n",
    "    predictions =  model.predict(dataset)\n",
    "    res = np.zeros(len(predictions))\n",
    "    i = 0 \n",
    "    for element in predictions : \n",
    "        if(element[0]> 0.5):\n",
    "            res[i] = 1\n",
    "        i += 1\n",
    "    return tf.convert_to_tensor(res)\n",
    "\n",
    "def give_labels (dataset, size):\n",
    "    lab = np.zeros(size)\n",
    "    i = 0\n",
    "    for batch in dataset:\n",
    "        for element in batch[1] :\n",
    "            lab[i] = element.numpy()\n",
    "            i +=1\n",
    "    return tf.convert_to_tensor(lab)\n",
    "    \n",
    "def show_confusion_matrix(cm, labels):\n",
    "    plt.figure(figsize=(5,5))\n",
    "    plt.imshow(cm)\n",
    "    plt.colorbar()\n",
    "    plt.xlabel('Predictions')\n",
    "    plt.ylabel('Labels')\n",
    "    plt.show()"
   ]
  },
  {
   "cell_type": "code",
   "execution_count": 22,
   "id": "70d1573a",
   "metadata": {},
   "outputs": [
    {
     "data": {
      "image/png": "[encoded data removed]",
      "text/plain": [
       "<Figure size 360x360 with 2 Axes>"
      ]
     },
     "metadata": {
      "needs_background": "light"
     },
     "output_type": "display_data"
    }
   ],
   "source": [
    "confusion_mtx_My = tf.math.confusion_matrix(\n",
    "    give_labels(ds_val, size),\n",
    "    predict_class_label_number(ds_val, MyModel),\n",
    "    num_classes=2)\n",
    "show_confusion_matrix(confusion_mtx_My, [0,1])"
   ]
  },
  {
   "cell_type": "markdown",
   "id": "90af0a49",
   "metadata": {},
   "source": [
    "## 6. Comparison with other models using transfer learning\n",
    "\n",
    "In this part, the results obtained are compared to the ones obtained with transfer learning using two commonly used models for classification that are Mobilenet from Google and VGG16 from Oxford but no fine tuning will be done here. These models are pretrained on the 'imagenet' dataset. \n",
    "This part is inspired by this tutorial from tensorflow : https://www.tensorflow.org/tutorials/images/transfer_learning\n",
    "\n",
    "### 6.1 Mobilenet "
   ]
  },
  {
   "cell_type": "code",
   "execution_count": 23,
   "id": "516d7f37",
   "metadata": {},
   "outputs": [],
   "source": [
    "preprocess_input = tf.keras.applications.mobilenet_v2.preprocess_input\n",
    "IMG_SIZE = (160, 160)\n",
    "IMG_SHAPE = IMG_SIZE + (3,)\n",
    "base_model = tf.keras.applications.MobileNetV2(input_shape=IMG_SHAPE, include_top=False, weights='imagenet')"
   ]
  },
  {
   "cell_type": "code",
   "execution_count": 24,
   "id": "fdae7868",
   "metadata": {},
   "outputs": [
    {
     "name": "stdout",
     "output_type": "stream",
     "text": [
      "(16, 5, 5, 1280)\n"
     ]
    }
   ],
   "source": [
    "image_batch, label_batch = next(iter(ds_train))\n",
    "feature_batch = base_model(image_batch)\n",
    "print(feature_batch.shape)"
   ]
  },
  {
   "cell_type": "code",
   "execution_count": 25,
   "id": "4879e2bc",
   "metadata": {},
   "outputs": [],
   "source": [
    "base_model.trainable = False\n",
    "#base_model.summary()"
   ]
  },
  {
   "cell_type": "code",
   "execution_count": 26,
   "id": "71e221d2",
   "metadata": {},
   "outputs": [],
   "source": [
    "data_augmentation = tf.keras.Sequential([\n",
    "    preprocessing.RandomContrast(factor=0.1),\n",
    "    preprocessing.RandomFlip(mode='horizontal'), \n",
    "    preprocessing.RandomFlip(mode='vertical'), \n",
    "    preprocessing.RandomRotation(factor=0.20),  \n",
    "])"
   ]
  },
  {
   "cell_type": "code",
   "execution_count": 27,
   "id": "a85679c7",
   "metadata": {},
   "outputs": [
    {
     "name": "stdout",
     "output_type": "stream",
     "text": [
      "(16, 1280)\n"
     ]
    }
   ],
   "source": [
    "global_average_layer = tf.keras.layers.GlobalAveragePooling2D()\n",
    "feature_batch_average = global_average_layer(feature_batch)\n",
    "print(feature_batch_average.shape)"
   ]
  },
  {
   "cell_type": "code",
   "execution_count": 28,
   "id": "7e12a8fd",
   "metadata": {},
   "outputs": [
    {
     "name": "stdout",
     "output_type": "stream",
     "text": [
      "(16, 1)\n"
     ]
    }
   ],
   "source": [
    "prediction_layer = tf.keras.layers.Dense(1, activation = 'sigmoid')\n",
    "prediction_batch = prediction_layer(feature_batch_average)\n",
    "print(prediction_batch.shape)"
   ]
  },
  {
   "cell_type": "code",
   "execution_count": 29,
   "id": "8e25439d",
   "metadata": {},
   "outputs": [],
   "source": [
    "inputs = tf.keras.Input(shape=(160, 160, 3))\n",
    "x = data_augmentation(inputs)\n",
    "x = preprocess_input(x)\n",
    "x = base_model(x, training=False)\n",
    "x = global_average_layer(x)\n",
    "x = tf.keras.layers.Dropout(0.2)(x)\n",
    "outputs = prediction_layer(x)\n",
    "modelMobilenet = tf.keras.Model(inputs, outputs)"
   ]
  },
  {
   "cell_type": "code",
   "execution_count": 30,
   "id": "a93cb708",
   "metadata": {},
   "outputs": [],
   "source": [
    "base_learning_rate = 0.0001\n",
    "modelMobilenet.compile(optimizer=tf.keras.optimizers.Adam(learning_rate=base_learning_rate),\n",
    "              loss=tf.keras.losses.BinaryCrossentropy(from_logits=False),\n",
    "              metrics=['accuracy', 'binary_accuracy'])"
   ]
  },
  {
   "cell_type": "code",
   "execution_count": 31,
   "id": "0a257f68",
   "metadata": {},
   "outputs": [
    {
     "name": "stdout",
     "output_type": "stream",
     "text": [
      "Model: \"model\"\n",
      "_________________________________________________________________\n",
      "Layer (type)                 Output Shape              Param #   \n",
      "=================================================================\n",
      "input_3 (InputLayer)         [(None, 160, 160, 3)]     0         \n",
      "_________________________________________________________________\n",
      "sequential_1 (Sequential)    (None, 160, 160, 3)       0         \n",
      "_________________________________________________________________\n",
      "tf.math.truediv (TFOpLambda) (None, 160, 160, 3)       0         \n",
      "_________________________________________________________________\n",
      "tf.math.subtract (TFOpLambda (None, 160, 160, 3)       0         \n",
      "_________________________________________________________________\n",
      "mobilenetv2_1.00_160 (Functi (None, 5, 5, 1280)        2257984   \n",
      "_________________________________________________________________\n",
      "global_average_pooling2d (Gl (None, 1280)              0         \n",
      "_________________________________________________________________\n",
      "dropout_3 (Dropout)          (None, 1280)              0         \n",
      "_________________________________________________________________\n",
      "dense_4 (Dense)              (None, 1)                 1281      \n",
      "=================================================================\n",
      "Total params: 2,259,265\n",
      "Trainable params: 1,281\n",
      "Non-trainable params: 2,257,984\n",
      "_________________________________________________________________\n"
     ]
    }
   ],
   "source": [
    "modelMobilenet.summary()"
   ]
  },
  {
   "cell_type": "code",
   "execution_count": 32,
   "id": "7e4dbeba",
   "metadata": {},
   "outputs": [],
   "source": [
    "initial_epochs = 25"
   ]
  },
  {
   "cell_type": "code",
   "execution_count": 33,
   "id": "a05e4d64",
   "metadata": {},
   "outputs": [
    {
     "name": "stdout",
     "output_type": "stream",
     "text": [
      "Epoch 1/25\n",
      "59/59 [==============================] - 4s 29ms/step - loss: 0.7443 - accuracy: 0.5401 - binary_accuracy: 0.5401 - val_loss: 0.6656 - val_accuracy: 0.6180 - val_binary_accuracy: 0.6180\n",
      "Epoch 2/25\n",
      "59/59 [==============================] - 1s 15ms/step - loss: 0.7201 - accuracy: 0.5636 - binary_accuracy: 0.5636 - val_loss: 0.6444 - val_accuracy: 0.6524 - val_binary_accuracy: 0.6524\n",
      "Epoch 3/25\n",
      "59/59 [==============================] - 1s 15ms/step - loss: 0.6723 - accuracy: 0.6203 - binary_accuracy: 0.6203 - val_loss: 0.6304 - val_accuracy: 0.6738 - val_binary_accuracy: 0.6738\n",
      "Epoch 4/25\n",
      "59/59 [==============================] - 1s 15ms/step - loss: 0.6747 - accuracy: 0.6053 - binary_accuracy: 0.6053 - val_loss: 0.6171 - val_accuracy: 0.6781 - val_binary_accuracy: 0.6781\n",
      "Epoch 5/25\n",
      "59/59 [==============================] - 1s 15ms/step - loss: 0.6608 - accuracy: 0.6321 - binary_accuracy: 0.6321 - val_loss: 0.6088 - val_accuracy: 0.6781 - val_binary_accuracy: 0.6781\n",
      "Epoch 6/25\n",
      "59/59 [==============================] - 1s 16ms/step - loss: 0.6408 - accuracy: 0.6267 - binary_accuracy: 0.6267 - val_loss: 0.5999 - val_accuracy: 0.6910 - val_binary_accuracy: 0.6910\n",
      "Epoch 7/25\n",
      "59/59 [==============================] - 1s 15ms/step - loss: 0.6323 - accuracy: 0.6578 - binary_accuracy: 0.6578 - val_loss: 0.5940 - val_accuracy: 0.6953 - val_binary_accuracy: 0.6953\n",
      "Epoch 8/25\n",
      "59/59 [==============================] - 1s 15ms/step - loss: 0.5947 - accuracy: 0.6791 - binary_accuracy: 0.6791 - val_loss: 0.5838 - val_accuracy: 0.6953 - val_binary_accuracy: 0.6953\n",
      "Epoch 9/25\n",
      "59/59 [==============================] - 1s 15ms/step - loss: 0.5924 - accuracy: 0.6759 - binary_accuracy: 0.6759 - val_loss: 0.5768 - val_accuracy: 0.7039 - val_binary_accuracy: 0.7039\n",
      "Epoch 10/25\n",
      "59/59 [==============================] - 1s 15ms/step - loss: 0.6106 - accuracy: 0.6674 - binary_accuracy: 0.6674 - val_loss: 0.5750 - val_accuracy: 0.7039 - val_binary_accuracy: 0.7039\n",
      "Epoch 11/25\n",
      "59/59 [==============================] - 1s 16ms/step - loss: 0.5886 - accuracy: 0.6845 - binary_accuracy: 0.6845 - val_loss: 0.5690 - val_accuracy: 0.7082 - val_binary_accuracy: 0.7082\n",
      "Epoch 12/25\n",
      "59/59 [==============================] - 1s 16ms/step - loss: 0.5864 - accuracy: 0.6898 - binary_accuracy: 0.6898 - val_loss: 0.5649 - val_accuracy: 0.7124 - val_binary_accuracy: 0.7124\n",
      "Epoch 13/25\n",
      "59/59 [==============================] - 1s 15ms/step - loss: 0.5593 - accuracy: 0.7230 - binary_accuracy: 0.7230 - val_loss: 0.5617 - val_accuracy: 0.7210 - val_binary_accuracy: 0.7210\n",
      "Epoch 14/25\n",
      "59/59 [==============================] - 1s 15ms/step - loss: 0.5619 - accuracy: 0.7219 - binary_accuracy: 0.7219 - val_loss: 0.5613 - val_accuracy: 0.7253 - val_binary_accuracy: 0.7253\n",
      "Epoch 15/25\n",
      "59/59 [==============================] - 1s 15ms/step - loss: 0.5602 - accuracy: 0.7102 - binary_accuracy: 0.7102 - val_loss: 0.5572 - val_accuracy: 0.7339 - val_binary_accuracy: 0.7339\n",
      "Epoch 16/25\n",
      "59/59 [==============================] - 1s 15ms/step - loss: 0.5557 - accuracy: 0.7102 - binary_accuracy: 0.7102 - val_loss: 0.5559 - val_accuracy: 0.7296 - val_binary_accuracy: 0.7296\n",
      "Epoch 17/25\n",
      "59/59 [==============================] - 1s 15ms/step - loss: 0.5579 - accuracy: 0.7155 - binary_accuracy: 0.7155 - val_loss: 0.5561 - val_accuracy: 0.7253 - val_binary_accuracy: 0.7253\n",
      "Epoch 18/25\n",
      "59/59 [==============================] - 1s 15ms/step - loss: 0.5396 - accuracy: 0.7251 - binary_accuracy: 0.7251 - val_loss: 0.5538 - val_accuracy: 0.7210 - val_binary_accuracy: 0.7210\n",
      "Epoch 19/25\n",
      "59/59 [==============================] - 1s 15ms/step - loss: 0.5490 - accuracy: 0.7102 - binary_accuracy: 0.7102 - val_loss: 0.5522 - val_accuracy: 0.7167 - val_binary_accuracy: 0.7167\n",
      "Epoch 20/25\n",
      "59/59 [==============================] - 1s 15ms/step - loss: 0.5525 - accuracy: 0.7273 - binary_accuracy: 0.7273 - val_loss: 0.5500 - val_accuracy: 0.7210 - val_binary_accuracy: 0.7210\n",
      "Epoch 21/25\n",
      "59/59 [==============================] - 1s 15ms/step - loss: 0.5286 - accuracy: 0.7273 - binary_accuracy: 0.7273 - val_loss: 0.5491 - val_accuracy: 0.7210 - val_binary_accuracy: 0.7210\n",
      "Epoch 22/25\n",
      "59/59 [==============================] - 1s 15ms/step - loss: 0.5385 - accuracy: 0.7155 - binary_accuracy: 0.7155 - val_loss: 0.5473 - val_accuracy: 0.7339 - val_binary_accuracy: 0.7339\n",
      "Epoch 23/25\n",
      "59/59 [==============================] - 1s 16ms/step - loss: 0.5434 - accuracy: 0.7155 - binary_accuracy: 0.7155 - val_loss: 0.5492 - val_accuracy: 0.7167 - val_binary_accuracy: 0.7167\n",
      "Epoch 24/25\n",
      "59/59 [==============================] - 1s 16ms/step - loss: 0.5489 - accuracy: 0.7155 - binary_accuracy: 0.7155 - val_loss: 0.5486 - val_accuracy: 0.7210 - val_binary_accuracy: 0.7210\n",
      "Epoch 25/25\n",
      "59/59 [==============================] - 1s 16ms/step - loss: 0.5219 - accuracy: 0.7337 - binary_accuracy: 0.7337 - val_loss: 0.5485 - val_accuracy: 0.7124 - val_binary_accuracy: 0.7124\n"
     ]
    }
   ],
   "source": [
    "historyMobilenet = modelMobilenet.fit(ds_train,\n",
    "                    epochs=initial_epochs,\n",
    "                    validation_data=ds_val)"
   ]
  },
  {
   "cell_type": "code",
   "execution_count": 34,
   "id": "2c6bda0e",
   "metadata": {
    "scrolled": true
   },
   "outputs": [
    {
     "data": {
      "image/png": "[encoded data removed]",
      "text/plain": [
       "<Figure size 576x576 with 2 Axes>"
      ]
     },
     "metadata": {
      "needs_background": "light"
     },
     "output_type": "display_data"
    }
   ],
   "source": [
    "acc = historyMobilenet.history['accuracy']\n",
    "val_acc = historyMobilenet.history['val_accuracy']\n",
    "\n",
    "loss = historyMobilenet.history['loss']\n",
    "val_loss = historyMobilenet.history['val_loss']\n",
    "\n",
    "plt.figure(figsize=(8, 8))\n",
    "plt.subplot(2, 1, 1)\n",
    "plt.plot(acc, label='Training Accuracy')\n",
    "plt.plot(val_acc, label='Validation Accuracy')\n",
    "plt.legend(loc='lower right')\n",
    "plt.ylabel('Accuracy')\n",
    "plt.ylim([min(plt.ylim()),1])\n",
    "plt.title('Training and Validation Accuracy')\n",
    "\n",
    "plt.subplot(2, 1, 2)\n",
    "plt.plot(loss, label='Training Loss')\n",
    "plt.plot(val_loss, label='Validation Loss')\n",
    "plt.legend(loc='upper right')\n",
    "plt.ylabel('Cross Entropy')\n",
    "plt.ylim([0,1.0])\n",
    "plt.title('Training and Validation Loss')\n",
    "plt.xlabel('epoch')\n",
    "plt.show()"
   ]
  },
  {
   "cell_type": "code",
   "execution_count": 35,
   "id": "65e40694",
   "metadata": {},
   "outputs": [
    {
     "name": "stdout",
     "output_type": "stream",
     "text": [
      "Prédictions ;\n",
      " - Malin(s):  128 \n",
      " - Bénins:  105 \n",
      " - Total comp:  233  vs  233\n"
     ]
    }
   ],
   "source": [
    "predictionsMobilenet = modelMobilenet.predict(ds_val)\n",
    "b =0\n",
    "m = 0\n",
    "for element in predictionsMobilenet :\n",
    "    if(element[0] > 0.5) :\n",
    "        m +=1\n",
    "    elif(element[0]< 0.5) :\n",
    "        b +=1\n",
    "        \n",
    "print(\"Prédictions ;\\n - Malin(s): \", m, \"\\n - Bénins: \", b, \"\\n - Total comp: \", b+m,\" vs \",len(predictionsMobilenet))"
   ]
  },
  {
   "cell_type": "code",
   "execution_count": 36,
   "id": "68334e7a",
   "metadata": {},
   "outputs": [],
   "source": [
    "def predict_class_label_number(dataset,model):\n",
    "    predictions =  model.predict(dataset)\n",
    "    res = np.zeros(len(predictions))\n",
    "    i = 0 \n",
    "    for element in predictions : \n",
    "        if(element[0]> 0.5):\n",
    "            res[i] = 1\n",
    "        i += 1\n",
    "    return tf.convert_to_tensor(res)\n",
    "\n",
    "def give_labels (dataset, size):\n",
    "    lab = np.zeros(size)\n",
    "    i = 0\n",
    "    for batch in dataset:\n",
    "        for element in batch[1] :\n",
    "            lab[i] = element.numpy()\n",
    "            i +=1\n",
    "    return tf.convert_to_tensor(lab)\n",
    "    \n",
    "def show_confusion_matrix(cm, labels):\n",
    "    plt.figure(figsize=(5,5))\n",
    "    plt.imshow(cm)\n",
    "    plt.colorbar()\n",
    "    plt.xlabel('Predictions')\n",
    "    plt.ylabel('Labels')\n",
    "    plt.show()"
   ]
  },
  {
   "cell_type": "code",
   "execution_count": 37,
   "id": "67271261",
   "metadata": {},
   "outputs": [
    {
     "data": {
      "image/png": "[encoded data removed]",
      "text/plain": [
       "<Figure size 360x360 with 2 Axes>"
      ]
     },
     "metadata": {
      "needs_background": "light"
     },
     "output_type": "display_data"
    }
   ],
   "source": [
    "confusion_mtx_Mobilenet = tf.math.confusion_matrix(\n",
    "    give_labels(ds_val, size),\n",
    "    predict_class_label_number(ds_val, modelMobilenet),\n",
    "    num_classes=2)\n",
    "show_confusion_matrix(confusion_mtx_Mobilenet, [0,1])"
   ]
  },
  {
   "cell_type": "markdown",
   "id": "78cf0f62",
   "metadata": {},
   "source": [
    "### 6.2 VGG16 "
   ]
  },
  {
   "cell_type": "code",
   "execution_count": 38,
   "id": "dfaa8232",
   "metadata": {},
   "outputs": [],
   "source": [
    "preprocess_input = tf.keras.applications.vgg16.preprocess_input\n",
    "IMG_SIZE = (160,160)\n",
    "IMG_SHAPE = IMG_SIZE + (3,)\n",
    "base_model = tf.keras.applications.vgg16.VGG16(\n",
    "    include_top=False,\n",
    "    weights='imagenet',\n",
    "    input_tensor=None,\n",
    "    input_shape=IMG_SHAPE,\n",
    "    pooling=None,\n",
    "    classes=2,\n",
    "    classifier_activation='softmax'\n",
    ")"
   ]
  },
  {
   "cell_type": "code",
   "execution_count": 39,
   "id": "f182fc10",
   "metadata": {},
   "outputs": [
    {
     "name": "stdout",
     "output_type": "stream",
     "text": [
      "(16, 5, 5, 512)\n"
     ]
    }
   ],
   "source": [
    "image_batch, label_batch = next(iter(ds_train))\n",
    "feature_batch = base_model(image_batch)\n",
    "print(feature_batch.shape)"
   ]
  },
  {
   "cell_type": "code",
   "execution_count": 40,
   "id": "e0657aed",
   "metadata": {},
   "outputs": [
    {
     "name": "stdout",
     "output_type": "stream",
     "text": [
      "Model: \"vgg16\"\n",
      "_________________________________________________________________\n",
      "Layer (type)                 Output Shape              Param #   \n",
      "=================================================================\n",
      "input_4 (InputLayer)         [(None, 160, 160, 3)]     0         \n",
      "_________________________________________________________________\n",
      "block1_conv1 (Conv2D)        (None, 160, 160, 64)      1792      \n",
      "_________________________________________________________________\n",
      "block1_conv2 (Conv2D)        (None, 160, 160, 64)      36928     \n",
      "_________________________________________________________________\n",
      "block1_pool (MaxPooling2D)   (None, 80, 80, 64)        0         \n",
      "_________________________________________________________________\n",
      "block2_conv1 (Conv2D)        (None, 80, 80, 128)       73856     \n",
      "_________________________________________________________________\n",
      "block2_conv2 (Conv2D)        (None, 80, 80, 128)       147584    \n",
      "_________________________________________________________________\n",
      "block2_pool (MaxPooling2D)   (None, 40, 40, 128)       0         \n",
      "_________________________________________________________________\n",
      "block3_conv1 (Conv2D)        (None, 40, 40, 256)       295168    \n",
      "_________________________________________________________________\n",
      "block3_conv2 (Conv2D)        (None, 40, 40, 256)       590080    \n",
      "_________________________________________________________________\n",
      "block3_conv3 (Conv2D)        (None, 40, 40, 256)       590080    \n",
      "_________________________________________________________________\n",
      "block3_pool (MaxPooling2D)   (None, 20, 20, 256)       0         \n",
      "_________________________________________________________________\n",
      "block4_conv1 (Conv2D)        (None, 20, 20, 512)       1180160   \n",
      "_________________________________________________________________\n",
      "block4_conv2 (Conv2D)        (None, 20, 20, 512)       2359808   \n",
      "_________________________________________________________________\n",
      "block4_conv3 (Conv2D)        (None, 20, 20, 512)       2359808   \n",
      "_________________________________________________________________\n",
      "block4_pool (MaxPooling2D)   (None, 10, 10, 512)       0         \n",
      "_________________________________________________________________\n",
      "block5_conv1 (Conv2D)        (None, 10, 10, 512)       2359808   \n",
      "_________________________________________________________________\n",
      "block5_conv2 (Conv2D)        (None, 10, 10, 512)       2359808   \n",
      "_________________________________________________________________\n",
      "block5_conv3 (Conv2D)        (None, 10, 10, 512)       2359808   \n",
      "_________________________________________________________________\n",
      "block5_pool (MaxPooling2D)   (None, 5, 5, 512)         0         \n",
      "=================================================================\n",
      "Total params: 14,714,688\n",
      "Trainable params: 0\n",
      "Non-trainable params: 14,714,688\n",
      "_________________________________________________________________\n"
     ]
    }
   ],
   "source": [
    "base_model.trainable = False\n",
    "base_model.summary()"
   ]
  },
  {
   "cell_type": "code",
   "execution_count": 41,
   "id": "95f9ecab",
   "metadata": {},
   "outputs": [
    {
     "name": "stdout",
     "output_type": "stream",
     "text": [
      "(16, 512)\n"
     ]
    }
   ],
   "source": [
    "global_average_layer = tf.keras.layers.GlobalAveragePooling2D()\n",
    "feature_batch_average = global_average_layer(feature_batch)\n",
    "print(feature_batch_average.shape)"
   ]
  },
  {
   "cell_type": "code",
   "execution_count": 42,
   "id": "52ac5e8e",
   "metadata": {},
   "outputs": [
    {
     "name": "stdout",
     "output_type": "stream",
     "text": [
      "(16, 1)\n"
     ]
    }
   ],
   "source": [
    "prediction_layer = tf.keras.layers.Dense(1, activation = 'sigmoid')\n",
    "prediction_batch = prediction_layer(feature_batch_average)\n",
    "print(prediction_batch.shape)"
   ]
  },
  {
   "cell_type": "code",
   "execution_count": 43,
   "id": "94ec05cc",
   "metadata": {},
   "outputs": [],
   "source": [
    "inputs = tf.keras.Input(shape=(160,160, 3))\n",
    "x = data_augmentation(inputs)\n",
    "x = preprocess_input(x)\n",
    "x = base_model(x, training=False)\n",
    "x = global_average_layer(x)\n",
    "x = tf.keras.layers.Dropout(0.2)(x)\n",
    "outputs = prediction_layer(x)\n",
    "modelVGG16 = tf.keras.Model(inputs, outputs)"
   ]
  },
  {
   "cell_type": "code",
   "execution_count": 44,
   "id": "3c80416f",
   "metadata": {},
   "outputs": [],
   "source": [
    "base_learning_rate = 0.001\n",
    "modelVGG16.compile(optimizer=tf.keras.optimizers.Adam(learning_rate=base_learning_rate),\n",
    "              loss=tf.keras.losses.BinaryCrossentropy(from_logits=False),\n",
    "              metrics=['accuracy', 'binary_accuracy'])"
   ]
  },
  {
   "cell_type": "code",
   "execution_count": 45,
   "id": "6f2c3418",
   "metadata": {},
   "outputs": [
    {
     "name": "stdout",
     "output_type": "stream",
     "text": [
      "Model: \"model_1\"\n",
      "_________________________________________________________________\n",
      "Layer (type)                 Output Shape              Param #   \n",
      "=================================================================\n",
      "input_5 (InputLayer)         [(None, 160, 160, 3)]     0         \n",
      "_________________________________________________________________\n",
      "sequential_1 (Sequential)    (None, 160, 160, 3)       0         \n",
      "_________________________________________________________________\n",
      "tf.__operators__.getitem (Sl (None, 160, 160, 3)       0         \n",
      "_________________________________________________________________\n",
      "tf.math.add (TFOpLambda)     (None, 160, 160, 3)       0         \n",
      "_________________________________________________________________\n",
      "vgg16 (Functional)           (None, 5, 5, 512)         14714688  \n",
      "_________________________________________________________________\n",
      "global_average_pooling2d_1 ( (None, 512)               0         \n",
      "_________________________________________________________________\n",
      "dropout_4 (Dropout)          (None, 512)               0         \n",
      "_________________________________________________________________\n",
      "dense_5 (Dense)              (None, 1)                 513       \n",
      "=================================================================\n",
      "Total params: 14,715,201\n",
      "Trainable params: 513\n",
      "Non-trainable params: 14,714,688\n",
      "_________________________________________________________________\n"
     ]
    }
   ],
   "source": [
    "modelVGG16.summary()"
   ]
  },
  {
   "cell_type": "code",
   "execution_count": 46,
   "id": "c1826db1",
   "metadata": {},
   "outputs": [],
   "source": [
    "initial_epochs = 25"
   ]
  },
  {
   "cell_type": "code",
   "execution_count": 47,
   "id": "09073e13",
   "metadata": {},
   "outputs": [
    {
     "name": "stdout",
     "output_type": "stream",
     "text": [
      "Epoch 1/25\n",
      "59/59 [==============================] - 3s 38ms/step - loss: 1.6155 - accuracy: 0.5155 - binary_accuracy: 0.5155 - val_loss: 1.0107 - val_accuracy: 0.6223 - val_binary_accuracy: 0.6223\n",
      "Epoch 2/25\n",
      "59/59 [==============================] - 2s 34ms/step - loss: 1.2329 - accuracy: 0.5540 - binary_accuracy: 0.5540 - val_loss: 0.6980 - val_accuracy: 0.7082 - val_binary_accuracy: 0.7082\n",
      "Epoch 3/25\n",
      "59/59 [==============================] - 2s 34ms/step - loss: 0.8890 - accuracy: 0.6481 - binary_accuracy: 0.6481 - val_loss: 0.6284 - val_accuracy: 0.7124 - val_binary_accuracy: 0.7124\n",
      "Epoch 4/25\n",
      "59/59 [==============================] - 2s 34ms/step - loss: 0.8426 - accuracy: 0.6599 - binary_accuracy: 0.6599 - val_loss: 0.6013 - val_accuracy: 0.7082 - val_binary_accuracy: 0.7082\n",
      "Epoch 5/25\n",
      "59/59 [==============================] - 2s 34ms/step - loss: 0.7300 - accuracy: 0.6652 - binary_accuracy: 0.6652 - val_loss: 0.5511 - val_accuracy: 0.7210 - val_binary_accuracy: 0.7210\n",
      "Epoch 6/25\n",
      "59/59 [==============================] - 2s 34ms/step - loss: 0.6866 - accuracy: 0.6898 - binary_accuracy: 0.6898 - val_loss: 0.5499 - val_accuracy: 0.7639 - val_binary_accuracy: 0.7639\n",
      "Epoch 7/25\n",
      "59/59 [==============================] - 2s 34ms/step - loss: 0.6327 - accuracy: 0.7144 - binary_accuracy: 0.7144 - val_loss: 0.5443 - val_accuracy: 0.7339 - val_binary_accuracy: 0.7339\n",
      "Epoch 8/25\n",
      "59/59 [==============================] - 2s 33ms/step - loss: 0.6299 - accuracy: 0.7187 - binary_accuracy: 0.7187 - val_loss: 0.5448 - val_accuracy: 0.7339 - val_binary_accuracy: 0.7339\n",
      "Epoch 9/25\n",
      "59/59 [==============================] - 2s 33ms/step - loss: 0.5684 - accuracy: 0.7422 - binary_accuracy: 0.7422 - val_loss: 0.5333 - val_accuracy: 0.7382 - val_binary_accuracy: 0.7382\n",
      "Epoch 10/25\n",
      "59/59 [==============================] - 2s 34ms/step - loss: 0.5669 - accuracy: 0.7401 - binary_accuracy: 0.7401 - val_loss: 0.5055 - val_accuracy: 0.7682 - val_binary_accuracy: 0.7682\n",
      "Epoch 11/25\n",
      "59/59 [==============================] - 2s 34ms/step - loss: 0.5678 - accuracy: 0.7465 - binary_accuracy: 0.7465 - val_loss: 0.5023 - val_accuracy: 0.7554 - val_binary_accuracy: 0.7554\n",
      "Epoch 12/25\n",
      "59/59 [==============================] - 2s 33ms/step - loss: 0.5241 - accuracy: 0.7508 - binary_accuracy: 0.7508 - val_loss: 0.5004 - val_accuracy: 0.7639 - val_binary_accuracy: 0.7639\n",
      "Epoch 13/25\n",
      "59/59 [==============================] - 2s 34ms/step - loss: 0.5524 - accuracy: 0.7348 - binary_accuracy: 0.7348 - val_loss: 0.5173 - val_accuracy: 0.7597 - val_binary_accuracy: 0.7597\n",
      "Epoch 14/25\n",
      "59/59 [==============================] - 2s 34ms/step - loss: 0.5502 - accuracy: 0.7369 - binary_accuracy: 0.7369 - val_loss: 0.5214 - val_accuracy: 0.7554 - val_binary_accuracy: 0.7554\n",
      "Epoch 15/25\n",
      "59/59 [==============================] - 2s 33ms/step - loss: 0.5065 - accuracy: 0.7701 - binary_accuracy: 0.7701 - val_loss: 0.5124 - val_accuracy: 0.7511 - val_binary_accuracy: 0.7511\n",
      "Epoch 16/25\n",
      "59/59 [==============================] - 2s 34ms/step - loss: 0.5077 - accuracy: 0.7711 - binary_accuracy: 0.7711 - val_loss: 0.5128 - val_accuracy: 0.7468 - val_binary_accuracy: 0.7468\n",
      "Epoch 17/25\n",
      "59/59 [==============================] - 2s 34ms/step - loss: 0.5140 - accuracy: 0.7497 - binary_accuracy: 0.7497 - val_loss: 0.4981 - val_accuracy: 0.7639 - val_binary_accuracy: 0.7639\n",
      "Epoch 18/25\n",
      "59/59 [==============================] - 2s 33ms/step - loss: 0.5145 - accuracy: 0.7733 - binary_accuracy: 0.7733 - val_loss: 0.5027 - val_accuracy: 0.7511 - val_binary_accuracy: 0.7511\n",
      "Epoch 19/25\n",
      "59/59 [==============================] - 2s 34ms/step - loss: 0.5146 - accuracy: 0.7529 - binary_accuracy: 0.7529 - val_loss: 0.5231 - val_accuracy: 0.7597 - val_binary_accuracy: 0.7597\n",
      "Epoch 20/25\n",
      "59/59 [==============================] - 2s 34ms/step - loss: 0.5101 - accuracy: 0.7690 - binary_accuracy: 0.7690 - val_loss: 0.5260 - val_accuracy: 0.7597 - val_binary_accuracy: 0.7597\n",
      "Epoch 21/25\n",
      "59/59 [==============================] - 2s 34ms/step - loss: 0.4927 - accuracy: 0.7572 - binary_accuracy: 0.7572 - val_loss: 0.5219 - val_accuracy: 0.7511 - val_binary_accuracy: 0.7511\n",
      "Epoch 22/25\n",
      "59/59 [==============================] - 2s 34ms/step - loss: 0.4851 - accuracy: 0.7594 - binary_accuracy: 0.7594 - val_loss: 0.5182 - val_accuracy: 0.7554 - val_binary_accuracy: 0.7554\n",
      "Epoch 23/25\n",
      "59/59 [==============================] - 2s 34ms/step - loss: 0.4984 - accuracy: 0.7508 - binary_accuracy: 0.7508 - val_loss: 0.5185 - val_accuracy: 0.7339 - val_binary_accuracy: 0.7339\n",
      "Epoch 24/25\n",
      "59/59 [==============================] - 2s 34ms/step - loss: 0.4982 - accuracy: 0.7540 - binary_accuracy: 0.7540 - val_loss: 0.5382 - val_accuracy: 0.7382 - val_binary_accuracy: 0.7382\n",
      "Epoch 25/25\n",
      "59/59 [==============================] - 2s 34ms/step - loss: 0.4858 - accuracy: 0.7701 - binary_accuracy: 0.7701 - val_loss: 0.5257 - val_accuracy: 0.7339 - val_binary_accuracy: 0.7339\n"
     ]
    }
   ],
   "source": [
    "historyVGG16 = modelVGG16.fit(ds_train,\n",
    "                    epochs=initial_epochs,\n",
    "                    validation_data=ds_val)"
   ]
  },
  {
   "cell_type": "code",
   "execution_count": 48,
   "id": "94d6896e",
   "metadata": {},
   "outputs": [
    {
     "data": {
      "image/png": "[encoded data removed]",
      "text/plain": [
       "<Figure size 576x576 with 2 Axes>"
      ]
     },
     "metadata": {
      "needs_background": "light"
     },
     "output_type": "display_data"
    }
   ],
   "source": [
    "acc = historyVGG16.history['accuracy']\n",
    "val_acc = historyVGG16.history['val_accuracy']\n",
    "\n",
    "loss = historyVGG16.history['loss']\n",
    "val_loss = historyVGG16.history['val_loss']\n",
    "\n",
    "plt.figure(figsize=(8, 8))\n",
    "plt.subplot(2, 1, 1)\n",
    "plt.plot(acc, label='Training Accuracy')\n",
    "plt.plot(val_acc, label='Validation Accuracy')\n",
    "plt.legend(loc='lower right')\n",
    "plt.ylabel('Accuracy')\n",
    "plt.ylim([min(plt.ylim()),1])\n",
    "plt.title('Training and Validation Accuracy')\n",
    "\n",
    "plt.subplot(2, 1, 2)\n",
    "plt.plot(loss, label='Training Loss')\n",
    "plt.plot(val_loss, label='Validation Loss')\n",
    "plt.legend(loc='upper right')\n",
    "plt.ylabel('Cross Entropy')\n",
    "plt.ylim([0,2.0])\n",
    "plt.title('Training and Validation Loss')\n",
    "plt.xlabel('epoch')\n",
    "plt.show()"
   ]
  },
  {
   "cell_type": "code",
   "execution_count": 49,
   "id": "b80f7962",
   "metadata": {},
   "outputs": [
    {
     "name": "stdout",
     "output_type": "stream",
     "text": [
      "Prédictions ;\n",
      " - Malin(s):  101 \n",
      " - Bénins:  132 \n",
      " - Total comp:  233  vs  233\n"
     ]
    }
   ],
   "source": [
    "predictionVGG16 = modelVGG16.predict(ds_val)\n",
    "b =0\n",
    "m = 0\n",
    "for element in predictionVGG16 :\n",
    "    if(element[0] > 0.5) :\n",
    "        m +=1\n",
    "    elif(element[0]< 0.5) :\n",
    "        b +=1\n",
    "        \n",
    "print(\"Prédictions ;\\n - Malin(s): \", m, \"\\n - Bénins: \", b, \"\\n - Total comp: \", b+m,\" vs \",len(predictionVGG16))"
   ]
  },
  {
   "cell_type": "code",
   "execution_count": 50,
   "id": "b3f16da1",
   "metadata": {},
   "outputs": [],
   "source": [
    "def predict_class_label_number(dataset,model):\n",
    "    predictions =  model.predict(dataset)\n",
    "    res = np.zeros(len(predictions))\n",
    "    i = 0 \n",
    "    for element in predictions : \n",
    "        if(element[0]> 0.5):\n",
    "            res[i] = 1\n",
    "        i += 1\n",
    "    return tf.convert_to_tensor(res)\n",
    "\n",
    "def give_labels (dataset, size):\n",
    "    lab = np.zeros(size)\n",
    "    i = 0\n",
    "    for batch in dataset:\n",
    "        for element in batch[1] :\n",
    "            lab[i] = element.numpy()\n",
    "            i +=1\n",
    "    return tf.convert_to_tensor(lab)\n",
    "    \n",
    "def show_confusion_matrix(cm, labels):\n",
    "    plt.figure(figsize=(5,5))\n",
    "    plt.imshow(cm)\n",
    "    plt.colorbar()\n",
    "    plt.xlabel('Predictions')\n",
    "    plt.ylabel('Labels')\n",
    "    plt.show()"
   ]
  },
  {
   "cell_type": "code",
   "execution_count": 51,
   "id": "fffb2869",
   "metadata": {},
   "outputs": [
    {
     "data": {
      "image/png": "[encoded data removed]",
      "text/plain": [
       "<Figure size 360x360 with 2 Axes>"
      ]
     },
     "metadata": {
      "needs_background": "light"
     },
     "output_type": "display_data"
    }
   ],
   "source": [
    "confusion_mtx_VGG16 = tf.math.confusion_matrix(\n",
    "    give_labels(ds_val, size),\n",
    "    predict_class_label_number(ds_val,modelVGG16),\n",
    "    num_classes=2)\n",
    "show_confusion_matrix(confusion_mtx_VGG16, [0,1])"
   ]
  },
  {
   "cell_type": "markdown",
   "id": "5619e8a8",
   "metadata": {},
   "source": [
    "### 6.3 Comparison of the confusion matrices"
   ]
  },
  {
   "cell_type": "code",
   "execution_count": 52,
   "id": "7e75f698",
   "metadata": {},
   "outputs": [
    {
     "data": {
      "image/png": "[encoded data removed]",
      "text/plain": [
       "<Figure size 1080x360 with 6 Axes>"
      ]
     },
     "metadata": {
      "needs_background": "light"
     },
     "output_type": "display_data"
    }
   ],
   "source": [
    "plt.figure(figsize=(15,5))\n",
    "plt.subplot(1,3,1)\n",
    "plt.imshow(confusion_mtx_My)\n",
    "plt.title('Defined Model')\n",
    "plt.xlabel('Predictions')\n",
    "plt.ylabel('Labels')\n",
    "plt.colorbar()\n",
    "plt.subplot(1,3,2)\n",
    "plt.imshow(confusion_mtx_Mobilenet)\n",
    "plt.xlabel('Predictions')\n",
    "plt.title('Mobilenet')\n",
    "plt.colorbar()\n",
    "plt.subplot(1,3,3)\n",
    "plt.imshow(confusion_mtx_VGG16)\n",
    "plt.xlabel('Predictions')\n",
    "plt.title('VGG16')\n",
    "plt.colorbar()\n",
    "plt.show()"
   ]
  },
  {
   "cell_type": "code",
   "execution_count": null,
   "id": "6dec50a0",
   "metadata": {},
   "outputs": [],
   "source": []
  }
 ],
 "metadata": {
  "kernelspec": {
   "display_name": "Python 3 (ipykernel)",
   "language": "python",
   "name": "python3"
  },
  "language_info": {
   "codemirror_mode": {
    "name": "ipython",
    "version": 3
   },
   "file_extension": ".py",
   "mimetype": "text/x-python",
   "name": "python",
   "nbconvert_exporter": "python",
   "pygments_lexer": "ipython3",
   "version": "3.9.7"
  }
 },
 "nbformat": 4,
 "nbformat_minor": 5
}
