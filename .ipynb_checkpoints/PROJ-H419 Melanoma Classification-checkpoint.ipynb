{
 "cells": [
  {
   "cell_type": "markdown",
   "id": "183e6aad",
   "metadata": {},
   "source": [
    "# PROJ-H419 : Melanoma Classification\n"
   ]
  },
  {
   "cell_type": "markdown",
   "id": "ecd9c799",
   "metadata": {},
   "source": [
    "## 1. Introduction\n",
    "This notebook presents a first approach to tackle the ISIC 2020 Challenge on melanoma classification. The challenge can be found on kaggle (https://www.kaggle.com/c/siim-isic-melanoma-classification) and all the datasets can be found there too. Furthermore, this notebook is widely inspired by gaggle courses on computer vision (https://www.kaggle.com/learn/computer-vision) and tensorflow tutorials (https://www.tensorflow.org/tutorials). \n",
    "\n",
    "The dataset provides tfrecord, DICOM, JPG and CSV files which contain different information about the patient. In this notebook, only the JPGs were used and were labelled with the help of the CSV files. Also, only the information about the malignancy of the melanoma is used to label the JPGs."
   ]
  },
  {
   "cell_type": "code",
   "execution_count": 1,
   "id": "792c6c05",
   "metadata": {},
   "outputs": [
    {
     "name": "stdout",
     "output_type": "stream",
     "text": [
      "2.6.0\n"
     ]
    }
   ],
   "source": [
    "import numpy as np\n",
    "import os\n",
    "import PIL\n",
    "import PIL.Image\n",
    "import tensorflow as tf\n",
    "\n",
    "\n",
    "import pathlib\n",
    "import pandas as pd\n",
    "\n",
    "import pydicom # for DICOM images\n",
    "from skimage.transform import resize\n",
    "from sklearn.metrics import plot_confusion_matrix  \n",
    "\n",
    "import matplotlib.pyplot as plt\n",
    "from matplotlib import gridspec\n",
    "%matplotlib inline\n",
    "print(tf.__version__)\n",
    "\n",
    "from tensorflow import keras\n",
    "from tensorflow.keras import layers\n",
    "from tensorflow.keras.layers.experimental import preprocessing"
   ]
  },
  {
   "cell_type": "code",
   "execution_count": 2,
   "id": "f0442180",
   "metadata": {},
   "outputs": [],
   "source": [
    "def set_seed(seed=31415):\n",
    "    np.random.seed(seed)\n",
    "    tf.random.set_seed(seed)\n",
    "    os.environ['PYTHONHASHSEED'] = str(seed)\n",
    "    os.environ['TF_DETERMINISTIC_OPS'] = '1'\n",
    "set_seed()"
   ]
  },
  {
   "cell_type": "markdown",
   "id": "17c6db48",
   "metadata": {},
   "source": [
    "## 2. Loading data"
   ]
  },
  {
   "cell_type": "code",
   "execution_count": 3,
   "id": "4db20424",
   "metadata": {},
   "outputs": [],
   "source": [
    "directory = '/Users/renau/Desktop/DATA/data_proj_melanoma'\n",
    "\n",
    "train_df = pd.read_csv(directory + '/train.csv')\n",
    "\n",
    "# Change columns names\n",
    "new_names = ['dcm_name', 'ID', 'sex', 'age', 'anatomy', 'diagnosis', 'benign_malignant', 'target']\n",
    "train_df.columns = new_names\n",
    "\n",
    "path_train = directory + '/jpeg/train/' + train_df['dcm_name'] + '.jpg'\n",
    "\n",
    "train_df['path_jpeg'] = path_train"
   ]
  },
  {
   "cell_type": "code",
   "execution_count": 4,
   "id": "8a919e12",
   "metadata": {},
   "outputs": [
    {
     "data": {
      "text/html": [
       "<div>\n",
       "<style scoped>\n",
       "    .dataframe tbody tr th:only-of-type {\n",
       "        vertical-align: middle;\n",
       "    }\n",
       "\n",
       "    .dataframe tbody tr th {\n",
       "        vertical-align: top;\n",
       "    }\n",
       "\n",
       "    .dataframe thead th {\n",
       "        text-align: right;\n",
       "    }\n",
       "</style>\n",
       "<table border=\"1\" class=\"dataframe\">\n",
       "  <thead>\n",
       "    <tr style=\"text-align: right;\">\n",
       "      <th></th>\n",
       "      <th>dcm_name</th>\n",
       "      <th>ID</th>\n",
       "      <th>sex</th>\n",
       "      <th>age</th>\n",
       "      <th>anatomy</th>\n",
       "      <th>diagnosis</th>\n",
       "      <th>benign_malignant</th>\n",
       "      <th>target</th>\n",
       "      <th>path_jpeg</th>\n",
       "    </tr>\n",
       "  </thead>\n",
       "  <tbody>\n",
       "    <tr>\n",
       "      <th>91</th>\n",
       "      <td>ISIC_0149568</td>\n",
       "      <td>IP_0962375</td>\n",
       "      <td>female</td>\n",
       "      <td>55.0</td>\n",
       "      <td>upper extremity</td>\n",
       "      <td>melanoma</td>\n",
       "      <td>malignant</td>\n",
       "      <td>1</td>\n",
       "      <td>/Users/renau/Desktop/DATA/data_proj_melanoma/j...</td>\n",
       "    </tr>\n",
       "    <tr>\n",
       "      <th>235</th>\n",
       "      <td>ISIC_0188432</td>\n",
       "      <td>IP_0135517</td>\n",
       "      <td>female</td>\n",
       "      <td>50.0</td>\n",
       "      <td>upper extremity</td>\n",
       "      <td>melanoma</td>\n",
       "      <td>malignant</td>\n",
       "      <td>1</td>\n",
       "      <td>/Users/renau/Desktop/DATA/data_proj_melanoma/j...</td>\n",
       "    </tr>\n",
       "    <tr>\n",
       "      <th>314</th>\n",
       "      <td>ISIC_0207268</td>\n",
       "      <td>IP_7735373</td>\n",
       "      <td>male</td>\n",
       "      <td>55.0</td>\n",
       "      <td>torso</td>\n",
       "      <td>melanoma</td>\n",
       "      <td>malignant</td>\n",
       "      <td>1</td>\n",
       "      <td>/Users/renau/Desktop/DATA/data_proj_melanoma/j...</td>\n",
       "    </tr>\n",
       "    <tr>\n",
       "      <th>399</th>\n",
       "      <td>ISIC_0232101</td>\n",
       "      <td>IP_8349964</td>\n",
       "      <td>male</td>\n",
       "      <td>65.0</td>\n",
       "      <td>torso</td>\n",
       "      <td>melanoma</td>\n",
       "      <td>malignant</td>\n",
       "      <td>1</td>\n",
       "      <td>/Users/renau/Desktop/DATA/data_proj_melanoma/j...</td>\n",
       "    </tr>\n",
       "    <tr>\n",
       "      <th>459</th>\n",
       "      <td>ISIC_0247330</td>\n",
       "      <td>IP_3232631</td>\n",
       "      <td>female</td>\n",
       "      <td>65.0</td>\n",
       "      <td>lower extremity</td>\n",
       "      <td>melanoma</td>\n",
       "      <td>malignant</td>\n",
       "      <td>1</td>\n",
       "      <td>/Users/renau/Desktop/DATA/data_proj_melanoma/j...</td>\n",
       "    </tr>\n",
       "  </tbody>\n",
       "</table>\n",
       "</div>"
      ],
      "text/plain": [
       "         dcm_name          ID     sex   age          anatomy diagnosis  \\\n",
       "91   ISIC_0149568  IP_0962375  female  55.0  upper extremity  melanoma   \n",
       "235  ISIC_0188432  IP_0135517  female  50.0  upper extremity  melanoma   \n",
       "314  ISIC_0207268  IP_7735373    male  55.0            torso  melanoma   \n",
       "399  ISIC_0232101  IP_8349964    male  65.0            torso  melanoma   \n",
       "459  ISIC_0247330  IP_3232631  female  65.0  lower extremity  melanoma   \n",
       "\n",
       "    benign_malignant  target  \\\n",
       "91         malignant       1   \n",
       "235        malignant       1   \n",
       "314        malignant       1   \n",
       "399        malignant       1   \n",
       "459        malignant       1   \n",
       "\n",
       "                                             path_jpeg  \n",
       "91   /Users/renau/Desktop/DATA/data_proj_melanoma/j...  \n",
       "235  /Users/renau/Desktop/DATA/data_proj_melanoma/j...  \n",
       "314  /Users/renau/Desktop/DATA/data_proj_melanoma/j...  \n",
       "399  /Users/renau/Desktop/DATA/data_proj_melanoma/j...  \n",
       "459  /Users/renau/Desktop/DATA/data_proj_melanoma/j...  "
      ]
     },
     "execution_count": 4,
     "metadata": {},
     "output_type": "execute_result"
    }
   ],
   "source": [
    "malignant_df = train_df[train_df['target'] == 1]\n",
    "malignant_df.head()"
   ]
  },
  {
   "cell_type": "code",
   "execution_count": 5,
   "id": "28e235f0",
   "metadata": {
    "scrolled": true
   },
   "outputs": [
    {
     "data": {
      "text/html": [
       "<div>\n",
       "<style scoped>\n",
       "    .dataframe tbody tr th:only-of-type {\n",
       "        vertical-align: middle;\n",
       "    }\n",
       "\n",
       "    .dataframe tbody tr th {\n",
       "        vertical-align: top;\n",
       "    }\n",
       "\n",
       "    .dataframe thead th {\n",
       "        text-align: right;\n",
       "    }\n",
       "</style>\n",
       "<table border=\"1\" class=\"dataframe\">\n",
       "  <thead>\n",
       "    <tr style=\"text-align: right;\">\n",
       "      <th></th>\n",
       "      <th>dcm_name</th>\n",
       "      <th>ID</th>\n",
       "      <th>sex</th>\n",
       "      <th>age</th>\n",
       "      <th>anatomy</th>\n",
       "      <th>diagnosis</th>\n",
       "      <th>benign_malignant</th>\n",
       "      <th>target</th>\n",
       "      <th>path_jpeg</th>\n",
       "    </tr>\n",
       "  </thead>\n",
       "  <tbody>\n",
       "    <tr>\n",
       "      <th>0</th>\n",
       "      <td>ISIC_2637011</td>\n",
       "      <td>IP_7279968</td>\n",
       "      <td>male</td>\n",
       "      <td>45.0</td>\n",
       "      <td>head/neck</td>\n",
       "      <td>unknown</td>\n",
       "      <td>benign</td>\n",
       "      <td>0</td>\n",
       "      <td>/Users/renau/Desktop/DATA/data_proj_melanoma/j...</td>\n",
       "    </tr>\n",
       "    <tr>\n",
       "      <th>1</th>\n",
       "      <td>ISIC_0015719</td>\n",
       "      <td>IP_3075186</td>\n",
       "      <td>female</td>\n",
       "      <td>45.0</td>\n",
       "      <td>upper extremity</td>\n",
       "      <td>unknown</td>\n",
       "      <td>benign</td>\n",
       "      <td>0</td>\n",
       "      <td>/Users/renau/Desktop/DATA/data_proj_melanoma/j...</td>\n",
       "    </tr>\n",
       "    <tr>\n",
       "      <th>2</th>\n",
       "      <td>ISIC_0052212</td>\n",
       "      <td>IP_2842074</td>\n",
       "      <td>female</td>\n",
       "      <td>50.0</td>\n",
       "      <td>lower extremity</td>\n",
       "      <td>nevus</td>\n",
       "      <td>benign</td>\n",
       "      <td>0</td>\n",
       "      <td>/Users/renau/Desktop/DATA/data_proj_melanoma/j...</td>\n",
       "    </tr>\n",
       "    <tr>\n",
       "      <th>3</th>\n",
       "      <td>ISIC_0068279</td>\n",
       "      <td>IP_6890425</td>\n",
       "      <td>female</td>\n",
       "      <td>45.0</td>\n",
       "      <td>head/neck</td>\n",
       "      <td>unknown</td>\n",
       "      <td>benign</td>\n",
       "      <td>0</td>\n",
       "      <td>/Users/renau/Desktop/DATA/data_proj_melanoma/j...</td>\n",
       "    </tr>\n",
       "    <tr>\n",
       "      <th>4</th>\n",
       "      <td>ISIC_0074268</td>\n",
       "      <td>IP_8723313</td>\n",
       "      <td>female</td>\n",
       "      <td>55.0</td>\n",
       "      <td>upper extremity</td>\n",
       "      <td>unknown</td>\n",
       "      <td>benign</td>\n",
       "      <td>0</td>\n",
       "      <td>/Users/renau/Desktop/DATA/data_proj_melanoma/j...</td>\n",
       "    </tr>\n",
       "  </tbody>\n",
       "</table>\n",
       "</div>"
      ],
      "text/plain": [
       "       dcm_name          ID     sex   age          anatomy diagnosis  \\\n",
       "0  ISIC_2637011  IP_7279968    male  45.0        head/neck   unknown   \n",
       "1  ISIC_0015719  IP_3075186  female  45.0  upper extremity   unknown   \n",
       "2  ISIC_0052212  IP_2842074  female  50.0  lower extremity     nevus   \n",
       "3  ISIC_0068279  IP_6890425  female  45.0        head/neck   unknown   \n",
       "4  ISIC_0074268  IP_8723313  female  55.0  upper extremity   unknown   \n",
       "\n",
       "  benign_malignant  target                                          path_jpeg  \n",
       "0           benign       0  /Users/renau/Desktop/DATA/data_proj_melanoma/j...  \n",
       "1           benign       0  /Users/renau/Desktop/DATA/data_proj_melanoma/j...  \n",
       "2           benign       0  /Users/renau/Desktop/DATA/data_proj_melanoma/j...  \n",
       "3           benign       0  /Users/renau/Desktop/DATA/data_proj_melanoma/j...  \n",
       "4           benign       0  /Users/renau/Desktop/DATA/data_proj_melanoma/j...  "
      ]
     },
     "execution_count": 5,
     "metadata": {},
     "output_type": "execute_result"
    }
   ],
   "source": [
    "benin_df = train_df[train_df['target'] == 0]\n",
    "benin_df.head()"
   ]
  },
  {
   "cell_type": "markdown",
   "id": "b2ec5d88",
   "metadata": {},
   "source": [
    "### 2.1 Unbalanced dataset\n",
    "\n",
    "This code highlights the fact that the dataset is unbalanced. The malignant files represent less than two percents of the total files. This is a problem that has to be handled otherwise this could lead to not or less detect malignant melanomas."
   ]
  },
  {
   "cell_type": "code",
   "execution_count": 6,
   "id": "7e28fb41",
   "metadata": {},
   "outputs": [
    {
     "data": {
      "text/plain": [
       "584"
      ]
     },
     "execution_count": 6,
     "metadata": {},
     "output_type": "execute_result"
    }
   ],
   "source": [
    "mal_file = malignant_df['path_jpeg'].values\n",
    "mal_labels = malignant_df['target'].values\n",
    "mal_train_ds = tf.data.Dataset.from_tensor_slices((mal_file, mal_labels))\n",
    "len(list(mal_train_ds))"
   ]
  },
  {
   "cell_type": "code",
   "execution_count": 7,
   "id": "80246e56",
   "metadata": {},
   "outputs": [
    {
     "data": {
      "text/plain": [
       "32542"
      ]
     },
     "execution_count": 7,
     "metadata": {},
     "output_type": "execute_result"
    }
   ],
   "source": [
    "ben_file = benin_df['path_jpeg'].values\n",
    "ben_labels = benin_df['target'].values\n",
    "ben_train_ds = tf.data.Dataset.from_tensor_slices((ben_file, ben_labels))\n",
    "ben_train_ds = ben_train_ds.shuffle(len(list(ben_train_ds)))\n",
    "len(list(ben_train_ds))"
   ]
  },
  {
   "cell_type": "markdown",
   "id": "8ef2091d",
   "metadata": {},
   "source": [
    "### 2.2 Making a balanced dataset\n",
    "There are different options in order to make a balanced dataset. For instance, the class in default can be oversampled or the class in excess can be under sampled. In a first time under sampling was chosen and a random sample of the class in excess is taken shuffled with all the element of the class in default. Finally, the data are split into data for the training and the validation."
   ]
  },
  {
   "cell_type": "code",
   "execution_count": 8,
   "id": "0ab786bd",
   "metadata": {},
   "outputs": [
    {
     "name": "stdout",
     "output_type": "stream",
     "text": [
      "Validation dataset size is 233 and training dataset size is 935\n"
     ]
    }
   ],
   "source": [
    "def make_balanced_dataset(ds_class1, ds_class2):\n",
    "    half_size = min(len(list(ds_class1)),len(list(ds_class2)))\n",
    "    ds_1 = ds_class1.take(half_size)\n",
    "    ds_2 = ds_class2.take(half_size)\n",
    "    ds_full = ds_1.concatenate(ds_2)\n",
    "    ds_full = ds_full.shuffle(half_size*2, reshuffle_each_iteration=False)\n",
    "    return ds_full.skip((half_size*2)//5),ds_full.take((half_size*2)//5),\n",
    "\n",
    "ds_train, ds_val = make_balanced_dataset(ben_train_ds,mal_train_ds)\n",
    "size = len(list(ds_val))\n",
    "print('Validation dataset size is',size, 'and training dataset size is' , len(list(ds_train)))"
   ]
  },
  {
   "cell_type": "code",
   "execution_count": 9,
   "id": "8d9817c5",
   "metadata": {},
   "outputs": [
    {
     "name": "stdout",
     "output_type": "stream",
     "text": [
      "b'/Users/renau/Desktop/DATA/data_proj_melanoma/jpeg/train/ISIC_6257422.jpg' and target:  0\n",
      "b'/Users/renau/Desktop/DATA/data_proj_melanoma/jpeg/train/ISIC_0599605.jpg' and target:  1\n",
      "b'/Users/renau/Desktop/DATA/data_proj_melanoma/jpeg/train/ISIC_0272026.jpg' and target:  0\n",
      "b'/Users/renau/Desktop/DATA/data_proj_melanoma/jpeg/train/ISIC_2937642.jpg' and target:  1\n"
     ]
    }
   ],
   "source": [
    "ex_ds = ds_train.take(4)\n",
    "for element in ex_ds :\n",
    "    print(element[0].numpy(),'and target: ',element[1].numpy())"
   ]
  },
  {
   "cell_type": "markdown",
   "id": "5cc3ae72",
   "metadata": {},
   "source": [
    "### 2.3 Data preprocessing\n",
    "In this, the data are labelled, gathered in mini-batch and resized. Images of different size can't be used to feed the model for mathematical reasons for instance normalization of the data and for coding reasons the inputs shape of model (size of the picture) has to be specified. The size of 160x160 was chosen because VGG16 recommended using this shape and because of some limitation of computer memory."
   ]
  },
  {
   "cell_type": "code",
   "execution_count": 10,
   "id": "4fca5ce4",
   "metadata": {},
   "outputs": [],
   "source": [
    "def read_image(path, label):\n",
    "    image = tf.io.read_file(path)\n",
    "    image = tf.image.decode_image(image, channels=3, dtype = tf.uint8, expand_animations = False)\n",
    "    return image, label\n",
    "\n",
    "ds_train = ds_train.map(read_image)\n",
    "ds_val = ds_val.map(read_image)"
   ]
  },
  {
   "cell_type": "code",
   "execution_count": 11,
   "id": "b3d4279c",
   "metadata": {},
   "outputs": [
    {
     "name": "stdout",
     "output_type": "stream",
     "text": [
      "(480, 640, 3)\n",
      "(2448, 3264, 3)\n",
      "(4000, 6000, 3)\n"
     ]
    }
   ],
   "source": [
    "ex_ds = ds_train.take(3)\n",
    "for element in ex_ds :\n",
    "    print(element[0].numpy().shape)"
   ]
  },
  {
   "cell_type": "code",
   "execution_count": 12,
   "id": "34917f99",
   "metadata": {},
   "outputs": [
    {
     "name": "stdout",
     "output_type": "stream",
     "text": [
      "(16, 160, 160, 3)\n",
      "(16,)\n",
      "(16, 160, 160, 3)\n",
      "(16,)\n",
      "(16, 160, 160, 3)\n",
      "(16,)\n"
     ]
    }
   ],
   "source": [
    "def adapt_data(image, label):\n",
    "    image = tf.image.resize(image, [160,160])\n",
    "    return image, label\n",
    "\n",
    "def convert_to_float(image, label):\n",
    "    image = tf.image.convert_image_dtype(image, dtype=tf.float64)\n",
    "    return image, label\n",
    "    \n",
    "ds_train= ds_train.map(adapt_data).map(convert_to_float).batch(16)\n",
    "ds_val= ds_val.map(adapt_data).map(convert_to_float).batch(16)\n",
    "\n",
    "ex_ds = ds_train.take(3)\n",
    "for element in ex_ds :\n",
    "    print(element[0].shape)\n",
    "    print(element[1].shape)"
   ]
  },
  {
   "cell_type": "code",
   "execution_count": 13,
   "id": "ed2f5220",
   "metadata": {},
   "outputs": [],
   "source": [
    "AUTOTUNE = tf.data.AUTOTUNE\n",
    "\n",
    "ds_train = ds_train.cache().prefetch(buffer_size=AUTOTUNE)\n",
    "ds_val = ds_val.cache().prefetch(buffer_size=AUTOTUNE)"
   ]
  },
  {
   "cell_type": "markdown",
   "id": "c640960f",
   "metadata": {},
   "source": [
    "## 3. The model\n",
    "\n",
    "The model contains three mains parts:\n",
    " 1. Data augmentation: used to oversample the data during the training\n",
    " 2. Convolution layers: extract features of image\n",
    " 3. Head: use the features to determine the class\n",
    "\n",
    "The last layer uses sigmoid activation because it's a binary classification problem otherwise it would have to be a softmax activation with the same number of classes as neurons in it."
   ]
  },
  {
   "cell_type": "code",
   "execution_count": 14,
   "id": "1fbe5eb0",
   "metadata": {},
   "outputs": [],
   "source": [
    "MyModel = tf.keras.Sequential([ \n",
    "    \n",
    "# == Input == \n",
    "    \n",
    "    layers.InputLayer(input_shape=(160,160,3)),\n",
    "    \n",
    "# == Data Augmentation ==\n",
    "    \n",
    "    preprocessing.RandomContrast(factor=0.1),\n",
    "    preprocessing.RandomFlip(mode='horizontal'), \n",
    "    preprocessing.RandomFlip(mode='vertical'), \n",
    "    preprocessing.RandomRotation(factor=0.20),\n",
    "    layers.BatchNormalization(),\n",
    "\n",
    "# == Convolution == \n",
    "    \n",
    "    layers.Rescaling(1./255),\n",
    "    layers.BatchNormalization(),\n",
    "    layers.Conv2D(64, 3, activation='relu'),\n",
    "    layers.MaxPooling2D(),\n",
    "    layers.Conv2D(128, 3, activation='relu'),\n",
    "    layers.MaxPooling2D(),\n",
    "    layers.Conv2D(256, 3, activation='relu'),\n",
    "    layers.MaxPooling2D(),\n",
    "    layers.BatchNormalization(),\n",
    "\n",
    "# == Head ==\n",
    "    layers.Flatten(),\n",
    "    \n",
    "    layers.Dense(128, activation='relu'),\n",
    "    layers.BatchNormalization(),\n",
    "    layers.Dropout(0.2),\n",
    "    \n",
    "    layers.Dense(64, activation='relu'),\n",
    "    layers.BatchNormalization(),\n",
    "    layers.Dropout(0.2),\n",
    "    \n",
    "    layers.Dense(32, activation='relu'),\n",
    "    layers.BatchNormalization(),\n",
    "    layers.Dropout(0.2),\n",
    "\n",
    "    layers.Dense(1,activation='sigmoid')\n",
    "])"
   ]
  },
  {
   "cell_type": "code",
   "execution_count": 15,
   "id": "2adf69fa",
   "metadata": {
    "scrolled": true
   },
   "outputs": [
    {
     "name": "stdout",
     "output_type": "stream",
     "text": [
      "Model: \"sequential\"\n",
      "_________________________________________________________________\n",
      "Layer (type)                 Output Shape              Param #   \n",
      "=================================================================\n",
      "random_contrast (RandomContr (None, 160, 160, 3)       0         \n",
      "_________________________________________________________________\n",
      "random_flip (RandomFlip)     (None, 160, 160, 3)       0         \n",
      "_________________________________________________________________\n",
      "random_flip_1 (RandomFlip)   (None, 160, 160, 3)       0         \n",
      "_________________________________________________________________\n",
      "random_rotation (RandomRotat (None, 160, 160, 3)       0         \n",
      "_________________________________________________________________\n",
      "batch_normalization (BatchNo (None, 160, 160, 3)       12        \n",
      "_________________________________________________________________\n",
      "rescaling (Rescaling)        (None, 160, 160, 3)       0         \n",
      "_________________________________________________________________\n",
      "batch_normalization_1 (Batch (None, 160, 160, 3)       12        \n",
      "_________________________________________________________________\n",
      "conv2d (Conv2D)              (None, 158, 158, 64)      1792      \n",
      "_________________________________________________________________\n",
      "max_pooling2d (MaxPooling2D) (None, 79, 79, 64)        0         \n",
      "_________________________________________________________________\n",
      "conv2d_1 (Conv2D)            (None, 77, 77, 128)       73856     \n",
      "_________________________________________________________________\n",
      "max_pooling2d_1 (MaxPooling2 (None, 38, 38, 128)       0         \n",
      "_________________________________________________________________\n",
      "conv2d_2 (Conv2D)            (None, 36, 36, 256)       295168    \n",
      "_________________________________________________________________\n",
      "max_pooling2d_2 (MaxPooling2 (None, 18, 18, 256)       0         \n",
      "_________________________________________________________________\n",
      "batch_normalization_2 (Batch (None, 18, 18, 256)       1024      \n",
      "_________________________________________________________________\n",
      "flatten (Flatten)            (None, 82944)             0         \n",
      "_________________________________________________________________\n",
      "dense (Dense)                (None, 128)               10616960  \n",
      "_________________________________________________________________\n",
      "batch_normalization_3 (Batch (None, 128)               512       \n",
      "_________________________________________________________________\n",
      "dropout (Dropout)            (None, 128)               0         \n",
      "_________________________________________________________________\n",
      "dense_1 (Dense)              (None, 64)                8256      \n",
      "_________________________________________________________________\n",
      "batch_normalization_4 (Batch (None, 64)                256       \n",
      "_________________________________________________________________\n",
      "dropout_1 (Dropout)          (None, 64)                0         \n",
      "_________________________________________________________________\n",
      "dense_2 (Dense)              (None, 32)                2080      \n",
      "_________________________________________________________________\n",
      "batch_normalization_5 (Batch (None, 32)                128       \n",
      "_________________________________________________________________\n",
      "dropout_2 (Dropout)          (None, 32)                0         \n",
      "_________________________________________________________________\n",
      "dense_3 (Dense)              (None, 1)                 33        \n",
      "=================================================================\n",
      "Total params: 11,000,089\n",
      "Trainable params: 10,999,117\n",
      "Non-trainable params: 972\n",
      "_________________________________________________________________\n"
     ]
    }
   ],
   "source": [
    "MyModel.compile(\n",
    "    optimizer=tf.keras.optimizers.Adam(epsilon=0.01),\n",
    "    loss='binary_crossentropy',\n",
    "    metrics=['binary_accuracy']\n",
    ")\n",
    "MyModel.save_weights('My_model')\n",
    "MyModel.summary()"
   ]
  },
  {
   "cell_type": "markdown",
   "id": "89819876",
   "metadata": {},
   "source": [
    "## 4. Training\n",
    "\n",
    "On the training over 100 epochs even if there are dropout layers, the model seems to be overfitting a bit. That's why, only the model trained over 25 epochs is going to be used after. "
   ]
  },
  {
   "cell_type": "code",
   "execution_count": 16,
   "id": "a9fa1def",
   "metadata": {},
   "outputs": [
    {
     "name": "stdout",
     "output_type": "stream",
     "text": [
      "Epoch 1/100\n",
      "59/59 [==============================] - 9s 92ms/step - loss: 0.7164 - binary_accuracy: 0.6107 - val_loss: 0.6953 - val_binary_accuracy: 0.4936\n",
      "Epoch 2/100\n",
      "59/59 [==============================] - 2s 33ms/step - loss: 0.6613 - binary_accuracy: 0.6674 - val_loss: 0.6990 - val_binary_accuracy: 0.4936\n",
      "Epoch 3/100\n",
      "59/59 [==============================] - 2s 32ms/step - loss: 0.6451 - binary_accuracy: 0.6695 - val_loss: 0.7269 - val_binary_accuracy: 0.4936\n",
      "Epoch 4/100\n",
      "59/59 [==============================] - 2s 32ms/step - loss: 0.6306 - binary_accuracy: 0.6503 - val_loss: 0.7238 - val_binary_accuracy: 0.4936\n",
      "Epoch 5/100\n",
      "59/59 [==============================] - 2s 32ms/step - loss: 0.6252 - binary_accuracy: 0.6706 - val_loss: 0.7160 - val_binary_accuracy: 0.4936\n",
      "Epoch 6/100\n",
      "59/59 [==============================] - 2s 32ms/step - loss: 0.6148 - binary_accuracy: 0.6749 - val_loss: 0.7103 - val_binary_accuracy: 0.4936\n",
      "Epoch 7/100\n",
      "59/59 [==============================] - 2s 32ms/step - loss: 0.6194 - binary_accuracy: 0.6888 - val_loss: 0.7577 - val_binary_accuracy: 0.4936\n",
      "Epoch 8/100\n",
      "59/59 [==============================] - 2s 32ms/step - loss: 0.5831 - binary_accuracy: 0.6973 - val_loss: 0.7129 - val_binary_accuracy: 0.4936\n",
      "Epoch 9/100\n",
      "59/59 [==============================] - 2s 32ms/step - loss: 0.5665 - binary_accuracy: 0.6963 - val_loss: 0.7260 - val_binary_accuracy: 0.4936\n",
      "Epoch 10/100\n",
      "59/59 [==============================] - 2s 32ms/step - loss: 0.5667 - binary_accuracy: 0.6963 - val_loss: 0.7436 - val_binary_accuracy: 0.4979\n",
      "Epoch 11/100\n",
      "59/59 [==============================] - 2s 32ms/step - loss: 0.5597 - binary_accuracy: 0.7005 - val_loss: 0.5302 - val_binary_accuracy: 0.7167\n",
      "Epoch 12/100\n",
      "59/59 [==============================] - 2s 32ms/step - loss: 0.5463 - binary_accuracy: 0.7209 - val_loss: 0.5003 - val_binary_accuracy: 0.7511\n",
      "Epoch 13/100\n",
      "59/59 [==============================] - 2s 32ms/step - loss: 0.5565 - binary_accuracy: 0.7123 - val_loss: 0.5059 - val_binary_accuracy: 0.7597\n",
      "Epoch 14/100\n",
      "59/59 [==============================] - 2s 32ms/step - loss: 0.5522 - binary_accuracy: 0.7091 - val_loss: 0.5638 - val_binary_accuracy: 0.7210\n",
      "Epoch 15/100\n",
      "59/59 [==============================] - 2s 32ms/step - loss: 0.5390 - binary_accuracy: 0.7283 - val_loss: 0.5221 - val_binary_accuracy: 0.7339\n",
      "Epoch 16/100\n",
      "59/59 [==============================] - 2s 32ms/step - loss: 0.5404 - binary_accuracy: 0.7134 - val_loss: 0.5088 - val_binary_accuracy: 0.7468\n",
      "Epoch 17/100\n",
      "59/59 [==============================] - 2s 32ms/step - loss: 0.5305 - binary_accuracy: 0.7048 - val_loss: 0.5308 - val_binary_accuracy: 0.7425\n",
      "Epoch 18/100\n",
      "59/59 [==============================] - 2s 32ms/step - loss: 0.5353 - binary_accuracy: 0.7166 - val_loss: 0.5267 - val_binary_accuracy: 0.7511\n",
      "Epoch 19/100\n",
      "59/59 [==============================] - 2s 32ms/step - loss: 0.5180 - binary_accuracy: 0.7508 - val_loss: 0.5289 - val_binary_accuracy: 0.7382\n",
      "Epoch 20/100\n",
      "59/59 [==============================] - 2s 32ms/step - loss: 0.5167 - binary_accuracy: 0.7401 - val_loss: 0.5310 - val_binary_accuracy: 0.7296\n",
      "Epoch 21/100\n",
      "59/59 [==============================] - 2s 32ms/step - loss: 0.5039 - binary_accuracy: 0.7444 - val_loss: 0.5032 - val_binary_accuracy: 0.7725\n",
      "Epoch 22/100\n",
      "59/59 [==============================] - 2s 32ms/step - loss: 0.5053 - binary_accuracy: 0.7422 - val_loss: 0.5004 - val_binary_accuracy: 0.7768\n",
      "Epoch 23/100\n",
      "59/59 [==============================] - 2s 32ms/step - loss: 0.5052 - binary_accuracy: 0.7422 - val_loss: 0.5034 - val_binary_accuracy: 0.7597\n",
      "Epoch 24/100\n",
      "59/59 [==============================] - 2s 32ms/step - loss: 0.5056 - binary_accuracy: 0.7444 - val_loss: 0.5144 - val_binary_accuracy: 0.7597\n",
      "Epoch 25/100\n",
      "59/59 [==============================] - 2s 32ms/step - loss: 0.5122 - binary_accuracy: 0.7337 - val_loss: 0.5224 - val_binary_accuracy: 0.7682\n",
      "Epoch 26/100\n",
      "59/59 [==============================] - 2s 32ms/step - loss: 0.5005 - binary_accuracy: 0.7551 - val_loss: 0.5542 - val_binary_accuracy: 0.7468\n",
      "Epoch 27/100\n",
      "59/59 [==============================] - 2s 32ms/step - loss: 0.4882 - binary_accuracy: 0.7711 - val_loss: 0.5178 - val_binary_accuracy: 0.7639\n",
      "Epoch 28/100\n",
      "59/59 [==============================] - 2s 32ms/step - loss: 0.4730 - binary_accuracy: 0.7626 - val_loss: 0.5674 - val_binary_accuracy: 0.7296\n",
      "Epoch 29/100\n",
      "59/59 [==============================] - 2s 32ms/step - loss: 0.4849 - binary_accuracy: 0.7615 - val_loss: 0.5222 - val_binary_accuracy: 0.7940\n",
      "Epoch 30/100\n",
      "59/59 [==============================] - 2s 32ms/step - loss: 0.4664 - binary_accuracy: 0.7690 - val_loss: 0.5080 - val_binary_accuracy: 0.7639\n",
      "Epoch 31/100\n",
      "59/59 [==============================] - 2s 32ms/step - loss: 0.4607 - binary_accuracy: 0.7733 - val_loss: 0.5092 - val_binary_accuracy: 0.7554\n",
      "Epoch 32/100\n",
      "59/59 [==============================] - 2s 32ms/step - loss: 0.4662 - binary_accuracy: 0.7904 - val_loss: 0.5125 - val_binary_accuracy: 0.7597\n",
      "Epoch 33/100\n",
      "59/59 [==============================] - 2s 32ms/step - loss: 0.4851 - binary_accuracy: 0.7529 - val_loss: 0.5143 - val_binary_accuracy: 0.7425\n",
      "Epoch 34/100\n",
      "59/59 [==============================] - 2s 32ms/step - loss: 0.4865 - binary_accuracy: 0.7594 - val_loss: 0.5339 - val_binary_accuracy: 0.7382\n",
      "Epoch 35/100\n",
      "59/59 [==============================] - 2s 32ms/step - loss: 0.4694 - binary_accuracy: 0.7679 - val_loss: 0.5682 - val_binary_accuracy: 0.7554\n",
      "Epoch 36/100\n",
      "59/59 [==============================] - 2s 32ms/step - loss: 0.4533 - binary_accuracy: 0.7872 - val_loss: 0.5228 - val_binary_accuracy: 0.7468\n",
      "Epoch 37/100\n",
      "59/59 [==============================] - 2s 32ms/step - loss: 0.4615 - binary_accuracy: 0.7743 - val_loss: 0.5950 - val_binary_accuracy: 0.7339\n",
      "Epoch 38/100\n",
      "59/59 [==============================] - 2s 32ms/step - loss: 0.4597 - binary_accuracy: 0.7797 - val_loss: 0.5618 - val_binary_accuracy: 0.7554\n",
      "Epoch 39/100\n",
      "59/59 [==============================] - 2s 32ms/step - loss: 0.4706 - binary_accuracy: 0.7743 - val_loss: 0.5241 - val_binary_accuracy: 0.7382\n",
      "Epoch 40/100\n",
      "59/59 [==============================] - 2s 32ms/step - loss: 0.4602 - binary_accuracy: 0.7636 - val_loss: 0.5663 - val_binary_accuracy: 0.7296\n",
      "Epoch 41/100\n",
      "59/59 [==============================] - 2s 32ms/step - loss: 0.4653 - binary_accuracy: 0.7743 - val_loss: 0.5457 - val_binary_accuracy: 0.7339\n",
      "Epoch 42/100\n",
      "59/59 [==============================] - 2s 32ms/step - loss: 0.4417 - binary_accuracy: 0.7775 - val_loss: 0.5276 - val_binary_accuracy: 0.7597\n",
      "Epoch 43/100\n",
      "59/59 [==============================] - 2s 32ms/step - loss: 0.4178 - binary_accuracy: 0.8032 - val_loss: 0.5900 - val_binary_accuracy: 0.7511\n",
      "Epoch 44/100\n",
      "59/59 [==============================] - 2s 32ms/step - loss: 0.4283 - binary_accuracy: 0.7947 - val_loss: 0.5391 - val_binary_accuracy: 0.7639\n",
      "Epoch 45/100\n",
      "59/59 [==============================] - 2s 32ms/step - loss: 0.4266 - binary_accuracy: 0.8043 - val_loss: 0.5430 - val_binary_accuracy: 0.7511\n",
      "Epoch 46/100\n",
      "59/59 [==============================] - 2s 32ms/step - loss: 0.4239 - binary_accuracy: 0.7989 - val_loss: 0.5936 - val_binary_accuracy: 0.7425\n",
      "Epoch 47/100\n",
      "59/59 [==============================] - 2s 32ms/step - loss: 0.4280 - binary_accuracy: 0.8043 - val_loss: 0.5162 - val_binary_accuracy: 0.7597\n",
      "Epoch 48/100\n",
      "59/59 [==============================] - 2s 32ms/step - loss: 0.4371 - binary_accuracy: 0.7850 - val_loss: 0.6260 - val_binary_accuracy: 0.7511\n",
      "Epoch 49/100\n",
      "59/59 [==============================] - 2s 32ms/step - loss: 0.4221 - binary_accuracy: 0.8064 - val_loss: 0.5487 - val_binary_accuracy: 0.7468\n",
      "Epoch 50/100\n",
      "59/59 [==============================] - 2s 32ms/step - loss: 0.4193 - binary_accuracy: 0.8032 - val_loss: 0.5258 - val_binary_accuracy: 0.7725\n",
      "Epoch 51/100\n",
      "59/59 [==============================] - 2s 32ms/step - loss: 0.4127 - binary_accuracy: 0.8160 - val_loss: 0.5617 - val_binary_accuracy: 0.7468\n",
      "Epoch 52/100\n",
      "59/59 [==============================] - 2s 32ms/step - loss: 0.4123 - binary_accuracy: 0.8225 - val_loss: 0.5840 - val_binary_accuracy: 0.7511\n",
      "Epoch 53/100\n"
     ]
    },
    {
     "name": "stdout",
     "output_type": "stream",
     "text": [
      "59/59 [==============================] - 2s 32ms/step - loss: 0.4174 - binary_accuracy: 0.7968 - val_loss: 0.6337 - val_binary_accuracy: 0.7210\n",
      "Epoch 54/100\n",
      "59/59 [==============================] - 2s 32ms/step - loss: 0.4023 - binary_accuracy: 0.8182 - val_loss: 0.5330 - val_binary_accuracy: 0.7597\n",
      "Epoch 55/100\n",
      "59/59 [==============================] - 2s 32ms/step - loss: 0.4028 - binary_accuracy: 0.7957 - val_loss: 0.5932 - val_binary_accuracy: 0.7382\n",
      "Epoch 56/100\n",
      "59/59 [==============================] - 2s 32ms/step - loss: 0.3928 - binary_accuracy: 0.8064 - val_loss: 0.5237 - val_binary_accuracy: 0.7425\n",
      "Epoch 57/100\n",
      "59/59 [==============================] - 2s 32ms/step - loss: 0.4149 - binary_accuracy: 0.8021 - val_loss: 0.6045 - val_binary_accuracy: 0.7382\n",
      "Epoch 58/100\n",
      "59/59 [==============================] - 2s 32ms/step - loss: 0.3852 - binary_accuracy: 0.8160 - val_loss: 0.5916 - val_binary_accuracy: 0.7296\n",
      "Epoch 59/100\n",
      "59/59 [==============================] - 2s 32ms/step - loss: 0.3841 - binary_accuracy: 0.8257 - val_loss: 0.5577 - val_binary_accuracy: 0.7511\n",
      "Epoch 60/100\n",
      "59/59 [==============================] - 2s 32ms/step - loss: 0.3998 - binary_accuracy: 0.7989 - val_loss: 0.6291 - val_binary_accuracy: 0.7511\n",
      "Epoch 61/100\n",
      "59/59 [==============================] - 2s 32ms/step - loss: 0.3866 - binary_accuracy: 0.8310 - val_loss: 0.5710 - val_binary_accuracy: 0.7468\n",
      "Epoch 62/100\n",
      "59/59 [==============================] - 2s 32ms/step - loss: 0.3843 - binary_accuracy: 0.8160 - val_loss: 0.5470 - val_binary_accuracy: 0.7554\n",
      "Epoch 63/100\n",
      "59/59 [==============================] - 2s 32ms/step - loss: 0.3815 - binary_accuracy: 0.8043 - val_loss: 0.5891 - val_binary_accuracy: 0.7511\n",
      "Epoch 64/100\n",
      "59/59 [==============================] - 2s 32ms/step - loss: 0.3893 - binary_accuracy: 0.8203 - val_loss: 0.5331 - val_binary_accuracy: 0.7511\n",
      "Epoch 65/100\n",
      "59/59 [==============================] - 2s 32ms/step - loss: 0.3859 - binary_accuracy: 0.8257 - val_loss: 0.5653 - val_binary_accuracy: 0.7425\n",
      "Epoch 66/100\n",
      "59/59 [==============================] - 2s 32ms/step - loss: 0.3663 - binary_accuracy: 0.8321 - val_loss: 0.5737 - val_binary_accuracy: 0.7210\n",
      "Epoch 67/100\n",
      "59/59 [==============================] - 2s 32ms/step - loss: 0.3648 - binary_accuracy: 0.8385 - val_loss: 0.5928 - val_binary_accuracy: 0.7210\n",
      "Epoch 68/100\n",
      "59/59 [==============================] - 2s 32ms/step - loss: 0.3653 - binary_accuracy: 0.8267 - val_loss: 0.6877 - val_binary_accuracy: 0.7382\n",
      "Epoch 69/100\n",
      "59/59 [==============================] - 2s 32ms/step - loss: 0.3486 - binary_accuracy: 0.8449 - val_loss: 0.6411 - val_binary_accuracy: 0.7554\n",
      "Epoch 70/100\n",
      "59/59 [==============================] - 2s 32ms/step - loss: 0.3446 - binary_accuracy: 0.8449 - val_loss: 0.5891 - val_binary_accuracy: 0.7468\n",
      "Epoch 71/100\n",
      "59/59 [==============================] - 2s 32ms/step - loss: 0.3446 - binary_accuracy: 0.8492 - val_loss: 0.5682 - val_binary_accuracy: 0.7382\n",
      "Epoch 72/100\n",
      "59/59 [==============================] - 2s 32ms/step - loss: 0.3497 - binary_accuracy: 0.8374 - val_loss: 0.6314 - val_binary_accuracy: 0.7468\n",
      "Epoch 73/100\n",
      "59/59 [==============================] - 2s 32ms/step - loss: 0.3376 - binary_accuracy: 0.8578 - val_loss: 0.6469 - val_binary_accuracy: 0.7511\n",
      "Epoch 74/100\n",
      "59/59 [==============================] - 2s 32ms/step - loss: 0.3393 - binary_accuracy: 0.8492 - val_loss: 0.5521 - val_binary_accuracy: 0.7554\n",
      "Epoch 75/100\n",
      "59/59 [==============================] - 2s 32ms/step - loss: 0.3252 - binary_accuracy: 0.8513 - val_loss: 0.6232 - val_binary_accuracy: 0.7339\n",
      "Epoch 76/100\n",
      "59/59 [==============================] - 2s 32ms/step - loss: 0.3454 - binary_accuracy: 0.8406 - val_loss: 0.5966 - val_binary_accuracy: 0.7425\n",
      "Epoch 77/100\n",
      "59/59 [==============================] - 2s 32ms/step - loss: 0.3642 - binary_accuracy: 0.8406 - val_loss: 0.6911 - val_binary_accuracy: 0.7167\n",
      "Epoch 78/100\n",
      "59/59 [==============================] - 2s 32ms/step - loss: 0.3395 - binary_accuracy: 0.8449 - val_loss: 0.6467 - val_binary_accuracy: 0.7253\n",
      "Epoch 79/100\n",
      "59/59 [==============================] - 2s 32ms/step - loss: 0.3335 - binary_accuracy: 0.8503 - val_loss: 0.6002 - val_binary_accuracy: 0.7253\n",
      "Epoch 80/100\n",
      "59/59 [==============================] - 2s 32ms/step - loss: 0.3279 - binary_accuracy: 0.8492 - val_loss: 0.5815 - val_binary_accuracy: 0.7554\n",
      "Epoch 81/100\n",
      "59/59 [==============================] - 2s 32ms/step - loss: 0.3222 - binary_accuracy: 0.8545 - val_loss: 0.5774 - val_binary_accuracy: 0.7639\n",
      "Epoch 82/100\n",
      "59/59 [==============================] - 2s 32ms/step - loss: 0.3079 - binary_accuracy: 0.8620 - val_loss: 0.6169 - val_binary_accuracy: 0.7425\n",
      "Epoch 83/100\n",
      "59/59 [==============================] - 2s 32ms/step - loss: 0.3114 - binary_accuracy: 0.8642 - val_loss: 0.7113 - val_binary_accuracy: 0.7339\n",
      "Epoch 84/100\n",
      "59/59 [==============================] - 2s 32ms/step - loss: 0.2978 - binary_accuracy: 0.8706 - val_loss: 0.7375 - val_binary_accuracy: 0.7554\n",
      "Epoch 85/100\n",
      "59/59 [==============================] - 2s 32ms/step - loss: 0.3210 - binary_accuracy: 0.8556 - val_loss: 0.6733 - val_binary_accuracy: 0.7597\n",
      "Epoch 86/100\n",
      "59/59 [==============================] - 2s 32ms/step - loss: 0.3137 - binary_accuracy: 0.8599 - val_loss: 0.5687 - val_binary_accuracy: 0.7554\n",
      "Epoch 87/100\n",
      "59/59 [==============================] - 2s 32ms/step - loss: 0.2826 - binary_accuracy: 0.8684 - val_loss: 0.6500 - val_binary_accuracy: 0.7682\n",
      "Epoch 88/100\n",
      "59/59 [==============================] - 2s 32ms/step - loss: 0.2982 - binary_accuracy: 0.8642 - val_loss: 0.6239 - val_binary_accuracy: 0.7554\n",
      "Epoch 89/100\n",
      "59/59 [==============================] - 2s 32ms/step - loss: 0.2900 - binary_accuracy: 0.8717 - val_loss: 0.7033 - val_binary_accuracy: 0.7210\n",
      "Epoch 90/100\n",
      "59/59 [==============================] - 2s 33ms/step - loss: 0.2857 - binary_accuracy: 0.8652 - val_loss: 0.6476 - val_binary_accuracy: 0.7768\n",
      "Epoch 91/100\n",
      "59/59 [==============================] - 2s 32ms/step - loss: 0.2744 - binary_accuracy: 0.8824 - val_loss: 0.6614 - val_binary_accuracy: 0.7682\n",
      "Epoch 92/100\n",
      "59/59 [==============================] - 2s 32ms/step - loss: 0.2699 - binary_accuracy: 0.8727 - val_loss: 0.6155 - val_binary_accuracy: 0.7554\n",
      "Epoch 93/100\n",
      "59/59 [==============================] - 2s 33ms/step - loss: 0.2811 - binary_accuracy: 0.8770 - val_loss: 0.7283 - val_binary_accuracy: 0.7511\n",
      "Epoch 94/100\n",
      "59/59 [==============================] - 2s 32ms/step - loss: 0.2947 - binary_accuracy: 0.8642 - val_loss: 0.6559 - val_binary_accuracy: 0.7554\n",
      "Epoch 95/100\n",
      "59/59 [==============================] - 2s 32ms/step - loss: 0.2917 - binary_accuracy: 0.8610 - val_loss: 0.7844 - val_binary_accuracy: 0.7468\n",
      "Epoch 96/100\n",
      "59/59 [==============================] - 2s 32ms/step - loss: 0.2644 - binary_accuracy: 0.8888 - val_loss: 0.6885 - val_binary_accuracy: 0.7639\n",
      "Epoch 97/100\n",
      "59/59 [==============================] - 2s 32ms/step - loss: 0.2739 - binary_accuracy: 0.8898 - val_loss: 0.7451 - val_binary_accuracy: 0.7554\n",
      "Epoch 98/100\n",
      "59/59 [==============================] - 2s 32ms/step - loss: 0.3210 - binary_accuracy: 0.8513 - val_loss: 0.6280 - val_binary_accuracy: 0.8069\n",
      "Epoch 99/100\n",
      "59/59 [==============================] - 2s 32ms/step - loss: 0.2985 - binary_accuracy: 0.8599 - val_loss: 0.6604 - val_binary_accuracy: 0.7854\n",
      "Epoch 100/100\n",
      "59/59 [==============================] - 2s 32ms/step - loss: 0.2822 - binary_accuracy: 0.8717 - val_loss: 0.7038 - val_binary_accuracy: 0.7468\n"
     ]
    }
   ],
   "source": [
    "history100 = MyModel.fit(\n",
    "    ds_train,\n",
    "    validation_data=ds_val,\n",
    "    epochs=100,\n",
    ")"
   ]
  },
  {
   "cell_type": "code",
   "execution_count": 17,
   "id": "02be911c",
   "metadata": {},
   "outputs": [
    {
     "data": {
      "image/png": "[encoded data removed]",
      "text/plain": [
       "<Figure size 432x288 with 1 Axes>"
      ]
     },
     "metadata": {
      "needs_background": "light"
     },
     "output_type": "display_data"
    },
    {
     "data": {
      "image/png": "[encoded data removed]",
      "text/plain": [
       "<Figure size 432x288 with 1 Axes>"
      ]
     },
     "metadata": {
      "needs_background": "light"
     },
     "output_type": "display_data"
    }
   ],
   "source": [
    "history100_frame = pd.DataFrame(history100.history)\n",
    "history100_frame.loc[:, ['loss', 'val_loss']].plot()\n",
    "history100_frame.loc[:, ['binary_accuracy', 'val_binary_accuracy']].plot();"
   ]
  },
  {
   "cell_type": "code",
   "execution_count": 18,
   "id": "7e3bddcf",
   "metadata": {},
   "outputs": [
    {
     "name": "stdout",
     "output_type": "stream",
     "text": [
      "Epoch 1/25\n",
      "59/59 [==============================] - 2s 33ms/step - loss: 0.7131 - binary_accuracy: 0.6160 - val_loss: 0.7172 - val_binary_accuracy: 0.4936\n",
      "Epoch 2/25\n",
      "59/59 [==============================] - 2s 33ms/step - loss: 0.6421 - binary_accuracy: 0.6642 - val_loss: 0.7611 - val_binary_accuracy: 0.4936\n",
      "Epoch 3/25\n",
      "59/59 [==============================] - 2s 32ms/step - loss: 0.6068 - binary_accuracy: 0.6909 - val_loss: 0.7470 - val_binary_accuracy: 0.4936\n",
      "Epoch 4/25\n",
      "59/59 [==============================] - 2s 32ms/step - loss: 0.5821 - binary_accuracy: 0.7005 - val_loss: 0.7031 - val_binary_accuracy: 0.4936\n",
      "Epoch 5/25\n",
      "59/59 [==============================] - 2s 32ms/step - loss: 0.5997 - binary_accuracy: 0.6856 - val_loss: 0.7796 - val_binary_accuracy: 0.4936\n",
      "Epoch 6/25\n",
      "59/59 [==============================] - 2s 32ms/step - loss: 0.5720 - binary_accuracy: 0.6898 - val_loss: 0.7208 - val_binary_accuracy: 0.4936\n",
      "Epoch 7/25\n",
      "59/59 [==============================] - 2s 32ms/step - loss: 0.5655 - binary_accuracy: 0.7144 - val_loss: 0.7121 - val_binary_accuracy: 0.4936\n",
      "Epoch 8/25\n",
      "59/59 [==============================] - 2s 32ms/step - loss: 0.5629 - binary_accuracy: 0.7134 - val_loss: 0.6106 - val_binary_accuracy: 0.6996\n",
      "Epoch 9/25\n",
      "59/59 [==============================] - 2s 32ms/step - loss: 0.5548 - binary_accuracy: 0.7144 - val_loss: 0.6625 - val_binary_accuracy: 0.5880\n",
      "Epoch 10/25\n",
      "59/59 [==============================] - 2s 33ms/step - loss: 0.5501 - binary_accuracy: 0.7326 - val_loss: 0.5785 - val_binary_accuracy: 0.7124\n",
      "Epoch 11/25\n",
      "59/59 [==============================] - 2s 33ms/step - loss: 0.5427 - binary_accuracy: 0.7144 - val_loss: 0.5169 - val_binary_accuracy: 0.7554\n",
      "Epoch 12/25\n",
      "59/59 [==============================] - 2s 33ms/step - loss: 0.5340 - binary_accuracy: 0.7316 - val_loss: 0.5041 - val_binary_accuracy: 0.7554\n",
      "Epoch 13/25\n",
      "59/59 [==============================] - 2s 33ms/step - loss: 0.5271 - binary_accuracy: 0.7219 - val_loss: 0.5565 - val_binary_accuracy: 0.7210\n",
      "Epoch 14/25\n",
      "59/59 [==============================] - 2s 32ms/step - loss: 0.5379 - binary_accuracy: 0.7187 - val_loss: 0.5015 - val_binary_accuracy: 0.7811\n",
      "Epoch 15/25\n",
      "59/59 [==============================] - 2s 33ms/step - loss: 0.5252 - binary_accuracy: 0.7283 - val_loss: 0.5670 - val_binary_accuracy: 0.7296\n",
      "Epoch 16/25\n",
      "59/59 [==============================] - 2s 33ms/step - loss: 0.5190 - binary_accuracy: 0.7305 - val_loss: 0.5617 - val_binary_accuracy: 0.7167\n",
      "Epoch 17/25\n",
      "59/59 [==============================] - 2s 33ms/step - loss: 0.5247 - binary_accuracy: 0.7283 - val_loss: 0.5068 - val_binary_accuracy: 0.7597\n",
      "Epoch 18/25\n",
      "59/59 [==============================] - 2s 32ms/step - loss: 0.5175 - binary_accuracy: 0.7401 - val_loss: 0.4919 - val_binary_accuracy: 0.7811\n",
      "Epoch 19/25\n",
      "59/59 [==============================] - 2s 32ms/step - loss: 0.5233 - binary_accuracy: 0.7337 - val_loss: 0.4990 - val_binary_accuracy: 0.7682\n",
      "Epoch 20/25\n",
      "59/59 [==============================] - 2s 33ms/step - loss: 0.4964 - binary_accuracy: 0.7455 - val_loss: 0.5111 - val_binary_accuracy: 0.7811\n",
      "Epoch 21/25\n",
      "59/59 [==============================] - 2s 33ms/step - loss: 0.5132 - binary_accuracy: 0.7337 - val_loss: 0.5076 - val_binary_accuracy: 0.7725\n",
      "Epoch 22/25\n",
      "59/59 [==============================] - 2s 33ms/step - loss: 0.5109 - binary_accuracy: 0.7412 - val_loss: 0.5017 - val_binary_accuracy: 0.7854\n",
      "Epoch 23/25\n",
      "59/59 [==============================] - 2s 33ms/step - loss: 0.5017 - binary_accuracy: 0.7390 - val_loss: 0.4921 - val_binary_accuracy: 0.7768\n",
      "Epoch 24/25\n",
      "59/59 [==============================] - 2s 33ms/step - loss: 0.5028 - binary_accuracy: 0.7497 - val_loss: 0.5038 - val_binary_accuracy: 0.7811\n",
      "Epoch 25/25\n",
      "59/59 [==============================] - 2s 33ms/step - loss: 0.4982 - binary_accuracy: 0.7519 - val_loss: 0.5015 - val_binary_accuracy: 0.7597\n"
     ]
    }
   ],
   "source": [
    "MyModel.load_weights('My_model')\n",
    "history40 = MyModel.fit(\n",
    "    ds_train,\n",
    "    validation_data=ds_val,\n",
    "    epochs=25,\n",
    ")"
   ]
  },
  {
   "cell_type": "code",
   "execution_count": 19,
   "id": "de679811",
   "metadata": {},
   "outputs": [
    {
     "data": {
      "image/png": "[encoded data removed]",
      "text/plain": [
       "<Figure size 432x288 with 1 Axes>"
      ]
     },
     "metadata": {
      "needs_background": "light"
     },
     "output_type": "display_data"
    },
    {
     "data": {
      "image/png": "[encoded data removed]",
      "text/plain": [
       "<Figure size 432x288 with 1 Axes>"
      ]
     },
     "metadata": {
      "needs_background": "light"
     },
     "output_type": "display_data"
    }
   ],
   "source": [
    "history40_frame = pd.DataFrame(history40.history)\n",
    "history40_frame.loc[:, ['loss', 'val_loss']].plot()\n",
    "history40_frame.loc[:, ['binary_accuracy', 'val_binary_accuracy']].plot();"
   ]
  },
  {
   "cell_type": "markdown",
   "id": "d4ed1c67",
   "metadata": {},
   "source": [
    "## 5. Results\n",
    " "
   ]
  },
  {
   "cell_type": "code",
   "execution_count": 20,
   "id": "7e9a2463",
   "metadata": {},
   "outputs": [
    {
     "name": "stdout",
     "output_type": "stream",
     "text": [
      "Prédictions ;\n",
      " - Malin(s):  143 \n",
      " - Bénins:  90 \n",
      " - Total comp:  233  vs  233\n"
     ]
    }
   ],
   "source": [
    "predictionMy = MyModel.predict(ds_val)\n",
    "b =0\n",
    "m = 0\n",
    "for element in predictionMy :\n",
    "    if(element[0] > 0.5) :\n",
    "        m +=1\n",
    "    elif(element[0]< 0.5) :\n",
    "        b +=1\n",
    "        \n",
    "print(\"Prédictions ;\\n - Malin(s): \", m, \"\\n - Bénins: \", b, \"\\n - Total comp: \", b+m,\" vs \",len(predictionMy))"
   ]
  },
  {
   "cell_type": "code",
   "execution_count": 21,
   "id": "cd78cd6d",
   "metadata": {},
   "outputs": [],
   "source": [
    "def predict_class_label_number(dataset,model):\n",
    "    predictions =  model.predict(dataset)\n",
    "    res = np.zeros(len(predictions))\n",
    "    i = 0 \n",
    "    for element in predictions : \n",
    "        if(element[0]> 0.5):\n",
    "            res[i] = 1\n",
    "        i += 1\n",
    "    return tf.convert_to_tensor(res)\n",
    "\n",
    "def give_labels (dataset, size):\n",
    "    lab = np.zeros(size)\n",
    "    i = 0\n",
    "    for batch in dataset:\n",
    "        for element in batch[1] :\n",
    "            lab[i] = element.numpy()\n",
    "            i +=1\n",
    "    return tf.convert_to_tensor(lab)\n",
    "    \n",
    "def show_confusion_matrix(cm, labels):\n",
    "    plt.figure(figsize=(5,5))\n",
    "    plt.imshow(cm)\n",
    "    plt.colorbar()\n",
    "    plt.xlabel('Predictions')\n",
    "    plt.ylabel('Labels')\n",
    "    plt.show()"
   ]
  },
  {
   "cell_type": "code",
   "execution_count": 23,
   "id": "70d1573a",
   "metadata": {},
   "outputs": [
    {
     "data": {
      "image/png": "[encoded data removed]",
      "text/plain": [
       "<Figure size 360x360 with 2 Axes>"
      ]
     },
     "metadata": {
      "needs_background": "light"
     },
     "output_type": "display_data"
    }
   ],
   "source": [
    "confusion_mtx_My = tf.math.confusion_matrix(\n",
    "    give_labels(ds_val, size),\n",
    "    predict_class_label_number(ds_val, MyModel),\n",
    "    num_classes=2)\n",
    "show_confusion_matrix(confusion_mtx_My, [0,1])"
   ]
  },
  {
   "cell_type": "markdown",
   "id": "90af0a49",
   "metadata": {},
   "source": [
    "## 6. Comparison with other models using transfer learning\n",
    "\n",
    "In this part, the results obtained are compared to the ones obtained with transfer learning using two commonly used models for classification that are Mobilenet from Google and VGG16 from Oxford but no fine tuning will be done here. These models are pretrained on the 'imagenet' dataset. \n",
    "This part is inspired by this tutorial from tensorflow : https://www.tensorflow.org/tutorials/images/transfer_learning\n",
    "\n",
    "### 6.1 Mobilenet "
   ]
  },
  {
   "cell_type": "code",
   "execution_count": 24,
   "id": "516d7f37",
   "metadata": {},
   "outputs": [],
   "source": [
    "preprocess_input = tf.keras.applications.mobilenet_v2.preprocess_input\n",
    "IMG_SIZE = (160, 160)\n",
    "IMG_SHAPE = IMG_SIZE + (3,)\n",
    "base_model = tf.keras.applications.MobileNetV2(input_shape=IMG_SHAPE, include_top=False, weights='imagenet')"
   ]
  },
  {
   "cell_type": "code",
   "execution_count": 25,
   "id": "fdae7868",
   "metadata": {},
   "outputs": [
    {
     "name": "stdout",
     "output_type": "stream",
     "text": [
      "(16, 5, 5, 1280)\n"
     ]
    }
   ],
   "source": [
    "image_batch, label_batch = next(iter(ds_train))\n",
    "feature_batch = base_model(image_batch)\n",
    "print(feature_batch.shape)"
   ]
  },
  {
   "cell_type": "code",
   "execution_count": 26,
   "id": "4879e2bc",
   "metadata": {},
   "outputs": [],
   "source": [
    "base_model.trainable = False\n",
    "#base_model.summary()"
   ]
  },
  {
   "cell_type": "code",
   "execution_count": 27,
   "id": "71e221d2",
   "metadata": {},
   "outputs": [],
   "source": [
    "data_augmentation = tf.keras.Sequential([\n",
    "    preprocessing.RandomContrast(factor=0.1),\n",
    "    preprocessing.RandomFlip(mode='horizontal'), \n",
    "    preprocessing.RandomFlip(mode='vertical'), \n",
    "    preprocessing.RandomRotation(factor=0.20),  \n",
    "])"
   ]
  },
  {
   "cell_type": "code",
   "execution_count": 28,
   "id": "a85679c7",
   "metadata": {},
   "outputs": [
    {
     "name": "stdout",
     "output_type": "stream",
     "text": [
      "(16, 1280)\n"
     ]
    }
   ],
   "source": [
    "global_average_layer = tf.keras.layers.GlobalAveragePooling2D()\n",
    "feature_batch_average = global_average_layer(feature_batch)\n",
    "print(feature_batch_average.shape)"
   ]
  },
  {
   "cell_type": "code",
   "execution_count": 29,
   "id": "7e12a8fd",
   "metadata": {},
   "outputs": [
    {
     "name": "stdout",
     "output_type": "stream",
     "text": [
      "(16, 1)\n"
     ]
    }
   ],
   "source": [
    "prediction_layer = tf.keras.layers.Dense(1, activation = 'sigmoid')\n",
    "prediction_batch = prediction_layer(feature_batch_average)\n",
    "print(prediction_batch.shape)"
   ]
  },
  {
   "cell_type": "code",
   "execution_count": 30,
   "id": "8e25439d",
   "metadata": {},
   "outputs": [],
   "source": [
    "inputs = tf.keras.Input(shape=(160, 160, 3))\n",
    "x = data_augmentation(inputs)\n",
    "x = preprocess_input(x)\n",
    "x = base_model(x, training=False)\n",
    "x = global_average_layer(x)\n",
    "x = tf.keras.layers.Dropout(0.2)(x)\n",
    "outputs = prediction_layer(x)\n",
    "modelMobilenet = tf.keras.Model(inputs, outputs)"
   ]
  },
  {
   "cell_type": "code",
   "execution_count": 31,
   "id": "a93cb708",
   "metadata": {},
   "outputs": [],
   "source": [
    "base_learning_rate = 0.0001\n",
    "modelMobilenet.compile(optimizer=tf.keras.optimizers.Adam(learning_rate=base_learning_rate),\n",
    "              loss=tf.keras.losses.BinaryCrossentropy(from_logits=False),\n",
    "              metrics=['accuracy', 'binary_accuracy'])"
   ]
  },
  {
   "cell_type": "code",
   "execution_count": 32,
   "id": "0a257f68",
   "metadata": {},
   "outputs": [
    {
     "name": "stdout",
     "output_type": "stream",
     "text": [
      "Model: \"model\"\n",
      "_________________________________________________________________\n",
      "Layer (type)                 Output Shape              Param #   \n",
      "=================================================================\n",
      "input_3 (InputLayer)         [(None, 160, 160, 3)]     0         \n",
      "_________________________________________________________________\n",
      "sequential_1 (Sequential)    (None, 160, 160, 3)       0         \n",
      "_________________________________________________________________\n",
      "tf.math.truediv (TFOpLambda) (None, 160, 160, 3)       0         \n",
      "_________________________________________________________________\n",
      "tf.math.subtract (TFOpLambda (None, 160, 160, 3)       0         \n",
      "_________________________________________________________________\n",
      "mobilenetv2_1.00_160 (Functi (None, 5, 5, 1280)        2257984   \n",
      "_________________________________________________________________\n",
      "global_average_pooling2d (Gl (None, 1280)              0         \n",
      "_________________________________________________________________\n",
      "dropout_3 (Dropout)          (None, 1280)              0         \n",
      "_________________________________________________________________\n",
      "dense_4 (Dense)              (None, 1)                 1281      \n",
      "=================================================================\n",
      "Total params: 2,259,265\n",
      "Trainable params: 1,281\n",
      "Non-trainable params: 2,257,984\n",
      "_________________________________________________________________\n"
     ]
    }
   ],
   "source": [
    "modelMobilenet.summary()"
   ]
  },
  {
   "cell_type": "code",
   "execution_count": 33,
   "id": "7e4dbeba",
   "metadata": {},
   "outputs": [],
   "source": [
    "initial_epochs = 25"
   ]
  },
  {
   "cell_type": "code",
   "execution_count": 34,
   "id": "a05e4d64",
   "metadata": {},
   "outputs": [
    {
     "name": "stdout",
     "output_type": "stream",
     "text": [
      "Epoch 1/25\n",
      "59/59 [==============================] - 4s 26ms/step - loss: 0.7385 - accuracy: 0.5476 - binary_accuracy: 0.5476 - val_loss: 0.6640 - val_accuracy: 0.6137 - val_binary_accuracy: 0.6137\n",
      "Epoch 2/25\n",
      "59/59 [==============================] - 1s 16ms/step - loss: 0.7087 - accuracy: 0.5925 - binary_accuracy: 0.5925 - val_loss: 0.6443 - val_accuracy: 0.6481 - val_binary_accuracy: 0.6481\n",
      "Epoch 3/25\n",
      "59/59 [==============================] - 1s 16ms/step - loss: 0.6577 - accuracy: 0.6128 - binary_accuracy: 0.6128 - val_loss: 0.6284 - val_accuracy: 0.6781 - val_binary_accuracy: 0.6781\n",
      "Epoch 4/25\n",
      "59/59 [==============================] - 1s 16ms/step - loss: 0.6681 - accuracy: 0.6182 - binary_accuracy: 0.6182 - val_loss: 0.6175 - val_accuracy: 0.6738 - val_binary_accuracy: 0.6738\n",
      "Epoch 5/25\n",
      "59/59 [==============================] - 1s 16ms/step - loss: 0.6551 - accuracy: 0.6267 - binary_accuracy: 0.6267 - val_loss: 0.6081 - val_accuracy: 0.6867 - val_binary_accuracy: 0.6867\n",
      "Epoch 6/25\n",
      "59/59 [==============================] - 1s 16ms/step - loss: 0.6299 - accuracy: 0.6524 - binary_accuracy: 0.6524 - val_loss: 0.5997 - val_accuracy: 0.6910 - val_binary_accuracy: 0.6910\n",
      "Epoch 7/25\n",
      "59/59 [==============================] - 1s 16ms/step - loss: 0.6118 - accuracy: 0.6652 - binary_accuracy: 0.6652 - val_loss: 0.5949 - val_accuracy: 0.6824 - val_binary_accuracy: 0.6824\n",
      "Epoch 8/25\n",
      "59/59 [==============================] - 1s 16ms/step - loss: 0.6019 - accuracy: 0.6781 - binary_accuracy: 0.6781 - val_loss: 0.5855 - val_accuracy: 0.6867 - val_binary_accuracy: 0.6867\n",
      "Epoch 9/25\n",
      "59/59 [==============================] - 1s 16ms/step - loss: 0.5894 - accuracy: 0.6845 - binary_accuracy: 0.6845 - val_loss: 0.5779 - val_accuracy: 0.6953 - val_binary_accuracy: 0.6953\n",
      "Epoch 10/25\n",
      "59/59 [==============================] - 1s 16ms/step - loss: 0.5796 - accuracy: 0.6963 - binary_accuracy: 0.6963 - val_loss: 0.5755 - val_accuracy: 0.7039 - val_binary_accuracy: 0.7039\n",
      "Epoch 11/25\n",
      "59/59 [==============================] - 1s 15ms/step - loss: 0.5678 - accuracy: 0.6984 - binary_accuracy: 0.6984 - val_loss: 0.5709 - val_accuracy: 0.7124 - val_binary_accuracy: 0.7124\n",
      "Epoch 12/25\n",
      "59/59 [==============================] - 1s 16ms/step - loss: 0.5985 - accuracy: 0.6759 - binary_accuracy: 0.6759 - val_loss: 0.5668 - val_accuracy: 0.7124 - val_binary_accuracy: 0.7124\n",
      "Epoch 13/25\n",
      "59/59 [==============================] - 1s 16ms/step - loss: 0.5720 - accuracy: 0.7134 - binary_accuracy: 0.7134 - val_loss: 0.5649 - val_accuracy: 0.7167 - val_binary_accuracy: 0.7167\n",
      "Epoch 14/25\n",
      "59/59 [==============================] - 1s 16ms/step - loss: 0.5727 - accuracy: 0.7102 - binary_accuracy: 0.7102 - val_loss: 0.5642 - val_accuracy: 0.7210 - val_binary_accuracy: 0.7210\n",
      "Epoch 15/25\n",
      "59/59 [==============================] - 1s 16ms/step - loss: 0.5715 - accuracy: 0.7134 - binary_accuracy: 0.7134 - val_loss: 0.5606 - val_accuracy: 0.7296 - val_binary_accuracy: 0.7296\n",
      "Epoch 16/25\n",
      "59/59 [==============================] - 1s 15ms/step - loss: 0.5452 - accuracy: 0.7305 - binary_accuracy: 0.7305 - val_loss: 0.5599 - val_accuracy: 0.7296 - val_binary_accuracy: 0.7296\n",
      "Epoch 17/25\n",
      "59/59 [==============================] - 1s 15ms/step - loss: 0.5454 - accuracy: 0.7123 - binary_accuracy: 0.7123 - val_loss: 0.5575 - val_accuracy: 0.7296 - val_binary_accuracy: 0.7296\n",
      "Epoch 18/25\n",
      "59/59 [==============================] - 1s 16ms/step - loss: 0.5695 - accuracy: 0.7059 - binary_accuracy: 0.7059 - val_loss: 0.5562 - val_accuracy: 0.7296 - val_binary_accuracy: 0.7296\n",
      "Epoch 19/25\n",
      "59/59 [==============================] - 1s 15ms/step - loss: 0.5433 - accuracy: 0.7144 - binary_accuracy: 0.7144 - val_loss: 0.5529 - val_accuracy: 0.7296 - val_binary_accuracy: 0.7296\n",
      "Epoch 20/25\n",
      "59/59 [==============================] - 1s 16ms/step - loss: 0.5443 - accuracy: 0.7230 - binary_accuracy: 0.7230 - val_loss: 0.5522 - val_accuracy: 0.7296 - val_binary_accuracy: 0.7296\n",
      "Epoch 21/25\n",
      "59/59 [==============================] - 1s 16ms/step - loss: 0.5452 - accuracy: 0.7219 - binary_accuracy: 0.7219 - val_loss: 0.5507 - val_accuracy: 0.7253 - val_binary_accuracy: 0.7253\n",
      "Epoch 22/25\n",
      "59/59 [==============================] - 1s 16ms/step - loss: 0.5486 - accuracy: 0.7198 - binary_accuracy: 0.7198 - val_loss: 0.5490 - val_accuracy: 0.7253 - val_binary_accuracy: 0.7253\n",
      "Epoch 23/25\n",
      "59/59 [==============================] - 1s 15ms/step - loss: 0.5321 - accuracy: 0.7412 - binary_accuracy: 0.7412 - val_loss: 0.5475 - val_accuracy: 0.7382 - val_binary_accuracy: 0.7382\n",
      "Epoch 24/25\n",
      "59/59 [==============================] - 1s 15ms/step - loss: 0.5536 - accuracy: 0.7155 - binary_accuracy: 0.7155 - val_loss: 0.5479 - val_accuracy: 0.7253 - val_binary_accuracy: 0.7253\n",
      "Epoch 25/25\n",
      "59/59 [==============================] - 1s 16ms/step - loss: 0.5230 - accuracy: 0.7369 - binary_accuracy: 0.7369 - val_loss: 0.5474 - val_accuracy: 0.7253 - val_binary_accuracy: 0.7253\n"
     ]
    }
   ],
   "source": [
    "historyMobilenet = modelMobilenet.fit(ds_train,\n",
    "                    epochs=initial_epochs,\n",
    "                    validation_data=ds_val)"
   ]
  },
  {
   "cell_type": "code",
   "execution_count": 35,
   "id": "2c6bda0e",
   "metadata": {
    "scrolled": true
   },
   "outputs": [
    {
     "data": {
      "image/png": "[encoded data removed]",
      "text/plain": [
       "<Figure size 576x576 with 2 Axes>"
      ]
     },
     "metadata": {
      "needs_background": "light"
     },
     "output_type": "display_data"
    }
   ],
   "source": [
    "acc = historyMobilenet.history['accuracy']\n",
    "val_acc = historyMobilenet.history['val_accuracy']\n",
    "\n",
    "loss = historyMobilenet.history['loss']\n",
    "val_loss = historyMobilenet.history['val_loss']\n",
    "\n",
    "plt.figure(figsize=(8, 8))\n",
    "plt.subplot(2, 1, 1)\n",
    "plt.plot(acc, label='Training Accuracy')\n",
    "plt.plot(val_acc, label='Validation Accuracy')\n",
    "plt.legend(loc='lower right')\n",
    "plt.ylabel('Accuracy')\n",
    "plt.ylim([min(plt.ylim()),1])\n",
    "plt.title('Training and Validation Accuracy')\n",
    "\n",
    "plt.subplot(2, 1, 2)\n",
    "plt.plot(loss, label='Training Loss')\n",
    "plt.plot(val_loss, label='Validation Loss')\n",
    "plt.legend(loc='upper right')\n",
    "plt.ylabel('Cross Entropy')\n",
    "plt.ylim([0,1.0])\n",
    "plt.title('Training and Validation Loss')\n",
    "plt.xlabel('epoch')\n",
    "plt.show()"
   ]
  },
  {
   "cell_type": "code",
   "execution_count": 36,
   "id": "65e40694",
   "metadata": {},
   "outputs": [
    {
     "name": "stdout",
     "output_type": "stream",
     "text": [
      "Prédictions ;\n",
      " - Malin(s):  127 \n",
      " - Bénins:  106 \n",
      " - Total comp:  233  vs  233\n"
     ]
    }
   ],
   "source": [
    "predictionsMobilenet = modelMobilenet.predict(ds_val)\n",
    "b =0\n",
    "m = 0\n",
    "for element in predictionsMobilenet :\n",
    "    if(element[0] > 0.5) :\n",
    "        m +=1\n",
    "    elif(element[0]< 0.5) :\n",
    "        b +=1\n",
    "        \n",
    "print(\"Prédictions ;\\n - Malin(s): \", m, \"\\n - Bénins: \", b, \"\\n - Total comp: \", b+m,\" vs \",len(predictionsMobilenet))"
   ]
  },
  {
   "cell_type": "code",
   "execution_count": 37,
   "id": "68334e7a",
   "metadata": {},
   "outputs": [],
   "source": [
    "def predict_class_label_number(dataset,model):\n",
    "    predictions =  model.predict(dataset)\n",
    "    res = np.zeros(len(predictions))\n",
    "    i = 0 \n",
    "    for element in predictions : \n",
    "        if(element[0]> 0.5):\n",
    "            res[i] = 1\n",
    "        i += 1\n",
    "    return tf.convert_to_tensor(res)\n",
    "\n",
    "def give_labels (dataset, size):\n",
    "    lab = np.zeros(size)\n",
    "    i = 0\n",
    "    for batch in dataset:\n",
    "        for element in batch[1] :\n",
    "            lab[i] = element.numpy()\n",
    "            i +=1\n",
    "    return tf.convert_to_tensor(lab)\n",
    "    \n",
    "def show_confusion_matrix(cm, labels):\n",
    "    plt.figure(figsize=(5,5))\n",
    "    plt.imshow(cm)\n",
    "    plt.colorbar()\n",
    "    plt.xlabel('Predictions')\n",
    "    plt.ylabel('Labels')\n",
    "    plt.show()"
   ]
  },
  {
   "cell_type": "code",
   "execution_count": 39,
   "id": "67271261",
   "metadata": {},
   "outputs": [
    {
     "data": {
      "image/png": "[encoded data removed]",
      "text/plain": [
       "<Figure size 360x360 with 2 Axes>"
      ]
     },
     "metadata": {
      "needs_background": "light"
     },
     "output_type": "display_data"
    }
   ],
   "source": [
    "confusion_mtx_Mobilenet = tf.math.confusion_matrix(\n",
    "    give_labels(ds_val, size),\n",
    "    predict_class_label_number(ds_val, modelMobilenet),\n",
    "    num_classes=2)\n",
    "show_confusion_matrix(confusion_mtx_Mobilenet, [0,1])"
   ]
  },
  {
   "cell_type": "markdown",
   "id": "78cf0f62",
   "metadata": {},
   "source": [
    "### 6.2 VGG16 "
   ]
  },
  {
   "cell_type": "code",
   "execution_count": 40,
   "id": "dfaa8232",
   "metadata": {},
   "outputs": [],
   "source": [
    "preprocess_input = tf.keras.applications.vgg16.preprocess_input\n",
    "IMG_SIZE = (160,160)\n",
    "IMG_SHAPE = IMG_SIZE + (3,)\n",
    "base_model = tf.keras.applications.vgg16.VGG16(\n",
    "    include_top=False,\n",
    "    weights='imagenet',\n",
    "    input_tensor=None,\n",
    "    input_shape=IMG_SHAPE,\n",
    "    pooling=None,\n",
    "    classes=2,\n",
    "    classifier_activation='softmax'\n",
    ")"
   ]
  },
  {
   "cell_type": "code",
   "execution_count": 41,
   "id": "f182fc10",
   "metadata": {},
   "outputs": [
    {
     "name": "stdout",
     "output_type": "stream",
     "text": [
      "(16, 5, 5, 512)\n"
     ]
    }
   ],
   "source": [
    "image_batch, label_batch = next(iter(ds_train))\n",
    "feature_batch = base_model(image_batch)\n",
    "print(feature_batch.shape)"
   ]
  },
  {
   "cell_type": "code",
   "execution_count": 42,
   "id": "e0657aed",
   "metadata": {},
   "outputs": [
    {
     "name": "stdout",
     "output_type": "stream",
     "text": [
      "Model: \"vgg16\"\n",
      "_________________________________________________________________\n",
      "Layer (type)                 Output Shape              Param #   \n",
      "=================================================================\n",
      "input_4 (InputLayer)         [(None, 160, 160, 3)]     0         \n",
      "_________________________________________________________________\n",
      "block1_conv1 (Conv2D)        (None, 160, 160, 64)      1792      \n",
      "_________________________________________________________________\n",
      "block1_conv2 (Conv2D)        (None, 160, 160, 64)      36928     \n",
      "_________________________________________________________________\n",
      "block1_pool (MaxPooling2D)   (None, 80, 80, 64)        0         \n",
      "_________________________________________________________________\n",
      "block2_conv1 (Conv2D)        (None, 80, 80, 128)       73856     \n",
      "_________________________________________________________________\n",
      "block2_conv2 (Conv2D)        (None, 80, 80, 128)       147584    \n",
      "_________________________________________________________________\n",
      "block2_pool (MaxPooling2D)   (None, 40, 40, 128)       0         \n",
      "_________________________________________________________________\n",
      "block3_conv1 (Conv2D)        (None, 40, 40, 256)       295168    \n",
      "_________________________________________________________________\n",
      "block3_conv2 (Conv2D)        (None, 40, 40, 256)       590080    \n",
      "_________________________________________________________________\n",
      "block3_conv3 (Conv2D)        (None, 40, 40, 256)       590080    \n",
      "_________________________________________________________________\n",
      "block3_pool (MaxPooling2D)   (None, 20, 20, 256)       0         \n",
      "_________________________________________________________________\n",
      "block4_conv1 (Conv2D)        (None, 20, 20, 512)       1180160   \n",
      "_________________________________________________________________\n",
      "block4_conv2 (Conv2D)        (None, 20, 20, 512)       2359808   \n",
      "_________________________________________________________________\n",
      "block4_conv3 (Conv2D)        (None, 20, 20, 512)       2359808   \n",
      "_________________________________________________________________\n",
      "block4_pool (MaxPooling2D)   (None, 10, 10, 512)       0         \n",
      "_________________________________________________________________\n",
      "block5_conv1 (Conv2D)        (None, 10, 10, 512)       2359808   \n",
      "_________________________________________________________________\n",
      "block5_conv2 (Conv2D)        (None, 10, 10, 512)       2359808   \n",
      "_________________________________________________________________\n",
      "block5_conv3 (Conv2D)        (None, 10, 10, 512)       2359808   \n",
      "_________________________________________________________________\n",
      "block5_pool (MaxPooling2D)   (None, 5, 5, 512)         0         \n",
      "=================================================================\n",
      "Total params: 14,714,688\n",
      "Trainable params: 0\n",
      "Non-trainable params: 14,714,688\n",
      "_________________________________________________________________\n"
     ]
    }
   ],
   "source": [
    "base_model.trainable = False\n",
    "base_model.summary()"
   ]
  },
  {
   "cell_type": "code",
   "execution_count": 43,
   "id": "95f9ecab",
   "metadata": {},
   "outputs": [
    {
     "name": "stdout",
     "output_type": "stream",
     "text": [
      "(16, 512)\n"
     ]
    }
   ],
   "source": [
    "global_average_layer = tf.keras.layers.GlobalAveragePooling2D()\n",
    "feature_batch_average = global_average_layer(feature_batch)\n",
    "print(feature_batch_average.shape)"
   ]
  },
  {
   "cell_type": "code",
   "execution_count": 44,
   "id": "52ac5e8e",
   "metadata": {},
   "outputs": [
    {
     "name": "stdout",
     "output_type": "stream",
     "text": [
      "(16, 1)\n"
     ]
    }
   ],
   "source": [
    "prediction_layer = tf.keras.layers.Dense(1, activation = 'sigmoid')\n",
    "prediction_batch = prediction_layer(feature_batch_average)\n",
    "print(prediction_batch.shape)"
   ]
  },
  {
   "cell_type": "code",
   "execution_count": 45,
   "id": "94ec05cc",
   "metadata": {},
   "outputs": [],
   "source": [
    "inputs = tf.keras.Input(shape=(160,160, 3))\n",
    "x = data_augmentation(inputs)\n",
    "x = preprocess_input(x)\n",
    "x = base_model(x, training=False)\n",
    "x = global_average_layer(x)\n",
    "x = tf.keras.layers.Dropout(0.2)(x)\n",
    "outputs = prediction_layer(x)\n",
    "modelVGG16 = tf.keras.Model(inputs, outputs)"
   ]
  },
  {
   "cell_type": "code",
   "execution_count": 46,
   "id": "3c80416f",
   "metadata": {},
   "outputs": [],
   "source": [
    "base_learning_rate = 0.001\n",
    "modelVGG16.compile(optimizer=tf.keras.optimizers.Adam(learning_rate=base_learning_rate),\n",
    "              loss=tf.keras.losses.BinaryCrossentropy(from_logits=False),\n",
    "              metrics=['accuracy', 'binary_accuracy'])"
   ]
  },
  {
   "cell_type": "code",
   "execution_count": 47,
   "id": "6f2c3418",
   "metadata": {},
   "outputs": [
    {
     "name": "stdout",
     "output_type": "stream",
     "text": [
      "Model: \"model_1\"\n",
      "_________________________________________________________________\n",
      "Layer (type)                 Output Shape              Param #   \n",
      "=================================================================\n",
      "input_5 (InputLayer)         [(None, 160, 160, 3)]     0         \n",
      "_________________________________________________________________\n",
      "sequential_1 (Sequential)    (None, 160, 160, 3)       0         \n",
      "_________________________________________________________________\n",
      "tf.__operators__.getitem (Sl (None, 160, 160, 3)       0         \n",
      "_________________________________________________________________\n",
      "tf.math.add (TFOpLambda)     (None, 160, 160, 3)       0         \n",
      "_________________________________________________________________\n",
      "vgg16 (Functional)           (None, 5, 5, 512)         14714688  \n",
      "_________________________________________________________________\n",
      "global_average_pooling2d_1 ( (None, 512)               0         \n",
      "_________________________________________________________________\n",
      "dropout_4 (Dropout)          (None, 512)               0         \n",
      "_________________________________________________________________\n",
      "dense_5 (Dense)              (None, 1)                 513       \n",
      "=================================================================\n",
      "Total params: 14,715,201\n",
      "Trainable params: 513\n",
      "Non-trainable params: 14,714,688\n",
      "_________________________________________________________________\n"
     ]
    }
   ],
   "source": [
    "modelVGG16.summary()"
   ]
  },
  {
   "cell_type": "code",
   "execution_count": 48,
   "id": "c1826db1",
   "metadata": {},
   "outputs": [],
   "source": [
    "initial_epochs = 25"
   ]
  },
  {
   "cell_type": "code",
   "execution_count": 49,
   "id": "09073e13",
   "metadata": {},
   "outputs": [
    {
     "name": "stdout",
     "output_type": "stream",
     "text": [
      "Epoch 1/25\n",
      "59/59 [==============================] - 3s 37ms/step - loss: 1.6094 - accuracy: 0.5155 - binary_accuracy: 0.5155 - val_loss: 0.9919 - val_accuracy: 0.6223 - val_binary_accuracy: 0.6223\n",
      "Epoch 2/25\n",
      "59/59 [==============================] - 2s 33ms/step - loss: 1.2376 - accuracy: 0.5754 - binary_accuracy: 0.5754 - val_loss: 0.7000 - val_accuracy: 0.6996 - val_binary_accuracy: 0.6996\n",
      "Epoch 3/25\n",
      "59/59 [==============================] - 2s 33ms/step - loss: 0.9316 - accuracy: 0.6449 - binary_accuracy: 0.6449 - val_loss: 0.6336 - val_accuracy: 0.6953 - val_binary_accuracy: 0.6953\n",
      "Epoch 4/25\n",
      "59/59 [==============================] - 2s 33ms/step - loss: 0.8719 - accuracy: 0.6610 - binary_accuracy: 0.6610 - val_loss: 0.6065 - val_accuracy: 0.7124 - val_binary_accuracy: 0.7124\n",
      "Epoch 5/25\n",
      "59/59 [==============================] - 2s 34ms/step - loss: 0.7386 - accuracy: 0.6749 - binary_accuracy: 0.6749 - val_loss: 0.5713 - val_accuracy: 0.7082 - val_binary_accuracy: 0.7082\n",
      "Epoch 6/25\n",
      "59/59 [==============================] - 2s 34ms/step - loss: 0.6922 - accuracy: 0.7037 - binary_accuracy: 0.7037 - val_loss: 0.5423 - val_accuracy: 0.7425 - val_binary_accuracy: 0.7425\n",
      "Epoch 7/25\n",
      "59/59 [==============================] - 2s 34ms/step - loss: 0.6588 - accuracy: 0.6995 - binary_accuracy: 0.6995 - val_loss: 0.5497 - val_accuracy: 0.7468 - val_binary_accuracy: 0.7468\n",
      "Epoch 8/25\n",
      "59/59 [==============================] - 2s 34ms/step - loss: 0.6155 - accuracy: 0.7230 - binary_accuracy: 0.7230 - val_loss: 0.5538 - val_accuracy: 0.7339 - val_binary_accuracy: 0.7339\n",
      "Epoch 9/25\n",
      "59/59 [==============================] - 2s 33ms/step - loss: 0.5852 - accuracy: 0.7209 - binary_accuracy: 0.7209 - val_loss: 0.5403 - val_accuracy: 0.7339 - val_binary_accuracy: 0.7339\n",
      "Epoch 10/25\n",
      "59/59 [==============================] - 2s 34ms/step - loss: 0.5844 - accuracy: 0.7433 - binary_accuracy: 0.7433 - val_loss: 0.5316 - val_accuracy: 0.7339 - val_binary_accuracy: 0.7339\n",
      "Epoch 11/25\n",
      "59/59 [==============================] - 2s 34ms/step - loss: 0.6065 - accuracy: 0.7294 - binary_accuracy: 0.7294 - val_loss: 0.5274 - val_accuracy: 0.7511 - val_binary_accuracy: 0.7511\n",
      "Epoch 12/25\n",
      "59/59 [==============================] - 2s 34ms/step - loss: 0.5683 - accuracy: 0.7166 - binary_accuracy: 0.7166 - val_loss: 0.5172 - val_accuracy: 0.7468 - val_binary_accuracy: 0.7468\n",
      "Epoch 13/25\n",
      "59/59 [==============================] - 2s 34ms/step - loss: 0.5483 - accuracy: 0.7455 - binary_accuracy: 0.7455 - val_loss: 0.5364 - val_accuracy: 0.7554 - val_binary_accuracy: 0.7554\n",
      "Epoch 14/25\n",
      "59/59 [==============================] - 2s 34ms/step - loss: 0.5592 - accuracy: 0.7283 - binary_accuracy: 0.7283 - val_loss: 0.5233 - val_accuracy: 0.7468 - val_binary_accuracy: 0.7468\n",
      "Epoch 15/25\n",
      "59/59 [==============================] - 2s 34ms/step - loss: 0.5347 - accuracy: 0.7519 - binary_accuracy: 0.7519 - val_loss: 0.5224 - val_accuracy: 0.7554 - val_binary_accuracy: 0.7554\n",
      "Epoch 16/25\n",
      "59/59 [==============================] - 2s 33ms/step - loss: 0.5184 - accuracy: 0.7583 - binary_accuracy: 0.7583 - val_loss: 0.5130 - val_accuracy: 0.7511 - val_binary_accuracy: 0.7511\n",
      "Epoch 17/25\n",
      "59/59 [==============================] - 2s 33ms/step - loss: 0.5047 - accuracy: 0.7594 - binary_accuracy: 0.7594 - val_loss: 0.5216 - val_accuracy: 0.7725 - val_binary_accuracy: 0.7725\n",
      "Epoch 18/25\n",
      "59/59 [==============================] - 2s 33ms/step - loss: 0.5360 - accuracy: 0.7369 - binary_accuracy: 0.7369 - val_loss: 0.5139 - val_accuracy: 0.7511 - val_binary_accuracy: 0.7511\n",
      "Epoch 19/25\n",
      "59/59 [==============================] - 2s 33ms/step - loss: 0.5187 - accuracy: 0.7658 - binary_accuracy: 0.7658 - val_loss: 0.5313 - val_accuracy: 0.7511 - val_binary_accuracy: 0.7511\n",
      "Epoch 20/25\n",
      "59/59 [==============================] - 2s 33ms/step - loss: 0.4872 - accuracy: 0.7519 - binary_accuracy: 0.7519 - val_loss: 0.5391 - val_accuracy: 0.7597 - val_binary_accuracy: 0.7597\n",
      "Epoch 21/25\n",
      "59/59 [==============================] - 2s 33ms/step - loss: 0.4919 - accuracy: 0.7701 - binary_accuracy: 0.7701 - val_loss: 0.5354 - val_accuracy: 0.7425 - val_binary_accuracy: 0.7425\n",
      "Epoch 22/25\n",
      "59/59 [==============================] - 2s 33ms/step - loss: 0.4791 - accuracy: 0.7947 - binary_accuracy: 0.7947 - val_loss: 0.5448 - val_accuracy: 0.7511 - val_binary_accuracy: 0.7511\n",
      "Epoch 23/25\n",
      "59/59 [==============================] - 2s 33ms/step - loss: 0.4860 - accuracy: 0.7626 - binary_accuracy: 0.7626 - val_loss: 0.5256 - val_accuracy: 0.7511 - val_binary_accuracy: 0.7511\n",
      "Epoch 24/25\n",
      "59/59 [==============================] - 2s 33ms/step - loss: 0.5152 - accuracy: 0.7529 - binary_accuracy: 0.7529 - val_loss: 0.5458 - val_accuracy: 0.7511 - val_binary_accuracy: 0.7511\n",
      "Epoch 25/25\n",
      "59/59 [==============================] - 2s 33ms/step - loss: 0.4865 - accuracy: 0.7658 - binary_accuracy: 0.7658 - val_loss: 0.5192 - val_accuracy: 0.7425 - val_binary_accuracy: 0.7425\n"
     ]
    }
   ],
   "source": [
    "historyVGG16 = modelVGG16.fit(ds_train,\n",
    "                    epochs=initial_epochs,\n",
    "                    validation_data=ds_val)"
   ]
  },
  {
   "cell_type": "code",
   "execution_count": 50,
   "id": "94d6896e",
   "metadata": {},
   "outputs": [
    {
     "data": {
      "image/png": "[encoded data removed]",
      "text/plain": [
       "<Figure size 576x576 with 2 Axes>"
      ]
     },
     "metadata": {
      "needs_background": "light"
     },
     "output_type": "display_data"
    }
   ],
   "source": [
    "acc = historyVGG16.history['accuracy']\n",
    "val_acc = historyVGG16.history['val_accuracy']\n",
    "\n",
    "loss = historyVGG16.history['loss']\n",
    "val_loss = historyVGG16.history['val_loss']\n",
    "\n",
    "plt.figure(figsize=(8, 8))\n",
    "plt.subplot(2, 1, 1)\n",
    "plt.plot(acc, label='Training Accuracy')\n",
    "plt.plot(val_acc, label='Validation Accuracy')\n",
    "plt.legend(loc='lower right')\n",
    "plt.ylabel('Accuracy')\n",
    "plt.ylim([min(plt.ylim()),1])\n",
    "plt.title('Training and Validation Accuracy')\n",
    "\n",
    "plt.subplot(2, 1, 2)\n",
    "plt.plot(loss, label='Training Loss')\n",
    "plt.plot(val_loss, label='Validation Loss')\n",
    "plt.legend(loc='upper right')\n",
    "plt.ylabel('Cross Entropy')\n",
    "plt.ylim([0,2.0])\n",
    "plt.title('Training and Validation Loss')\n",
    "plt.xlabel('epoch')\n",
    "plt.show()"
   ]
  },
  {
   "cell_type": "code",
   "execution_count": 51,
   "id": "b80f7962",
   "metadata": {},
   "outputs": [
    {
     "name": "stdout",
     "output_type": "stream",
     "text": [
      "Prédictions ;\n",
      " - Malin(s):  113 \n",
      " - Bénins:  120 \n",
      " - Total comp:  233  vs  233\n"
     ]
    }
   ],
   "source": [
    "predictionVGG16 = modelVGG16.predict(ds_val)\n",
    "b =0\n",
    "m = 0\n",
    "for element in predictionVGG16 :\n",
    "    if(element[0] > 0.5) :\n",
    "        m +=1\n",
    "    elif(element[0]< 0.5) :\n",
    "        b +=1\n",
    "        \n",
    "print(\"Prédictions ;\\n - Malin(s): \", m, \"\\n - Bénins: \", b, \"\\n - Total comp: \", b+m,\" vs \",len(predictionVGG16))"
   ]
  },
  {
   "cell_type": "code",
   "execution_count": 52,
   "id": "b3f16da1",
   "metadata": {},
   "outputs": [],
   "source": [
    "def predict_class_label_number(dataset,model):\n",
    "    predictions =  model.predict(dataset)\n",
    "    res = np.zeros(len(predictions))\n",
    "    i = 0 \n",
    "    for element in predictions : \n",
    "        if(element[0]> 0.5):\n",
    "            res[i] = 1\n",
    "        i += 1\n",
    "    return tf.convert_to_tensor(res)\n",
    "\n",
    "def give_labels (dataset, size):\n",
    "    lab = np.zeros(size)\n",
    "    i = 0\n",
    "    for batch in dataset:\n",
    "        for element in batch[1] :\n",
    "            lab[i] = element.numpy()\n",
    "            i +=1\n",
    "    return tf.convert_to_tensor(lab)\n",
    "    \n",
    "def show_confusion_matrix(cm, labels):\n",
    "    plt.figure(figsize=(5,5))\n",
    "    plt.imshow(cm)\n",
    "    plt.colorbar()\n",
    "    plt.xlabel('Predictions')\n",
    "    plt.ylabel('Labels')\n",
    "    plt.show()"
   ]
  },
  {
   "cell_type": "code",
   "execution_count": 54,
   "id": "fffb2869",
   "metadata": {},
   "outputs": [
    {
     "data": {
      "image/png": "[encoded data removed]",
      "text/plain": [
       "<Figure size 360x360 with 2 Axes>"
      ]
     },
     "metadata": {
      "needs_background": "light"
     },
     "output_type": "display_data"
    }
   ],
   "source": [
    "confusion_mtx_VGG16 = tf.math.confusion_matrix(\n",
    "    give_labels(ds_val, size),\n",
    "    predict_class_label_number(ds_val,modelVGG16),\n",
    "    num_classes=2)\n",
    "show_confusion_matrix(confusion_mtx_VGG16, [0,1])"
   ]
  },
  {
   "cell_type": "markdown",
   "id": "5619e8a8",
   "metadata": {},
   "source": [
    "### 6.3 Comparison of the confusion matrix"
   ]
  },
  {
   "cell_type": "code",
   "execution_count": 55,
   "id": "7e75f698",
   "metadata": {},
   "outputs": [
    {
     "data": {
      "image/png": "[encoded data removed]",
      "text/plain": [
       "<Figure size 1080x360 with 6 Axes>"
      ]
     },
     "metadata": {
      "needs_background": "light"
     },
     "output_type": "display_data"
    }
   ],
   "source": [
    "plt.figure(figsize=(15,5))\n",
    "plt.subplot(1,3,1)\n",
    "plt.imshow(confusion_mtx_My)\n",
    "plt.title('Defined Model')\n",
    "plt.xlabel('Predictions')\n",
    "plt.ylabel('Labels')\n",
    "plt.colorbar()\n",
    "plt.subplot(1,3,2)\n",
    "plt.imshow(confusion_mtx_Mobilenet)\n",
    "plt.xlabel('Predictions')\n",
    "plt.title('Mobilenet')\n",
    "plt.colorbar()\n",
    "plt.subplot(1,3,3)\n",
    "plt.imshow(confusion_mtx_VGG16)\n",
    "plt.xlabel('Predictions')\n",
    "plt.title('VGG16')\n",
    "plt.colorbar()\n",
    "plt.show()"
   ]
  },
  {
   "cell_type": "code",
   "execution_count": null,
   "id": "6dec50a0",
   "metadata": {},
   "outputs": [],
   "source": []
  }
 ],
 "metadata": {
  "kernelspec": {
   "display_name": "Python 3 (ipykernel)",
   "language": "python",
   "name": "python3"
  },
  "language_info": {
   "codemirror_mode": {
    "name": "ipython",
    "version": 3
   },
   "file_extension": ".py",
   "mimetype": "text/x-python",
   "name": "python",
   "nbconvert_exporter": "python",
   "pygments_lexer": "ipython3",
   "version": "3.9.7"
  }
 },
 "nbformat": 4,
 "nbformat_minor": 5
}
