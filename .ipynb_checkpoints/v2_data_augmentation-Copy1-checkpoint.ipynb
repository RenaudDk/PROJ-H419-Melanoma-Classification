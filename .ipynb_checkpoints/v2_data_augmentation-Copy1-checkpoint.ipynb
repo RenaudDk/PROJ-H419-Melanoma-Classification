{
 "cells": [
  {
   "cell_type": "markdown",
   "id": "eae82575",
   "metadata": {},
   "source": [
    "# WIP Data augmentation \n"
   ]
  },
  {
   "cell_type": "code",
   "execution_count": 1,
   "id": "c2a75b1a",
   "metadata": {},
   "outputs": [
    {
     "name": "stdout",
     "output_type": "stream",
     "text": [
      "2.6.0\n"
     ]
    }
   ],
   "source": [
    "import numpy as np\n",
    "import os\n",
    "import PIL\n",
    "import PIL.Image\n",
    "import tensorflow as tf\n",
    "\n",
    "\n",
    "import pathlib\n",
    "import pandas as pd\n",
    "\n",
    "import pydicom # for DICOM images\n",
    "from skimage.transform import resize\n",
    "\n",
    "import matplotlib.pyplot as plt\n",
    "from matplotlib import gridspec\n",
    "%matplotlib inline\n",
    "print(tf.__version__)"
   ]
  },
  {
   "cell_type": "code",
   "execution_count": 2,
   "id": "c1022b6e",
   "metadata": {},
   "outputs": [],
   "source": [
    "def set_seed(seed=31415):\n",
    "    np.random.seed(seed)\n",
    "    tf.random.set_seed(seed)\n",
    "    os.environ['PYTHONHASHSEED'] = str(seed)\n",
    "    os.environ['TF_DETERMINISTIC_OPS'] = '1'\n",
    "set_seed()"
   ]
  },
  {
   "cell_type": "code",
   "execution_count": 3,
   "id": "d0e7b5f0",
   "metadata": {},
   "outputs": [
    {
     "name": "stdout",
     "output_type": "stream",
     "text": [
      "Train has 33,126 rows and Test has 10,982 rows.\n"
     ]
    }
   ],
   "source": [
    "# Directory\n",
    "directory = '/Users/renau/Desktop/DATA/data_proj_melanoma'\n",
    "\n",
    "# Import the 2 csv s\n",
    "train_df = pd.read_csv(directory + '/train.csv')\n",
    "test_df = pd.read_csv(directory + '/test.csv')\n",
    "\n",
    "print('Train has {:,} rows and Test has {:,} rows.'.format(len(train_df), len(test_df)))\n",
    "\n",
    "# Change columns names\n",
    "new_names = ['dcm_name', 'ID', 'sex', 'age', 'anatomy', 'diagnosis', 'benign_malignant', 'target']\n",
    "train_df.columns = new_names\n",
    "test_df.columns = new_names[:5]"
   ]
  },
  {
   "cell_type": "code",
   "execution_count": 4,
   "id": "5e09f3c8",
   "metadata": {},
   "outputs": [],
   "source": [
    "# === JPEG ===\n",
    "# Create the paths\n",
    "path_train = directory + '/jpeg/train/' + train_df['dcm_name'] + '.jpg'\n",
    "path_test = directory + '/jpeg/test/' + test_df['dcm_name'] + '.jpg'\n",
    "\n",
    "# Append to the original dataframes\n",
    "train_df['path_jpeg'] = path_train\n",
    "test_df['path_jpeg'] = path_test"
   ]
  },
  {
   "cell_type": "code",
   "execution_count": 5,
   "id": "670fb0a1",
   "metadata": {
    "scrolled": true
   },
   "outputs": [
    {
     "data": {
      "text/html": [
       "<div>\n",
       "<style scoped>\n",
       "    .dataframe tbody tr th:only-of-type {\n",
       "        vertical-align: middle;\n",
       "    }\n",
       "\n",
       "    .dataframe tbody tr th {\n",
       "        vertical-align: top;\n",
       "    }\n",
       "\n",
       "    .dataframe thead th {\n",
       "        text-align: right;\n",
       "    }\n",
       "</style>\n",
       "<table border=\"1\" class=\"dataframe\">\n",
       "  <thead>\n",
       "    <tr style=\"text-align: right;\">\n",
       "      <th></th>\n",
       "      <th>dcm_name</th>\n",
       "      <th>ID</th>\n",
       "      <th>sex</th>\n",
       "      <th>age</th>\n",
       "      <th>anatomy</th>\n",
       "      <th>diagnosis</th>\n",
       "      <th>benign_malignant</th>\n",
       "      <th>target</th>\n",
       "      <th>path_jpeg</th>\n",
       "    </tr>\n",
       "  </thead>\n",
       "  <tbody>\n",
       "    <tr>\n",
       "      <th>91</th>\n",
       "      <td>ISIC_0149568</td>\n",
       "      <td>IP_0962375</td>\n",
       "      <td>female</td>\n",
       "      <td>55.0</td>\n",
       "      <td>upper extremity</td>\n",
       "      <td>melanoma</td>\n",
       "      <td>malignant</td>\n",
       "      <td>1</td>\n",
       "      <td>/Users/renau/Desktop/DATA/data_proj_melanoma/j...</td>\n",
       "    </tr>\n",
       "    <tr>\n",
       "      <th>235</th>\n",
       "      <td>ISIC_0188432</td>\n",
       "      <td>IP_0135517</td>\n",
       "      <td>female</td>\n",
       "      <td>50.0</td>\n",
       "      <td>upper extremity</td>\n",
       "      <td>melanoma</td>\n",
       "      <td>malignant</td>\n",
       "      <td>1</td>\n",
       "      <td>/Users/renau/Desktop/DATA/data_proj_melanoma/j...</td>\n",
       "    </tr>\n",
       "    <tr>\n",
       "      <th>314</th>\n",
       "      <td>ISIC_0207268</td>\n",
       "      <td>IP_7735373</td>\n",
       "      <td>male</td>\n",
       "      <td>55.0</td>\n",
       "      <td>torso</td>\n",
       "      <td>melanoma</td>\n",
       "      <td>malignant</td>\n",
       "      <td>1</td>\n",
       "      <td>/Users/renau/Desktop/DATA/data_proj_melanoma/j...</td>\n",
       "    </tr>\n",
       "    <tr>\n",
       "      <th>399</th>\n",
       "      <td>ISIC_0232101</td>\n",
       "      <td>IP_8349964</td>\n",
       "      <td>male</td>\n",
       "      <td>65.0</td>\n",
       "      <td>torso</td>\n",
       "      <td>melanoma</td>\n",
       "      <td>malignant</td>\n",
       "      <td>1</td>\n",
       "      <td>/Users/renau/Desktop/DATA/data_proj_melanoma/j...</td>\n",
       "    </tr>\n",
       "    <tr>\n",
       "      <th>459</th>\n",
       "      <td>ISIC_0247330</td>\n",
       "      <td>IP_3232631</td>\n",
       "      <td>female</td>\n",
       "      <td>65.0</td>\n",
       "      <td>lower extremity</td>\n",
       "      <td>melanoma</td>\n",
       "      <td>malignant</td>\n",
       "      <td>1</td>\n",
       "      <td>/Users/renau/Desktop/DATA/data_proj_melanoma/j...</td>\n",
       "    </tr>\n",
       "  </tbody>\n",
       "</table>\n",
       "</div>"
      ],
      "text/plain": [
       "         dcm_name          ID     sex   age          anatomy diagnosis  \\\n",
       "91   ISIC_0149568  IP_0962375  female  55.0  upper extremity  melanoma   \n",
       "235  ISIC_0188432  IP_0135517  female  50.0  upper extremity  melanoma   \n",
       "314  ISIC_0207268  IP_7735373    male  55.0            torso  melanoma   \n",
       "399  ISIC_0232101  IP_8349964    male  65.0            torso  melanoma   \n",
       "459  ISIC_0247330  IP_3232631  female  65.0  lower extremity  melanoma   \n",
       "\n",
       "    benign_malignant  target  \\\n",
       "91         malignant       1   \n",
       "235        malignant       1   \n",
       "314        malignant       1   \n",
       "399        malignant       1   \n",
       "459        malignant       1   \n",
       "\n",
       "                                             path_jpeg  \n",
       "91   /Users/renau/Desktop/DATA/data_proj_melanoma/j...  \n",
       "235  /Users/renau/Desktop/DATA/data_proj_melanoma/j...  \n",
       "314  /Users/renau/Desktop/DATA/data_proj_melanoma/j...  \n",
       "399  /Users/renau/Desktop/DATA/data_proj_melanoma/j...  \n",
       "459  /Users/renau/Desktop/DATA/data_proj_melanoma/j...  "
      ]
     },
     "execution_count": 5,
     "metadata": {},
     "output_type": "execute_result"
    }
   ],
   "source": [
    "malignant_df = train_df[train_df['target'] == 1]\n",
    "malignant_df.head()"
   ]
  },
  {
   "cell_type": "code",
   "execution_count": 6,
   "id": "d5691d32",
   "metadata": {
    "scrolled": true
   },
   "outputs": [
    {
     "data": {
      "text/html": [
       "<div>\n",
       "<style scoped>\n",
       "    .dataframe tbody tr th:only-of-type {\n",
       "        vertical-align: middle;\n",
       "    }\n",
       "\n",
       "    .dataframe tbody tr th {\n",
       "        vertical-align: top;\n",
       "    }\n",
       "\n",
       "    .dataframe thead th {\n",
       "        text-align: right;\n",
       "    }\n",
       "</style>\n",
       "<table border=\"1\" class=\"dataframe\">\n",
       "  <thead>\n",
       "    <tr style=\"text-align: right;\">\n",
       "      <th></th>\n",
       "      <th>dcm_name</th>\n",
       "      <th>ID</th>\n",
       "      <th>sex</th>\n",
       "      <th>age</th>\n",
       "      <th>anatomy</th>\n",
       "      <th>diagnosis</th>\n",
       "      <th>benign_malignant</th>\n",
       "      <th>target</th>\n",
       "      <th>path_jpeg</th>\n",
       "    </tr>\n",
       "  </thead>\n",
       "  <tbody>\n",
       "    <tr>\n",
       "      <th>0</th>\n",
       "      <td>ISIC_2637011</td>\n",
       "      <td>IP_7279968</td>\n",
       "      <td>male</td>\n",
       "      <td>45.0</td>\n",
       "      <td>head/neck</td>\n",
       "      <td>unknown</td>\n",
       "      <td>benign</td>\n",
       "      <td>0</td>\n",
       "      <td>/Users/renau/Desktop/DATA/data_proj_melanoma/j...</td>\n",
       "    </tr>\n",
       "    <tr>\n",
       "      <th>1</th>\n",
       "      <td>ISIC_0015719</td>\n",
       "      <td>IP_3075186</td>\n",
       "      <td>female</td>\n",
       "      <td>45.0</td>\n",
       "      <td>upper extremity</td>\n",
       "      <td>unknown</td>\n",
       "      <td>benign</td>\n",
       "      <td>0</td>\n",
       "      <td>/Users/renau/Desktop/DATA/data_proj_melanoma/j...</td>\n",
       "    </tr>\n",
       "    <tr>\n",
       "      <th>2</th>\n",
       "      <td>ISIC_0052212</td>\n",
       "      <td>IP_2842074</td>\n",
       "      <td>female</td>\n",
       "      <td>50.0</td>\n",
       "      <td>lower extremity</td>\n",
       "      <td>nevus</td>\n",
       "      <td>benign</td>\n",
       "      <td>0</td>\n",
       "      <td>/Users/renau/Desktop/DATA/data_proj_melanoma/j...</td>\n",
       "    </tr>\n",
       "    <tr>\n",
       "      <th>3</th>\n",
       "      <td>ISIC_0068279</td>\n",
       "      <td>IP_6890425</td>\n",
       "      <td>female</td>\n",
       "      <td>45.0</td>\n",
       "      <td>head/neck</td>\n",
       "      <td>unknown</td>\n",
       "      <td>benign</td>\n",
       "      <td>0</td>\n",
       "      <td>/Users/renau/Desktop/DATA/data_proj_melanoma/j...</td>\n",
       "    </tr>\n",
       "    <tr>\n",
       "      <th>4</th>\n",
       "      <td>ISIC_0074268</td>\n",
       "      <td>IP_8723313</td>\n",
       "      <td>female</td>\n",
       "      <td>55.0</td>\n",
       "      <td>upper extremity</td>\n",
       "      <td>unknown</td>\n",
       "      <td>benign</td>\n",
       "      <td>0</td>\n",
       "      <td>/Users/renau/Desktop/DATA/data_proj_melanoma/j...</td>\n",
       "    </tr>\n",
       "  </tbody>\n",
       "</table>\n",
       "</div>"
      ],
      "text/plain": [
       "       dcm_name          ID     sex   age          anatomy diagnosis  \\\n",
       "0  ISIC_2637011  IP_7279968    male  45.0        head/neck   unknown   \n",
       "1  ISIC_0015719  IP_3075186  female  45.0  upper extremity   unknown   \n",
       "2  ISIC_0052212  IP_2842074  female  50.0  lower extremity     nevus   \n",
       "3  ISIC_0068279  IP_6890425  female  45.0        head/neck   unknown   \n",
       "4  ISIC_0074268  IP_8723313  female  55.0  upper extremity   unknown   \n",
       "\n",
       "  benign_malignant  target                                          path_jpeg  \n",
       "0           benign       0  /Users/renau/Desktop/DATA/data_proj_melanoma/j...  \n",
       "1           benign       0  /Users/renau/Desktop/DATA/data_proj_melanoma/j...  \n",
       "2           benign       0  /Users/renau/Desktop/DATA/data_proj_melanoma/j...  \n",
       "3           benign       0  /Users/renau/Desktop/DATA/data_proj_melanoma/j...  \n",
       "4           benign       0  /Users/renau/Desktop/DATA/data_proj_melanoma/j...  "
      ]
     },
     "execution_count": 6,
     "metadata": {},
     "output_type": "execute_result"
    }
   ],
   "source": [
    "benin_df = train_df[train_df['target'] == 0]\n",
    "benin_df.head()"
   ]
  },
  {
   "cell_type": "code",
   "execution_count": 7,
   "id": "fe8c4729",
   "metadata": {},
   "outputs": [
    {
     "data": {
      "text/plain": [
       "584"
      ]
     },
     "execution_count": 7,
     "metadata": {},
     "output_type": "execute_result"
    }
   ],
   "source": [
    "mal_file = malignant_df['path_jpeg'].values\n",
    "mal_labels = malignant_df['target'].values\n",
    "mal_train_ds = tf.data.Dataset.from_tensor_slices((mal_file, mal_labels))\n",
    "len(list(mal_train_ds))"
   ]
  },
  {
   "cell_type": "code",
   "execution_count": 8,
   "id": "ae0eff34",
   "metadata": {},
   "outputs": [
    {
     "data": {
      "text/plain": [
       "32542"
      ]
     },
     "execution_count": 8,
     "metadata": {},
     "output_type": "execute_result"
    }
   ],
   "source": [
    "ben_file = benin_df['path_jpeg'].values\n",
    "ben_labels = benin_df['target'].values\n",
    "ben_train_ds = tf.data.Dataset.from_tensor_slices((ben_file, ben_labels))\n",
    "len(list(ben_train_ds))"
   ]
  },
  {
   "cell_type": "code",
   "execution_count": 9,
   "id": "8d15a23f",
   "metadata": {},
   "outputs": [
    {
     "data": {
      "text/plain": [
       "32542"
      ]
     },
     "execution_count": 9,
     "metadata": {},
     "output_type": "execute_result"
    }
   ],
   "source": [
    "ben_train_ds = ben_train_ds.shuffle(len(list(ben_train_ds)))\n",
    "len(list(ben_train_ds))"
   ]
  },
  {
   "cell_type": "code",
   "execution_count": 10,
   "id": "77b57288",
   "metadata": {},
   "outputs": [
    {
     "name": "stdout",
     "output_type": "stream",
     "text": [
      "233 935\n"
     ]
    }
   ],
   "source": [
    "def make_balanced_dataset(ds_class1, ds_class2):\n",
    "    half_size = min(len(list(ds_class1)),len(list(ds_class2)))\n",
    "    ds_1 = ds_class1.take(half_size)\n",
    "    ds_2 = ds_class2.take(half_size)\n",
    "    ds_full = ds_1.concatenate(ds_2)\n",
    "    ds_full = ds_full.shuffle(half_size*2, reshuffle_each_iteration=False)\n",
    "    return ds_full.skip((half_size*2)//5),ds_full.take((half_size*2)//5),\n",
    "#print(make_balanced_dataset(ben_train_ds,mal_train_ds))   \n",
    "ds_train, ds_val = make_balanced_dataset(ben_train_ds,mal_train_ds)\n",
    "size = len(list(ds_val))\n",
    "print(size, len(list(ds_train)))"
   ]
  },
  {
   "cell_type": "code",
   "execution_count": 11,
   "id": "7452be65",
   "metadata": {
    "scrolled": false
   },
   "outputs": [
    {
     "name": "stdout",
     "output_type": "stream",
     "text": [
      "b'/Users/renau/Desktop/DATA/data_proj_melanoma/jpeg/train/ISIC_6257422.jpg' and target:  0\n",
      "b'/Users/renau/Desktop/DATA/data_proj_melanoma/jpeg/train/ISIC_0599605.jpg' and target:  1\n",
      "b'/Users/renau/Desktop/DATA/data_proj_melanoma/jpeg/train/ISIC_0272026.jpg' and target:  0\n",
      "b'/Users/renau/Desktop/DATA/data_proj_melanoma/jpeg/train/ISIC_2937642.jpg' and target:  1\n"
     ]
    }
   ],
   "source": [
    "ex_ds = ds_train.take(4)\n",
    "for element in ex_ds :\n",
    "    print(element[0].numpy(),'and target: ',element[1].numpy())"
   ]
  },
  {
   "cell_type": "code",
   "execution_count": 12,
   "id": "724bf6ee",
   "metadata": {},
   "outputs": [],
   "source": [
    "def read_image(path, label):\n",
    "    image = tf.io.read_file(path)\n",
    "    image = tf.image.decode_image(image, channels=3, dtype = tf.uint8, expand_animations = False)\n",
    "    return image, label\n",
    "\n",
    "ds_train = ds_train.map(read_image)\n",
    "ds_val = ds_val.map(read_image)"
   ]
  },
  {
   "cell_type": "code",
   "execution_count": 13,
   "id": "ae09d9ef",
   "metadata": {
    "scrolled": true
   },
   "outputs": [
    {
     "name": "stdout",
     "output_type": "stream",
     "text": [
      "(480, 640, 3)\n",
      "(2448, 3264, 3)\n",
      "(4000, 6000, 3)\n"
     ]
    }
   ],
   "source": [
    "ex_ds = ds_train.take(3)\n",
    "for element in ex_ds :\n",
    "    print(element[0].numpy().shape)"
   ]
  },
  {
   "cell_type": "code",
   "execution_count": 14,
   "id": "222d1391-24e9-436b-9c34-cd8474bcd4e3",
   "metadata": {},
   "outputs": [
    {
     "name": "stdout",
     "output_type": "stream",
     "text": [
      "(16, 256, 256, 3)\n",
      "(16,)\n",
      "(16, 256, 256, 3)\n",
      "(16,)\n",
      "(16, 256, 256, 3)\n",
      "(16,)\n"
     ]
    }
   ],
   "source": [
    "def adapt_data(image, label):\n",
    "    image = tf.image.resize(image, [256,256])\n",
    "    return image, label\n",
    "\n",
    "def convert_to_float(image, label):\n",
    "    image = tf.image.convert_image_dtype(image, dtype=tf.float64)\n",
    "    return image, label\n",
    "    \n",
    "ds_train= ds_train.map(adapt_data).map(convert_to_float).batch(16)\n",
    "ds_val= ds_val.map(adapt_data).map(convert_to_float).batch(16)\n",
    "\n",
    "ex_ds = ds_train.take(3)\n",
    "for element in ex_ds :\n",
    "    print(element[0].shape)\n",
    "    print(element[1].shape)"
   ]
  },
  {
   "cell_type": "code",
   "execution_count": 15,
   "id": "c16f2e9b",
   "metadata": {},
   "outputs": [],
   "source": [
    "AUTOTUNE = tf.data.AUTOTUNE\n",
    "\n",
    "ds_train = ds_train.cache().prefetch(buffer_size=AUTOTUNE)\n",
    "ds_val = ds_val.cache().prefetch(buffer_size=AUTOTUNE)"
   ]
  },
  {
   "cell_type": "code",
   "execution_count": 16,
   "id": "c41ebe5f",
   "metadata": {},
   "outputs": [],
   "source": [
    "from tensorflow import keras\n",
    "from tensorflow.keras import layers\n",
    "from tensorflow.keras.layers.experimental import preprocessing\n",
    "\n",
    "model = tf.keras.Sequential([ \n",
    "    \n",
    "# == Input == \n",
    "    \n",
    "    layers.InputLayer(\n",
    "    input_shape=(256,256,3)),\n",
    "    \n",
    "# == Data Augmentation ==\n",
    "    \n",
    "    preprocessing.RandomContrast(factor=0.1),\n",
    "    preprocessing.RandomFlip(mode='horizontal'), \n",
    "    preprocessing.RandomFlip(mode='vertical'), \n",
    "    preprocessing.RandomRotation(factor=0.20),\n",
    "\n",
    "# == CONV == \n",
    "    \n",
    "    layers.Rescaling(1./255),\n",
    "    layers.BatchNormalization(),\n",
    "    layers.Conv2D(32, 3, activation='relu'),\n",
    "    layers.MaxPooling2D(),\n",
    "    layers.Conv2D(32, 3, activation='relu'),\n",
    "    layers.MaxPooling2D(),\n",
    "    layers.Conv2D(32, 3, activation='relu'),\n",
    "    layers.MaxPooling2D(),\n",
    "\n",
    "# == HEAD ==\n",
    "    layers.Flatten(),\n",
    "    \n",
    "    layers.Dense(128, activation='relu'),\n",
    "    layers.BatchNormalization(),\n",
    "    layers.Dropout(0.2),\n",
    "    \n",
    "    layers.Dense(64, activation='relu'),\n",
    "    layers.BatchNormalization(),\n",
    "    layers.Dropout(0.2),\n",
    "    \n",
    "    layers.Dense(32, activation='relu'),\n",
    "    layers.BatchNormalization(),\n",
    "    layers.Dropout(0.2),\n",
    "    \n",
    "    layers.Dense(1,activation='sigmoid')\n",
    "])"
   ]
  },
  {
   "cell_type": "code",
   "execution_count": 17,
   "id": "2f942f43",
   "metadata": {},
   "outputs": [],
   "source": [
    "model.compile(\n",
    "    optimizer=tf.keras.optimizers.Adam(epsilon=0.01),\n",
    "    loss='binary_crossentropy',\n",
    "    metrics=['binary_accuracy']\n",
    ")"
   ]
  },
  {
   "cell_type": "code",
   "execution_count": 18,
   "id": "04c25c91",
   "metadata": {
    "scrolled": true
   },
   "outputs": [
    {
     "name": "stdout",
     "output_type": "stream",
     "text": [
      "Epoch 1/200\n",
      "59/59 [==============================] - 10s 102ms/step - loss: 0.7470 - binary_accuracy: 0.6118 - val_loss: 0.8145 - val_binary_accuracy: 0.4292\n",
      "Epoch 2/200\n",
      "59/59 [==============================] - 2s 33ms/step - loss: 0.6897 - binary_accuracy: 0.6428 - val_loss: 0.7631 - val_binary_accuracy: 0.5579\n",
      "Epoch 3/200\n",
      "59/59 [==============================] - 2s 31ms/step - loss: 0.6294 - binary_accuracy: 0.6706 - val_loss: 0.6092 - val_binary_accuracy: 0.5665\n",
      "Epoch 4/200\n",
      "59/59 [==============================] - 2s 31ms/step - loss: 0.6387 - binary_accuracy: 0.6610 - val_loss: 0.6062 - val_binary_accuracy: 0.6352\n",
      "Epoch 5/200\n",
      "59/59 [==============================] - 2s 31ms/step - loss: 0.6645 - binary_accuracy: 0.6578 - val_loss: 0.5520 - val_binary_accuracy: 0.7039\n",
      "Epoch 6/200\n",
      "59/59 [==============================] - 2s 31ms/step - loss: 0.6061 - binary_accuracy: 0.6749 - val_loss: 0.5619 - val_binary_accuracy: 0.7167\n",
      "Epoch 7/200\n",
      "59/59 [==============================] - 2s 31ms/step - loss: 0.5983 - binary_accuracy: 0.6781 - val_loss: 0.6611 - val_binary_accuracy: 0.7253\n",
      "Epoch 8/200\n",
      "59/59 [==============================] - 2s 31ms/step - loss: 0.5994 - binary_accuracy: 0.6877 - val_loss: 0.6277 - val_binary_accuracy: 0.6652\n",
      "Epoch 9/200\n",
      "59/59 [==============================] - 2s 31ms/step - loss: 0.5897 - binary_accuracy: 0.6738 - val_loss: 0.5155 - val_binary_accuracy: 0.7425\n",
      "Epoch 10/200\n",
      "59/59 [==============================] - 2s 31ms/step - loss: 0.6030 - binary_accuracy: 0.6791 - val_loss: 0.5225 - val_binary_accuracy: 0.7382\n",
      "Epoch 11/200\n",
      "59/59 [==============================] - 2s 31ms/step - loss: 0.5525 - binary_accuracy: 0.6920 - val_loss: 0.5287 - val_binary_accuracy: 0.7296\n",
      "Epoch 12/200\n",
      "59/59 [==============================] - 2s 31ms/step - loss: 0.5736 - binary_accuracy: 0.6920 - val_loss: 0.5793 - val_binary_accuracy: 0.6695\n",
      "Epoch 13/200\n",
      "59/59 [==============================] - 2s 31ms/step - loss: 0.5939 - binary_accuracy: 0.6834 - val_loss: 0.5120 - val_binary_accuracy: 0.7296\n",
      "Epoch 14/200\n",
      "59/59 [==============================] - 2s 31ms/step - loss: 0.5567 - binary_accuracy: 0.7155 - val_loss: 0.5298 - val_binary_accuracy: 0.7296\n",
      "Epoch 15/200\n",
      "59/59 [==============================] - 2s 32ms/step - loss: 0.5617 - binary_accuracy: 0.7102 - val_loss: 0.5274 - val_binary_accuracy: 0.7382\n",
      "Epoch 16/200\n",
      "59/59 [==============================] - 2s 31ms/step - loss: 0.5573 - binary_accuracy: 0.7070 - val_loss: 0.5030 - val_binary_accuracy: 0.7511\n",
      "Epoch 17/200\n",
      "59/59 [==============================] - 2s 31ms/step - loss: 0.5648 - binary_accuracy: 0.7037 - val_loss: 0.5361 - val_binary_accuracy: 0.7468\n",
      "Epoch 18/200\n",
      "59/59 [==============================] - 2s 32ms/step - loss: 0.5550 - binary_accuracy: 0.7037 - val_loss: 0.5605 - val_binary_accuracy: 0.7210\n",
      "Epoch 19/200\n",
      "59/59 [==============================] - 2s 31ms/step - loss: 0.5270 - binary_accuracy: 0.7294 - val_loss: 0.5267 - val_binary_accuracy: 0.7167\n",
      "Epoch 20/200\n",
      "59/59 [==============================] - 2s 31ms/step - loss: 0.5269 - binary_accuracy: 0.7251 - val_loss: 0.7312 - val_binary_accuracy: 0.6781\n",
      "Epoch 21/200\n",
      "59/59 [==============================] - 2s 32ms/step - loss: 0.5641 - binary_accuracy: 0.7134 - val_loss: 0.5065 - val_binary_accuracy: 0.7639\n",
      "Epoch 22/200\n",
      "59/59 [==============================] - 2s 32ms/step - loss: 0.5358 - binary_accuracy: 0.7123 - val_loss: 0.5092 - val_binary_accuracy: 0.7382\n",
      "Epoch 23/200\n",
      "59/59 [==============================] - 2s 31ms/step - loss: 0.5347 - binary_accuracy: 0.7219 - val_loss: 0.5154 - val_binary_accuracy: 0.7725\n",
      "Epoch 24/200\n",
      "59/59 [==============================] - 2s 32ms/step - loss: 0.5336 - binary_accuracy: 0.7294 - val_loss: 0.5335 - val_binary_accuracy: 0.7511\n",
      "Epoch 25/200\n",
      "59/59 [==============================] - 2s 32ms/step - loss: 0.5201 - binary_accuracy: 0.7283 - val_loss: 0.8894 - val_binary_accuracy: 0.6695\n",
      "Epoch 26/200\n",
      "59/59 [==============================] - 2s 31ms/step - loss: 0.5330 - binary_accuracy: 0.7401 - val_loss: 0.4934 - val_binary_accuracy: 0.7382\n",
      "Epoch 27/200\n",
      "59/59 [==============================] - 2s 31ms/step - loss: 0.5241 - binary_accuracy: 0.7369 - val_loss: 0.5473 - val_binary_accuracy: 0.7468\n",
      "Epoch 28/200\n",
      "59/59 [==============================] - 2s 31ms/step - loss: 0.5149 - binary_accuracy: 0.7422 - val_loss: 0.4994 - val_binary_accuracy: 0.7639\n",
      "Epoch 29/200\n",
      "59/59 [==============================] - 2s 31ms/step - loss: 0.5045 - binary_accuracy: 0.7401 - val_loss: 0.5158 - val_binary_accuracy: 0.7425\n",
      "Epoch 30/200\n",
      "59/59 [==============================] - 2s 31ms/step - loss: 0.5041 - binary_accuracy: 0.7487 - val_loss: 0.5597 - val_binary_accuracy: 0.7296\n",
      "Epoch 31/200\n",
      "59/59 [==============================] - 2s 31ms/step - loss: 0.5073 - binary_accuracy: 0.7594 - val_loss: 0.5060 - val_binary_accuracy: 0.7597\n",
      "Epoch 32/200\n",
      "59/59 [==============================] - 2s 31ms/step - loss: 0.5032 - binary_accuracy: 0.7487 - val_loss: 0.5490 - val_binary_accuracy: 0.7597\n",
      "Epoch 33/200\n",
      "59/59 [==============================] - 2s 32ms/step - loss: 0.4942 - binary_accuracy: 0.7583 - val_loss: 0.5112 - val_binary_accuracy: 0.7682\n",
      "Epoch 34/200\n",
      "59/59 [==============================] - 2s 31ms/step - loss: 0.4992 - binary_accuracy: 0.7455 - val_loss: 0.5148 - val_binary_accuracy: 0.7682\n",
      "Epoch 35/200\n",
      "59/59 [==============================] - 2s 31ms/step - loss: 0.4762 - binary_accuracy: 0.7658 - val_loss: 0.4994 - val_binary_accuracy: 0.7639\n",
      "Epoch 36/200\n",
      "59/59 [==============================] - 2s 31ms/step - loss: 0.4966 - binary_accuracy: 0.7508 - val_loss: 0.5292 - val_binary_accuracy: 0.7468\n",
      "Epoch 37/200\n",
      "59/59 [==============================] - 2s 32ms/step - loss: 0.4895 - binary_accuracy: 0.7604 - val_loss: 0.5327 - val_binary_accuracy: 0.7639\n",
      "Epoch 38/200\n",
      "59/59 [==============================] - 2s 31ms/step - loss: 0.4857 - binary_accuracy: 0.7615 - val_loss: 0.5043 - val_binary_accuracy: 0.7554\n",
      "Epoch 39/200\n",
      "59/59 [==============================] - 2s 31ms/step - loss: 0.5082 - binary_accuracy: 0.7422 - val_loss: 0.4996 - val_binary_accuracy: 0.7811\n",
      "Epoch 40/200\n",
      "59/59 [==============================] - 2s 31ms/step - loss: 0.4921 - binary_accuracy: 0.7476 - val_loss: 0.5507 - val_binary_accuracy: 0.7468\n",
      "Epoch 41/200\n",
      "59/59 [==============================] - 2s 31ms/step - loss: 0.4717 - binary_accuracy: 0.7701 - val_loss: 0.4910 - val_binary_accuracy: 0.7768\n",
      "Epoch 42/200\n",
      "59/59 [==============================] - 2s 32ms/step - loss: 0.4863 - binary_accuracy: 0.7658 - val_loss: 0.5124 - val_binary_accuracy: 0.7597\n",
      "Epoch 43/200\n",
      "59/59 [==============================] - 2s 31ms/step - loss: 0.4697 - binary_accuracy: 0.7743 - val_loss: 0.4970 - val_binary_accuracy: 0.7682\n",
      "Epoch 44/200\n",
      "59/59 [==============================] - 2s 31ms/step - loss: 0.4814 - binary_accuracy: 0.7636 - val_loss: 0.4895 - val_binary_accuracy: 0.7725\n",
      "Epoch 45/200\n",
      "59/59 [==============================] - 2s 31ms/step - loss: 0.4738 - binary_accuracy: 0.7722 - val_loss: 0.4944 - val_binary_accuracy: 0.7725\n",
      "Epoch 46/200\n",
      "59/59 [==============================] - 2s 31ms/step - loss: 0.4849 - binary_accuracy: 0.7690 - val_loss: 0.4976 - val_binary_accuracy: 0.7854\n",
      "Epoch 47/200\n",
      "59/59 [==============================] - 2s 31ms/step - loss: 0.4882 - binary_accuracy: 0.7636 - val_loss: 0.5247 - val_binary_accuracy: 0.7811\n",
      "Epoch 48/200\n",
      "59/59 [==============================] - 2s 31ms/step - loss: 0.4613 - binary_accuracy: 0.7701 - val_loss: 0.4929 - val_binary_accuracy: 0.7854\n",
      "Epoch 49/200\n",
      "59/59 [==============================] - 2s 31ms/step - loss: 0.4884 - binary_accuracy: 0.7615 - val_loss: 0.5930 - val_binary_accuracy: 0.7296\n",
      "Epoch 50/200\n",
      "59/59 [==============================] - 2s 32ms/step - loss: 0.4772 - binary_accuracy: 0.7636 - val_loss: 0.5291 - val_binary_accuracy: 0.7639\n",
      "Epoch 51/200\n",
      "59/59 [==============================] - 2s 31ms/step - loss: 0.4739 - binary_accuracy: 0.7872 - val_loss: 0.5336 - val_binary_accuracy: 0.7639\n",
      "Epoch 52/200\n",
      "59/59 [==============================] - 2s 31ms/step - loss: 0.4718 - binary_accuracy: 0.7701 - val_loss: 0.4936 - val_binary_accuracy: 0.7854\n",
      "Epoch 53/200\n"
     ]
    },
    {
     "name": "stdout",
     "output_type": "stream",
     "text": [
      "59/59 [==============================] - 2s 31ms/step - loss: 0.4616 - binary_accuracy: 0.7829 - val_loss: 0.5359 - val_binary_accuracy: 0.7597\n",
      "Epoch 54/200\n",
      "59/59 [==============================] - 2s 31ms/step - loss: 0.4728 - binary_accuracy: 0.7775 - val_loss: 0.5274 - val_binary_accuracy: 0.7682\n",
      "Epoch 55/200\n",
      "59/59 [==============================] - 2s 31ms/step - loss: 0.4605 - binary_accuracy: 0.8000 - val_loss: 0.5563 - val_binary_accuracy: 0.7511\n",
      "Epoch 56/200\n",
      "59/59 [==============================] - 2s 31ms/step - loss: 0.4772 - binary_accuracy: 0.7690 - val_loss: 0.5273 - val_binary_accuracy: 0.7768\n",
      "Epoch 57/200\n",
      "59/59 [==============================] - 2s 31ms/step - loss: 0.4599 - binary_accuracy: 0.7893 - val_loss: 0.5171 - val_binary_accuracy: 0.7597\n",
      "Epoch 58/200\n",
      "59/59 [==============================] - 2s 31ms/step - loss: 0.4894 - binary_accuracy: 0.7711 - val_loss: 0.5594 - val_binary_accuracy: 0.7639\n",
      "Epoch 59/200\n",
      "59/59 [==============================] - 2s 31ms/step - loss: 0.4763 - binary_accuracy: 0.7807 - val_loss: 0.5145 - val_binary_accuracy: 0.7597\n",
      "Epoch 60/200\n",
      "59/59 [==============================] - 2s 31ms/step - loss: 0.4625 - binary_accuracy: 0.7797 - val_loss: 0.6252 - val_binary_accuracy: 0.7296\n",
      "Epoch 61/200\n",
      "59/59 [==============================] - 2s 31ms/step - loss: 0.4545 - binary_accuracy: 0.7925 - val_loss: 0.4762 - val_binary_accuracy: 0.7811\n",
      "Epoch 62/200\n",
      "59/59 [==============================] - 2s 31ms/step - loss: 0.4616 - binary_accuracy: 0.7872 - val_loss: 0.6183 - val_binary_accuracy: 0.7039\n",
      "Epoch 63/200\n",
      "59/59 [==============================] - 2s 32ms/step - loss: 0.4765 - binary_accuracy: 0.7722 - val_loss: 0.4920 - val_binary_accuracy: 0.7983\n",
      "Epoch 64/200\n",
      "59/59 [==============================] - 2s 31ms/step - loss: 0.4525 - binary_accuracy: 0.7743 - val_loss: 0.4794 - val_binary_accuracy: 0.7725\n",
      "Epoch 65/200\n",
      "59/59 [==============================] - 2s 31ms/step - loss: 0.4549 - binary_accuracy: 0.7840 - val_loss: 0.5241 - val_binary_accuracy: 0.7511\n",
      "Epoch 66/200\n",
      "59/59 [==============================] - 2s 31ms/step - loss: 0.4635 - binary_accuracy: 0.7872 - val_loss: 0.5364 - val_binary_accuracy: 0.7682\n",
      "Epoch 67/200\n",
      "59/59 [==============================] - 2s 31ms/step - loss: 0.4557 - binary_accuracy: 0.7840 - val_loss: 0.5149 - val_binary_accuracy: 0.7725\n",
      "Epoch 68/200\n",
      "59/59 [==============================] - 2s 31ms/step - loss: 0.4534 - binary_accuracy: 0.7658 - val_loss: 0.5504 - val_binary_accuracy: 0.7639\n",
      "Epoch 69/200\n",
      "59/59 [==============================] - 2s 31ms/step - loss: 0.4601 - binary_accuracy: 0.7807 - val_loss: 0.5392 - val_binary_accuracy: 0.7597\n",
      "Epoch 70/200\n",
      "59/59 [==============================] - 2s 31ms/step - loss: 0.4484 - binary_accuracy: 0.7850 - val_loss: 0.4851 - val_binary_accuracy: 0.7940\n",
      "Epoch 71/200\n",
      "59/59 [==============================] - 2s 31ms/step - loss: 0.4289 - binary_accuracy: 0.7893 - val_loss: 0.5216 - val_binary_accuracy: 0.7597\n",
      "Epoch 72/200\n",
      "59/59 [==============================] - 2s 31ms/step - loss: 0.4435 - binary_accuracy: 0.7904 - val_loss: 0.4878 - val_binary_accuracy: 0.7940\n",
      "Epoch 73/200\n",
      "59/59 [==============================] - 2s 31ms/step - loss: 0.4325 - binary_accuracy: 0.7989 - val_loss: 0.4768 - val_binary_accuracy: 0.7854\n",
      "Epoch 74/200\n",
      "59/59 [==============================] - 2s 32ms/step - loss: 0.4402 - binary_accuracy: 0.7925 - val_loss: 0.5270 - val_binary_accuracy: 0.7382\n",
      "Epoch 75/200\n",
      "59/59 [==============================] - 2s 32ms/step - loss: 0.4417 - binary_accuracy: 0.7925 - val_loss: 0.5359 - val_binary_accuracy: 0.7639\n",
      "Epoch 76/200\n",
      "59/59 [==============================] - 2s 32ms/step - loss: 0.4375 - binary_accuracy: 0.7861 - val_loss: 0.5389 - val_binary_accuracy: 0.7768\n",
      "Epoch 77/200\n",
      "59/59 [==============================] - 2s 31ms/step - loss: 0.4374 - binary_accuracy: 0.7936 - val_loss: 0.5068 - val_binary_accuracy: 0.7854\n",
      "Epoch 78/200\n",
      "59/59 [==============================] - 2s 31ms/step - loss: 0.4376 - binary_accuracy: 0.7904 - val_loss: 0.4845 - val_binary_accuracy: 0.7768\n",
      "Epoch 79/200\n",
      "59/59 [==============================] - 2s 31ms/step - loss: 0.4304 - binary_accuracy: 0.8096 - val_loss: 0.5290 - val_binary_accuracy: 0.7725\n",
      "Epoch 80/200\n",
      "59/59 [==============================] - 2s 31ms/step - loss: 0.4334 - binary_accuracy: 0.8139 - val_loss: 0.5009 - val_binary_accuracy: 0.7768\n",
      "Epoch 81/200\n",
      "59/59 [==============================] - 2s 31ms/step - loss: 0.4165 - binary_accuracy: 0.8150 - val_loss: 0.5142 - val_binary_accuracy: 0.7768\n",
      "Epoch 82/200\n",
      "59/59 [==============================] - 2s 31ms/step - loss: 0.4203 - binary_accuracy: 0.8128 - val_loss: 0.5050 - val_binary_accuracy: 0.7725\n",
      "Epoch 83/200\n",
      "59/59 [==============================] - 2s 31ms/step - loss: 0.4141 - binary_accuracy: 0.8096 - val_loss: 0.5437 - val_binary_accuracy: 0.7725\n",
      "Epoch 84/200\n",
      "59/59 [==============================] - 2s 31ms/step - loss: 0.4237 - binary_accuracy: 0.8043 - val_loss: 0.5077 - val_binary_accuracy: 0.7725\n",
      "Epoch 85/200\n",
      "59/59 [==============================] - 2s 32ms/step - loss: 0.4167 - binary_accuracy: 0.8075 - val_loss: 0.5029 - val_binary_accuracy: 0.7811\n",
      "Epoch 86/200\n",
      "59/59 [==============================] - 2s 31ms/step - loss: 0.4024 - binary_accuracy: 0.8128 - val_loss: 0.5647 - val_binary_accuracy: 0.7468\n",
      "Epoch 87/200\n",
      "59/59 [==============================] - 2s 31ms/step - loss: 0.4454 - binary_accuracy: 0.7775 - val_loss: 0.5183 - val_binary_accuracy: 0.7597\n",
      "Epoch 88/200\n",
      "59/59 [==============================] - 2s 31ms/step - loss: 0.4159 - binary_accuracy: 0.8000 - val_loss: 0.5047 - val_binary_accuracy: 0.7897\n",
      "Epoch 89/200\n",
      "59/59 [==============================] - 2s 31ms/step - loss: 0.4302 - binary_accuracy: 0.8139 - val_loss: 0.5342 - val_binary_accuracy: 0.7854\n",
      "Epoch 90/200\n",
      "59/59 [==============================] - 2s 31ms/step - loss: 0.4341 - binary_accuracy: 0.7979 - val_loss: 0.5307 - val_binary_accuracy: 0.8069\n",
      "Epoch 91/200\n",
      "59/59 [==============================] - 2s 31ms/step - loss: 0.4220 - binary_accuracy: 0.7957 - val_loss: 0.4710 - val_binary_accuracy: 0.8112\n",
      "Epoch 92/200\n",
      "59/59 [==============================] - 2s 31ms/step - loss: 0.4180 - binary_accuracy: 0.8021 - val_loss: 0.5219 - val_binary_accuracy: 0.7768\n",
      "Epoch 93/200\n",
      "59/59 [==============================] - 2s 31ms/step - loss: 0.4025 - binary_accuracy: 0.8128 - val_loss: 0.5302 - val_binary_accuracy: 0.7554\n",
      "Epoch 94/200\n",
      "59/59 [==============================] - 2s 31ms/step - loss: 0.4038 - binary_accuracy: 0.8128 - val_loss: 0.5191 - val_binary_accuracy: 0.7897\n",
      "Epoch 95/200\n",
      "59/59 [==============================] - 2s 31ms/step - loss: 0.4076 - binary_accuracy: 0.8118 - val_loss: 0.5677 - val_binary_accuracy: 0.7554\n",
      "Epoch 96/200\n",
      "59/59 [==============================] - 2s 31ms/step - loss: 0.4134 - binary_accuracy: 0.8128 - val_loss: 0.5010 - val_binary_accuracy: 0.8026\n",
      "Epoch 97/200\n",
      "59/59 [==============================] - 2s 31ms/step - loss: 0.4177 - binary_accuracy: 0.8118 - val_loss: 0.5069 - val_binary_accuracy: 0.7940\n",
      "Epoch 98/200\n",
      "59/59 [==============================] - 2s 31ms/step - loss: 0.4050 - binary_accuracy: 0.8182 - val_loss: 0.5412 - val_binary_accuracy: 0.7854\n",
      "Epoch 99/200\n",
      "59/59 [==============================] - 2s 32ms/step - loss: 0.4046 - binary_accuracy: 0.8075 - val_loss: 0.5554 - val_binary_accuracy: 0.7811\n",
      "Epoch 100/200\n",
      "59/59 [==============================] - 2s 31ms/step - loss: 0.4032 - binary_accuracy: 0.8257 - val_loss: 0.5188 - val_binary_accuracy: 0.7811\n",
      "Epoch 101/200\n",
      "59/59 [==============================] - 2s 32ms/step - loss: 0.4203 - binary_accuracy: 0.8107 - val_loss: 0.4973 - val_binary_accuracy: 0.8069\n",
      "Epoch 102/200\n",
      "59/59 [==============================] - 2s 32ms/step - loss: 0.4452 - binary_accuracy: 0.7936 - val_loss: 0.6252 - val_binary_accuracy: 0.7554\n",
      "Epoch 103/200\n",
      "59/59 [==============================] - 2s 32ms/step - loss: 0.4463 - binary_accuracy: 0.7957 - val_loss: 0.5417 - val_binary_accuracy: 0.7554\n",
      "Epoch 104/200\n",
      "59/59 [==============================] - 2s 32ms/step - loss: 0.4382 - binary_accuracy: 0.7882 - val_loss: 0.5601 - val_binary_accuracy: 0.7725\n",
      "Epoch 105/200\n"
     ]
    },
    {
     "name": "stdout",
     "output_type": "stream",
     "text": [
      "59/59 [==============================] - 2s 32ms/step - loss: 0.4114 - binary_accuracy: 0.8075 - val_loss: 0.4900 - val_binary_accuracy: 0.7811\n",
      "Epoch 106/200\n",
      "59/59 [==============================] - 2s 32ms/step - loss: 0.3968 - binary_accuracy: 0.8267 - val_loss: 0.5243 - val_binary_accuracy: 0.7725\n",
      "Epoch 107/200\n",
      "59/59 [==============================] - 2s 32ms/step - loss: 0.4085 - binary_accuracy: 0.8043 - val_loss: 0.5273 - val_binary_accuracy: 0.7768\n",
      "Epoch 108/200\n",
      "59/59 [==============================] - 2s 32ms/step - loss: 0.3917 - binary_accuracy: 0.8225 - val_loss: 0.5100 - val_binary_accuracy: 0.7639\n",
      "Epoch 109/200\n",
      "59/59 [==============================] - 2s 31ms/step - loss: 0.4121 - binary_accuracy: 0.8075 - val_loss: 0.5393 - val_binary_accuracy: 0.7768\n",
      "Epoch 110/200\n",
      "59/59 [==============================] - 2s 32ms/step - loss: 0.4037 - binary_accuracy: 0.8118 - val_loss: 0.5592 - val_binary_accuracy: 0.7768\n",
      "Epoch 111/200\n",
      "59/59 [==============================] - 2s 32ms/step - loss: 0.4088 - binary_accuracy: 0.8075 - val_loss: 0.5885 - val_binary_accuracy: 0.7725\n",
      "Epoch 112/200\n",
      "59/59 [==============================] - 2s 31ms/step - loss: 0.3876 - binary_accuracy: 0.8193 - val_loss: 0.4982 - val_binary_accuracy: 0.8026\n",
      "Epoch 113/200\n",
      "59/59 [==============================] - 2s 31ms/step - loss: 0.3822 - binary_accuracy: 0.8364 - val_loss: 0.5222 - val_binary_accuracy: 0.7940\n",
      "Epoch 114/200\n",
      "59/59 [==============================] - 2s 31ms/step - loss: 0.3903 - binary_accuracy: 0.8310 - val_loss: 0.5095 - val_binary_accuracy: 0.7768\n",
      "Epoch 115/200\n",
      "59/59 [==============================] - 2s 31ms/step - loss: 0.3952 - binary_accuracy: 0.8150 - val_loss: 0.5051 - val_binary_accuracy: 0.7639\n",
      "Epoch 116/200\n",
      "59/59 [==============================] - 2s 31ms/step - loss: 0.3915 - binary_accuracy: 0.8342 - val_loss: 0.5231 - val_binary_accuracy: 0.7854\n",
      "Epoch 117/200\n",
      "59/59 [==============================] - 2s 31ms/step - loss: 0.3650 - binary_accuracy: 0.8342 - val_loss: 0.5068 - val_binary_accuracy: 0.8026\n",
      "Epoch 118/200\n",
      "59/59 [==============================] - 2s 31ms/step - loss: 0.3596 - binary_accuracy: 0.8460 - val_loss: 0.5707 - val_binary_accuracy: 0.7854\n",
      "Epoch 119/200\n",
      "59/59 [==============================] - 2s 32ms/step - loss: 0.3685 - binary_accuracy: 0.8321 - val_loss: 0.5114 - val_binary_accuracy: 0.7940\n",
      "Epoch 120/200\n",
      "59/59 [==============================] - 2s 32ms/step - loss: 0.3648 - binary_accuracy: 0.8364 - val_loss: 0.5263 - val_binary_accuracy: 0.7811\n",
      "Epoch 121/200\n",
      "59/59 [==============================] - 2s 32ms/step - loss: 0.3699 - binary_accuracy: 0.8235 - val_loss: 0.5979 - val_binary_accuracy: 0.7725\n",
      "Epoch 122/200\n",
      "59/59 [==============================] - 2s 32ms/step - loss: 0.3782 - binary_accuracy: 0.8321 - val_loss: 0.5478 - val_binary_accuracy: 0.7468\n",
      "Epoch 123/200\n",
      "59/59 [==============================] - 2s 32ms/step - loss: 0.3758 - binary_accuracy: 0.8267 - val_loss: 0.5307 - val_binary_accuracy: 0.7897\n",
      "Epoch 124/200\n",
      "59/59 [==============================] - 2s 31ms/step - loss: 0.3736 - binary_accuracy: 0.8235 - val_loss: 0.5024 - val_binary_accuracy: 0.7811\n",
      "Epoch 125/200\n",
      "59/59 [==============================] - 2s 32ms/step - loss: 0.3834 - binary_accuracy: 0.8246 - val_loss: 0.5071 - val_binary_accuracy: 0.7854\n",
      "Epoch 126/200\n",
      "59/59 [==============================] - 2s 31ms/step - loss: 0.3794 - binary_accuracy: 0.8182 - val_loss: 0.5072 - val_binary_accuracy: 0.7940\n",
      "Epoch 127/200\n",
      "59/59 [==============================] - 2s 31ms/step - loss: 0.3733 - binary_accuracy: 0.8374 - val_loss: 0.5192 - val_binary_accuracy: 0.7983\n",
      "Epoch 128/200\n",
      "59/59 [==============================] - 2s 31ms/step - loss: 0.3791 - binary_accuracy: 0.8332 - val_loss: 0.5689 - val_binary_accuracy: 0.7940\n",
      "Epoch 129/200\n",
      "59/59 [==============================] - 2s 32ms/step - loss: 0.3579 - binary_accuracy: 0.8353 - val_loss: 0.5625 - val_binary_accuracy: 0.7983\n",
      "Epoch 130/200\n",
      "59/59 [==============================] - 2s 32ms/step - loss: 0.3640 - binary_accuracy: 0.8428 - val_loss: 0.5233 - val_binary_accuracy: 0.7811\n",
      "Epoch 131/200\n",
      "59/59 [==============================] - 2s 32ms/step - loss: 0.3341 - binary_accuracy: 0.8460 - val_loss: 0.6043 - val_binary_accuracy: 0.7725\n",
      "Epoch 132/200\n",
      "59/59 [==============================] - 2s 31ms/step - loss: 0.3623 - binary_accuracy: 0.8471 - val_loss: 0.5740 - val_binary_accuracy: 0.7339\n",
      "Epoch 133/200\n",
      "59/59 [==============================] - 2s 32ms/step - loss: 0.3785 - binary_accuracy: 0.8342 - val_loss: 0.5561 - val_binary_accuracy: 0.7682\n",
      "Epoch 134/200\n",
      "59/59 [==============================] - 2s 32ms/step - loss: 0.3493 - binary_accuracy: 0.8449 - val_loss: 0.5322 - val_binary_accuracy: 0.7811\n",
      "Epoch 135/200\n",
      "59/59 [==============================] - 2s 33ms/step - loss: 0.3604 - binary_accuracy: 0.8374 - val_loss: 0.5184 - val_binary_accuracy: 0.7811\n",
      "Epoch 136/200\n",
      "59/59 [==============================] - 2s 32ms/step - loss: 0.3652 - binary_accuracy: 0.8396 - val_loss: 0.5068 - val_binary_accuracy: 0.7940\n",
      "Epoch 137/200\n",
      "59/59 [==============================] - 2s 33ms/step - loss: 0.3775 - binary_accuracy: 0.8353 - val_loss: 0.5346 - val_binary_accuracy: 0.7768\n",
      "Epoch 138/200\n",
      "59/59 [==============================] - 2s 32ms/step - loss: 0.3460 - binary_accuracy: 0.8417 - val_loss: 0.6041 - val_binary_accuracy: 0.7725\n",
      "Epoch 139/200\n",
      "59/59 [==============================] - 2s 32ms/step - loss: 0.3359 - binary_accuracy: 0.8513 - val_loss: 0.5425 - val_binary_accuracy: 0.7983\n",
      "Epoch 140/200\n",
      "59/59 [==============================] - 2s 32ms/step - loss: 0.3342 - binary_accuracy: 0.8492 - val_loss: 0.6537 - val_binary_accuracy: 0.7682\n",
      "Epoch 141/200\n",
      "59/59 [==============================] - 2s 32ms/step - loss: 0.3540 - binary_accuracy: 0.8364 - val_loss: 0.5949 - val_binary_accuracy: 0.7682\n",
      "Epoch 142/200\n",
      "59/59 [==============================] - 2s 31ms/step - loss: 0.3443 - binary_accuracy: 0.8556 - val_loss: 0.6783 - val_binary_accuracy: 0.7210\n",
      "Epoch 143/200\n",
      "59/59 [==============================] - 2s 31ms/step - loss: 0.3689 - binary_accuracy: 0.8406 - val_loss: 0.5831 - val_binary_accuracy: 0.7811\n",
      "Epoch 144/200\n",
      "59/59 [==============================] - 2s 32ms/step - loss: 0.3713 - binary_accuracy: 0.8321 - val_loss: 0.6479 - val_binary_accuracy: 0.7639\n",
      "Epoch 145/200\n",
      "59/59 [==============================] - 2s 33ms/step - loss: 0.3772 - binary_accuracy: 0.8289 - val_loss: 0.6206 - val_binary_accuracy: 0.7425\n",
      "Epoch 146/200\n",
      "59/59 [==============================] - 2s 32ms/step - loss: 0.3865 - binary_accuracy: 0.8310 - val_loss: 0.5787 - val_binary_accuracy: 0.7940\n",
      "Epoch 147/200\n",
      "59/59 [==============================] - 2s 32ms/step - loss: 0.3732 - binary_accuracy: 0.8267 - val_loss: 0.5477 - val_binary_accuracy: 0.7897\n",
      "Epoch 148/200\n",
      "59/59 [==============================] - 2s 32ms/step - loss: 0.3566 - binary_accuracy: 0.8374 - val_loss: 0.5827 - val_binary_accuracy: 0.7768\n",
      "Epoch 149/200\n",
      "59/59 [==============================] - 2s 32ms/step - loss: 0.3676 - binary_accuracy: 0.8385 - val_loss: 0.6168 - val_binary_accuracy: 0.7511\n",
      "Epoch 150/200\n",
      "59/59 [==============================] - 2s 32ms/step - loss: 0.3268 - binary_accuracy: 0.8481 - val_loss: 0.6252 - val_binary_accuracy: 0.7725\n",
      "Epoch 151/200\n",
      "59/59 [==============================] - 2s 33ms/step - loss: 0.3457 - binary_accuracy: 0.8353 - val_loss: 0.6069 - val_binary_accuracy: 0.7554\n",
      "Epoch 152/200\n",
      "59/59 [==============================] - 2s 33ms/step - loss: 0.3622 - binary_accuracy: 0.8481 - val_loss: 0.6507 - val_binary_accuracy: 0.7725\n",
      "Epoch 153/200\n",
      "59/59 [==============================] - 2s 31ms/step - loss: 0.4188 - binary_accuracy: 0.8160 - val_loss: 0.5207 - val_binary_accuracy: 0.7940\n",
      "Epoch 154/200\n",
      "59/59 [==============================] - 2s 31ms/step - loss: 0.3737 - binary_accuracy: 0.8428 - val_loss: 0.5290 - val_binary_accuracy: 0.7811\n",
      "Epoch 155/200\n",
      "59/59 [==============================] - 2s 32ms/step - loss: 0.3642 - binary_accuracy: 0.8332 - val_loss: 0.5990 - val_binary_accuracy: 0.7425\n",
      "Epoch 156/200\n",
      "59/59 [==============================] - 2s 32ms/step - loss: 0.3407 - binary_accuracy: 0.8503 - val_loss: 0.5578 - val_binary_accuracy: 0.7768\n"
     ]
    },
    {
     "name": "stdout",
     "output_type": "stream",
     "text": [
      "Epoch 157/200\n",
      "59/59 [==============================] - 2s 33ms/step - loss: 0.3387 - binary_accuracy: 0.8674 - val_loss: 0.6199 - val_binary_accuracy: 0.7639\n",
      "Epoch 158/200\n",
      "59/59 [==============================] - 2s 35ms/step - loss: 0.3442 - binary_accuracy: 0.8396 - val_loss: 0.5604 - val_binary_accuracy: 0.7554\n",
      "Epoch 159/200\n",
      "59/59 [==============================] - 2s 33ms/step - loss: 0.3464 - binary_accuracy: 0.8556 - val_loss: 0.6127 - val_binary_accuracy: 0.7511\n",
      "Epoch 160/200\n",
      "59/59 [==============================] - 2s 33ms/step - loss: 0.3612 - binary_accuracy: 0.8406 - val_loss: 0.6444 - val_binary_accuracy: 0.7639\n",
      "Epoch 161/200\n",
      "59/59 [==============================] - 2s 34ms/step - loss: 0.3641 - binary_accuracy: 0.8246 - val_loss: 0.5715 - val_binary_accuracy: 0.7682\n",
      "Epoch 162/200\n",
      "59/59 [==============================] - 2s 34ms/step - loss: 0.3404 - binary_accuracy: 0.8545 - val_loss: 0.5872 - val_binary_accuracy: 0.7811\n",
      "Epoch 163/200\n",
      "59/59 [==============================] - 2s 33ms/step - loss: 0.3500 - binary_accuracy: 0.8535 - val_loss: 0.5501 - val_binary_accuracy: 0.7682\n",
      "Epoch 164/200\n",
      "59/59 [==============================] - 2s 32ms/step - loss: 0.3380 - binary_accuracy: 0.8545 - val_loss: 0.6941 - val_binary_accuracy: 0.7597\n",
      "Epoch 165/200\n",
      "59/59 [==============================] - 2s 33ms/step - loss: 0.3348 - binary_accuracy: 0.8556 - val_loss: 0.6009 - val_binary_accuracy: 0.7725\n",
      "Epoch 166/200\n",
      "59/59 [==============================] - 2s 33ms/step - loss: 0.3292 - binary_accuracy: 0.8535 - val_loss: 0.6714 - val_binary_accuracy: 0.7725\n",
      "Epoch 167/200\n",
      "59/59 [==============================] - 2s 33ms/step - loss: 0.3289 - binary_accuracy: 0.8599 - val_loss: 0.5950 - val_binary_accuracy: 0.7768\n",
      "Epoch 168/200\n",
      "59/59 [==============================] - 2s 34ms/step - loss: 0.3354 - binary_accuracy: 0.8406 - val_loss: 0.5957 - val_binary_accuracy: 0.7554\n",
      "Epoch 169/200\n",
      "59/59 [==============================] - 2s 34ms/step - loss: 0.3379 - binary_accuracy: 0.8567 - val_loss: 0.5744 - val_binary_accuracy: 0.7854\n",
      "Epoch 170/200\n",
      "59/59 [==============================] - 2s 33ms/step - loss: 0.3729 - binary_accuracy: 0.8299 - val_loss: 0.5673 - val_binary_accuracy: 0.8026\n",
      "Epoch 171/200\n",
      "59/59 [==============================] - 2s 33ms/step - loss: 0.3305 - binary_accuracy: 0.8588 - val_loss: 0.5320 - val_binary_accuracy: 0.7983\n",
      "Epoch 172/200\n",
      "59/59 [==============================] - 2s 34ms/step - loss: 0.3351 - binary_accuracy: 0.8449 - val_loss: 0.5770 - val_binary_accuracy: 0.7940\n",
      "Epoch 173/200\n",
      "59/59 [==============================] - 2s 34ms/step - loss: 0.3116 - binary_accuracy: 0.8610 - val_loss: 0.5249 - val_binary_accuracy: 0.8112\n",
      "Epoch 174/200\n",
      "59/59 [==============================] - 2s 32ms/step - loss: 0.3383 - binary_accuracy: 0.8620 - val_loss: 0.6927 - val_binary_accuracy: 0.7811\n",
      "Epoch 175/200\n",
      "59/59 [==============================] - 2s 31ms/step - loss: 0.3190 - binary_accuracy: 0.8610 - val_loss: 0.5916 - val_binary_accuracy: 0.7725\n",
      "Epoch 176/200\n",
      "59/59 [==============================] - 2s 31ms/step - loss: 0.3040 - binary_accuracy: 0.8599 - val_loss: 0.5803 - val_binary_accuracy: 0.7725\n",
      "Epoch 177/200\n",
      "59/59 [==============================] - 2s 31ms/step - loss: 0.3033 - binary_accuracy: 0.8791 - val_loss: 0.6240 - val_binary_accuracy: 0.7597\n",
      "Epoch 178/200\n",
      "59/59 [==============================] - 2s 31ms/step - loss: 0.2987 - binary_accuracy: 0.8599 - val_loss: 0.6385 - val_binary_accuracy: 0.7597\n",
      "Epoch 179/200\n",
      "59/59 [==============================] - 2s 31ms/step - loss: 0.2927 - binary_accuracy: 0.8813 - val_loss: 0.5871 - val_binary_accuracy: 0.7983\n",
      "Epoch 180/200\n",
      "59/59 [==============================] - 2s 31ms/step - loss: 0.3033 - binary_accuracy: 0.8652 - val_loss: 0.6183 - val_binary_accuracy: 0.7597\n",
      "Epoch 181/200\n",
      "59/59 [==============================] - 2s 31ms/step - loss: 0.3095 - binary_accuracy: 0.8599 - val_loss: 0.5375 - val_binary_accuracy: 0.7940\n",
      "Epoch 182/200\n",
      "59/59 [==============================] - 2s 31ms/step - loss: 0.3196 - binary_accuracy: 0.8631 - val_loss: 0.6839 - val_binary_accuracy: 0.7682\n",
      "Epoch 183/200\n",
      "59/59 [==============================] - 2s 31ms/step - loss: 0.3349 - binary_accuracy: 0.8406 - val_loss: 0.6180 - val_binary_accuracy: 0.7725\n",
      "Epoch 184/200\n",
      "59/59 [==============================] - 2s 31ms/step - loss: 0.3019 - binary_accuracy: 0.8738 - val_loss: 0.7010 - val_binary_accuracy: 0.7639\n",
      "Epoch 185/200\n",
      "59/59 [==============================] - 2s 31ms/step - loss: 0.2735 - binary_accuracy: 0.8813 - val_loss: 0.6288 - val_binary_accuracy: 0.7725\n",
      "Epoch 186/200\n",
      "59/59 [==============================] - 2s 32ms/step - loss: 0.3074 - binary_accuracy: 0.8674 - val_loss: 0.6515 - val_binary_accuracy: 0.7339\n",
      "Epoch 187/200\n",
      "59/59 [==============================] - 2s 32ms/step - loss: 0.2801 - binary_accuracy: 0.8770 - val_loss: 0.6279 - val_binary_accuracy: 0.7811\n",
      "Epoch 188/200\n",
      "59/59 [==============================] - 2s 32ms/step - loss: 0.2815 - binary_accuracy: 0.8824 - val_loss: 0.7148 - val_binary_accuracy: 0.7597\n",
      "Epoch 189/200\n",
      "59/59 [==============================] - 2s 32ms/step - loss: 0.2755 - binary_accuracy: 0.8791 - val_loss: 0.6543 - val_binary_accuracy: 0.7639\n",
      "Epoch 190/200\n",
      "59/59 [==============================] - 2s 32ms/step - loss: 0.2747 - binary_accuracy: 0.8717 - val_loss: 0.7196 - val_binary_accuracy: 0.7554\n",
      "Epoch 191/200\n",
      "59/59 [==============================] - 2s 32ms/step - loss: 0.2836 - binary_accuracy: 0.8770 - val_loss: 0.6733 - val_binary_accuracy: 0.7725\n",
      "Epoch 192/200\n",
      "59/59 [==============================] - 2s 32ms/step - loss: 0.2645 - binary_accuracy: 0.8834 - val_loss: 0.6379 - val_binary_accuracy: 0.7725\n",
      "Epoch 193/200\n",
      "59/59 [==============================] - 2s 32ms/step - loss: 0.2565 - binary_accuracy: 0.8973 - val_loss: 0.6884 - val_binary_accuracy: 0.7511\n",
      "Epoch 194/200\n",
      "59/59 [==============================] - 2s 32ms/step - loss: 0.2668 - binary_accuracy: 0.8759 - val_loss: 0.6795 - val_binary_accuracy: 0.7768\n",
      "Epoch 195/200\n",
      "59/59 [==============================] - 2s 31ms/step - loss: 0.2867 - binary_accuracy: 0.8749 - val_loss: 0.6249 - val_binary_accuracy: 0.7639\n",
      "Epoch 196/200\n",
      "59/59 [==============================] - 2s 31ms/step - loss: 0.3051 - binary_accuracy: 0.8620 - val_loss: 0.6383 - val_binary_accuracy: 0.7682\n",
      "Epoch 197/200\n",
      "59/59 [==============================] - 2s 32ms/step - loss: 0.2931 - binary_accuracy: 0.8631 - val_loss: 0.7036 - val_binary_accuracy: 0.7597\n",
      "Epoch 198/200\n",
      "59/59 [==============================] - 2s 31ms/step - loss: 0.2881 - binary_accuracy: 0.8834 - val_loss: 0.6589 - val_binary_accuracy: 0.7725\n",
      "Epoch 199/200\n",
      "59/59 [==============================] - 2s 31ms/step - loss: 0.2709 - binary_accuracy: 0.8856 - val_loss: 0.6404 - val_binary_accuracy: 0.7682\n",
      "Epoch 200/200\n",
      "59/59 [==============================] - 2s 31ms/step - loss: 0.2530 - binary_accuracy: 0.8845 - val_loss: 0.7341 - val_binary_accuracy: 0.7468\n"
     ]
    }
   ],
   "source": [
    "history = model.fit(\n",
    "    ds_train,\n",
    "    validation_data=ds_val,\n",
    "    epochs=200,\n",
    ")"
   ]
  },
  {
   "cell_type": "code",
   "execution_count": 19,
   "id": "62fe4e6f",
   "metadata": {
    "scrolled": true
   },
   "outputs": [
    {
     "data": {
      "image/png": "[encoded data removed]",
      "text/plain": [
       "<Figure size 432x288 with 1 Axes>"
      ]
     },
     "metadata": {
      "needs_background": "light"
     },
     "output_type": "display_data"
    },
    {
     "data": {
      "image/png": "[encoded data removed]",
      "text/plain": [
       "<Figure size 432x288 with 1 Axes>"
      ]
     },
     "metadata": {
      "needs_background": "light"
     },
     "output_type": "display_data"
    }
   ],
   "source": [
    "import pandas as pd\n",
    "history_frame = pd.DataFrame(history.history)\n",
    "history_frame.loc[:, ['loss', 'val_loss']].plot()\n",
    "history_frame.loc[:, ['binary_accuracy', 'val_binary_accuracy']].plot();"
   ]
  },
  {
   "cell_type": "code",
   "execution_count": 20,
   "id": "377b9d3e",
   "metadata": {
    "scrolled": true
   },
   "outputs": [
    {
     "name": "stdout",
     "output_type": "stream",
     "text": [
      "Prédictions ;\n",
      " - Malin(s):  191 \n",
      " - Bénins:  252 \n",
      " - doutes:  492 \n",
      " - Total comp:  935  vs  935\n"
     ]
    }
   ],
   "source": [
    "predictions = model.predict(ds_train)\n",
    "\n",
    "b =0\n",
    "m = 0\n",
    "u = 0\n",
    "for element in predictions :\n",
    "    if(element[0] > 0.95) :\n",
    "        m +=1\n",
    "    elif(element[0]< 0.05) :\n",
    "        b +=1\n",
    "    else :\n",
    "        u +=1\n",
    "        \n",
    "print(\"Prédictions ;\\n - Malin(s): \", m, \"\\n - Bénins: \", b, \"\\n - doutes: \", u, \"\\n - Total comp: \", b+u+m,\" vs \",len(predictions))"
   ]
  },
  {
   "cell_type": "code",
   "execution_count": 21,
   "id": "a648f006",
   "metadata": {},
   "outputs": [
    {
     "name": "stdout",
     "output_type": "stream",
     "text": [
      "Prédictions ;\n",
      " - Malin(s):  112 \n",
      " - Bénins:  121 \n",
      " - Total comp:  233  vs  233\n"
     ]
    }
   ],
   "source": [
    "predictions = model.predict(ds_val)\n",
    "\n",
    "b =0\n",
    "m = 0\n",
    "for element in predictions :\n",
    "    if(element[0] > 0.5) :\n",
    "        m +=1\n",
    "    elif(element[0]< 0.5) :\n",
    "        b +=1\n",
    "        \n",
    "print(\"Prédictions ;\\n - Malin(s): \", m, \"\\n - Bénins: \", b, \"\\n - Total comp: \", b+m,\" vs \",len(predictions))"
   ]
  },
  {
   "cell_type": "code",
   "execution_count": 22,
   "id": "785ced0b",
   "metadata": {},
   "outputs": [],
   "source": [
    "from sklearn.metrics import plot_confusion_matrix  \n",
    "\n",
    "def predict_class_label_number(dataset):\n",
    "    predictions =  model.predict(dataset)\n",
    "    res = np.zeros(len(predictions))\n",
    "    i = 0 \n",
    "    for element in predictions : \n",
    "        if(element[0]> 0.5):\n",
    "            res[i] = 1\n",
    "        i += 1\n",
    "    return tf.convert_to_tensor(res)\n",
    "\n",
    "def give_labels (dataset, size):\n",
    "    lab = np.zeros(size)\n",
    "    i = 0\n",
    "    for batch in dataset:\n",
    "        for element in batch[1] :\n",
    "            lab[i] = element.numpy()\n",
    "            i +=1\n",
    "    return tf.convert_to_tensor(lab)\n",
    "    \n",
    "def show_confusion_matrix(cm, labels):\n",
    "    plt.figure(figsize=(5,5))\n",
    "    plt.imshow(cm)\n",
    "    plt.colorbar()\n",
    "    plt.xlabel('Prediction')\n",
    "    plt.ylabel('Label')\n",
    "    plt.show()"
   ]
  },
  {
   "cell_type": "code",
   "execution_count": 23,
   "id": "59fe0431",
   "metadata": {
    "scrolled": false
   },
   "outputs": [
    {
     "data": {
      "image/png": "[encoded data removed]",
      "text/plain": [
       "<Figure size 360x360 with 2 Axes>"
      ]
     },
     "metadata": {
      "needs_background": "light"
     },
     "output_type": "display_data"
    }
   ],
   "source": [
    "dataset = ds_val\n",
    "#size = define upper bcs easier\n",
    "confusion_mtx = tf.math.confusion_matrix(\n",
    "    give_labels(dataset, size),\n",
    "    predict_class_label_number(dataset),\n",
    "    num_classes=2)\n",
    "show_confusion_matrix(confusion_mtx, [0,1])"
   ]
  },
  {
   "cell_type": "code",
   "execution_count": null,
   "id": "148dda0f",
   "metadata": {},
   "outputs": [],
   "source": []
  },
  {
   "cell_type": "code",
   "execution_count": null,
   "id": "df37a641",
   "metadata": {},
   "outputs": [],
   "source": []
  },
  {
   "cell_type": "code",
   "execution_count": null,
   "id": "5514bc73",
   "metadata": {},
   "outputs": [],
   "source": []
  }
 ],
 "metadata": {
  "kernelspec": {
   "display_name": "Python 3 (ipykernel)",
   "language": "python",
   "name": "python3"
  },
  "language_info": {
   "codemirror_mode": {
    "name": "ipython",
    "version": 3
   },
   "file_extension": ".py",
   "mimetype": "text/x-python",
   "name": "python",
   "nbconvert_exporter": "python",
   "pygments_lexer": "ipython3",
   "version": "3.9.7"
  }
 },
 "nbformat": 4,
 "nbformat_minor": 5
}
