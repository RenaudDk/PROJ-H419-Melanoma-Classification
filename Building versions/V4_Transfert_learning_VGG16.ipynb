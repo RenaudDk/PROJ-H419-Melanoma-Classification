{
 "cells": [
  {
   "cell_type": "markdown",
   "id": "eae82575",
   "metadata": {},
   "source": [
    "# WIP Data augmentation \n"
   ]
  },
  {
   "cell_type": "code",
   "execution_count": 1,
   "id": "c2a75b1a",
   "metadata": {},
   "outputs": [
    {
     "name": "stdout",
     "output_type": "stream",
     "text": [
      "2.6.0\n"
     ]
    }
   ],
   "source": [
    "import numpy as np\n",
    "import os\n",
    "import PIL\n",
    "import PIL.Image\n",
    "import tensorflow as tf\n",
    "\n",
    "\n",
    "import pathlib\n",
    "import pandas as pd\n",
    "\n",
    "import pydicom # for DICOM images\n",
    "from skimage.transform import resize\n",
    "\n",
    "import matplotlib.pyplot as plt\n",
    "from matplotlib import gridspec\n",
    "%matplotlib inline\n",
    "print(tf.__version__)"
   ]
  },
  {
   "cell_type": "code",
   "execution_count": 2,
   "id": "c1022b6e",
   "metadata": {},
   "outputs": [],
   "source": [
    "def set_seed(seed=31415):\n",
    "    np.random.seed(seed)\n",
    "    tf.random.set_seed(seed)\n",
    "    os.environ['PYTHONHASHSEED'] = str(seed)\n",
    "    os.environ['TF_DETERMINISTIC_OPS'] = '1'\n",
    "set_seed()"
   ]
  },
  {
   "cell_type": "code",
   "execution_count": 3,
   "id": "d0e7b5f0",
   "metadata": {},
   "outputs": [
    {
     "name": "stdout",
     "output_type": "stream",
     "text": [
      "Train has 33,126 rows and Test has 10,982 rows.\n"
     ]
    }
   ],
   "source": [
    "# Directory\n",
    "directory = '/Users/renau/Desktop/DATA/data_proj_melanoma'\n",
    "#directory = '/Users/renau/Desktop/PROJ-H419/data'\n",
    "\n",
    "# Import the 2 csv s\n",
    "train_df = pd.read_csv(directory + '/train.csv')\n",
    "test_df = pd.read_csv(directory + '/test.csv')\n",
    "\n",
    "print('Train has {:,} rows and Test has {:,} rows.'.format(len(train_df), len(test_df)))\n",
    "\n",
    "# Change columns names\n",
    "new_names = ['dcm_name', 'ID', 'sex', 'age', 'anatomy', 'diagnosis', 'benign_malignant', 'target']\n",
    "train_df.columns = new_names\n",
    "test_df.columns = new_names[:5]"
   ]
  },
  {
   "cell_type": "code",
   "execution_count": 4,
   "id": "5e09f3c8",
   "metadata": {},
   "outputs": [],
   "source": [
    "# === JPEG ===\n",
    "# Create the paths\n",
    "path_train = directory + '/jpeg/train/' + train_df['dcm_name'] + '.jpg'\n",
    "path_test = directory + '/jpeg/test/' + test_df['dcm_name'] + '.jpg'\n",
    "\n",
    "# Append to the original dataframes\n",
    "train_df['path_jpeg'] = path_train\n",
    "test_df['path_jpeg'] = path_test"
   ]
  },
  {
   "cell_type": "code",
   "execution_count": 5,
   "id": "670fb0a1",
   "metadata": {
    "scrolled": true
   },
   "outputs": [
    {
     "data": {
      "text/html": [
       "<div>\n",
       "<style scoped>\n",
       "    .dataframe tbody tr th:only-of-type {\n",
       "        vertical-align: middle;\n",
       "    }\n",
       "\n",
       "    .dataframe tbody tr th {\n",
       "        vertical-align: top;\n",
       "    }\n",
       "\n",
       "    .dataframe thead th {\n",
       "        text-align: right;\n",
       "    }\n",
       "</style>\n",
       "<table border=\"1\" class=\"dataframe\">\n",
       "  <thead>\n",
       "    <tr style=\"text-align: right;\">\n",
       "      <th></th>\n",
       "      <th>dcm_name</th>\n",
       "      <th>ID</th>\n",
       "      <th>sex</th>\n",
       "      <th>age</th>\n",
       "      <th>anatomy</th>\n",
       "      <th>diagnosis</th>\n",
       "      <th>benign_malignant</th>\n",
       "      <th>target</th>\n",
       "      <th>path_jpeg</th>\n",
       "    </tr>\n",
       "  </thead>\n",
       "  <tbody>\n",
       "    <tr>\n",
       "      <th>91</th>\n",
       "      <td>ISIC_0149568</td>\n",
       "      <td>IP_0962375</td>\n",
       "      <td>female</td>\n",
       "      <td>55.0</td>\n",
       "      <td>upper extremity</td>\n",
       "      <td>melanoma</td>\n",
       "      <td>malignant</td>\n",
       "      <td>1</td>\n",
       "      <td>/Users/renau/Desktop/DATA/data_proj_melanoma/j...</td>\n",
       "    </tr>\n",
       "    <tr>\n",
       "      <th>235</th>\n",
       "      <td>ISIC_0188432</td>\n",
       "      <td>IP_0135517</td>\n",
       "      <td>female</td>\n",
       "      <td>50.0</td>\n",
       "      <td>upper extremity</td>\n",
       "      <td>melanoma</td>\n",
       "      <td>malignant</td>\n",
       "      <td>1</td>\n",
       "      <td>/Users/renau/Desktop/DATA/data_proj_melanoma/j...</td>\n",
       "    </tr>\n",
       "    <tr>\n",
       "      <th>314</th>\n",
       "      <td>ISIC_0207268</td>\n",
       "      <td>IP_7735373</td>\n",
       "      <td>male</td>\n",
       "      <td>55.0</td>\n",
       "      <td>torso</td>\n",
       "      <td>melanoma</td>\n",
       "      <td>malignant</td>\n",
       "      <td>1</td>\n",
       "      <td>/Users/renau/Desktop/DATA/data_proj_melanoma/j...</td>\n",
       "    </tr>\n",
       "    <tr>\n",
       "      <th>399</th>\n",
       "      <td>ISIC_0232101</td>\n",
       "      <td>IP_8349964</td>\n",
       "      <td>male</td>\n",
       "      <td>65.0</td>\n",
       "      <td>torso</td>\n",
       "      <td>melanoma</td>\n",
       "      <td>malignant</td>\n",
       "      <td>1</td>\n",
       "      <td>/Users/renau/Desktop/DATA/data_proj_melanoma/j...</td>\n",
       "    </tr>\n",
       "    <tr>\n",
       "      <th>459</th>\n",
       "      <td>ISIC_0247330</td>\n",
       "      <td>IP_3232631</td>\n",
       "      <td>female</td>\n",
       "      <td>65.0</td>\n",
       "      <td>lower extremity</td>\n",
       "      <td>melanoma</td>\n",
       "      <td>malignant</td>\n",
       "      <td>1</td>\n",
       "      <td>/Users/renau/Desktop/DATA/data_proj_melanoma/j...</td>\n",
       "    </tr>\n",
       "  </tbody>\n",
       "</table>\n",
       "</div>"
      ],
      "text/plain": [
       "         dcm_name          ID     sex   age          anatomy diagnosis  \\\n",
       "91   ISIC_0149568  IP_0962375  female  55.0  upper extremity  melanoma   \n",
       "235  ISIC_0188432  IP_0135517  female  50.0  upper extremity  melanoma   \n",
       "314  ISIC_0207268  IP_7735373    male  55.0            torso  melanoma   \n",
       "399  ISIC_0232101  IP_8349964    male  65.0            torso  melanoma   \n",
       "459  ISIC_0247330  IP_3232631  female  65.0  lower extremity  melanoma   \n",
       "\n",
       "    benign_malignant  target  \\\n",
       "91         malignant       1   \n",
       "235        malignant       1   \n",
       "314        malignant       1   \n",
       "399        malignant       1   \n",
       "459        malignant       1   \n",
       "\n",
       "                                             path_jpeg  \n",
       "91   /Users/renau/Desktop/DATA/data_proj_melanoma/j...  \n",
       "235  /Users/renau/Desktop/DATA/data_proj_melanoma/j...  \n",
       "314  /Users/renau/Desktop/DATA/data_proj_melanoma/j...  \n",
       "399  /Users/renau/Desktop/DATA/data_proj_melanoma/j...  \n",
       "459  /Users/renau/Desktop/DATA/data_proj_melanoma/j...  "
      ]
     },
     "execution_count": 5,
     "metadata": {},
     "output_type": "execute_result"
    }
   ],
   "source": [
    "malignant_df = train_df[train_df['target'] == 1]\n",
    "malignant_df.head()"
   ]
  },
  {
   "cell_type": "code",
   "execution_count": 6,
   "id": "d5691d32",
   "metadata": {
    "scrolled": true
   },
   "outputs": [
    {
     "data": {
      "text/html": [
       "<div>\n",
       "<style scoped>\n",
       "    .dataframe tbody tr th:only-of-type {\n",
       "        vertical-align: middle;\n",
       "    }\n",
       "\n",
       "    .dataframe tbody tr th {\n",
       "        vertical-align: top;\n",
       "    }\n",
       "\n",
       "    .dataframe thead th {\n",
       "        text-align: right;\n",
       "    }\n",
       "</style>\n",
       "<table border=\"1\" class=\"dataframe\">\n",
       "  <thead>\n",
       "    <tr style=\"text-align: right;\">\n",
       "      <th></th>\n",
       "      <th>dcm_name</th>\n",
       "      <th>ID</th>\n",
       "      <th>sex</th>\n",
       "      <th>age</th>\n",
       "      <th>anatomy</th>\n",
       "      <th>diagnosis</th>\n",
       "      <th>benign_malignant</th>\n",
       "      <th>target</th>\n",
       "      <th>path_jpeg</th>\n",
       "    </tr>\n",
       "  </thead>\n",
       "  <tbody>\n",
       "    <tr>\n",
       "      <th>0</th>\n",
       "      <td>ISIC_2637011</td>\n",
       "      <td>IP_7279968</td>\n",
       "      <td>male</td>\n",
       "      <td>45.0</td>\n",
       "      <td>head/neck</td>\n",
       "      <td>unknown</td>\n",
       "      <td>benign</td>\n",
       "      <td>0</td>\n",
       "      <td>/Users/renau/Desktop/DATA/data_proj_melanoma/j...</td>\n",
       "    </tr>\n",
       "    <tr>\n",
       "      <th>1</th>\n",
       "      <td>ISIC_0015719</td>\n",
       "      <td>IP_3075186</td>\n",
       "      <td>female</td>\n",
       "      <td>45.0</td>\n",
       "      <td>upper extremity</td>\n",
       "      <td>unknown</td>\n",
       "      <td>benign</td>\n",
       "      <td>0</td>\n",
       "      <td>/Users/renau/Desktop/DATA/data_proj_melanoma/j...</td>\n",
       "    </tr>\n",
       "    <tr>\n",
       "      <th>2</th>\n",
       "      <td>ISIC_0052212</td>\n",
       "      <td>IP_2842074</td>\n",
       "      <td>female</td>\n",
       "      <td>50.0</td>\n",
       "      <td>lower extremity</td>\n",
       "      <td>nevus</td>\n",
       "      <td>benign</td>\n",
       "      <td>0</td>\n",
       "      <td>/Users/renau/Desktop/DATA/data_proj_melanoma/j...</td>\n",
       "    </tr>\n",
       "    <tr>\n",
       "      <th>3</th>\n",
       "      <td>ISIC_0068279</td>\n",
       "      <td>IP_6890425</td>\n",
       "      <td>female</td>\n",
       "      <td>45.0</td>\n",
       "      <td>head/neck</td>\n",
       "      <td>unknown</td>\n",
       "      <td>benign</td>\n",
       "      <td>0</td>\n",
       "      <td>/Users/renau/Desktop/DATA/data_proj_melanoma/j...</td>\n",
       "    </tr>\n",
       "    <tr>\n",
       "      <th>4</th>\n",
       "      <td>ISIC_0074268</td>\n",
       "      <td>IP_8723313</td>\n",
       "      <td>female</td>\n",
       "      <td>55.0</td>\n",
       "      <td>upper extremity</td>\n",
       "      <td>unknown</td>\n",
       "      <td>benign</td>\n",
       "      <td>0</td>\n",
       "      <td>/Users/renau/Desktop/DATA/data_proj_melanoma/j...</td>\n",
       "    </tr>\n",
       "  </tbody>\n",
       "</table>\n",
       "</div>"
      ],
      "text/plain": [
       "       dcm_name          ID     sex   age          anatomy diagnosis  \\\n",
       "0  ISIC_2637011  IP_7279968    male  45.0        head/neck   unknown   \n",
       "1  ISIC_0015719  IP_3075186  female  45.0  upper extremity   unknown   \n",
       "2  ISIC_0052212  IP_2842074  female  50.0  lower extremity     nevus   \n",
       "3  ISIC_0068279  IP_6890425  female  45.0        head/neck   unknown   \n",
       "4  ISIC_0074268  IP_8723313  female  55.0  upper extremity   unknown   \n",
       "\n",
       "  benign_malignant  target                                          path_jpeg  \n",
       "0           benign       0  /Users/renau/Desktop/DATA/data_proj_melanoma/j...  \n",
       "1           benign       0  /Users/renau/Desktop/DATA/data_proj_melanoma/j...  \n",
       "2           benign       0  /Users/renau/Desktop/DATA/data_proj_melanoma/j...  \n",
       "3           benign       0  /Users/renau/Desktop/DATA/data_proj_melanoma/j...  \n",
       "4           benign       0  /Users/renau/Desktop/DATA/data_proj_melanoma/j...  "
      ]
     },
     "execution_count": 6,
     "metadata": {},
     "output_type": "execute_result"
    }
   ],
   "source": [
    "benin_df = train_df[train_df['target'] == 0]\n",
    "benin_df.head()"
   ]
  },
  {
   "cell_type": "code",
   "execution_count": 7,
   "id": "fe8c4729",
   "metadata": {},
   "outputs": [
    {
     "data": {
      "text/plain": [
       "584"
      ]
     },
     "execution_count": 7,
     "metadata": {},
     "output_type": "execute_result"
    }
   ],
   "source": [
    "mal_file = malignant_df['path_jpeg'].values\n",
    "mal_labels = malignant_df['target'].values\n",
    "mal_train_ds = tf.data.Dataset.from_tensor_slices((mal_file, mal_labels))\n",
    "len(list(mal_train_ds))"
   ]
  },
  {
   "cell_type": "code",
   "execution_count": 8,
   "id": "ae0eff34",
   "metadata": {},
   "outputs": [
    {
     "data": {
      "text/plain": [
       "32542"
      ]
     },
     "execution_count": 8,
     "metadata": {},
     "output_type": "execute_result"
    }
   ],
   "source": [
    "ben_file = benin_df['path_jpeg'].values\n",
    "ben_labels = benin_df['target'].values\n",
    "ben_train_ds = tf.data.Dataset.from_tensor_slices((ben_file, ben_labels))\n",
    "len(list(ben_train_ds))"
   ]
  },
  {
   "cell_type": "code",
   "execution_count": 9,
   "id": "8d15a23f",
   "metadata": {},
   "outputs": [
    {
     "data": {
      "text/plain": [
       "32542"
      ]
     },
     "execution_count": 9,
     "metadata": {},
     "output_type": "execute_result"
    }
   ],
   "source": [
    "ben_train_ds = ben_train_ds.shuffle(len(list(ben_train_ds)))\n",
    "len(list(ben_train_ds))"
   ]
  },
  {
   "cell_type": "code",
   "execution_count": 10,
   "id": "77b57288",
   "metadata": {},
   "outputs": [
    {
     "name": "stdout",
     "output_type": "stream",
     "text": [
      "233 935\n"
     ]
    }
   ],
   "source": [
    "def make_balanced_dataset(ds_class1, ds_class2):\n",
    "    half_size = min(len(list(ds_class1)),len(list(ds_class2)))\n",
    "    ds_1 = ds_class1.take(half_size)\n",
    "    ds_2 = ds_class2.take(half_size)\n",
    "    ds_full = ds_1.concatenate(ds_2)\n",
    "    ds_full = ds_full.shuffle(half_size*2, reshuffle_each_iteration=False)\n",
    "    return ds_full.skip((half_size*2)//5),ds_full.take((half_size*2)//5),\n",
    "#print(make_balanced_dataset(ben_train_ds,mal_train_ds))   \n",
    "ds_train, ds_val = make_balanced_dataset(ben_train_ds,mal_train_ds)\n",
    "size = len(list(ds_val))\n",
    "print(size, len(list(ds_train)))"
   ]
  },
  {
   "cell_type": "code",
   "execution_count": 11,
   "id": "7452be65",
   "metadata": {
    "scrolled": false
   },
   "outputs": [
    {
     "name": "stdout",
     "output_type": "stream",
     "text": [
      "b'/Users/renau/Desktop/DATA/data_proj_melanoma/jpeg/train/ISIC_6257422.jpg' and target:  0\n",
      "b'/Users/renau/Desktop/DATA/data_proj_melanoma/jpeg/train/ISIC_0599605.jpg' and target:  1\n",
      "b'/Users/renau/Desktop/DATA/data_proj_melanoma/jpeg/train/ISIC_0272026.jpg' and target:  0\n",
      "b'/Users/renau/Desktop/DATA/data_proj_melanoma/jpeg/train/ISIC_2937642.jpg' and target:  1\n"
     ]
    }
   ],
   "source": [
    "ex_ds = ds_train.take(4)\n",
    "for element in ex_ds :\n",
    "    print(element[0].numpy(),'and target: ',element[1].numpy())"
   ]
  },
  {
   "cell_type": "code",
   "execution_count": 12,
   "id": "724bf6ee",
   "metadata": {},
   "outputs": [],
   "source": [
    "def read_image(path, label):\n",
    "    image = tf.io.read_file(path)\n",
    "    image = tf.image.decode_image(image, channels=3, dtype = tf.uint8, expand_animations = False)\n",
    "    return image, label\n",
    "\n",
    "ds_train = ds_train.map(read_image)\n",
    "ds_val = ds_val.map(read_image)"
   ]
  },
  {
   "cell_type": "code",
   "execution_count": 13,
   "id": "ae09d9ef",
   "metadata": {
    "scrolled": true
   },
   "outputs": [
    {
     "name": "stdout",
     "output_type": "stream",
     "text": [
      "(480, 640, 3)\n",
      "(2448, 3264, 3)\n",
      "(4000, 6000, 3)\n"
     ]
    }
   ],
   "source": [
    "ex_ds = ds_train.take(3)\n",
    "for element in ex_ds :\n",
    "    print(element[0].numpy().shape)"
   ]
  },
  {
   "cell_type": "code",
   "execution_count": 14,
   "id": "222d1391-24e9-436b-9c34-cd8474bcd4e3",
   "metadata": {},
   "outputs": [
    {
     "name": "stdout",
     "output_type": "stream",
     "text": [
      "(16, 160, 160, 3)\n",
      "(16,)\n",
      "(16, 160, 160, 3)\n",
      "(16,)\n",
      "(16, 160, 160, 3)\n",
      "(16,)\n"
     ]
    }
   ],
   "source": [
    "def adapt_data(image, label):\n",
    "    image = tf.image.resize(image, [160,160])\n",
    "    return image, label\n",
    "\n",
    "def convert_to_float(image, label):\n",
    "    image = tf.image.convert_image_dtype(image, dtype=tf.float64)\n",
    "    return image, label\n",
    "    \n",
    "ds_train= ds_train.map(adapt_data).map(convert_to_float).batch(16)\n",
    "ds_val= ds_val.map(adapt_data).map(convert_to_float).batch(16)\n",
    "\n",
    "ex_ds = ds_train.take(3)\n",
    "for element in ex_ds :\n",
    "    print(element[0].shape)\n",
    "    print(element[1].shape)"
   ]
  },
  {
   "cell_type": "code",
   "execution_count": 15,
   "id": "c16f2e9b",
   "metadata": {},
   "outputs": [],
   "source": [
    "AUTOTUNE = tf.data.AUTOTUNE\n",
    "\n",
    "ds_train = ds_train.cache().prefetch(buffer_size=AUTOTUNE)\n",
    "ds_val = ds_val.cache().prefetch(buffer_size=AUTOTUNE)"
   ]
  },
  {
   "cell_type": "code",
   "execution_count": 16,
   "id": "cd9828ea",
   "metadata": {},
   "outputs": [],
   "source": [
    "preprocess_input = tf.keras.applications.vgg16.preprocess_input\n",
    "IMG_SIZE = (160,160)\n",
    "IMG_SHAPE = IMG_SIZE + (3,)\n",
    "base_model = tf.keras.applications.vgg16.VGG16(\n",
    "    include_top=False,\n",
    "    weights='imagenet',\n",
    "    input_tensor=None,\n",
    "    input_shape=IMG_SHAPE,\n",
    "    pooling=None,\n",
    "    classes=2,\n",
    "    classifier_activation='softmax'\n",
    ")"
   ]
  },
  {
   "cell_type": "code",
   "execution_count": 17,
   "id": "d0281b20",
   "metadata": {},
   "outputs": [
    {
     "name": "stdout",
     "output_type": "stream",
     "text": [
      "(16, 5, 5, 512)\n"
     ]
    }
   ],
   "source": [
    "image_batch, label_batch = next(iter(ds_train))\n",
    "feature_batch = base_model(image_batch)\n",
    "print(feature_batch.shape)"
   ]
  },
  {
   "cell_type": "code",
   "execution_count": 18,
   "id": "3c94f445",
   "metadata": {},
   "outputs": [
    {
     "name": "stdout",
     "output_type": "stream",
     "text": [
      "Model: \"vgg16\"\n",
      "_________________________________________________________________\n",
      "Layer (type)                 Output Shape              Param #   \n",
      "=================================================================\n",
      "input_1 (InputLayer)         [(None, 160, 160, 3)]     0         \n",
      "_________________________________________________________________\n",
      "block1_conv1 (Conv2D)        (None, 160, 160, 64)      1792      \n",
      "_________________________________________________________________\n",
      "block1_conv2 (Conv2D)        (None, 160, 160, 64)      36928     \n",
      "_________________________________________________________________\n",
      "block1_pool (MaxPooling2D)   (None, 80, 80, 64)        0         \n",
      "_________________________________________________________________\n",
      "block2_conv1 (Conv2D)        (None, 80, 80, 128)       73856     \n",
      "_________________________________________________________________\n",
      "block2_conv2 (Conv2D)        (None, 80, 80, 128)       147584    \n",
      "_________________________________________________________________\n",
      "block2_pool (MaxPooling2D)   (None, 40, 40, 128)       0         \n",
      "_________________________________________________________________\n",
      "block3_conv1 (Conv2D)        (None, 40, 40, 256)       295168    \n",
      "_________________________________________________________________\n",
      "block3_conv2 (Conv2D)        (None, 40, 40, 256)       590080    \n",
      "_________________________________________________________________\n",
      "block3_conv3 (Conv2D)        (None, 40, 40, 256)       590080    \n",
      "_________________________________________________________________\n",
      "block3_pool (MaxPooling2D)   (None, 20, 20, 256)       0         \n",
      "_________________________________________________________________\n",
      "block4_conv1 (Conv2D)        (None, 20, 20, 512)       1180160   \n",
      "_________________________________________________________________\n",
      "block4_conv2 (Conv2D)        (None, 20, 20, 512)       2359808   \n",
      "_________________________________________________________________\n",
      "block4_conv3 (Conv2D)        (None, 20, 20, 512)       2359808   \n",
      "_________________________________________________________________\n",
      "block4_pool (MaxPooling2D)   (None, 10, 10, 512)       0         \n",
      "_________________________________________________________________\n",
      "block5_conv1 (Conv2D)        (None, 10, 10, 512)       2359808   \n",
      "_________________________________________________________________\n",
      "block5_conv2 (Conv2D)        (None, 10, 10, 512)       2359808   \n",
      "_________________________________________________________________\n",
      "block5_conv3 (Conv2D)        (None, 10, 10, 512)       2359808   \n",
      "_________________________________________________________________\n",
      "block5_pool (MaxPooling2D)   (None, 5, 5, 512)         0         \n",
      "=================================================================\n",
      "Total params: 14,714,688\n",
      "Trainable params: 0\n",
      "Non-trainable params: 14,714,688\n",
      "_________________________________________________________________\n"
     ]
    }
   ],
   "source": [
    "base_model.trainable = False\n",
    "base_model.summary()"
   ]
  },
  {
   "cell_type": "code",
   "execution_count": 19,
   "id": "15fbe6ec",
   "metadata": {},
   "outputs": [],
   "source": [
    "from tensorflow import keras\n",
    "from tensorflow.keras import layers\n",
    "from tensorflow.keras.layers.experimental import preprocessing\n",
    "\n",
    "data_augmentation = tf.keras.Sequential([\n",
    "    preprocessing.RandomContrast(factor=0.1),\n",
    "    preprocessing.RandomFlip(mode='horizontal'), \n",
    "    preprocessing.RandomFlip(mode='vertical'), \n",
    "    preprocessing.RandomRotation(factor=0.20),  \n",
    "])"
   ]
  },
  {
   "cell_type": "code",
   "execution_count": 20,
   "id": "c64c014d",
   "metadata": {},
   "outputs": [
    {
     "name": "stdout",
     "output_type": "stream",
     "text": [
      "(16, 512)\n"
     ]
    }
   ],
   "source": [
    "global_average_layer = tf.keras.layers.GlobalAveragePooling2D()\n",
    "feature_batch_average = global_average_layer(feature_batch)\n",
    "print(feature_batch_average.shape)"
   ]
  },
  {
   "cell_type": "code",
   "execution_count": 21,
   "id": "a4c9f42c",
   "metadata": {},
   "outputs": [
    {
     "name": "stdout",
     "output_type": "stream",
     "text": [
      "(16, 1)\n"
     ]
    }
   ],
   "source": [
    "prediction_layer = tf.keras.layers.Dense(1, activation = 'sigmoid')\n",
    "prediction_batch = prediction_layer(feature_batch_average)\n",
    "print(prediction_batch.shape)"
   ]
  },
  {
   "cell_type": "code",
   "execution_count": 22,
   "id": "7cef0199",
   "metadata": {},
   "outputs": [],
   "source": [
    "inputs = tf.keras.Input(shape=(160,160, 3))\n",
    "x = data_augmentation(inputs)\n",
    "x = preprocess_input(x)\n",
    "x = base_model(x, training=False)\n",
    "x = global_average_layer(x)\n",
    "x = tf.keras.layers.Dropout(0.2)(x)\n",
    "outputs = prediction_layer(x)\n",
    "model = tf.keras.Model(inputs, outputs)"
   ]
  },
  {
   "cell_type": "code",
   "execution_count": 23,
   "id": "12cba54a",
   "metadata": {},
   "outputs": [],
   "source": [
    "base_learning_rate = 0.001\n",
    "model.compile(optimizer=tf.keras.optimizers.Adam(learning_rate=base_learning_rate),\n",
    "              loss=tf.keras.losses.BinaryCrossentropy(from_logits=False),\n",
    "              metrics=['accuracy', 'binary_accuracy'])"
   ]
  },
  {
   "cell_type": "code",
   "execution_count": 24,
   "id": "923df9b0",
   "metadata": {
    "scrolled": true
   },
   "outputs": [
    {
     "name": "stdout",
     "output_type": "stream",
     "text": [
      "Model: \"model\"\n",
      "_________________________________________________________________\n",
      "Layer (type)                 Output Shape              Param #   \n",
      "=================================================================\n",
      "input_2 (InputLayer)         [(None, 160, 160, 3)]     0         \n",
      "_________________________________________________________________\n",
      "sequential (Sequential)      (None, 160, 160, 3)       0         \n",
      "_________________________________________________________________\n",
      "tf.__operators__.getitem (Sl (None, 160, 160, 3)       0         \n",
      "_________________________________________________________________\n",
      "tf.math.add (TFOpLambda)     (None, 160, 160, 3)       0         \n",
      "_________________________________________________________________\n",
      "vgg16 (Functional)           (None, 5, 5, 512)         14714688  \n",
      "_________________________________________________________________\n",
      "global_average_pooling2d (Gl (None, 512)               0         \n",
      "_________________________________________________________________\n",
      "dropout (Dropout)            (None, 512)               0         \n",
      "_________________________________________________________________\n",
      "dense (Dense)                (None, 1)                 513       \n",
      "=================================================================\n",
      "Total params: 14,715,201\n",
      "Trainable params: 513\n",
      "Non-trainable params: 14,714,688\n",
      "_________________________________________________________________\n"
     ]
    }
   ],
   "source": [
    "model.summary()\n"
   ]
  },
  {
   "cell_type": "code",
   "execution_count": 25,
   "id": "d10a0c79",
   "metadata": {},
   "outputs": [],
   "source": [
    "initial_epochs = 30"
   ]
  },
  {
   "cell_type": "code",
   "execution_count": 26,
   "id": "e6b69e86",
   "metadata": {},
   "outputs": [
    {
     "name": "stdout",
     "output_type": "stream",
     "text": [
      "Epoch 1/30\n",
      "59/59 [==============================] - 9s 129ms/step - loss: 1.6213 - accuracy: 0.5176 - binary_accuracy: 0.5176 - val_loss: 1.0877 - val_accuracy: 0.5880 - val_binary_accuracy: 0.5880\n",
      "Epoch 2/30\n",
      "59/59 [==============================] - 2s 34ms/step - loss: 1.0802 - accuracy: 0.6214 - binary_accuracy: 0.6214 - val_loss: 0.8981 - val_accuracy: 0.6438 - val_binary_accuracy: 0.6438\n",
      "Epoch 3/30\n",
      "59/59 [==============================] - 2s 34ms/step - loss: 0.9543 - accuracy: 0.6439 - binary_accuracy: 0.6439 - val_loss: 0.8173 - val_accuracy: 0.6481 - val_binary_accuracy: 0.6481\n",
      "Epoch 4/30\n",
      "59/59 [==============================] - 2s 35ms/step - loss: 0.8713 - accuracy: 0.6556 - binary_accuracy: 0.6556 - val_loss: 0.7518 - val_accuracy: 0.6695 - val_binary_accuracy: 0.6695\n",
      "Epoch 5/30\n",
      "59/59 [==============================] - 2s 34ms/step - loss: 0.7176 - accuracy: 0.7230 - binary_accuracy: 0.7230 - val_loss: 0.7282 - val_accuracy: 0.6738 - val_binary_accuracy: 0.6738\n",
      "Epoch 6/30\n",
      "59/59 [==============================] - 2s 34ms/step - loss: 0.6908 - accuracy: 0.7070 - binary_accuracy: 0.7070 - val_loss: 0.7228 - val_accuracy: 0.7039 - val_binary_accuracy: 0.7039\n",
      "Epoch 7/30\n",
      "59/59 [==============================] - 2s 36ms/step - loss: 0.6422 - accuracy: 0.7037 - binary_accuracy: 0.7037 - val_loss: 0.7183 - val_accuracy: 0.6867 - val_binary_accuracy: 0.6867\n",
      "Epoch 8/30\n",
      "59/59 [==============================] - 2s 35ms/step - loss: 0.6299 - accuracy: 0.7198 - binary_accuracy: 0.7198 - val_loss: 0.6594 - val_accuracy: 0.6996 - val_binary_accuracy: 0.6996\n",
      "Epoch 9/30\n",
      "59/59 [==============================] - 2s 37ms/step - loss: 0.6303 - accuracy: 0.7037 - binary_accuracy: 0.7037 - val_loss: 0.6454 - val_accuracy: 0.7253 - val_binary_accuracy: 0.7253\n",
      "Epoch 10/30\n",
      "59/59 [==============================] - 2s 36ms/step - loss: 0.6189 - accuracy: 0.7241 - binary_accuracy: 0.7241 - val_loss: 0.6311 - val_accuracy: 0.7210 - val_binary_accuracy: 0.7210\n",
      "Epoch 11/30\n",
      "59/59 [==============================] - 2s 33ms/step - loss: 0.5599 - accuracy: 0.7433 - binary_accuracy: 0.7433 - val_loss: 0.6167 - val_accuracy: 0.7296 - val_binary_accuracy: 0.7296\n",
      "Epoch 12/30\n",
      "59/59 [==============================] - 2s 33ms/step - loss: 0.5522 - accuracy: 0.7422 - binary_accuracy: 0.7422 - val_loss: 0.6037 - val_accuracy: 0.7210 - val_binary_accuracy: 0.7210\n",
      "Epoch 13/30\n",
      "59/59 [==============================] - 2s 33ms/step - loss: 0.5560 - accuracy: 0.7487 - binary_accuracy: 0.7487 - val_loss: 0.5923 - val_accuracy: 0.7296 - val_binary_accuracy: 0.7296\n",
      "Epoch 14/30\n",
      "59/59 [==============================] - 2s 35ms/step - loss: 0.5290 - accuracy: 0.7561 - binary_accuracy: 0.7561 - val_loss: 0.5871 - val_accuracy: 0.7253 - val_binary_accuracy: 0.7253\n",
      "Epoch 15/30\n",
      "59/59 [==============================] - 2s 37ms/step - loss: 0.5435 - accuracy: 0.7412 - binary_accuracy: 0.7412 - val_loss: 0.5894 - val_accuracy: 0.7210 - val_binary_accuracy: 0.7210\n",
      "Epoch 16/30\n",
      "59/59 [==============================] - 2s 36ms/step - loss: 0.5369 - accuracy: 0.7690 - binary_accuracy: 0.7690 - val_loss: 0.5807 - val_accuracy: 0.7039 - val_binary_accuracy: 0.7039\n",
      "Epoch 17/30\n",
      "59/59 [==============================] - 2s 35ms/step - loss: 0.5050 - accuracy: 0.7690 - binary_accuracy: 0.7690 - val_loss: 0.5809 - val_accuracy: 0.7339 - val_binary_accuracy: 0.7339\n",
      "Epoch 18/30\n",
      "59/59 [==============================] - 2s 34ms/step - loss: 0.4964 - accuracy: 0.7572 - binary_accuracy: 0.7572 - val_loss: 0.5709 - val_accuracy: 0.7210 - val_binary_accuracy: 0.7210\n",
      "Epoch 19/30\n",
      "59/59 [==============================] - 2s 35ms/step - loss: 0.5271 - accuracy: 0.7294 - binary_accuracy: 0.7294 - val_loss: 0.5595 - val_accuracy: 0.7124 - val_binary_accuracy: 0.7124\n",
      "Epoch 20/30\n",
      "59/59 [==============================] - 2s 34ms/step - loss: 0.4947 - accuracy: 0.7572 - binary_accuracy: 0.7572 - val_loss: 0.5716 - val_accuracy: 0.7167 - val_binary_accuracy: 0.7167\n",
      "Epoch 21/30\n",
      "59/59 [==============================] - 2s 34ms/step - loss: 0.4767 - accuracy: 0.7679 - binary_accuracy: 0.7679 - val_loss: 0.5713 - val_accuracy: 0.7210 - val_binary_accuracy: 0.7210\n",
      "Epoch 22/30\n",
      "59/59 [==============================] - 2s 34ms/step - loss: 0.5003 - accuracy: 0.7529 - binary_accuracy: 0.7529 - val_loss: 0.5573 - val_accuracy: 0.7124 - val_binary_accuracy: 0.7124\n",
      "Epoch 23/30\n",
      "59/59 [==============================] - 2s 33ms/step - loss: 0.4873 - accuracy: 0.7701 - binary_accuracy: 0.7701 - val_loss: 0.5576 - val_accuracy: 0.7339 - val_binary_accuracy: 0.7339\n",
      "Epoch 24/30\n",
      "59/59 [==============================] - 2s 34ms/step - loss: 0.5080 - accuracy: 0.7583 - binary_accuracy: 0.7583 - val_loss: 0.5528 - val_accuracy: 0.7382 - val_binary_accuracy: 0.7382\n",
      "Epoch 25/30\n",
      "59/59 [==============================] - 2s 34ms/step - loss: 0.5045 - accuracy: 0.7604 - binary_accuracy: 0.7604 - val_loss: 0.5671 - val_accuracy: 0.7253 - val_binary_accuracy: 0.7253\n",
      "Epoch 26/30\n",
      "59/59 [==============================] - 2s 34ms/step - loss: 0.4881 - accuracy: 0.7561 - binary_accuracy: 0.7561 - val_loss: 0.5859 - val_accuracy: 0.7167 - val_binary_accuracy: 0.7167\n",
      "Epoch 27/30\n",
      "59/59 [==============================] - 2s 34ms/step - loss: 0.5133 - accuracy: 0.7647 - binary_accuracy: 0.7647 - val_loss: 0.5794 - val_accuracy: 0.7124 - val_binary_accuracy: 0.7124\n",
      "Epoch 28/30\n",
      "59/59 [==============================] - 2s 33ms/step - loss: 0.5049 - accuracy: 0.7529 - binary_accuracy: 0.7529 - val_loss: 0.6033 - val_accuracy: 0.7253 - val_binary_accuracy: 0.7253\n",
      "Epoch 29/30\n",
      "59/59 [==============================] - 2s 34ms/step - loss: 0.4821 - accuracy: 0.7743 - binary_accuracy: 0.7743 - val_loss: 0.5792 - val_accuracy: 0.7296 - val_binary_accuracy: 0.7296\n",
      "Epoch 30/30\n",
      "59/59 [==============================] - 2s 34ms/step - loss: 0.4753 - accuracy: 0.7636 - binary_accuracy: 0.7636 - val_loss: 0.5890 - val_accuracy: 0.7210 - val_binary_accuracy: 0.7210\n"
     ]
    }
   ],
   "source": [
    "history = model.fit(ds_train,\n",
    "                    epochs=initial_epochs,\n",
    "                    validation_data=ds_val)"
   ]
  },
  {
   "cell_type": "code",
   "execution_count": 27,
   "id": "3818766c",
   "metadata": {
    "scrolled": true
   },
   "outputs": [
    {
     "data": {
      "image/png": "[encoded data removed]",
      "text/plain": [
       "<Figure size 576x576 with 2 Axes>"
      ]
     },
     "metadata": {
      "needs_background": "light"
     },
     "output_type": "display_data"
    }
   ],
   "source": [
    "acc = history.history['accuracy']\n",
    "val_acc = history.history['val_accuracy']\n",
    "\n",
    "loss = history.history['loss']\n",
    "val_loss = history.history['val_loss']\n",
    "\n",
    "plt.figure(figsize=(8, 8))\n",
    "plt.subplot(2, 1, 1)\n",
    "plt.plot(acc, label='Training Accuracy')\n",
    "plt.plot(val_acc, label='Validation Accuracy')\n",
    "plt.legend(loc='lower right')\n",
    "plt.ylabel('Accuracy')\n",
    "plt.ylim([min(plt.ylim()),1])\n",
    "plt.title('Training and Validation Accuracy')\n",
    "\n",
    "plt.subplot(2, 1, 2)\n",
    "plt.plot(loss, label='Training Loss')\n",
    "plt.plot(val_loss, label='Validation Loss')\n",
    "plt.legend(loc='upper right')\n",
    "plt.ylabel('Cross Entropy')\n",
    "plt.ylim([0,2.0])\n",
    "plt.title('Training and Validation Loss')\n",
    "plt.xlabel('epoch')\n",
    "plt.show()"
   ]
  },
  {
   "cell_type": "code",
   "execution_count": 28,
   "id": "fa97ecf6",
   "metadata": {},
   "outputs": [],
   "source": [
    "base_model.trainable = True"
   ]
  },
  {
   "cell_type": "code",
   "execution_count": 29,
   "id": "4bbba69e",
   "metadata": {},
   "outputs": [
    {
     "name": "stdout",
     "output_type": "stream",
     "text": [
      "Number of layers in the base model:  19\n"
     ]
    }
   ],
   "source": [
    "# Let's take a look to see how many layers are in the base model\n",
    "print(\"Number of layers in the base model: \", len(base_model.layers))\n",
    "\n",
    "# Fine-tune from this layer onwards\n",
    "fine_tune_at = 15\n",
    "\n",
    "# Freeze all the layers before the `fine_tune_at` layer\n",
    "for layer in base_model.layers[:fine_tune_at] :\n",
    "    layer.trainable = False"
   ]
  },
  {
   "cell_type": "code",
   "execution_count": 30,
   "id": "eb179869",
   "metadata": {},
   "outputs": [],
   "source": [
    "model.compile(loss=tf.keras.losses.BinaryCrossentropy(from_logits=False),\n",
    "              optimizer = tf.keras.optimizers.RMSprop(learning_rate=base_learning_rate/10),\n",
    "              metrics=['accuracy'])"
   ]
  },
  {
   "cell_type": "code",
   "execution_count": 31,
   "id": "832cf805",
   "metadata": {},
   "outputs": [
    {
     "name": "stdout",
     "output_type": "stream",
     "text": [
      "Model: \"model\"\n",
      "_________________________________________________________________\n",
      "Layer (type)                 Output Shape              Param #   \n",
      "=================================================================\n",
      "input_2 (InputLayer)         [(None, 160, 160, 3)]     0         \n",
      "_________________________________________________________________\n",
      "sequential (Sequential)      (None, 160, 160, 3)       0         \n",
      "_________________________________________________________________\n",
      "tf.__operators__.getitem (Sl (None, 160, 160, 3)       0         \n",
      "_________________________________________________________________\n",
      "tf.math.add (TFOpLambda)     (None, 160, 160, 3)       0         \n",
      "_________________________________________________________________\n",
      "vgg16 (Functional)           (None, 5, 5, 512)         14714688  \n",
      "_________________________________________________________________\n",
      "global_average_pooling2d (Gl (None, 512)               0         \n",
      "_________________________________________________________________\n",
      "dropout (Dropout)            (None, 512)               0         \n",
      "_________________________________________________________________\n",
      "dense (Dense)                (None, 1)                 513       \n",
      "=================================================================\n",
      "Total params: 14,715,201\n",
      "Trainable params: 7,079,937\n",
      "Non-trainable params: 7,635,264\n",
      "_________________________________________________________________\n"
     ]
    }
   ],
   "source": [
    "model.summary()"
   ]
  },
  {
   "cell_type": "code",
   "execution_count": 32,
   "id": "4f2390e3",
   "metadata": {},
   "outputs": [
    {
     "name": "stdout",
     "output_type": "stream",
     "text": [
      "Epoch 30/40\n",
      "59/59 [==============================] - 5s 51ms/step - loss: 0.7638 - accuracy: 0.6856 - val_loss: 0.5318 - val_accuracy: 0.7339\n",
      "Epoch 31/40\n",
      "59/59 [==============================] - 3s 44ms/step - loss: 0.5387 - accuracy: 0.7401 - val_loss: 0.6422 - val_accuracy: 0.6867\n",
      "Epoch 32/40\n",
      "59/59 [==============================] - 2s 40ms/step - loss: 0.4937 - accuracy: 0.7668 - val_loss: 0.5902 - val_accuracy: 0.7382\n",
      "Epoch 33/40\n",
      "59/59 [==============================] - 2s 40ms/step - loss: 0.5114 - accuracy: 0.7711 - val_loss: 0.5646 - val_accuracy: 0.7253\n",
      "Epoch 34/40\n",
      "59/59 [==============================] - 2s 40ms/step - loss: 0.4637 - accuracy: 0.7615 - val_loss: 0.5349 - val_accuracy: 0.7339\n",
      "Epoch 35/40\n",
      "59/59 [==============================] - 2s 40ms/step - loss: 0.4663 - accuracy: 0.7818 - val_loss: 0.5877 - val_accuracy: 0.7210\n",
      "Epoch 36/40\n",
      "59/59 [==============================] - 2s 40ms/step - loss: 0.4510 - accuracy: 0.7872 - val_loss: 0.5839 - val_accuracy: 0.7425\n",
      "Epoch 37/40\n",
      "59/59 [==============================] - 2s 41ms/step - loss: 0.4301 - accuracy: 0.7893 - val_loss: 0.6387 - val_accuracy: 0.7468\n",
      "Epoch 38/40\n",
      "59/59 [==============================] - 3s 43ms/step - loss: 0.4382 - accuracy: 0.7925 - val_loss: 0.5997 - val_accuracy: 0.7554\n",
      "Epoch 39/40\n",
      "59/59 [==============================] - 2s 40ms/step - loss: 0.4392 - accuracy: 0.8160 - val_loss: 0.6493 - val_accuracy: 0.7725\n",
      "Epoch 40/40\n",
      "59/59 [==============================] - 2s 40ms/step - loss: 0.4064 - accuracy: 0.8000 - val_loss: 0.7808 - val_accuracy: 0.7725\n"
     ]
    }
   ],
   "source": [
    "fine_tune_epochs = 10\n",
    "total_epochs =  initial_epochs + fine_tune_epochs\n",
    "\n",
    "history_fine = model.fit(ds_train,\n",
    "                         epochs=total_epochs,\n",
    "                         initial_epoch=history.epoch[-1],\n",
    "                         validation_data=ds_val)"
   ]
  },
  {
   "cell_type": "code",
   "execution_count": 33,
   "id": "1eb744cb",
   "metadata": {},
   "outputs": [],
   "source": [
    "acc += history_fine.history['accuracy']\n",
    "val_acc += history_fine.history['val_accuracy']\n",
    "\n",
    "loss += history_fine.history['loss']\n",
    "val_loss += history_fine.history['val_loss']"
   ]
  },
  {
   "cell_type": "code",
   "execution_count": 34,
   "id": "1fd07c11",
   "metadata": {},
   "outputs": [
    {
     "data": {
      "image/png": "[encoded data removed]",
      "text/plain": [
       "<Figure size 576x576 with 2 Axes>"
      ]
     },
     "metadata": {
      "needs_background": "light"
     },
     "output_type": "display_data"
    }
   ],
   "source": [
    "plt.figure(figsize=(8, 8))\n",
    "plt.subplot(2, 1, 1)\n",
    "plt.plot(acc, label='Training Accuracy')\n",
    "plt.plot(val_acc, label='Validation Accuracy')\n",
    "plt.ylim([0, 1])\n",
    "plt.plot([initial_epochs-1,initial_epochs-1],\n",
    "          plt.ylim(), label='Start Fine Tuning')\n",
    "plt.legend(loc='lower right')\n",
    "plt.title('Training and Validation Accuracy')\n",
    "\n",
    "plt.subplot(2, 1, 2)\n",
    "plt.plot(loss, label='Training Loss')\n",
    "plt.plot(val_loss, label='Validation Loss')\n",
    "plt.ylim([0, 1.0])\n",
    "plt.plot([initial_epochs-1,initial_epochs-1],\n",
    "         plt.ylim(), label='Start Fine Tuning')\n",
    "plt.legend(loc='upper right')\n",
    "plt.title('Training and Validation Loss')\n",
    "plt.xlabel('epoch')\n",
    "plt.show()"
   ]
  },
  {
   "cell_type": "code",
   "execution_count": 35,
   "id": "a648f006",
   "metadata": {},
   "outputs": [
    {
     "name": "stdout",
     "output_type": "stream",
     "text": [
      "Prédictions ;\n",
      " - Malin(s):  96 \n",
      " - Bénins:  137 \n",
      " - Total comp:  233  vs  233\n"
     ]
    }
   ],
   "source": [
    "predictions = model.predict(ds_val)\n",
    "\n",
    "b =0\n",
    "m = 0\n",
    "for element in predictions :\n",
    "    if(element[0] > 0.5) :\n",
    "        m +=1\n",
    "    elif(element[0]< 0.5) :\n",
    "        b +=1\n",
    "        \n",
    "print(\"Prédictions ;\\n - Malin(s): \", m, \"\\n - Bénins: \", b, \"\\n - Total comp: \", b+m,\" vs \",len(predictions))"
   ]
  },
  {
   "cell_type": "code",
   "execution_count": 36,
   "id": "785ced0b",
   "metadata": {},
   "outputs": [],
   "source": [
    "from sklearn.metrics import plot_confusion_matrix  \n",
    "\n",
    "def predict_class_label_number(dataset):\n",
    "    predictions =  model.predict(dataset)\n",
    "    res = np.zeros(len(predictions))\n",
    "    i = 0 \n",
    "    for element in predictions : \n",
    "        if(element[0]> 0.5):\n",
    "            res[i] = 1\n",
    "        i += 1\n",
    "    return tf.convert_to_tensor(res)\n",
    "\n",
    "def give_labels (dataset, size):\n",
    "    lab = np.zeros(size)\n",
    "    i = 0\n",
    "    for batch in dataset:\n",
    "        for element in batch[1] :\n",
    "            lab[i] = element.numpy()\n",
    "            i +=1\n",
    "    return tf.convert_to_tensor(lab)\n",
    "    \n",
    "def show_confusion_matrix(cm, labels):\n",
    "    plt.figure(figsize=(5,5))\n",
    "    plt.imshow(cm)\n",
    "    plt.colorbar()\n",
    "    plt.xlabel('Prediction')\n",
    "    plt.ylabel('Label')\n",
    "    plt.show()"
   ]
  },
  {
   "cell_type": "code",
   "execution_count": 37,
   "id": "59fe0431",
   "metadata": {
    "scrolled": false
   },
   "outputs": [
    {
     "data": {
      "image/png": "[encoded data removed]",
      "text/plain": [
       "<Figure size 360x360 with 2 Axes>"
      ]
     },
     "metadata": {
      "needs_background": "light"
     },
     "output_type": "display_data"
    }
   ],
   "source": [
    "dataset = ds_val\n",
    "confusion_mtx = tf.math.confusion_matrix(\n",
    "    give_labels(dataset, size),\n",
    "    predict_class_label_number(dataset),\n",
    "    num_classes=2)\n",
    "show_confusion_matrix(confusion_mtx, [0,1])"
   ]
  },
  {
   "cell_type": "code",
   "execution_count": null,
   "id": "148dda0f",
   "metadata": {},
   "outputs": [],
   "source": []
  },
  {
   "cell_type": "code",
   "execution_count": null,
   "id": "adf631ff",
   "metadata": {},
   "outputs": [],
   "source": []
  },
  {
   "cell_type": "code",
   "execution_count": null,
   "id": "81888249",
   "metadata": {},
   "outputs": [],
   "source": []
  }
 ],
 "metadata": {
  "kernelspec": {
   "display_name": "Python 3 (ipykernel)",
   "language": "python",
   "name": "python3"
  },
  "language_info": {
   "codemirror_mode": {
    "name": "ipython",
    "version": 3
   },
   "file_extension": ".py",
   "mimetype": "text/x-python",
   "name": "python",
   "nbconvert_exporter": "python",
   "pygments_lexer": "ipython3",
   "version": "3.9.7"
  }
 },
 "nbformat": 4,
 "nbformat_minor": 5
}
