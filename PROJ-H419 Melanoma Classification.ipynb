{
 "cells": [
  {
   "cell_type": "markdown",
   "id": "183e6aad",
   "metadata": {},
   "source": [
    "# PROJ-H419 : Melanoma Classification\n"
   ]
  },
  {
   "cell_type": "markdown",
   "id": "ecd9c799",
   "metadata": {},
   "source": [
    "## 1. Introduction\n",
    "This notebook presents a first approach to tackle the ISIC 2020 Challenge on melanoma classification. The challenge can be found on kaggle (https://www.kaggle.com/c/siim-isic-melanoma-classification) and all the datasets can be found there too. Furthermore, this notebook is widely inspired by gaggle courses on computer vision (https://www.kaggle.com/learn/computer-vision) and tensorflow tutorials (https://www.tensorflow.org/tutorials). \n",
    "\n",
    "The dataset provides tfrecord, DICOM, JPG and CSV files which contain different information about the patient. In this notebook, only the JPGs were used and were labelled with the help of the CSV files. Also, only the information about the malignancy of the melanoma is used to label the JPGs."
   ]
  },
  {
   "cell_type": "code",
   "execution_count": 1,
   "id": "792c6c05",
   "metadata": {},
   "outputs": [
    {
     "name": "stdout",
     "output_type": "stream",
     "text": [
      "2.6.0\n"
     ]
    }
   ],
   "source": [
    "import numpy as np\n",
    "import os\n",
    "import PIL\n",
    "import PIL.Image\n",
    "import tensorflow as tf\n",
    "\n",
    "\n",
    "import pathlib\n",
    "import pandas as pd\n",
    "\n",
    "import pydicom # for DICOM images\n",
    "from skimage.transform import resize\n",
    "from sklearn.metrics import plot_confusion_matrix  \n",
    "\n",
    "import matplotlib.pyplot as plt\n",
    "from matplotlib import gridspec\n",
    "%matplotlib inline\n",
    "print(tf.__version__)\n",
    "\n",
    "from tensorflow import keras\n",
    "from tensorflow.keras import layers\n",
    "from tensorflow.keras.layers.experimental import preprocessing"
   ]
  },
  {
   "cell_type": "code",
   "execution_count": 2,
   "id": "f0442180",
   "metadata": {},
   "outputs": [],
   "source": [
    "def set_seed(seed=31415):\n",
    "    np.random.seed(seed)\n",
    "    tf.random.set_seed(seed)\n",
    "    os.environ['PYTHONHASHSEED'] = str(seed)\n",
    "    os.environ['TF_DETERMINISTIC_OPS'] = '1'\n",
    "set_seed()"
   ]
  },
  {
   "cell_type": "markdown",
   "id": "17c6db48",
   "metadata": {},
   "source": [
    "## 2. Loading data"
   ]
  },
  {
   "cell_type": "code",
   "execution_count": 3,
   "id": "4db20424",
   "metadata": {},
   "outputs": [],
   "source": [
    "directory = '/Users/renau/Desktop/DATA/data_proj_melanoma'\n",
    "#directory = '/Users/renau/Desktop/PROJ-H419/data'\n",
    "\n",
    "train_df = pd.read_csv(directory + '/train.csv')\n",
    "\n",
    "# Change columns names\n",
    "new_names = ['dcm_name', 'ID', 'sex', 'age', 'anatomy', 'diagnosis', 'benign_malignant', 'target']\n",
    "train_df.columns = new_names\n",
    "\n",
    "path_train = directory + '/jpeg/train/' + train_df['dcm_name'] + '.jpg'\n",
    "\n",
    "train_df['path_jpeg'] = path_train"
   ]
  },
  {
   "cell_type": "code",
   "execution_count": 4,
   "id": "8a919e12",
   "metadata": {},
   "outputs": [
    {
     "data": {
      "text/html": [
       "<div>\n",
       "<style scoped>\n",
       "    .dataframe tbody tr th:only-of-type {\n",
       "        vertical-align: middle;\n",
       "    }\n",
       "\n",
       "    .dataframe tbody tr th {\n",
       "        vertical-align: top;\n",
       "    }\n",
       "\n",
       "    .dataframe thead th {\n",
       "        text-align: right;\n",
       "    }\n",
       "</style>\n",
       "<table border=\"1\" class=\"dataframe\">\n",
       "  <thead>\n",
       "    <tr style=\"text-align: right;\">\n",
       "      <th></th>\n",
       "      <th>dcm_name</th>\n",
       "      <th>ID</th>\n",
       "      <th>sex</th>\n",
       "      <th>age</th>\n",
       "      <th>anatomy</th>\n",
       "      <th>diagnosis</th>\n",
       "      <th>benign_malignant</th>\n",
       "      <th>target</th>\n",
       "      <th>path_jpeg</th>\n",
       "    </tr>\n",
       "  </thead>\n",
       "  <tbody>\n",
       "    <tr>\n",
       "      <th>91</th>\n",
       "      <td>ISIC_0149568</td>\n",
       "      <td>IP_0962375</td>\n",
       "      <td>female</td>\n",
       "      <td>55.0</td>\n",
       "      <td>upper extremity</td>\n",
       "      <td>melanoma</td>\n",
       "      <td>malignant</td>\n",
       "      <td>1</td>\n",
       "      <td>/Users/renau/Desktop/DATA/data_proj_melanoma/j...</td>\n",
       "    </tr>\n",
       "    <tr>\n",
       "      <th>235</th>\n",
       "      <td>ISIC_0188432</td>\n",
       "      <td>IP_0135517</td>\n",
       "      <td>female</td>\n",
       "      <td>50.0</td>\n",
       "      <td>upper extremity</td>\n",
       "      <td>melanoma</td>\n",
       "      <td>malignant</td>\n",
       "      <td>1</td>\n",
       "      <td>/Users/renau/Desktop/DATA/data_proj_melanoma/j...</td>\n",
       "    </tr>\n",
       "    <tr>\n",
       "      <th>314</th>\n",
       "      <td>ISIC_0207268</td>\n",
       "      <td>IP_7735373</td>\n",
       "      <td>male</td>\n",
       "      <td>55.0</td>\n",
       "      <td>torso</td>\n",
       "      <td>melanoma</td>\n",
       "      <td>malignant</td>\n",
       "      <td>1</td>\n",
       "      <td>/Users/renau/Desktop/DATA/data_proj_melanoma/j...</td>\n",
       "    </tr>\n",
       "    <tr>\n",
       "      <th>399</th>\n",
       "      <td>ISIC_0232101</td>\n",
       "      <td>IP_8349964</td>\n",
       "      <td>male</td>\n",
       "      <td>65.0</td>\n",
       "      <td>torso</td>\n",
       "      <td>melanoma</td>\n",
       "      <td>malignant</td>\n",
       "      <td>1</td>\n",
       "      <td>/Users/renau/Desktop/DATA/data_proj_melanoma/j...</td>\n",
       "    </tr>\n",
       "    <tr>\n",
       "      <th>459</th>\n",
       "      <td>ISIC_0247330</td>\n",
       "      <td>IP_3232631</td>\n",
       "      <td>female</td>\n",
       "      <td>65.0</td>\n",
       "      <td>lower extremity</td>\n",
       "      <td>melanoma</td>\n",
       "      <td>malignant</td>\n",
       "      <td>1</td>\n",
       "      <td>/Users/renau/Desktop/DATA/data_proj_melanoma/j...</td>\n",
       "    </tr>\n",
       "  </tbody>\n",
       "</table>\n",
       "</div>"
      ],
      "text/plain": [
       "         dcm_name          ID     sex   age          anatomy diagnosis  \\\n",
       "91   ISIC_0149568  IP_0962375  female  55.0  upper extremity  melanoma   \n",
       "235  ISIC_0188432  IP_0135517  female  50.0  upper extremity  melanoma   \n",
       "314  ISIC_0207268  IP_7735373    male  55.0            torso  melanoma   \n",
       "399  ISIC_0232101  IP_8349964    male  65.0            torso  melanoma   \n",
       "459  ISIC_0247330  IP_3232631  female  65.0  lower extremity  melanoma   \n",
       "\n",
       "    benign_malignant  target  \\\n",
       "91         malignant       1   \n",
       "235        malignant       1   \n",
       "314        malignant       1   \n",
       "399        malignant       1   \n",
       "459        malignant       1   \n",
       "\n",
       "                                             path_jpeg  \n",
       "91   /Users/renau/Desktop/DATA/data_proj_melanoma/j...  \n",
       "235  /Users/renau/Desktop/DATA/data_proj_melanoma/j...  \n",
       "314  /Users/renau/Desktop/DATA/data_proj_melanoma/j...  \n",
       "399  /Users/renau/Desktop/DATA/data_proj_melanoma/j...  \n",
       "459  /Users/renau/Desktop/DATA/data_proj_melanoma/j...  "
      ]
     },
     "execution_count": 4,
     "metadata": {},
     "output_type": "execute_result"
    }
   ],
   "source": [
    "malignant_df = train_df[train_df['target'] == 1]\n",
    "malignant_df.head()"
   ]
  },
  {
   "cell_type": "code",
   "execution_count": 5,
   "id": "28e235f0",
   "metadata": {
    "scrolled": true
   },
   "outputs": [
    {
     "data": {
      "text/html": [
       "<div>\n",
       "<style scoped>\n",
       "    .dataframe tbody tr th:only-of-type {\n",
       "        vertical-align: middle;\n",
       "    }\n",
       "\n",
       "    .dataframe tbody tr th {\n",
       "        vertical-align: top;\n",
       "    }\n",
       "\n",
       "    .dataframe thead th {\n",
       "        text-align: right;\n",
       "    }\n",
       "</style>\n",
       "<table border=\"1\" class=\"dataframe\">\n",
       "  <thead>\n",
       "    <tr style=\"text-align: right;\">\n",
       "      <th></th>\n",
       "      <th>dcm_name</th>\n",
       "      <th>ID</th>\n",
       "      <th>sex</th>\n",
       "      <th>age</th>\n",
       "      <th>anatomy</th>\n",
       "      <th>diagnosis</th>\n",
       "      <th>benign_malignant</th>\n",
       "      <th>target</th>\n",
       "      <th>path_jpeg</th>\n",
       "    </tr>\n",
       "  </thead>\n",
       "  <tbody>\n",
       "    <tr>\n",
       "      <th>0</th>\n",
       "      <td>ISIC_2637011</td>\n",
       "      <td>IP_7279968</td>\n",
       "      <td>male</td>\n",
       "      <td>45.0</td>\n",
       "      <td>head/neck</td>\n",
       "      <td>unknown</td>\n",
       "      <td>benign</td>\n",
       "      <td>0</td>\n",
       "      <td>/Users/renau/Desktop/DATA/data_proj_melanoma/j...</td>\n",
       "    </tr>\n",
       "    <tr>\n",
       "      <th>1</th>\n",
       "      <td>ISIC_0015719</td>\n",
       "      <td>IP_3075186</td>\n",
       "      <td>female</td>\n",
       "      <td>45.0</td>\n",
       "      <td>upper extremity</td>\n",
       "      <td>unknown</td>\n",
       "      <td>benign</td>\n",
       "      <td>0</td>\n",
       "      <td>/Users/renau/Desktop/DATA/data_proj_melanoma/j...</td>\n",
       "    </tr>\n",
       "    <tr>\n",
       "      <th>2</th>\n",
       "      <td>ISIC_0052212</td>\n",
       "      <td>IP_2842074</td>\n",
       "      <td>female</td>\n",
       "      <td>50.0</td>\n",
       "      <td>lower extremity</td>\n",
       "      <td>nevus</td>\n",
       "      <td>benign</td>\n",
       "      <td>0</td>\n",
       "      <td>/Users/renau/Desktop/DATA/data_proj_melanoma/j...</td>\n",
       "    </tr>\n",
       "    <tr>\n",
       "      <th>3</th>\n",
       "      <td>ISIC_0068279</td>\n",
       "      <td>IP_6890425</td>\n",
       "      <td>female</td>\n",
       "      <td>45.0</td>\n",
       "      <td>head/neck</td>\n",
       "      <td>unknown</td>\n",
       "      <td>benign</td>\n",
       "      <td>0</td>\n",
       "      <td>/Users/renau/Desktop/DATA/data_proj_melanoma/j...</td>\n",
       "    </tr>\n",
       "    <tr>\n",
       "      <th>4</th>\n",
       "      <td>ISIC_0074268</td>\n",
       "      <td>IP_8723313</td>\n",
       "      <td>female</td>\n",
       "      <td>55.0</td>\n",
       "      <td>upper extremity</td>\n",
       "      <td>unknown</td>\n",
       "      <td>benign</td>\n",
       "      <td>0</td>\n",
       "      <td>/Users/renau/Desktop/DATA/data_proj_melanoma/j...</td>\n",
       "    </tr>\n",
       "  </tbody>\n",
       "</table>\n",
       "</div>"
      ],
      "text/plain": [
       "       dcm_name          ID     sex   age          anatomy diagnosis  \\\n",
       "0  ISIC_2637011  IP_7279968    male  45.0        head/neck   unknown   \n",
       "1  ISIC_0015719  IP_3075186  female  45.0  upper extremity   unknown   \n",
       "2  ISIC_0052212  IP_2842074  female  50.0  lower extremity     nevus   \n",
       "3  ISIC_0068279  IP_6890425  female  45.0        head/neck   unknown   \n",
       "4  ISIC_0074268  IP_8723313  female  55.0  upper extremity   unknown   \n",
       "\n",
       "  benign_malignant  target                                          path_jpeg  \n",
       "0           benign       0  /Users/renau/Desktop/DATA/data_proj_melanoma/j...  \n",
       "1           benign       0  /Users/renau/Desktop/DATA/data_proj_melanoma/j...  \n",
       "2           benign       0  /Users/renau/Desktop/DATA/data_proj_melanoma/j...  \n",
       "3           benign       0  /Users/renau/Desktop/DATA/data_proj_melanoma/j...  \n",
       "4           benign       0  /Users/renau/Desktop/DATA/data_proj_melanoma/j...  "
      ]
     },
     "execution_count": 5,
     "metadata": {},
     "output_type": "execute_result"
    }
   ],
   "source": [
    "benin_df = train_df[train_df['target'] == 0]\n",
    "benin_df.head()"
   ]
  },
  {
   "cell_type": "markdown",
   "id": "b2ec5d88",
   "metadata": {},
   "source": [
    "### 2.1 Unbalanced dataset\n",
    "\n",
    "This code highlights the fact that the dataset is unbalanced. The malignant files represent less than two percents of the total files. This is a problem that has to be handled otherwise this could lead to not or less detect malignant melanomas."
   ]
  },
  {
   "cell_type": "code",
   "execution_count": 6,
   "id": "7e28fb41",
   "metadata": {},
   "outputs": [
    {
     "data": {
      "text/plain": [
       "584"
      ]
     },
     "execution_count": 6,
     "metadata": {},
     "output_type": "execute_result"
    }
   ],
   "source": [
    "mal_file = malignant_df['path_jpeg'].values\n",
    "mal_labels = malignant_df['target'].values\n",
    "mal_train_ds = tf.data.Dataset.from_tensor_slices((mal_file, mal_labels))\n",
    "len(list(mal_train_ds))"
   ]
  },
  {
   "cell_type": "code",
   "execution_count": 7,
   "id": "80246e56",
   "metadata": {},
   "outputs": [
    {
     "data": {
      "text/plain": [
       "32542"
      ]
     },
     "execution_count": 7,
     "metadata": {},
     "output_type": "execute_result"
    }
   ],
   "source": [
    "ben_file = benin_df['path_jpeg'].values\n",
    "ben_labels = benin_df['target'].values\n",
    "ben_train_ds = tf.data.Dataset.from_tensor_slices((ben_file, ben_labels))\n",
    "ben_train_ds = ben_train_ds.shuffle(len(list(ben_train_ds)))\n",
    "len(list(ben_train_ds))"
   ]
  },
  {
   "cell_type": "markdown",
   "id": "8ef2091d",
   "metadata": {},
   "source": [
    "### 2.2 Making a balanced dataset\n",
    "There are different options in order to make a balanced dataset. For instance, the class in default can be oversampled or the class in excess can be under sampled. In a first time under sampling was chosen and a random sample of the class in excess is taken shuffled with all the element of the class in default. Finally, the data are split into data for the training and the validation."
   ]
  },
  {
   "cell_type": "code",
   "execution_count": 8,
   "id": "0ab786bd",
   "metadata": {},
   "outputs": [
    {
     "name": "stdout",
     "output_type": "stream",
     "text": [
      "Validation dataset size is 233 and training dataset size is 935\n"
     ]
    }
   ],
   "source": [
    "def make_balanced_dataset(ds_class1, ds_class2):\n",
    "    half_size = min(len(list(ds_class1)),len(list(ds_class2)))\n",
    "    ds_1 = ds_class1.take(half_size)\n",
    "    ds_2 = ds_class2.take(half_size)\n",
    "    ds_full = ds_1.concatenate(ds_2)\n",
    "    ds_full = ds_full.shuffle(half_size*2, reshuffle_each_iteration=False)\n",
    "    return ds_full.skip((half_size*2)//5),ds_full.take((half_size*2)//5),\n",
    "\n",
    "ds_train, ds_val = make_balanced_dataset(ben_train_ds,mal_train_ds)\n",
    "size = len(list(ds_val))\n",
    "print('Validation dataset size is',size, 'and training dataset size is' , len(list(ds_train)))"
   ]
  },
  {
   "cell_type": "code",
   "execution_count": 9,
   "id": "8d9817c5",
   "metadata": {},
   "outputs": [
    {
     "name": "stdout",
     "output_type": "stream",
     "text": [
      "b'/Users/renau/Desktop/DATA/data_proj_melanoma/jpeg/train/ISIC_6257422.jpg' and target:  0\n",
      "b'/Users/renau/Desktop/DATA/data_proj_melanoma/jpeg/train/ISIC_0599605.jpg' and target:  1\n",
      "b'/Users/renau/Desktop/DATA/data_proj_melanoma/jpeg/train/ISIC_0272026.jpg' and target:  0\n",
      "b'/Users/renau/Desktop/DATA/data_proj_melanoma/jpeg/train/ISIC_2937642.jpg' and target:  1\n"
     ]
    }
   ],
   "source": [
    "ex_ds = ds_train.take(4)\n",
    "for element in ex_ds :\n",
    "    print(element[0].numpy(),'and target: ',element[1].numpy())"
   ]
  },
  {
   "cell_type": "markdown",
   "id": "5cc3ae72",
   "metadata": {},
   "source": [
    "### 2.3 Data preprocessing\n",
    "In this, the data are labelled, gathered in mini-batch and resized. Images of different size can't be used to feed the model for mathematical reasons for instance normalization of the data and for coding reasons the inputs shape of model (size of the picture) has to be specified. "
   ]
  },
  {
   "cell_type": "code",
   "execution_count": 10,
   "id": "4fca5ce4",
   "metadata": {},
   "outputs": [],
   "source": [
    "def read_image(path, label):\n",
    "    image = tf.io.read_file(path)\n",
    "    image = tf.image.decode_image(image, channels=3, dtype = tf.uint8, expand_animations = False)\n",
    "    return image, label\n",
    "\n",
    "ds_train = ds_train.map(read_image)\n",
    "ds_val = ds_val.map(read_image)"
   ]
  },
  {
   "cell_type": "code",
   "execution_count": 11,
   "id": "b3d4279c",
   "metadata": {},
   "outputs": [
    {
     "name": "stdout",
     "output_type": "stream",
     "text": [
      "(480, 640, 3)\n",
      "(2448, 3264, 3)\n",
      "(4000, 6000, 3)\n"
     ]
    }
   ],
   "source": [
    "ex_ds = ds_train.take(3)\n",
    "for element in ex_ds :\n",
    "    print(element[0].numpy().shape)"
   ]
  },
  {
   "cell_type": "code",
   "execution_count": 12,
   "id": "34917f99",
   "metadata": {},
   "outputs": [
    {
     "name": "stdout",
     "output_type": "stream",
     "text": [
      "(16, 160, 160, 3)\n",
      "(16,)\n",
      "(16, 160, 160, 3)\n",
      "(16,)\n",
      "(16, 160, 160, 3)\n",
      "(16,)\n"
     ]
    }
   ],
   "source": [
    "def adapt_data(image, label):\n",
    "    image = tf.image.resize(image, [160,160])\n",
    "    return image, label\n",
    "\n",
    "def convert_to_float(image, label):\n",
    "    image = tf.image.convert_image_dtype(image, dtype=tf.float64)\n",
    "    return image, label\n",
    "    \n",
    "ds_train= ds_train.map(adapt_data).map(convert_to_float).batch(16)\n",
    "ds_val= ds_val.map(adapt_data).map(convert_to_float).batch(16)\n",
    "\n",
    "ex_ds = ds_train.take(3)\n",
    "for element in ex_ds :\n",
    "    print(element[0].shape)\n",
    "    print(element[1].shape)"
   ]
  },
  {
   "cell_type": "code",
   "execution_count": 13,
   "id": "ed2f5220",
   "metadata": {},
   "outputs": [],
   "source": [
    "AUTOTUNE = tf.data.AUTOTUNE\n",
    "\n",
    "ds_train = ds_train.cache().prefetch(buffer_size=AUTOTUNE)\n",
    "ds_val = ds_val.cache().prefetch(buffer_size=AUTOTUNE)"
   ]
  },
  {
   "cell_type": "markdown",
   "id": "c640960f",
   "metadata": {},
   "source": [
    "## 3. The model\n",
    "\n",
    "The model contains three mains parts:\n",
    " 1. Data augmentation: used to oversample the data during the training\n",
    " 2. Convolution layers: extract features of image\n",
    " 3. Head: use the features to determine the class\n",
    "\n",
    "The last layer uses sigmoid activation because it's a binary classification problem otherwise it would have to be a softmax activation with the same number of classes as neurons in it."
   ]
  },
  {
   "cell_type": "code",
   "execution_count": 14,
   "id": "1fbe5eb0",
   "metadata": {},
   "outputs": [],
   "source": [
    "MyModel = tf.keras.Sequential([ \n",
    "    \n",
    "# == Input == \n",
    "    \n",
    "    layers.InputLayer(input_shape=(160,160,3)),\n",
    "    \n",
    "# == Data Augmentation ==\n",
    "    \n",
    "    preprocessing.RandomContrast(factor=0.1),\n",
    "    preprocessing.RandomFlip(mode='horizontal'), \n",
    "    preprocessing.RandomFlip(mode='vertical'), \n",
    "    preprocessing.RandomRotation(factor=0.20),\n",
    "    layers.BatchNormalization(),\n",
    "\n",
    "# == Convolution == \n",
    "    \n",
    "    layers.Rescaling(1./255),\n",
    "    layers.BatchNormalization(),\n",
    "    layers.Conv2D(64, 3, activation='relu'),\n",
    "    layers.MaxPooling2D(),\n",
    "    layers.Conv2D(128, 3, activation='relu'),\n",
    "    layers.MaxPooling2D(),\n",
    "    layers.Conv2D(256, 3, activation='relu'),\n",
    "    layers.MaxPooling2D(),\n",
    "    layers.BatchNormalization(),\n",
    "\n",
    "# == Head ==\n",
    "    layers.Flatten(),\n",
    "    \n",
    "    layers.Dense(128, activation='relu'),\n",
    "    layers.BatchNormalization(),\n",
    "    layers.Dropout(0.2),\n",
    "    \n",
    "    layers.Dense(64, activation='relu'),\n",
    "    layers.BatchNormalization(),\n",
    "    layers.Dropout(0.2),\n",
    "    \n",
    "    layers.Dense(32, activation='relu'),\n",
    "    layers.BatchNormalization(),\n",
    "    layers.Dropout(0.2),\n",
    "\n",
    "    layers.Dense(1,activation='sigmoid')\n",
    "])"
   ]
  },
  {
   "cell_type": "code",
   "execution_count": 15,
   "id": "2adf69fa",
   "metadata": {
    "scrolled": true
   },
   "outputs": [
    {
     "name": "stdout",
     "output_type": "stream",
     "text": [
      "Model: \"sequential\"\n",
      "_________________________________________________________________\n",
      "Layer (type)                 Output Shape              Param #   \n",
      "=================================================================\n",
      "random_contrast (RandomContr (None, 160, 160, 3)       0         \n",
      "_________________________________________________________________\n",
      "random_flip (RandomFlip)     (None, 160, 160, 3)       0         \n",
      "_________________________________________________________________\n",
      "random_flip_1 (RandomFlip)   (None, 160, 160, 3)       0         \n",
      "_________________________________________________________________\n",
      "random_rotation (RandomRotat (None, 160, 160, 3)       0         \n",
      "_________________________________________________________________\n",
      "batch_normalization (BatchNo (None, 160, 160, 3)       12        \n",
      "_________________________________________________________________\n",
      "rescaling (Rescaling)        (None, 160, 160, 3)       0         \n",
      "_________________________________________________________________\n",
      "batch_normalization_1 (Batch (None, 160, 160, 3)       12        \n",
      "_________________________________________________________________\n",
      "conv2d (Conv2D)              (None, 158, 158, 64)      1792      \n",
      "_________________________________________________________________\n",
      "max_pooling2d (MaxPooling2D) (None, 79, 79, 64)        0         \n",
      "_________________________________________________________________\n",
      "conv2d_1 (Conv2D)            (None, 77, 77, 128)       73856     \n",
      "_________________________________________________________________\n",
      "max_pooling2d_1 (MaxPooling2 (None, 38, 38, 128)       0         \n",
      "_________________________________________________________________\n",
      "conv2d_2 (Conv2D)            (None, 36, 36, 256)       295168    \n",
      "_________________________________________________________________\n",
      "max_pooling2d_2 (MaxPooling2 (None, 18, 18, 256)       0         \n",
      "_________________________________________________________________\n",
      "batch_normalization_2 (Batch (None, 18, 18, 256)       1024      \n",
      "_________________________________________________________________\n",
      "flatten (Flatten)            (None, 82944)             0         \n",
      "_________________________________________________________________\n",
      "dense (Dense)                (None, 128)               10616960  \n",
      "_________________________________________________________________\n",
      "batch_normalization_3 (Batch (None, 128)               512       \n",
      "_________________________________________________________________\n",
      "dropout (Dropout)            (None, 128)               0         \n",
      "_________________________________________________________________\n",
      "dense_1 (Dense)              (None, 64)                8256      \n",
      "_________________________________________________________________\n",
      "batch_normalization_4 (Batch (None, 64)                256       \n",
      "_________________________________________________________________\n",
      "dropout_1 (Dropout)          (None, 64)                0         \n",
      "_________________________________________________________________\n",
      "dense_2 (Dense)              (None, 32)                2080      \n",
      "_________________________________________________________________\n",
      "batch_normalization_5 (Batch (None, 32)                128       \n",
      "_________________________________________________________________\n",
      "dropout_2 (Dropout)          (None, 32)                0         \n",
      "_________________________________________________________________\n",
      "dense_3 (Dense)              (None, 1)                 33        \n",
      "=================================================================\n",
      "Total params: 11,000,089\n",
      "Trainable params: 10,999,117\n",
      "Non-trainable params: 972\n",
      "_________________________________________________________________\n"
     ]
    }
   ],
   "source": [
    "MyModel.compile(\n",
    "    optimizer=tf.keras.optimizers.Adam(epsilon=0.01),\n",
    "    loss='binary_crossentropy',\n",
    "    metrics=['binary_accuracy']\n",
    ")\n",
    "MyModel.save_weights('My_model')\n",
    "MyModel.summary()"
   ]
  },
  {
   "cell_type": "markdown",
   "id": "89819876",
   "metadata": {},
   "source": [
    "## 4. Training\n",
    "\n",
    "On the training over 100 epochs even if there are dropout layers, the model seems to be overfitting a bit. That's why, only the model trained over 25 epochs is going to be used after. "
   ]
  },
  {
   "cell_type": "code",
   "execution_count": 16,
   "id": "a9fa1def",
   "metadata": {},
   "outputs": [
    {
     "name": "stdout",
     "output_type": "stream",
     "text": [
      "Epoch 1/100\n",
      "59/59 [==============================] - 9s 91ms/step - loss: 0.7462 - binary_accuracy: 0.6310 - val_loss: 0.7011 - val_binary_accuracy: 0.4936\n",
      "Epoch 2/100\n",
      "59/59 [==============================] - 2s 33ms/step - loss: 0.6696 - binary_accuracy: 0.6492 - val_loss: 0.7318 - val_binary_accuracy: 0.4936\n",
      "Epoch 3/100\n",
      "59/59 [==============================] - 2s 32ms/step - loss: 0.6665 - binary_accuracy: 0.6481 - val_loss: 0.7419 - val_binary_accuracy: 0.4936\n",
      "Epoch 4/100\n",
      "59/59 [==============================] - 2s 32ms/step - loss: 0.6283 - binary_accuracy: 0.6781 - val_loss: 0.7767 - val_binary_accuracy: 0.4936\n",
      "Epoch 5/100\n",
      "59/59 [==============================] - 2s 32ms/step - loss: 0.6406 - binary_accuracy: 0.6781 - val_loss: 0.7807 - val_binary_accuracy: 0.4936\n",
      "Epoch 6/100\n",
      "59/59 [==============================] - 2s 32ms/step - loss: 0.6168 - binary_accuracy: 0.6791 - val_loss: 0.7438 - val_binary_accuracy: 0.4936\n",
      "Epoch 7/100\n",
      "59/59 [==============================] - 2s 32ms/step - loss: 0.5820 - binary_accuracy: 0.6963 - val_loss: 0.7697 - val_binary_accuracy: 0.4936\n",
      "Epoch 8/100\n",
      "59/59 [==============================] - 2s 32ms/step - loss: 0.5992 - binary_accuracy: 0.6802 - val_loss: 0.7653 - val_binary_accuracy: 0.4936\n",
      "Epoch 9/100\n",
      "59/59 [==============================] - 2s 32ms/step - loss: 0.5671 - binary_accuracy: 0.6973 - val_loss: 0.7362 - val_binary_accuracy: 0.4936\n",
      "Epoch 10/100\n",
      "59/59 [==============================] - 2s 32ms/step - loss: 0.5679 - binary_accuracy: 0.6866 - val_loss: 0.6745 - val_binary_accuracy: 0.5622\n",
      "Epoch 11/100\n",
      "59/59 [==============================] - 2s 32ms/step - loss: 0.5593 - binary_accuracy: 0.7048 - val_loss: 0.5517 - val_binary_accuracy: 0.6953\n",
      "Epoch 12/100\n",
      "59/59 [==============================] - 2s 32ms/step - loss: 0.5874 - binary_accuracy: 0.6759 - val_loss: 0.5163 - val_binary_accuracy: 0.7382\n",
      "Epoch 13/100\n",
      "59/59 [==============================] - 2s 33ms/step - loss: 0.5544 - binary_accuracy: 0.7005 - val_loss: 0.5148 - val_binary_accuracy: 0.7382\n",
      "Epoch 14/100\n",
      "59/59 [==============================] - 2s 32ms/step - loss: 0.5474 - binary_accuracy: 0.7155 - val_loss: 0.5036 - val_binary_accuracy: 0.7725\n",
      "Epoch 15/100\n",
      "59/59 [==============================] - 2s 32ms/step - loss: 0.5368 - binary_accuracy: 0.7251 - val_loss: 0.5474 - val_binary_accuracy: 0.7253\n",
      "Epoch 16/100\n",
      "59/59 [==============================] - 2s 32ms/step - loss: 0.5243 - binary_accuracy: 0.7283 - val_loss: 0.5232 - val_binary_accuracy: 0.7382\n",
      "Epoch 17/100\n",
      "59/59 [==============================] - 2s 33ms/step - loss: 0.5276 - binary_accuracy: 0.7262 - val_loss: 0.5133 - val_binary_accuracy: 0.7210\n",
      "Epoch 18/100\n",
      "59/59 [==============================] - 2s 32ms/step - loss: 0.5152 - binary_accuracy: 0.7412 - val_loss: 0.5678 - val_binary_accuracy: 0.6996\n",
      "Epoch 19/100\n",
      "59/59 [==============================] - 2s 32ms/step - loss: 0.5343 - binary_accuracy: 0.7027 - val_loss: 0.5216 - val_binary_accuracy: 0.7468\n",
      "Epoch 20/100\n",
      "59/59 [==============================] - 2s 32ms/step - loss: 0.5195 - binary_accuracy: 0.7273 - val_loss: 0.5453 - val_binary_accuracy: 0.7382\n",
      "Epoch 21/100\n",
      "59/59 [==============================] - 2s 32ms/step - loss: 0.5124 - binary_accuracy: 0.7412 - val_loss: 0.5003 - val_binary_accuracy: 0.7682\n",
      "Epoch 22/100\n",
      "59/59 [==============================] - 2s 32ms/step - loss: 0.5180 - binary_accuracy: 0.7455 - val_loss: 0.5222 - val_binary_accuracy: 0.7382\n",
      "Epoch 23/100\n",
      "59/59 [==============================] - 2s 32ms/step - loss: 0.5197 - binary_accuracy: 0.7294 - val_loss: 0.5773 - val_binary_accuracy: 0.7554\n",
      "Epoch 24/100\n",
      "59/59 [==============================] - 2s 32ms/step - loss: 0.5037 - binary_accuracy: 0.7540 - val_loss: 0.5257 - val_binary_accuracy: 0.7682\n",
      "Epoch 25/100\n",
      "59/59 [==============================] - 2s 32ms/step - loss: 0.4870 - binary_accuracy: 0.7497 - val_loss: 0.5036 - val_binary_accuracy: 0.7682\n",
      "Epoch 26/100\n",
      "59/59 [==============================] - 2s 33ms/step - loss: 0.4932 - binary_accuracy: 0.7583 - val_loss: 0.5078 - val_binary_accuracy: 0.7639\n",
      "Epoch 27/100\n",
      "59/59 [==============================] - 2s 32ms/step - loss: 0.4850 - binary_accuracy: 0.7561 - val_loss: 0.5047 - val_binary_accuracy: 0.7725\n",
      "Epoch 28/100\n",
      "59/59 [==============================] - 2s 32ms/step - loss: 0.5080 - binary_accuracy: 0.7476 - val_loss: 0.5409 - val_binary_accuracy: 0.7597\n",
      "Epoch 29/100\n",
      "59/59 [==============================] - 2s 32ms/step - loss: 0.4936 - binary_accuracy: 0.7604 - val_loss: 0.5111 - val_binary_accuracy: 0.7725\n",
      "Epoch 30/100\n",
      "59/59 [==============================] - 2s 32ms/step - loss: 0.4866 - binary_accuracy: 0.7818 - val_loss: 0.5188 - val_binary_accuracy: 0.7296\n",
      "Epoch 31/100\n",
      "59/59 [==============================] - 2s 32ms/step - loss: 0.4861 - binary_accuracy: 0.7540 - val_loss: 0.5225 - val_binary_accuracy: 0.7597\n",
      "Epoch 32/100\n",
      "59/59 [==============================] - 2s 32ms/step - loss: 0.4795 - binary_accuracy: 0.7455 - val_loss: 0.5131 - val_binary_accuracy: 0.7768\n",
      "Epoch 33/100\n",
      "59/59 [==============================] - 2s 32ms/step - loss: 0.4724 - binary_accuracy: 0.7626 - val_loss: 0.5086 - val_binary_accuracy: 0.7682\n",
      "Epoch 34/100\n",
      "59/59 [==============================] - 2s 32ms/step - loss: 0.4807 - binary_accuracy: 0.7743 - val_loss: 0.5192 - val_binary_accuracy: 0.7597\n",
      "Epoch 35/100\n",
      "59/59 [==============================] - 2s 32ms/step - loss: 0.4594 - binary_accuracy: 0.7594 - val_loss: 0.5180 - val_binary_accuracy: 0.7554\n",
      "Epoch 36/100\n",
      "59/59 [==============================] - 2s 32ms/step - loss: 0.4583 - binary_accuracy: 0.7658 - val_loss: 0.4925 - val_binary_accuracy: 0.7682\n",
      "Epoch 37/100\n",
      "59/59 [==============================] - 2s 32ms/step - loss: 0.4617 - binary_accuracy: 0.7840 - val_loss: 0.5277 - val_binary_accuracy: 0.7725\n",
      "Epoch 38/100\n",
      "59/59 [==============================] - 2s 32ms/step - loss: 0.4643 - binary_accuracy: 0.7615 - val_loss: 0.5416 - val_binary_accuracy: 0.7854\n",
      "Epoch 39/100\n",
      "59/59 [==============================] - 2s 32ms/step - loss: 0.4512 - binary_accuracy: 0.7861 - val_loss: 0.5376 - val_binary_accuracy: 0.7639\n",
      "Epoch 40/100\n",
      "59/59 [==============================] - 2s 32ms/step - loss: 0.4472 - binary_accuracy: 0.8000 - val_loss: 0.5207 - val_binary_accuracy: 0.7768\n",
      "Epoch 41/100\n",
      "59/59 [==============================] - 2s 32ms/step - loss: 0.4603 - binary_accuracy: 0.7807 - val_loss: 0.5414 - val_binary_accuracy: 0.7554\n",
      "Epoch 42/100\n",
      "59/59 [==============================] - 2s 32ms/step - loss: 0.4460 - binary_accuracy: 0.7701 - val_loss: 0.4978 - val_binary_accuracy: 0.7682\n",
      "Epoch 43/100\n",
      "59/59 [==============================] - 2s 32ms/step - loss: 0.4267 - binary_accuracy: 0.7957 - val_loss: 0.5218 - val_binary_accuracy: 0.7468\n",
      "Epoch 44/100\n",
      "59/59 [==============================] - 2s 32ms/step - loss: 0.4571 - binary_accuracy: 0.7765 - val_loss: 0.5557 - val_binary_accuracy: 0.7854\n",
      "Epoch 45/100\n",
      "59/59 [==============================] - 2s 32ms/step - loss: 0.4487 - binary_accuracy: 0.7765 - val_loss: 0.5321 - val_binary_accuracy: 0.7425\n",
      "Epoch 46/100\n",
      "59/59 [==============================] - 2s 32ms/step - loss: 0.4260 - binary_accuracy: 0.7936 - val_loss: 0.5435 - val_binary_accuracy: 0.7253\n",
      "Epoch 47/100\n",
      "59/59 [==============================] - 2s 32ms/step - loss: 0.4284 - binary_accuracy: 0.7947 - val_loss: 0.4957 - val_binary_accuracy: 0.7682\n",
      "Epoch 48/100\n",
      "59/59 [==============================] - 2s 32ms/step - loss: 0.4106 - binary_accuracy: 0.8043 - val_loss: 0.5394 - val_binary_accuracy: 0.7854\n",
      "Epoch 49/100\n",
      "59/59 [==============================] - 2s 32ms/step - loss: 0.4225 - binary_accuracy: 0.7936 - val_loss: 0.5054 - val_binary_accuracy: 0.7639\n",
      "Epoch 50/100\n",
      "59/59 [==============================] - 2s 32ms/step - loss: 0.4150 - binary_accuracy: 0.8075 - val_loss: 0.5050 - val_binary_accuracy: 0.7597\n",
      "Epoch 51/100\n",
      "59/59 [==============================] - 2s 33ms/step - loss: 0.4255 - binary_accuracy: 0.8032 - val_loss: 0.5336 - val_binary_accuracy: 0.7682\n",
      "Epoch 52/100\n",
      "59/59 [==============================] - 2s 32ms/step - loss: 0.4128 - binary_accuracy: 0.8118 - val_loss: 0.5268 - val_binary_accuracy: 0.7468\n",
      "Epoch 53/100\n"
     ]
    },
    {
     "name": "stdout",
     "output_type": "stream",
     "text": [
      "59/59 [==============================] - 2s 32ms/step - loss: 0.4033 - binary_accuracy: 0.8043 - val_loss: 0.5459 - val_binary_accuracy: 0.7382\n",
      "Epoch 54/100\n",
      "59/59 [==============================] - 2s 32ms/step - loss: 0.3952 - binary_accuracy: 0.8193 - val_loss: 0.5159 - val_binary_accuracy: 0.7682\n",
      "Epoch 55/100\n",
      "59/59 [==============================] - 2s 32ms/step - loss: 0.3864 - binary_accuracy: 0.8267 - val_loss: 0.5184 - val_binary_accuracy: 0.7682\n",
      "Epoch 56/100\n",
      "59/59 [==============================] - 2s 33ms/step - loss: 0.4072 - binary_accuracy: 0.8043 - val_loss: 0.5215 - val_binary_accuracy: 0.7725\n",
      "Epoch 57/100\n",
      "59/59 [==============================] - 2s 33ms/step - loss: 0.3888 - binary_accuracy: 0.8182 - val_loss: 0.5801 - val_binary_accuracy: 0.7639\n",
      "Epoch 58/100\n",
      "59/59 [==============================] - 2s 32ms/step - loss: 0.4078 - binary_accuracy: 0.8075 - val_loss: 0.5804 - val_binary_accuracy: 0.7296\n",
      "Epoch 59/100\n",
      "59/59 [==============================] - 2s 33ms/step - loss: 0.4044 - binary_accuracy: 0.8128 - val_loss: 0.5948 - val_binary_accuracy: 0.7511\n",
      "Epoch 60/100\n",
      "59/59 [==============================] - 2s 32ms/step - loss: 0.3908 - binary_accuracy: 0.8235 - val_loss: 0.5636 - val_binary_accuracy: 0.7554\n",
      "Epoch 61/100\n",
      "59/59 [==============================] - 2s 32ms/step - loss: 0.3845 - binary_accuracy: 0.8182 - val_loss: 0.5433 - val_binary_accuracy: 0.7597\n",
      "Epoch 62/100\n",
      "59/59 [==============================] - 2s 32ms/step - loss: 0.3909 - binary_accuracy: 0.8171 - val_loss: 0.5392 - val_binary_accuracy: 0.7639\n",
      "Epoch 63/100\n",
      "59/59 [==============================] - 2s 32ms/step - loss: 0.3754 - binary_accuracy: 0.8289 - val_loss: 0.5882 - val_binary_accuracy: 0.7682\n",
      "Epoch 64/100\n",
      "59/59 [==============================] - 2s 32ms/step - loss: 0.3672 - binary_accuracy: 0.8385 - val_loss: 0.5208 - val_binary_accuracy: 0.7682\n",
      "Epoch 65/100\n",
      "59/59 [==============================] - 2s 32ms/step - loss: 0.3762 - binary_accuracy: 0.8353 - val_loss: 0.5505 - val_binary_accuracy: 0.7425\n",
      "Epoch 66/100\n",
      "59/59 [==============================] - 2s 32ms/step - loss: 0.3856 - binary_accuracy: 0.8053 - val_loss: 0.5557 - val_binary_accuracy: 0.7339\n",
      "Epoch 67/100\n",
      "59/59 [==============================] - 2s 33ms/step - loss: 0.3643 - binary_accuracy: 0.8214 - val_loss: 0.5689 - val_binary_accuracy: 0.7725\n",
      "Epoch 68/100\n",
      "59/59 [==============================] - 2s 32ms/step - loss: 0.3573 - binary_accuracy: 0.8385 - val_loss: 0.5616 - val_binary_accuracy: 0.7768\n",
      "Epoch 69/100\n",
      "59/59 [==============================] - 2s 32ms/step - loss: 0.3377 - binary_accuracy: 0.8385 - val_loss: 0.5593 - val_binary_accuracy: 0.7597\n",
      "Epoch 70/100\n",
      "59/59 [==============================] - 2s 32ms/step - loss: 0.3455 - binary_accuracy: 0.8460 - val_loss: 0.5744 - val_binary_accuracy: 0.7768\n",
      "Epoch 71/100\n",
      "59/59 [==============================] - 2s 32ms/step - loss: 0.3407 - binary_accuracy: 0.8481 - val_loss: 0.6358 - val_binary_accuracy: 0.7167\n",
      "Epoch 72/100\n",
      "59/59 [==============================] - 2s 32ms/step - loss: 0.3472 - binary_accuracy: 0.8449 - val_loss: 0.6268 - val_binary_accuracy: 0.7425\n",
      "Epoch 73/100\n",
      "59/59 [==============================] - 2s 32ms/step - loss: 0.3487 - binary_accuracy: 0.8503 - val_loss: 0.6069 - val_binary_accuracy: 0.7597\n",
      "Epoch 74/100\n",
      "59/59 [==============================] - 2s 32ms/step - loss: 0.3393 - binary_accuracy: 0.8471 - val_loss: 0.6116 - val_binary_accuracy: 0.7425\n",
      "Epoch 75/100\n",
      "59/59 [==============================] - 2s 32ms/step - loss: 0.3312 - binary_accuracy: 0.8471 - val_loss: 0.6149 - val_binary_accuracy: 0.7554\n",
      "Epoch 76/100\n",
      "59/59 [==============================] - 2s 33ms/step - loss: 0.3510 - binary_accuracy: 0.8385 - val_loss: 0.5932 - val_binary_accuracy: 0.7425\n",
      "Epoch 77/100\n",
      "59/59 [==============================] - 2s 32ms/step - loss: 0.3459 - binary_accuracy: 0.8513 - val_loss: 0.6077 - val_binary_accuracy: 0.7339\n",
      "Epoch 78/100\n",
      "59/59 [==============================] - 2s 32ms/step - loss: 0.3395 - binary_accuracy: 0.8374 - val_loss: 0.5986 - val_binary_accuracy: 0.7253\n",
      "Epoch 79/100\n",
      "59/59 [==============================] - 2s 32ms/step - loss: 0.3379 - binary_accuracy: 0.8471 - val_loss: 0.6165 - val_binary_accuracy: 0.7425\n",
      "Epoch 80/100\n",
      "59/59 [==============================] - 2s 32ms/step - loss: 0.3341 - binary_accuracy: 0.8439 - val_loss: 0.5856 - val_binary_accuracy: 0.7554\n",
      "Epoch 81/100\n",
      "59/59 [==============================] - 2s 32ms/step - loss: 0.3168 - binary_accuracy: 0.8610 - val_loss: 0.6118 - val_binary_accuracy: 0.7511\n",
      "Epoch 82/100\n",
      "59/59 [==============================] - 2s 32ms/step - loss: 0.3263 - binary_accuracy: 0.8556 - val_loss: 0.6298 - val_binary_accuracy: 0.7682\n",
      "Epoch 83/100\n",
      "59/59 [==============================] - 2s 32ms/step - loss: 0.3154 - binary_accuracy: 0.8492 - val_loss: 0.6701 - val_binary_accuracy: 0.7511\n",
      "Epoch 84/100\n",
      "59/59 [==============================] - 2s 33ms/step - loss: 0.3047 - binary_accuracy: 0.8545 - val_loss: 0.6311 - val_binary_accuracy: 0.7725\n",
      "Epoch 85/100\n",
      "59/59 [==============================] - 2s 33ms/step - loss: 0.2967 - binary_accuracy: 0.8834 - val_loss: 0.6537 - val_binary_accuracy: 0.7597\n",
      "Epoch 86/100\n",
      "59/59 [==============================] - 2s 33ms/step - loss: 0.2991 - binary_accuracy: 0.8770 - val_loss: 0.6449 - val_binary_accuracy: 0.7639\n",
      "Epoch 87/100\n",
      "59/59 [==============================] - 2s 33ms/step - loss: 0.3025 - binary_accuracy: 0.8706 - val_loss: 0.6516 - val_binary_accuracy: 0.7639\n",
      "Epoch 88/100\n",
      "59/59 [==============================] - 2s 33ms/step - loss: 0.2979 - binary_accuracy: 0.8738 - val_loss: 0.6602 - val_binary_accuracy: 0.7768\n",
      "Epoch 89/100\n",
      "59/59 [==============================] - 2s 33ms/step - loss: 0.2939 - binary_accuracy: 0.8727 - val_loss: 0.6033 - val_binary_accuracy: 0.7425\n",
      "Epoch 90/100\n",
      "59/59 [==============================] - 2s 33ms/step - loss: 0.2901 - binary_accuracy: 0.8652 - val_loss: 0.6493 - val_binary_accuracy: 0.7768\n",
      "Epoch 91/100\n",
      "59/59 [==============================] - 2s 33ms/step - loss: 0.2638 - binary_accuracy: 0.8824 - val_loss: 0.7186 - val_binary_accuracy: 0.7682\n",
      "Epoch 92/100\n",
      "59/59 [==============================] - 2s 33ms/step - loss: 0.2730 - binary_accuracy: 0.8866 - val_loss: 0.7318 - val_binary_accuracy: 0.7725\n",
      "Epoch 93/100\n",
      "59/59 [==============================] - 2s 32ms/step - loss: 0.2773 - binary_accuracy: 0.8866 - val_loss: 0.6129 - val_binary_accuracy: 0.7511\n",
      "Epoch 94/100\n",
      "59/59 [==============================] - 2s 32ms/step - loss: 0.2665 - binary_accuracy: 0.8759 - val_loss: 0.6910 - val_binary_accuracy: 0.7425\n",
      "Epoch 95/100\n",
      "59/59 [==============================] - 2s 33ms/step - loss: 0.2821 - binary_accuracy: 0.8802 - val_loss: 0.6977 - val_binary_accuracy: 0.7382\n",
      "Epoch 96/100\n",
      "59/59 [==============================] - 2s 32ms/step - loss: 0.2925 - binary_accuracy: 0.8695 - val_loss: 0.7789 - val_binary_accuracy: 0.7554\n",
      "Epoch 97/100\n",
      "59/59 [==============================] - 2s 32ms/step - loss: 0.2656 - binary_accuracy: 0.8877 - val_loss: 0.6816 - val_binary_accuracy: 0.7597\n",
      "Epoch 98/100\n",
      "59/59 [==============================] - 2s 32ms/step - loss: 0.2991 - binary_accuracy: 0.8759 - val_loss: 0.6888 - val_binary_accuracy: 0.7854\n",
      "Epoch 99/100\n",
      "59/59 [==============================] - 2s 33ms/step - loss: 0.2536 - binary_accuracy: 0.8834 - val_loss: 0.7266 - val_binary_accuracy: 0.7597\n",
      "Epoch 100/100\n",
      "59/59 [==============================] - 2s 32ms/step - loss: 0.2667 - binary_accuracy: 0.8909 - val_loss: 0.6943 - val_binary_accuracy: 0.7382\n"
     ]
    }
   ],
   "source": [
    "history100 = MyModel.fit(\n",
    "    ds_train,\n",
    "    validation_data=ds_val,\n",
    "    epochs=100,\n",
    ")"
   ]
  },
  {
   "cell_type": "code",
   "execution_count": 17,
   "id": "02be911c",
   "metadata": {},
   "outputs": [
    {
     "data": {
      "image/png": "[encoded data removed]",
      "text/plain": [
       "<Figure size 432x288 with 1 Axes>"
      ]
     },
     "metadata": {
      "needs_background": "light"
     },
     "output_type": "display_data"
    },
    {
     "data": {
      "image/png": "[encoded data removed]",
      "text/plain": [
       "<Figure size 432x288 with 1 Axes>"
      ]
     },
     "metadata": {
      "needs_background": "light"
     },
     "output_type": "display_data"
    }
   ],
   "source": [
    "history100_frame = pd.DataFrame(history100.history)\n",
    "history100_frame.loc[:, ['loss', 'val_loss']].plot()\n",
    "history100_frame.loc[:, ['binary_accuracy', 'val_binary_accuracy']].plot();"
   ]
  },
  {
   "cell_type": "code",
   "execution_count": 18,
   "id": "7e3bddcf",
   "metadata": {},
   "outputs": [
    {
     "name": "stdout",
     "output_type": "stream",
     "text": [
      "Epoch 1/25\n",
      "59/59 [==============================] - 2s 33ms/step - loss: 0.7210 - binary_accuracy: 0.6439 - val_loss: 0.7180 - val_binary_accuracy: 0.4936\n",
      "Epoch 2/25\n",
      "59/59 [==============================] - 2s 32ms/step - loss: 0.6304 - binary_accuracy: 0.6545 - val_loss: 0.7639 - val_binary_accuracy: 0.4936\n",
      "Epoch 3/25\n",
      "59/59 [==============================] - 2s 32ms/step - loss: 0.6143 - binary_accuracy: 0.6749 - val_loss: 0.7764 - val_binary_accuracy: 0.4936\n",
      "Epoch 4/25\n",
      "59/59 [==============================] - 2s 32ms/step - loss: 0.6004 - binary_accuracy: 0.6781 - val_loss: 0.7518 - val_binary_accuracy: 0.4936\n",
      "Epoch 5/25\n",
      "59/59 [==============================] - 2s 32ms/step - loss: 0.5908 - binary_accuracy: 0.6877 - val_loss: 0.7009 - val_binary_accuracy: 0.4936\n",
      "Epoch 6/25\n",
      "59/59 [==============================] - 2s 32ms/step - loss: 0.5612 - binary_accuracy: 0.7102 - val_loss: 0.7291 - val_binary_accuracy: 0.4936\n",
      "Epoch 7/25\n",
      "59/59 [==============================] - 2s 32ms/step - loss: 0.5852 - binary_accuracy: 0.6856 - val_loss: 0.5758 - val_binary_accuracy: 0.7124\n",
      "Epoch 8/25\n",
      "59/59 [==============================] - 2s 32ms/step - loss: 0.5539 - binary_accuracy: 0.7080 - val_loss: 0.6031 - val_binary_accuracy: 0.7082\n",
      "Epoch 9/25\n",
      "59/59 [==============================] - 2s 33ms/step - loss: 0.5706 - binary_accuracy: 0.7091 - val_loss: 0.5707 - val_binary_accuracy: 0.7253\n",
      "Epoch 10/25\n",
      "59/59 [==============================] - 2s 32ms/step - loss: 0.5367 - binary_accuracy: 0.7230 - val_loss: 0.5270 - val_binary_accuracy: 0.7382\n",
      "Epoch 11/25\n",
      "59/59 [==============================] - 2s 32ms/step - loss: 0.5385 - binary_accuracy: 0.7091 - val_loss: 0.5449 - val_binary_accuracy: 0.7039\n",
      "Epoch 12/25\n",
      "59/59 [==============================] - 2s 32ms/step - loss: 0.5254 - binary_accuracy: 0.7209 - val_loss: 0.5390 - val_binary_accuracy: 0.7253\n",
      "Epoch 13/25\n",
      "59/59 [==============================] - 2s 32ms/step - loss: 0.5356 - binary_accuracy: 0.7337 - val_loss: 0.5191 - val_binary_accuracy: 0.7468\n",
      "Epoch 14/25\n",
      "59/59 [==============================] - 2s 32ms/step - loss: 0.5406 - binary_accuracy: 0.7251 - val_loss: 0.5143 - val_binary_accuracy: 0.7468\n",
      "Epoch 15/25\n",
      "59/59 [==============================] - 2s 32ms/step - loss: 0.5223 - binary_accuracy: 0.7358 - val_loss: 0.5197 - val_binary_accuracy: 0.7511\n",
      "Epoch 16/25\n",
      "59/59 [==============================] - 2s 32ms/step - loss: 0.5281 - binary_accuracy: 0.7283 - val_loss: 0.5216 - val_binary_accuracy: 0.7597\n",
      "Epoch 17/25\n",
      "59/59 [==============================] - 2s 33ms/step - loss: 0.5192 - binary_accuracy: 0.7283 - val_loss: 0.5146 - val_binary_accuracy: 0.7511\n",
      "Epoch 18/25\n",
      "59/59 [==============================] - 2s 32ms/step - loss: 0.5184 - binary_accuracy: 0.7358 - val_loss: 0.5282 - val_binary_accuracy: 0.7639\n",
      "Epoch 19/25\n",
      "59/59 [==============================] - 2s 32ms/step - loss: 0.5321 - binary_accuracy: 0.7273 - val_loss: 0.5458 - val_binary_accuracy: 0.7210\n",
      "Epoch 20/25\n",
      "59/59 [==============================] - 2s 33ms/step - loss: 0.4915 - binary_accuracy: 0.7390 - val_loss: 0.5091 - val_binary_accuracy: 0.7682\n",
      "Epoch 21/25\n",
      "59/59 [==============================] - 2s 33ms/step - loss: 0.5166 - binary_accuracy: 0.7305 - val_loss: 0.5203 - val_binary_accuracy: 0.7682\n",
      "Epoch 22/25\n",
      "59/59 [==============================] - 2s 33ms/step - loss: 0.5008 - binary_accuracy: 0.7701 - val_loss: 0.5300 - val_binary_accuracy: 0.7511\n",
      "Epoch 23/25\n",
      "59/59 [==============================] - 2s 33ms/step - loss: 0.5034 - binary_accuracy: 0.7412 - val_loss: 0.5034 - val_binary_accuracy: 0.7725\n",
      "Epoch 24/25\n",
      "59/59 [==============================] - 2s 33ms/step - loss: 0.4959 - binary_accuracy: 0.7561 - val_loss: 0.5126 - val_binary_accuracy: 0.7768\n",
      "Epoch 25/25\n",
      "59/59 [==============================] - 2s 33ms/step - loss: 0.5048 - binary_accuracy: 0.7455 - val_loss: 0.4972 - val_binary_accuracy: 0.7854\n"
     ]
    }
   ],
   "source": [
    "MyModel.load_weights('My_model')\n",
    "history40 = MyModel.fit(\n",
    "    ds_train,\n",
    "    validation_data=ds_val,\n",
    "    epochs=25,\n",
    ")"
   ]
  },
  {
   "cell_type": "code",
   "execution_count": 19,
   "id": "de679811",
   "metadata": {},
   "outputs": [
    {
     "data": {
      "image/png": "[encoded data removed]",
      "text/plain": [
       "<Figure size 432x288 with 1 Axes>"
      ]
     },
     "metadata": {
      "needs_background": "light"
     },
     "output_type": "display_data"
    },
    {
     "data": {
      "image/png": "[encoded data removed]",
      "text/plain": [
       "<Figure size 432x288 with 1 Axes>"
      ]
     },
     "metadata": {
      "needs_background": "light"
     },
     "output_type": "display_data"
    }
   ],
   "source": [
    "history40_frame = pd.DataFrame(history40.history)\n",
    "history40_frame.loc[:, ['loss', 'val_loss']].plot()\n",
    "history40_frame.loc[:, ['binary_accuracy', 'val_binary_accuracy']].plot();"
   ]
  },
  {
   "cell_type": "markdown",
   "id": "d4ed1c67",
   "metadata": {},
   "source": [
    "## 5. Results\n",
    " "
   ]
  },
  {
   "cell_type": "code",
   "execution_count": 20,
   "id": "b08b0f61",
   "metadata": {},
   "outputs": [
    {
     "name": "stdout",
     "output_type": "stream",
     "text": [
      "Prédictions ;\n",
      " - Malin(s):  518 \n",
      " - Bénins:  417 \n",
      " - Total comp:  935  vs  935\n"
     ]
    }
   ],
   "source": [
    "predictions = MyModel.predict(ds_train)\n",
    "b =0\n",
    "m = 0\n",
    "for element in predictions :\n",
    "    if(element[0] > 0.5) :\n",
    "        m +=1\n",
    "    elif(element[0]< 0.5) :\n",
    "        b +=1\n",
    "        \n",
    "print(\"Prédictions ;\\n - Malin(s): \", m, \"\\n - Bénins: \", b, \"\\n - Total comp: \", b+m,\" vs \",len(predictions))"
   ]
  },
  {
   "cell_type": "code",
   "execution_count": 21,
   "id": "7e9a2463",
   "metadata": {},
   "outputs": [
    {
     "name": "stdout",
     "output_type": "stream",
     "text": [
      "Prédictions ;\n",
      " - Malin(s):  123 \n",
      " - Bénins:  110 \n",
      " - Total comp:  233  vs  233\n"
     ]
    }
   ],
   "source": [
    "predictions = MyModel.predict(ds_val)\n",
    "b =0\n",
    "m = 0\n",
    "for element in predictions :\n",
    "    if(element[0] > 0.5) :\n",
    "        m +=1\n",
    "    elif(element[0]< 0.5) :\n",
    "        b +=1\n",
    "        \n",
    "print(\"Prédictions ;\\n - Malin(s): \", m, \"\\n - Bénins: \", b, \"\\n - Total comp: \", b+m,\" vs \",len(predictions))"
   ]
  },
  {
   "cell_type": "code",
   "execution_count": 22,
   "id": "cd78cd6d",
   "metadata": {},
   "outputs": [],
   "source": [
    "def predict_class_label_number(dataset):\n",
    "    predictions =  MyModel.predict(dataset)\n",
    "    res = np.zeros(len(predictions))\n",
    "    i = 0 \n",
    "    for element in predictions : \n",
    "        if(element[0]> 0.5):\n",
    "            res[i] = 1\n",
    "        i += 1\n",
    "    return tf.convert_to_tensor(res)\n",
    "\n",
    "def give_labels (dataset, size):\n",
    "    lab = np.zeros(size)\n",
    "    i = 0\n",
    "    for batch in dataset:\n",
    "        for element in batch[1] :\n",
    "            lab[i] = element.numpy()\n",
    "            i +=1\n",
    "    return tf.convert_to_tensor(lab)\n",
    "    \n",
    "def show_confusion_matrix(cm, labels):\n",
    "    plt.figure(figsize=(5,5))\n",
    "    plt.imshow(cm)\n",
    "    plt.colorbar()\n",
    "    plt.xlabel('Predictions')\n",
    "    plt.ylabel('Labels')\n",
    "    plt.show()"
   ]
  },
  {
   "cell_type": "code",
   "execution_count": 23,
   "id": "70d1573a",
   "metadata": {},
   "outputs": [
    {
     "data": {
      "image/png": "[encoded data removed]",
      "text/plain": [
       "<Figure size 360x360 with 2 Axes>"
      ]
     },
     "metadata": {
      "needs_background": "light"
     },
     "output_type": "display_data"
    }
   ],
   "source": [
    "dataset = ds_val\n",
    "confusion_mtx_My = tf.math.confusion_matrix(\n",
    "    give_labels(dataset, size),\n",
    "    predict_class_label_number(dataset),\n",
    "    num_classes=2)\n",
    "show_confusion_matrix(confusion_mtx_My, [0,1])"
   ]
  },
  {
   "cell_type": "markdown",
   "id": "90af0a49",
   "metadata": {},
   "source": [
    "## 6. Comparison with other models using transfer learning\n",
    "\n",
    "In this part, the results obtained are compared to the ones obtained with transfer learning using two commonly used models for classification that are Mobilenet from Google and VGG16 from Oxford but no fine tuning will be done here. These models are pretrained on the 'imagenet' dataset. \n",
    "This part is inspired by this tutorial from tensorflow : https://www.tensorflow.org/tutorials/images/transfer_learning\n",
    "\n",
    "### 6.1 Mobilenet "
   ]
  },
  {
   "cell_type": "code",
   "execution_count": 24,
   "id": "516d7f37",
   "metadata": {},
   "outputs": [],
   "source": [
    "preprocess_input = tf.keras.applications.mobilenet_v2.preprocess_input\n",
    "IMG_SIZE = (160, 160)\n",
    "IMG_SHAPE = IMG_SIZE + (3,)\n",
    "base_model = tf.keras.applications.MobileNetV2(input_shape=IMG_SHAPE, include_top=False, weights='imagenet')"
   ]
  },
  {
   "cell_type": "code",
   "execution_count": 25,
   "id": "fdae7868",
   "metadata": {},
   "outputs": [
    {
     "name": "stdout",
     "output_type": "stream",
     "text": [
      "(16, 5, 5, 1280)\n"
     ]
    }
   ],
   "source": [
    "image_batch, label_batch = next(iter(ds_train))\n",
    "feature_batch = base_model(image_batch)\n",
    "print(feature_batch.shape)"
   ]
  },
  {
   "cell_type": "code",
   "execution_count": 26,
   "id": "4879e2bc",
   "metadata": {},
   "outputs": [
    {
     "name": "stdout",
     "output_type": "stream",
     "text": [
      "Model: \"mobilenetv2_1.00_160\"\n",
      "__________________________________________________________________________________________________\n",
      "Layer (type)                    Output Shape         Param #     Connected to                     \n",
      "==================================================================================================\n",
      "input_2 (InputLayer)            [(None, 160, 160, 3) 0                                            \n",
      "__________________________________________________________________________________________________\n",
      "Conv1 (Conv2D)                  (None, 80, 80, 32)   864         input_2[0][0]                    \n",
      "__________________________________________________________________________________________________\n",
      "bn_Conv1 (BatchNormalization)   (None, 80, 80, 32)   128         Conv1[0][0]                      \n",
      "__________________________________________________________________________________________________\n",
      "Conv1_relu (ReLU)               (None, 80, 80, 32)   0           bn_Conv1[0][0]                   \n",
      "__________________________________________________________________________________________________\n",
      "expanded_conv_depthwise (Depthw (None, 80, 80, 32)   288         Conv1_relu[0][0]                 \n",
      "__________________________________________________________________________________________________\n",
      "expanded_conv_depthwise_BN (Bat (None, 80, 80, 32)   128         expanded_conv_depthwise[0][0]    \n",
      "__________________________________________________________________________________________________\n",
      "expanded_conv_depthwise_relu (R (None, 80, 80, 32)   0           expanded_conv_depthwise_BN[0][0] \n",
      "__________________________________________________________________________________________________\n",
      "expanded_conv_project (Conv2D)  (None, 80, 80, 16)   512         expanded_conv_depthwise_relu[0][0\n",
      "__________________________________________________________________________________________________\n",
      "expanded_conv_project_BN (Batch (None, 80, 80, 16)   64          expanded_conv_project[0][0]      \n",
      "__________________________________________________________________________________________________\n",
      "block_1_expand (Conv2D)         (None, 80, 80, 96)   1536        expanded_conv_project_BN[0][0]   \n",
      "__________________________________________________________________________________________________\n",
      "block_1_expand_BN (BatchNormali (None, 80, 80, 96)   384         block_1_expand[0][0]             \n",
      "__________________________________________________________________________________________________\n",
      "block_1_expand_relu (ReLU)      (None, 80, 80, 96)   0           block_1_expand_BN[0][0]          \n",
      "__________________________________________________________________________________________________\n",
      "block_1_pad (ZeroPadding2D)     (None, 81, 81, 96)   0           block_1_expand_relu[0][0]        \n",
      "__________________________________________________________________________________________________\n",
      "block_1_depthwise (DepthwiseCon (None, 40, 40, 96)   864         block_1_pad[0][0]                \n",
      "__________________________________________________________________________________________________\n",
      "block_1_depthwise_BN (BatchNorm (None, 40, 40, 96)   384         block_1_depthwise[0][0]          \n",
      "__________________________________________________________________________________________________\n",
      "block_1_depthwise_relu (ReLU)   (None, 40, 40, 96)   0           block_1_depthwise_BN[0][0]       \n",
      "__________________________________________________________________________________________________\n",
      "block_1_project (Conv2D)        (None, 40, 40, 24)   2304        block_1_depthwise_relu[0][0]     \n",
      "__________________________________________________________________________________________________\n",
      "block_1_project_BN (BatchNormal (None, 40, 40, 24)   96          block_1_project[0][0]            \n",
      "__________________________________________________________________________________________________\n",
      "block_2_expand (Conv2D)         (None, 40, 40, 144)  3456        block_1_project_BN[0][0]         \n",
      "__________________________________________________________________________________________________\n",
      "block_2_expand_BN (BatchNormali (None, 40, 40, 144)  576         block_2_expand[0][0]             \n",
      "__________________________________________________________________________________________________\n",
      "block_2_expand_relu (ReLU)      (None, 40, 40, 144)  0           block_2_expand_BN[0][0]          \n",
      "__________________________________________________________________________________________________\n",
      "block_2_depthwise (DepthwiseCon (None, 40, 40, 144)  1296        block_2_expand_relu[0][0]        \n",
      "__________________________________________________________________________________________________\n",
      "block_2_depthwise_BN (BatchNorm (None, 40, 40, 144)  576         block_2_depthwise[0][0]          \n",
      "__________________________________________________________________________________________________\n",
      "block_2_depthwise_relu (ReLU)   (None, 40, 40, 144)  0           block_2_depthwise_BN[0][0]       \n",
      "__________________________________________________________________________________________________\n",
      "block_2_project (Conv2D)        (None, 40, 40, 24)   3456        block_2_depthwise_relu[0][0]     \n",
      "__________________________________________________________________________________________________\n",
      "block_2_project_BN (BatchNormal (None, 40, 40, 24)   96          block_2_project[0][0]            \n",
      "__________________________________________________________________________________________________\n",
      "block_2_add (Add)               (None, 40, 40, 24)   0           block_1_project_BN[0][0]         \n",
      "                                                                 block_2_project_BN[0][0]         \n",
      "__________________________________________________________________________________________________\n",
      "block_3_expand (Conv2D)         (None, 40, 40, 144)  3456        block_2_add[0][0]                \n",
      "__________________________________________________________________________________________________\n",
      "block_3_expand_BN (BatchNormali (None, 40, 40, 144)  576         block_3_expand[0][0]             \n",
      "__________________________________________________________________________________________________\n",
      "block_3_expand_relu (ReLU)      (None, 40, 40, 144)  0           block_3_expand_BN[0][0]          \n",
      "__________________________________________________________________________________________________\n",
      "block_3_pad (ZeroPadding2D)     (None, 41, 41, 144)  0           block_3_expand_relu[0][0]        \n",
      "__________________________________________________________________________________________________\n",
      "block_3_depthwise (DepthwiseCon (None, 20, 20, 144)  1296        block_3_pad[0][0]                \n",
      "__________________________________________________________________________________________________\n",
      "block_3_depthwise_BN (BatchNorm (None, 20, 20, 144)  576         block_3_depthwise[0][0]          \n",
      "__________________________________________________________________________________________________\n",
      "block_3_depthwise_relu (ReLU)   (None, 20, 20, 144)  0           block_3_depthwise_BN[0][0]       \n",
      "__________________________________________________________________________________________________\n",
      "block_3_project (Conv2D)        (None, 20, 20, 32)   4608        block_3_depthwise_relu[0][0]     \n",
      "__________________________________________________________________________________________________\n",
      "block_3_project_BN (BatchNormal (None, 20, 20, 32)   128         block_3_project[0][0]            \n",
      "__________________________________________________________________________________________________\n",
      "block_4_expand (Conv2D)         (None, 20, 20, 192)  6144        block_3_project_BN[0][0]         \n",
      "__________________________________________________________________________________________________\n",
      "block_4_expand_BN (BatchNormali (None, 20, 20, 192)  768         block_4_expand[0][0]             \n",
      "__________________________________________________________________________________________________\n",
      "block_4_expand_relu (ReLU)      (None, 20, 20, 192)  0           block_4_expand_BN[0][0]          \n",
      "__________________________________________________________________________________________________\n",
      "block_4_depthwise (DepthwiseCon (None, 20, 20, 192)  1728        block_4_expand_relu[0][0]        \n",
      "__________________________________________________________________________________________________\n",
      "block_4_depthwise_BN (BatchNorm (None, 20, 20, 192)  768         block_4_depthwise[0][0]          \n",
      "__________________________________________________________________________________________________\n",
      "block_4_depthwise_relu (ReLU)   (None, 20, 20, 192)  0           block_4_depthwise_BN[0][0]       \n",
      "__________________________________________________________________________________________________\n",
      "block_4_project (Conv2D)        (None, 20, 20, 32)   6144        block_4_depthwise_relu[0][0]     \n",
      "__________________________________________________________________________________________________\n",
      "block_4_project_BN (BatchNormal (None, 20, 20, 32)   128         block_4_project[0][0]            \n",
      "__________________________________________________________________________________________________\n",
      "block_4_add (Add)               (None, 20, 20, 32)   0           block_3_project_BN[0][0]         \n",
      "                                                                 block_4_project_BN[0][0]         \n",
      "__________________________________________________________________________________________________\n",
      "block_5_expand (Conv2D)         (None, 20, 20, 192)  6144        block_4_add[0][0]                \n",
      "__________________________________________________________________________________________________\n",
      "block_5_expand_BN (BatchNormali (None, 20, 20, 192)  768         block_5_expand[0][0]             \n",
      "__________________________________________________________________________________________________\n",
      "block_5_expand_relu (ReLU)      (None, 20, 20, 192)  0           block_5_expand_BN[0][0]          \n",
      "__________________________________________________________________________________________________\n",
      "block_5_depthwise (DepthwiseCon (None, 20, 20, 192)  1728        block_5_expand_relu[0][0]        \n",
      "__________________________________________________________________________________________________\n",
      "block_5_depthwise_BN (BatchNorm (None, 20, 20, 192)  768         block_5_depthwise[0][0]          \n",
      "__________________________________________________________________________________________________\n",
      "block_5_depthwise_relu (ReLU)   (None, 20, 20, 192)  0           block_5_depthwise_BN[0][0]       \n",
      "__________________________________________________________________________________________________\n",
      "block_5_project (Conv2D)        (None, 20, 20, 32)   6144        block_5_depthwise_relu[0][0]     \n",
      "__________________________________________________________________________________________________\n",
      "block_5_project_BN (BatchNormal (None, 20, 20, 32)   128         block_5_project[0][0]            \n",
      "__________________________________________________________________________________________________\n",
      "block_5_add (Add)               (None, 20, 20, 32)   0           block_4_add[0][0]                \n",
      "                                                                 block_5_project_BN[0][0]         \n",
      "__________________________________________________________________________________________________\n",
      "block_6_expand (Conv2D)         (None, 20, 20, 192)  6144        block_5_add[0][0]                \n",
      "__________________________________________________________________________________________________\n",
      "block_6_expand_BN (BatchNormali (None, 20, 20, 192)  768         block_6_expand[0][0]             \n",
      "__________________________________________________________________________________________________\n",
      "block_6_expand_relu (ReLU)      (None, 20, 20, 192)  0           block_6_expand_BN[0][0]          \n",
      "__________________________________________________________________________________________________\n",
      "block_6_pad (ZeroPadding2D)     (None, 21, 21, 192)  0           block_6_expand_relu[0][0]        \n",
      "__________________________________________________________________________________________________\n",
      "block_6_depthwise (DepthwiseCon (None, 10, 10, 192)  1728        block_6_pad[0][0]                \n",
      "__________________________________________________________________________________________________\n",
      "block_6_depthwise_BN (BatchNorm (None, 10, 10, 192)  768         block_6_depthwise[0][0]          \n",
      "__________________________________________________________________________________________________\n",
      "block_6_depthwise_relu (ReLU)   (None, 10, 10, 192)  0           block_6_depthwise_BN[0][0]       \n",
      "__________________________________________________________________________________________________\n",
      "block_6_project (Conv2D)        (None, 10, 10, 64)   12288       block_6_depthwise_relu[0][0]     \n",
      "__________________________________________________________________________________________________\n",
      "block_6_project_BN (BatchNormal (None, 10, 10, 64)   256         block_6_project[0][0]            \n",
      "__________________________________________________________________________________________________\n",
      "block_7_expand (Conv2D)         (None, 10, 10, 384)  24576       block_6_project_BN[0][0]         \n",
      "__________________________________________________________________________________________________\n",
      "block_7_expand_BN (BatchNormali (None, 10, 10, 384)  1536        block_7_expand[0][0]             \n",
      "__________________________________________________________________________________________________\n",
      "block_7_expand_relu (ReLU)      (None, 10, 10, 384)  0           block_7_expand_BN[0][0]          \n",
      "__________________________________________________________________________________________________\n",
      "block_7_depthwise (DepthwiseCon (None, 10, 10, 384)  3456        block_7_expand_relu[0][0]        \n",
      "__________________________________________________________________________________________________\n",
      "block_7_depthwise_BN (BatchNorm (None, 10, 10, 384)  1536        block_7_depthwise[0][0]          \n",
      "__________________________________________________________________________________________________\n",
      "block_7_depthwise_relu (ReLU)   (None, 10, 10, 384)  0           block_7_depthwise_BN[0][0]       \n",
      "__________________________________________________________________________________________________\n",
      "block_7_project (Conv2D)        (None, 10, 10, 64)   24576       block_7_depthwise_relu[0][0]     \n",
      "__________________________________________________________________________________________________\n",
      "block_7_project_BN (BatchNormal (None, 10, 10, 64)   256         block_7_project[0][0]            \n",
      "__________________________________________________________________________________________________\n",
      "block_7_add (Add)               (None, 10, 10, 64)   0           block_6_project_BN[0][0]         \n",
      "                                                                 block_7_project_BN[0][0]         \n",
      "__________________________________________________________________________________________________\n",
      "block_8_expand (Conv2D)         (None, 10, 10, 384)  24576       block_7_add[0][0]                \n",
      "__________________________________________________________________________________________________\n",
      "block_8_expand_BN (BatchNormali (None, 10, 10, 384)  1536        block_8_expand[0][0]             \n",
      "__________________________________________________________________________________________________\n",
      "block_8_expand_relu (ReLU)      (None, 10, 10, 384)  0           block_8_expand_BN[0][0]          \n",
      "__________________________________________________________________________________________________\n",
      "block_8_depthwise (DepthwiseCon (None, 10, 10, 384)  3456        block_8_expand_relu[0][0]        \n",
      "__________________________________________________________________________________________________\n",
      "block_8_depthwise_BN (BatchNorm (None, 10, 10, 384)  1536        block_8_depthwise[0][0]          \n",
      "__________________________________________________________________________________________________\n",
      "block_8_depthwise_relu (ReLU)   (None, 10, 10, 384)  0           block_8_depthwise_BN[0][0]       \n",
      "__________________________________________________________________________________________________\n",
      "block_8_project (Conv2D)        (None, 10, 10, 64)   24576       block_8_depthwise_relu[0][0]     \n",
      "__________________________________________________________________________________________________\n",
      "block_8_project_BN (BatchNormal (None, 10, 10, 64)   256         block_8_project[0][0]            \n",
      "__________________________________________________________________________________________________\n",
      "block_8_add (Add)               (None, 10, 10, 64)   0           block_7_add[0][0]                \n",
      "                                                                 block_8_project_BN[0][0]         \n",
      "__________________________________________________________________________________________________\n",
      "block_9_expand (Conv2D)         (None, 10, 10, 384)  24576       block_8_add[0][0]                \n",
      "__________________________________________________________________________________________________\n",
      "block_9_expand_BN (BatchNormali (None, 10, 10, 384)  1536        block_9_expand[0][0]             \n",
      "__________________________________________________________________________________________________\n",
      "block_9_expand_relu (ReLU)      (None, 10, 10, 384)  0           block_9_expand_BN[0][0]          \n",
      "__________________________________________________________________________________________________\n",
      "block_9_depthwise (DepthwiseCon (None, 10, 10, 384)  3456        block_9_expand_relu[0][0]        \n",
      "__________________________________________________________________________________________________\n",
      "block_9_depthwise_BN (BatchNorm (None, 10, 10, 384)  1536        block_9_depthwise[0][0]          \n",
      "__________________________________________________________________________________________________\n",
      "block_9_depthwise_relu (ReLU)   (None, 10, 10, 384)  0           block_9_depthwise_BN[0][0]       \n",
      "__________________________________________________________________________________________________\n",
      "block_9_project (Conv2D)        (None, 10, 10, 64)   24576       block_9_depthwise_relu[0][0]     \n",
      "__________________________________________________________________________________________________\n",
      "block_9_project_BN (BatchNormal (None, 10, 10, 64)   256         block_9_project[0][0]            \n",
      "__________________________________________________________________________________________________\n",
      "block_9_add (Add)               (None, 10, 10, 64)   0           block_8_add[0][0]                \n",
      "                                                                 block_9_project_BN[0][0]         \n",
      "__________________________________________________________________________________________________\n",
      "block_10_expand (Conv2D)        (None, 10, 10, 384)  24576       block_9_add[0][0]                \n",
      "__________________________________________________________________________________________________\n",
      "block_10_expand_BN (BatchNormal (None, 10, 10, 384)  1536        block_10_expand[0][0]            \n",
      "__________________________________________________________________________________________________\n",
      "block_10_expand_relu (ReLU)     (None, 10, 10, 384)  0           block_10_expand_BN[0][0]         \n",
      "__________________________________________________________________________________________________\n",
      "block_10_depthwise (DepthwiseCo (None, 10, 10, 384)  3456        block_10_expand_relu[0][0]       \n",
      "__________________________________________________________________________________________________\n",
      "block_10_depthwise_BN (BatchNor (None, 10, 10, 384)  1536        block_10_depthwise[0][0]         \n",
      "__________________________________________________________________________________________________\n",
      "block_10_depthwise_relu (ReLU)  (None, 10, 10, 384)  0           block_10_depthwise_BN[0][0]      \n",
      "__________________________________________________________________________________________________\n",
      "block_10_project (Conv2D)       (None, 10, 10, 96)   36864       block_10_depthwise_relu[0][0]    \n",
      "__________________________________________________________________________________________________\n",
      "block_10_project_BN (BatchNorma (None, 10, 10, 96)   384         block_10_project[0][0]           \n",
      "__________________________________________________________________________________________________\n",
      "block_11_expand (Conv2D)        (None, 10, 10, 576)  55296       block_10_project_BN[0][0]        \n",
      "__________________________________________________________________________________________________\n",
      "block_11_expand_BN (BatchNormal (None, 10, 10, 576)  2304        block_11_expand[0][0]            \n",
      "__________________________________________________________________________________________________\n",
      "block_11_expand_relu (ReLU)     (None, 10, 10, 576)  0           block_11_expand_BN[0][0]         \n",
      "__________________________________________________________________________________________________\n",
      "block_11_depthwise (DepthwiseCo (None, 10, 10, 576)  5184        block_11_expand_relu[0][0]       \n",
      "__________________________________________________________________________________________________\n",
      "block_11_depthwise_BN (BatchNor (None, 10, 10, 576)  2304        block_11_depthwise[0][0]         \n",
      "__________________________________________________________________________________________________\n",
      "block_11_depthwise_relu (ReLU)  (None, 10, 10, 576)  0           block_11_depthwise_BN[0][0]      \n",
      "__________________________________________________________________________________________________\n",
      "block_11_project (Conv2D)       (None, 10, 10, 96)   55296       block_11_depthwise_relu[0][0]    \n",
      "__________________________________________________________________________________________________\n",
      "block_11_project_BN (BatchNorma (None, 10, 10, 96)   384         block_11_project[0][0]           \n",
      "__________________________________________________________________________________________________\n",
      "block_11_add (Add)              (None, 10, 10, 96)   0           block_10_project_BN[0][0]        \n",
      "                                                                 block_11_project_BN[0][0]        \n",
      "__________________________________________________________________________________________________\n",
      "block_12_expand (Conv2D)        (None, 10, 10, 576)  55296       block_11_add[0][0]               \n",
      "__________________________________________________________________________________________________\n",
      "block_12_expand_BN (BatchNormal (None, 10, 10, 576)  2304        block_12_expand[0][0]            \n",
      "__________________________________________________________________________________________________\n",
      "block_12_expand_relu (ReLU)     (None, 10, 10, 576)  0           block_12_expand_BN[0][0]         \n",
      "__________________________________________________________________________________________________\n",
      "block_12_depthwise (DepthwiseCo (None, 10, 10, 576)  5184        block_12_expand_relu[0][0]       \n",
      "__________________________________________________________________________________________________\n",
      "block_12_depthwise_BN (BatchNor (None, 10, 10, 576)  2304        block_12_depthwise[0][0]         \n",
      "__________________________________________________________________________________________________\n",
      "block_12_depthwise_relu (ReLU)  (None, 10, 10, 576)  0           block_12_depthwise_BN[0][0]      \n",
      "__________________________________________________________________________________________________\n",
      "block_12_project (Conv2D)       (None, 10, 10, 96)   55296       block_12_depthwise_relu[0][0]    \n",
      "__________________________________________________________________________________________________\n",
      "block_12_project_BN (BatchNorma (None, 10, 10, 96)   384         block_12_project[0][0]           \n",
      "__________________________________________________________________________________________________\n",
      "block_12_add (Add)              (None, 10, 10, 96)   0           block_11_add[0][0]               \n",
      "                                                                 block_12_project_BN[0][0]        \n",
      "__________________________________________________________________________________________________\n",
      "block_13_expand (Conv2D)        (None, 10, 10, 576)  55296       block_12_add[0][0]               \n",
      "__________________________________________________________________________________________________\n",
      "block_13_expand_BN (BatchNormal (None, 10, 10, 576)  2304        block_13_expand[0][0]            \n",
      "__________________________________________________________________________________________________\n",
      "block_13_expand_relu (ReLU)     (None, 10, 10, 576)  0           block_13_expand_BN[0][0]         \n",
      "__________________________________________________________________________________________________\n",
      "block_13_pad (ZeroPadding2D)    (None, 11, 11, 576)  0           block_13_expand_relu[0][0]       \n",
      "__________________________________________________________________________________________________\n",
      "block_13_depthwise (DepthwiseCo (None, 5, 5, 576)    5184        block_13_pad[0][0]               \n",
      "__________________________________________________________________________________________________\n",
      "block_13_depthwise_BN (BatchNor (None, 5, 5, 576)    2304        block_13_depthwise[0][0]         \n",
      "__________________________________________________________________________________________________\n",
      "block_13_depthwise_relu (ReLU)  (None, 5, 5, 576)    0           block_13_depthwise_BN[0][0]      \n",
      "__________________________________________________________________________________________________\n",
      "block_13_project (Conv2D)       (None, 5, 5, 160)    92160       block_13_depthwise_relu[0][0]    \n",
      "__________________________________________________________________________________________________\n",
      "block_13_project_BN (BatchNorma (None, 5, 5, 160)    640         block_13_project[0][0]           \n",
      "__________________________________________________________________________________________________\n",
      "block_14_expand (Conv2D)        (None, 5, 5, 960)    153600      block_13_project_BN[0][0]        \n",
      "__________________________________________________________________________________________________\n",
      "block_14_expand_BN (BatchNormal (None, 5, 5, 960)    3840        block_14_expand[0][0]            \n",
      "__________________________________________________________________________________________________\n",
      "block_14_expand_relu (ReLU)     (None, 5, 5, 960)    0           block_14_expand_BN[0][0]         \n",
      "__________________________________________________________________________________________________\n",
      "block_14_depthwise (DepthwiseCo (None, 5, 5, 960)    8640        block_14_expand_relu[0][0]       \n",
      "__________________________________________________________________________________________________\n",
      "block_14_depthwise_BN (BatchNor (None, 5, 5, 960)    3840        block_14_depthwise[0][0]         \n",
      "__________________________________________________________________________________________________\n",
      "block_14_depthwise_relu (ReLU)  (None, 5, 5, 960)    0           block_14_depthwise_BN[0][0]      \n",
      "__________________________________________________________________________________________________\n",
      "block_14_project (Conv2D)       (None, 5, 5, 160)    153600      block_14_depthwise_relu[0][0]    \n",
      "__________________________________________________________________________________________________\n",
      "block_14_project_BN (BatchNorma (None, 5, 5, 160)    640         block_14_project[0][0]           \n",
      "__________________________________________________________________________________________________\n",
      "block_14_add (Add)              (None, 5, 5, 160)    0           block_13_project_BN[0][0]        \n",
      "                                                                 block_14_project_BN[0][0]        \n",
      "__________________________________________________________________________________________________\n",
      "block_15_expand (Conv2D)        (None, 5, 5, 960)    153600      block_14_add[0][0]               \n",
      "__________________________________________________________________________________________________\n",
      "block_15_expand_BN (BatchNormal (None, 5, 5, 960)    3840        block_15_expand[0][0]            \n",
      "__________________________________________________________________________________________________\n",
      "block_15_expand_relu (ReLU)     (None, 5, 5, 960)    0           block_15_expand_BN[0][0]         \n",
      "__________________________________________________________________________________________________\n",
      "block_15_depthwise (DepthwiseCo (None, 5, 5, 960)    8640        block_15_expand_relu[0][0]       \n",
      "__________________________________________________________________________________________________\n",
      "block_15_depthwise_BN (BatchNor (None, 5, 5, 960)    3840        block_15_depthwise[0][0]         \n",
      "__________________________________________________________________________________________________\n",
      "block_15_depthwise_relu (ReLU)  (None, 5, 5, 960)    0           block_15_depthwise_BN[0][0]      \n",
      "__________________________________________________________________________________________________\n",
      "block_15_project (Conv2D)       (None, 5, 5, 160)    153600      block_15_depthwise_relu[0][0]    \n",
      "__________________________________________________________________________________________________\n",
      "block_15_project_BN (BatchNorma (None, 5, 5, 160)    640         block_15_project[0][0]           \n",
      "__________________________________________________________________________________________________\n",
      "block_15_add (Add)              (None, 5, 5, 160)    0           block_14_add[0][0]               \n",
      "                                                                 block_15_project_BN[0][0]        \n",
      "__________________________________________________________________________________________________\n",
      "block_16_expand (Conv2D)        (None, 5, 5, 960)    153600      block_15_add[0][0]               \n",
      "__________________________________________________________________________________________________\n",
      "block_16_expand_BN (BatchNormal (None, 5, 5, 960)    3840        block_16_expand[0][0]            \n",
      "__________________________________________________________________________________________________\n",
      "block_16_expand_relu (ReLU)     (None, 5, 5, 960)    0           block_16_expand_BN[0][0]         \n",
      "__________________________________________________________________________________________________\n",
      "block_16_depthwise (DepthwiseCo (None, 5, 5, 960)    8640        block_16_expand_relu[0][0]       \n",
      "__________________________________________________________________________________________________\n",
      "block_16_depthwise_BN (BatchNor (None, 5, 5, 960)    3840        block_16_depthwise[0][0]         \n",
      "__________________________________________________________________________________________________\n",
      "block_16_depthwise_relu (ReLU)  (None, 5, 5, 960)    0           block_16_depthwise_BN[0][0]      \n",
      "__________________________________________________________________________________________________\n",
      "block_16_project (Conv2D)       (None, 5, 5, 320)    307200      block_16_depthwise_relu[0][0]    \n",
      "__________________________________________________________________________________________________\n",
      "block_16_project_BN (BatchNorma (None, 5, 5, 320)    1280        block_16_project[0][0]           \n",
      "__________________________________________________________________________________________________\n",
      "Conv_1 (Conv2D)                 (None, 5, 5, 1280)   409600      block_16_project_BN[0][0]        \n",
      "__________________________________________________________________________________________________\n",
      "Conv_1_bn (BatchNormalization)  (None, 5, 5, 1280)   5120        Conv_1[0][0]                     \n",
      "__________________________________________________________________________________________________\n",
      "out_relu (ReLU)                 (None, 5, 5, 1280)   0           Conv_1_bn[0][0]                  \n",
      "==================================================================================================\n",
      "Total params: 2,257,984\n",
      "Trainable params: 0\n",
      "Non-trainable params: 2,257,984\n",
      "__________________________________________________________________________________________________\n"
     ]
    }
   ],
   "source": [
    "base_model.trainable = False\n",
    "base_model.summary()"
   ]
  },
  {
   "cell_type": "code",
   "execution_count": 27,
   "id": "71e221d2",
   "metadata": {},
   "outputs": [],
   "source": [
    "data_augmentation = tf.keras.Sequential([\n",
    "    preprocessing.RandomContrast(factor=0.1),\n",
    "    preprocessing.RandomFlip(mode='horizontal'), \n",
    "    preprocessing.RandomFlip(mode='vertical'), \n",
    "    preprocessing.RandomRotation(factor=0.20),  \n",
    "])"
   ]
  },
  {
   "cell_type": "code",
   "execution_count": 28,
   "id": "a85679c7",
   "metadata": {},
   "outputs": [
    {
     "name": "stdout",
     "output_type": "stream",
     "text": [
      "(16, 1280)\n"
     ]
    }
   ],
   "source": [
    "global_average_layer = tf.keras.layers.GlobalAveragePooling2D()\n",
    "feature_batch_average = global_average_layer(feature_batch)\n",
    "print(feature_batch_average.shape)"
   ]
  },
  {
   "cell_type": "code",
   "execution_count": 29,
   "id": "7e12a8fd",
   "metadata": {},
   "outputs": [
    {
     "name": "stdout",
     "output_type": "stream",
     "text": [
      "(16, 1)\n"
     ]
    }
   ],
   "source": [
    "prediction_layer = tf.keras.layers.Dense(1, activation = 'sigmoid')\n",
    "prediction_batch = prediction_layer(feature_batch_average)\n",
    "print(prediction_batch.shape)"
   ]
  },
  {
   "cell_type": "code",
   "execution_count": 30,
   "id": "8e25439d",
   "metadata": {},
   "outputs": [],
   "source": [
    "inputs = tf.keras.Input(shape=(160, 160, 3))\n",
    "x = data_augmentation(inputs)\n",
    "x = preprocess_input(x)\n",
    "x = base_model(x, training=False)\n",
    "x = global_average_layer(x)\n",
    "x = tf.keras.layers.Dropout(0.2)(x)\n",
    "outputs = prediction_layer(x)\n",
    "modelMobilenet = tf.keras.Model(inputs, outputs)"
   ]
  },
  {
   "cell_type": "code",
   "execution_count": 31,
   "id": "a93cb708",
   "metadata": {},
   "outputs": [],
   "source": [
    "base_learning_rate = 0.0001\n",
    "modelMobilenet.compile(optimizer=tf.keras.optimizers.Adam(learning_rate=base_learning_rate),\n",
    "              loss=tf.keras.losses.BinaryCrossentropy(from_logits=False),\n",
    "              metrics=['accuracy', 'binary_accuracy'])"
   ]
  },
  {
   "cell_type": "code",
   "execution_count": 32,
   "id": "0a257f68",
   "metadata": {},
   "outputs": [
    {
     "name": "stdout",
     "output_type": "stream",
     "text": [
      "Model: \"model\"\n",
      "_________________________________________________________________\n",
      "Layer (type)                 Output Shape              Param #   \n",
      "=================================================================\n",
      "input_3 (InputLayer)         [(None, 160, 160, 3)]     0         \n",
      "_________________________________________________________________\n",
      "sequential_1 (Sequential)    (None, 160, 160, 3)       0         \n",
      "_________________________________________________________________\n",
      "tf.math.truediv (TFOpLambda) (None, 160, 160, 3)       0         \n",
      "_________________________________________________________________\n",
      "tf.math.subtract (TFOpLambda (None, 160, 160, 3)       0         \n",
      "_________________________________________________________________\n",
      "mobilenetv2_1.00_160 (Functi (None, 5, 5, 1280)        2257984   \n",
      "_________________________________________________________________\n",
      "global_average_pooling2d (Gl (None, 1280)              0         \n",
      "_________________________________________________________________\n",
      "dropout_3 (Dropout)          (None, 1280)              0         \n",
      "_________________________________________________________________\n",
      "dense_4 (Dense)              (None, 1)                 1281      \n",
      "=================================================================\n",
      "Total params: 2,259,265\n",
      "Trainable params: 1,281\n",
      "Non-trainable params: 2,257,984\n",
      "_________________________________________________________________\n"
     ]
    }
   ],
   "source": [
    "modelMobilenet.summary()"
   ]
  },
  {
   "cell_type": "code",
   "execution_count": 33,
   "id": "7e4dbeba",
   "metadata": {},
   "outputs": [],
   "source": [
    "initial_epochs = 25"
   ]
  },
  {
   "cell_type": "code",
   "execution_count": 34,
   "id": "a05e4d64",
   "metadata": {},
   "outputs": [
    {
     "name": "stdout",
     "output_type": "stream",
     "text": [
      "Epoch 1/25\n",
      "59/59 [==============================] - 4s 32ms/step - loss: 0.7321 - accuracy: 0.5701 - binary_accuracy: 0.5701 - val_loss: 0.6634 - val_accuracy: 0.6223 - val_binary_accuracy: 0.6223\n",
      "Epoch 2/25\n",
      "59/59 [==============================] - 1s 16ms/step - loss: 0.7125 - accuracy: 0.5775 - binary_accuracy: 0.5775 - val_loss: 0.6422 - val_accuracy: 0.6567 - val_binary_accuracy: 0.6567\n",
      "Epoch 3/25\n",
      "59/59 [==============================] - 1s 16ms/step - loss: 0.6636 - accuracy: 0.6214 - binary_accuracy: 0.6214 - val_loss: 0.6269 - val_accuracy: 0.6781 - val_binary_accuracy: 0.6781\n",
      "Epoch 4/25\n",
      "59/59 [==============================] - 1s 16ms/step - loss: 0.6613 - accuracy: 0.6267 - binary_accuracy: 0.6267 - val_loss: 0.6143 - val_accuracy: 0.6781 - val_binary_accuracy: 0.6781\n",
      "Epoch 5/25\n",
      "59/59 [==============================] - 1s 16ms/step - loss: 0.6373 - accuracy: 0.6471 - binary_accuracy: 0.6471 - val_loss: 0.6068 - val_accuracy: 0.6910 - val_binary_accuracy: 0.6910\n",
      "Epoch 6/25\n",
      "59/59 [==============================] - 1s 15ms/step - loss: 0.6354 - accuracy: 0.6428 - binary_accuracy: 0.6428 - val_loss: 0.5989 - val_accuracy: 0.6953 - val_binary_accuracy: 0.6953\n",
      "Epoch 7/25\n",
      "59/59 [==============================] - 1s 15ms/step - loss: 0.6079 - accuracy: 0.6717 - binary_accuracy: 0.6717 - val_loss: 0.5927 - val_accuracy: 0.6824 - val_binary_accuracy: 0.6824\n",
      "Epoch 8/25\n",
      "59/59 [==============================] - 1s 16ms/step - loss: 0.5979 - accuracy: 0.6941 - binary_accuracy: 0.6941 - val_loss: 0.5827 - val_accuracy: 0.6953 - val_binary_accuracy: 0.6953\n",
      "Epoch 9/25\n",
      "59/59 [==============================] - 1s 15ms/step - loss: 0.5961 - accuracy: 0.6802 - binary_accuracy: 0.6802 - val_loss: 0.5753 - val_accuracy: 0.6996 - val_binary_accuracy: 0.6996\n",
      "Epoch 10/25\n",
      "59/59 [==============================] - 1s 15ms/step - loss: 0.5893 - accuracy: 0.6909 - binary_accuracy: 0.6909 - val_loss: 0.5736 - val_accuracy: 0.6953 - val_binary_accuracy: 0.6953\n",
      "Epoch 11/25\n",
      "59/59 [==============================] - 1s 16ms/step - loss: 0.5711 - accuracy: 0.7070 - binary_accuracy: 0.7070 - val_loss: 0.5702 - val_accuracy: 0.7124 - val_binary_accuracy: 0.7124\n",
      "Epoch 12/25\n",
      "59/59 [==============================] - 1s 15ms/step - loss: 0.5981 - accuracy: 0.6781 - binary_accuracy: 0.6781 - val_loss: 0.5665 - val_accuracy: 0.7210 - val_binary_accuracy: 0.7210\n",
      "Epoch 13/25\n",
      "59/59 [==============================] - 1s 15ms/step - loss: 0.5546 - accuracy: 0.7144 - binary_accuracy: 0.7144 - val_loss: 0.5656 - val_accuracy: 0.7210 - val_binary_accuracy: 0.7210\n",
      "Epoch 14/25\n",
      "59/59 [==============================] - 1s 15ms/step - loss: 0.5666 - accuracy: 0.7144 - binary_accuracy: 0.7144 - val_loss: 0.5624 - val_accuracy: 0.7253 - val_binary_accuracy: 0.7253\n",
      "Epoch 15/25\n",
      "59/59 [==============================] - 1s 15ms/step - loss: 0.5625 - accuracy: 0.7187 - binary_accuracy: 0.7187 - val_loss: 0.5582 - val_accuracy: 0.7425 - val_binary_accuracy: 0.7425\n",
      "Epoch 16/25\n",
      "59/59 [==============================] - 1s 15ms/step - loss: 0.5509 - accuracy: 0.7251 - binary_accuracy: 0.7251 - val_loss: 0.5562 - val_accuracy: 0.7468 - val_binary_accuracy: 0.7468\n",
      "Epoch 17/25\n",
      "59/59 [==============================] - 1s 15ms/step - loss: 0.5497 - accuracy: 0.7326 - binary_accuracy: 0.7326 - val_loss: 0.5568 - val_accuracy: 0.7425 - val_binary_accuracy: 0.7425\n",
      "Epoch 18/25\n",
      "59/59 [==============================] - 1s 15ms/step - loss: 0.5559 - accuracy: 0.7091 - binary_accuracy: 0.7091 - val_loss: 0.5544 - val_accuracy: 0.7339 - val_binary_accuracy: 0.7339\n",
      "Epoch 19/25\n",
      "59/59 [==============================] - 1s 15ms/step - loss: 0.5529 - accuracy: 0.7166 - binary_accuracy: 0.7166 - val_loss: 0.5517 - val_accuracy: 0.7468 - val_binary_accuracy: 0.7468\n",
      "Epoch 20/25\n",
      "59/59 [==============================] - 1s 15ms/step - loss: 0.5549 - accuracy: 0.7123 - binary_accuracy: 0.7123 - val_loss: 0.5516 - val_accuracy: 0.7468 - val_binary_accuracy: 0.7468\n",
      "Epoch 21/25\n",
      "59/59 [==============================] - 1s 15ms/step - loss: 0.5477 - accuracy: 0.7027 - binary_accuracy: 0.7027 - val_loss: 0.5511 - val_accuracy: 0.7253 - val_binary_accuracy: 0.7253\n",
      "Epoch 22/25\n",
      "59/59 [==============================] - 1s 15ms/step - loss: 0.5419 - accuracy: 0.7305 - binary_accuracy: 0.7305 - val_loss: 0.5493 - val_accuracy: 0.7382 - val_binary_accuracy: 0.7382\n",
      "Epoch 23/25\n",
      "59/59 [==============================] - 1s 15ms/step - loss: 0.5419 - accuracy: 0.7326 - binary_accuracy: 0.7326 - val_loss: 0.5502 - val_accuracy: 0.7339 - val_binary_accuracy: 0.7339\n",
      "Epoch 24/25\n",
      "59/59 [==============================] - 1s 15ms/step - loss: 0.5439 - accuracy: 0.7251 - binary_accuracy: 0.7251 - val_loss: 0.5489 - val_accuracy: 0.7339 - val_binary_accuracy: 0.7339\n",
      "Epoch 25/25\n",
      "59/59 [==============================] - 1s 15ms/step - loss: 0.5380 - accuracy: 0.7262 - binary_accuracy: 0.7262 - val_loss: 0.5475 - val_accuracy: 0.7296 - val_binary_accuracy: 0.7296\n"
     ]
    }
   ],
   "source": [
    "historyMobilenet = modelMobilenet.fit(ds_train,\n",
    "                    epochs=initial_epochs,\n",
    "                    validation_data=ds_val)"
   ]
  },
  {
   "cell_type": "code",
   "execution_count": 35,
   "id": "2c6bda0e",
   "metadata": {
    "scrolled": true
   },
   "outputs": [
    {
     "data": {
      "image/png": "[encoded data removed]",
      "text/plain": [
       "<Figure size 576x576 with 2 Axes>"
      ]
     },
     "metadata": {
      "needs_background": "light"
     },
     "output_type": "display_data"
    }
   ],
   "source": [
    "acc = historyMobilenet.history['accuracy']\n",
    "val_acc = historyMobilenet.history['val_accuracy']\n",
    "\n",
    "loss = historyMobilenet.history['loss']\n",
    "val_loss = historyMobilenet.history['val_loss']\n",
    "\n",
    "plt.figure(figsize=(8, 8))\n",
    "plt.subplot(2, 1, 1)\n",
    "plt.plot(acc, label='Training Accuracy')\n",
    "plt.plot(val_acc, label='Validation Accuracy')\n",
    "plt.legend(loc='lower right')\n",
    "plt.ylabel('Accuracy')\n",
    "plt.ylim([min(plt.ylim()),1])\n",
    "plt.title('Training and Validation Accuracy')\n",
    "\n",
    "plt.subplot(2, 1, 2)\n",
    "plt.plot(loss, label='Training Loss')\n",
    "plt.plot(val_loss, label='Validation Loss')\n",
    "plt.legend(loc='upper right')\n",
    "plt.ylabel('Cross Entropy')\n",
    "plt.ylim([0,1.0])\n",
    "plt.title('Training and Validation Loss')\n",
    "plt.xlabel('epoch')\n",
    "plt.show()"
   ]
  },
  {
   "cell_type": "code",
   "execution_count": 36,
   "id": "65e40694",
   "metadata": {},
   "outputs": [
    {
     "name": "stdout",
     "output_type": "stream",
     "text": [
      "Prédictions ;\n",
      " - Malin(s):  124 \n",
      " - Bénins:  109 \n",
      " - Total comp:  233  vs  233\n"
     ]
    }
   ],
   "source": [
    "predictions = modelMobilenet.predict(ds_val)\n",
    "\n",
    "b =0\n",
    "m = 0\n",
    "for element in predictions :\n",
    "    if(element[0] > 0.5) :\n",
    "        m +=1\n",
    "    elif(element[0]< 0.5) :\n",
    "        b +=1\n",
    "        \n",
    "print(\"Prédictions ;\\n - Malin(s): \", m, \"\\n - Bénins: \", b, \"\\n - Total comp: \", b+m,\" vs \",len(predictions))"
   ]
  },
  {
   "cell_type": "code",
   "execution_count": 37,
   "id": "68334e7a",
   "metadata": {},
   "outputs": [],
   "source": [
    "def predict_class_label_number(dataset):\n",
    "    predictions =  modelMobilenet.predict(dataset)\n",
    "    res = np.zeros(len(predictions))\n",
    "    i = 0 \n",
    "    for element in predictions : \n",
    "        if(element[0]> 0.5):\n",
    "            res[i] = 1\n",
    "        i += 1\n",
    "    return tf.convert_to_tensor(res)\n",
    "\n",
    "def give_labels (dataset, size):\n",
    "    lab = np.zeros(size)\n",
    "    i = 0\n",
    "    for batch in dataset:\n",
    "        for element in batch[1] :\n",
    "            lab[i] = element.numpy()\n",
    "            i +=1\n",
    "    return tf.convert_to_tensor(lab)\n",
    "    \n",
    "def show_confusion_matrix(cm, labels):\n",
    "    plt.figure(figsize=(5,5))\n",
    "    plt.imshow(cm)\n",
    "    plt.colorbar()\n",
    "    plt.xlabel('Predictions')\n",
    "    plt.ylabel('Labels')\n",
    "    plt.show()"
   ]
  },
  {
   "cell_type": "code",
   "execution_count": 38,
   "id": "67271261",
   "metadata": {},
   "outputs": [
    {
     "data": {
      "image/png": "[encoded data removed]",
      "text/plain": [
       "<Figure size 360x360 with 2 Axes>"
      ]
     },
     "metadata": {
      "needs_background": "light"
     },
     "output_type": "display_data"
    }
   ],
   "source": [
    "dataset = ds_val\n",
    "confusion_mtx_Mobilenet = tf.math.confusion_matrix(\n",
    "    give_labels(dataset, size),\n",
    "    predict_class_label_number(dataset),\n",
    "    num_classes=2)\n",
    "show_confusion_matrix(confusion_mtx_Mobilenet, [0,1])"
   ]
  },
  {
   "cell_type": "markdown",
   "id": "78cf0f62",
   "metadata": {},
   "source": [
    "### 6.2 VGG16 "
   ]
  },
  {
   "cell_type": "code",
   "execution_count": 39,
   "id": "dfaa8232",
   "metadata": {},
   "outputs": [],
   "source": [
    "preprocess_input = tf.keras.applications.vgg16.preprocess_input\n",
    "IMG_SIZE = (160,160)\n",
    "IMG_SHAPE = IMG_SIZE + (3,)\n",
    "base_model = tf.keras.applications.vgg16.VGG16(\n",
    "    include_top=False,\n",
    "    weights='imagenet',\n",
    "    input_tensor=None,\n",
    "    input_shape=IMG_SHAPE,\n",
    "    pooling=None,\n",
    "    classes=2,\n",
    "    classifier_activation='softmax'\n",
    ")"
   ]
  },
  {
   "cell_type": "code",
   "execution_count": 40,
   "id": "f182fc10",
   "metadata": {},
   "outputs": [
    {
     "name": "stdout",
     "output_type": "stream",
     "text": [
      "(16, 5, 5, 512)\n"
     ]
    }
   ],
   "source": [
    "image_batch, label_batch = next(iter(ds_train))\n",
    "feature_batch = base_model(image_batch)\n",
    "print(feature_batch.shape)"
   ]
  },
  {
   "cell_type": "code",
   "execution_count": 41,
   "id": "e0657aed",
   "metadata": {},
   "outputs": [
    {
     "name": "stdout",
     "output_type": "stream",
     "text": [
      "Model: \"vgg16\"\n",
      "_________________________________________________________________\n",
      "Layer (type)                 Output Shape              Param #   \n",
      "=================================================================\n",
      "input_4 (InputLayer)         [(None, 160, 160, 3)]     0         \n",
      "_________________________________________________________________\n",
      "block1_conv1 (Conv2D)        (None, 160, 160, 64)      1792      \n",
      "_________________________________________________________________\n",
      "block1_conv2 (Conv2D)        (None, 160, 160, 64)      36928     \n",
      "_________________________________________________________________\n",
      "block1_pool (MaxPooling2D)   (None, 80, 80, 64)        0         \n",
      "_________________________________________________________________\n",
      "block2_conv1 (Conv2D)        (None, 80, 80, 128)       73856     \n",
      "_________________________________________________________________\n",
      "block2_conv2 (Conv2D)        (None, 80, 80, 128)       147584    \n",
      "_________________________________________________________________\n",
      "block2_pool (MaxPooling2D)   (None, 40, 40, 128)       0         \n",
      "_________________________________________________________________\n",
      "block3_conv1 (Conv2D)        (None, 40, 40, 256)       295168    \n",
      "_________________________________________________________________\n",
      "block3_conv2 (Conv2D)        (None, 40, 40, 256)       590080    \n",
      "_________________________________________________________________\n",
      "block3_conv3 (Conv2D)        (None, 40, 40, 256)       590080    \n",
      "_________________________________________________________________\n",
      "block3_pool (MaxPooling2D)   (None, 20, 20, 256)       0         \n",
      "_________________________________________________________________\n",
      "block4_conv1 (Conv2D)        (None, 20, 20, 512)       1180160   \n",
      "_________________________________________________________________\n",
      "block4_conv2 (Conv2D)        (None, 20, 20, 512)       2359808   \n",
      "_________________________________________________________________\n",
      "block4_conv3 (Conv2D)        (None, 20, 20, 512)       2359808   \n",
      "_________________________________________________________________\n",
      "block4_pool (MaxPooling2D)   (None, 10, 10, 512)       0         \n",
      "_________________________________________________________________\n",
      "block5_conv1 (Conv2D)        (None, 10, 10, 512)       2359808   \n",
      "_________________________________________________________________\n",
      "block5_conv2 (Conv2D)        (None, 10, 10, 512)       2359808   \n",
      "_________________________________________________________________\n",
      "block5_conv3 (Conv2D)        (None, 10, 10, 512)       2359808   \n",
      "_________________________________________________________________\n",
      "block5_pool (MaxPooling2D)   (None, 5, 5, 512)         0         \n",
      "=================================================================\n",
      "Total params: 14,714,688\n",
      "Trainable params: 0\n",
      "Non-trainable params: 14,714,688\n",
      "_________________________________________________________________\n"
     ]
    }
   ],
   "source": [
    "base_model.trainable = False\n",
    "base_model.summary()"
   ]
  },
  {
   "cell_type": "code",
   "execution_count": 42,
   "id": "95f9ecab",
   "metadata": {},
   "outputs": [
    {
     "name": "stdout",
     "output_type": "stream",
     "text": [
      "(16, 512)\n"
     ]
    }
   ],
   "source": [
    "global_average_layer = tf.keras.layers.GlobalAveragePooling2D()\n",
    "feature_batch_average = global_average_layer(feature_batch)\n",
    "print(feature_batch_average.shape)"
   ]
  },
  {
   "cell_type": "code",
   "execution_count": 43,
   "id": "52ac5e8e",
   "metadata": {},
   "outputs": [
    {
     "name": "stdout",
     "output_type": "stream",
     "text": [
      "(16, 1)\n"
     ]
    }
   ],
   "source": [
    "prediction_layer = tf.keras.layers.Dense(1, activation = 'sigmoid')\n",
    "prediction_batch = prediction_layer(feature_batch_average)\n",
    "print(prediction_batch.shape)"
   ]
  },
  {
   "cell_type": "code",
   "execution_count": 44,
   "id": "94ec05cc",
   "metadata": {},
   "outputs": [],
   "source": [
    "inputs = tf.keras.Input(shape=(160,160, 3))\n",
    "x = data_augmentation(inputs)\n",
    "x = preprocess_input(x)\n",
    "x = base_model(x, training=False)\n",
    "x = global_average_layer(x)\n",
    "x = tf.keras.layers.Dropout(0.2)(x)\n",
    "outputs = prediction_layer(x)\n",
    "modelVGG16 = tf.keras.Model(inputs, outputs)"
   ]
  },
  {
   "cell_type": "code",
   "execution_count": 45,
   "id": "3c80416f",
   "metadata": {},
   "outputs": [],
   "source": [
    "base_learning_rate = 0.001\n",
    "modelVGG16.compile(optimizer=tf.keras.optimizers.Adam(learning_rate=base_learning_rate),\n",
    "              loss=tf.keras.losses.BinaryCrossentropy(from_logits=False),\n",
    "              metrics=['accuracy', 'binary_accuracy'])"
   ]
  },
  {
   "cell_type": "code",
   "execution_count": 46,
   "id": "6f2c3418",
   "metadata": {},
   "outputs": [
    {
     "name": "stdout",
     "output_type": "stream",
     "text": [
      "Model: \"model_1\"\n",
      "_________________________________________________________________\n",
      "Layer (type)                 Output Shape              Param #   \n",
      "=================================================================\n",
      "input_5 (InputLayer)         [(None, 160, 160, 3)]     0         \n",
      "_________________________________________________________________\n",
      "sequential_1 (Sequential)    (None, 160, 160, 3)       0         \n",
      "_________________________________________________________________\n",
      "tf.__operators__.getitem (Sl (None, 160, 160, 3)       0         \n",
      "_________________________________________________________________\n",
      "tf.math.add (TFOpLambda)     (None, 160, 160, 3)       0         \n",
      "_________________________________________________________________\n",
      "vgg16 (Functional)           (None, 5, 5, 512)         14714688  \n",
      "_________________________________________________________________\n",
      "global_average_pooling2d_1 ( (None, 512)               0         \n",
      "_________________________________________________________________\n",
      "dropout_4 (Dropout)          (None, 512)               0         \n",
      "_________________________________________________________________\n",
      "dense_5 (Dense)              (None, 1)                 513       \n",
      "=================================================================\n",
      "Total params: 14,715,201\n",
      "Trainable params: 513\n",
      "Non-trainable params: 14,714,688\n",
      "_________________________________________________________________\n"
     ]
    }
   ],
   "source": [
    "modelVGG16.summary()"
   ]
  },
  {
   "cell_type": "code",
   "execution_count": 47,
   "id": "c1826db1",
   "metadata": {},
   "outputs": [],
   "source": [
    "initial_epochs = 25"
   ]
  },
  {
   "cell_type": "code",
   "execution_count": 48,
   "id": "09073e13",
   "metadata": {},
   "outputs": [
    {
     "name": "stdout",
     "output_type": "stream",
     "text": [
      "Epoch 1/25\n",
      "59/59 [==============================] - 3s 38ms/step - loss: 1.5998 - accuracy: 0.5112 - binary_accuracy: 0.5112 - val_loss: 0.9735 - val_accuracy: 0.6180 - val_binary_accuracy: 0.6180\n",
      "Epoch 2/25\n",
      "59/59 [==============================] - 2s 33ms/step - loss: 1.2665 - accuracy: 0.5850 - binary_accuracy: 0.5850 - val_loss: 0.7178 - val_accuracy: 0.6738 - val_binary_accuracy: 0.6738\n",
      "Epoch 3/25\n",
      "59/59 [==============================] - 2s 33ms/step - loss: 0.8995 - accuracy: 0.6556 - binary_accuracy: 0.6556 - val_loss: 0.5975 - val_accuracy: 0.7210 - val_binary_accuracy: 0.7210\n",
      "Epoch 4/25\n",
      "59/59 [==============================] - 2s 34ms/step - loss: 0.8159 - accuracy: 0.6952 - binary_accuracy: 0.6952 - val_loss: 0.5802 - val_accuracy: 0.7039 - val_binary_accuracy: 0.7039\n",
      "Epoch 5/25\n",
      "59/59 [==============================] - 2s 34ms/step - loss: 0.7158 - accuracy: 0.6973 - binary_accuracy: 0.6973 - val_loss: 0.5457 - val_accuracy: 0.7253 - val_binary_accuracy: 0.7253\n",
      "Epoch 6/25\n",
      "59/59 [==============================] - 2s 34ms/step - loss: 0.6890 - accuracy: 0.6941 - binary_accuracy: 0.6941 - val_loss: 0.5332 - val_accuracy: 0.7639 - val_binary_accuracy: 0.7639\n",
      "Epoch 7/25\n",
      "59/59 [==============================] - 2s 34ms/step - loss: 0.6840 - accuracy: 0.6877 - binary_accuracy: 0.6877 - val_loss: 0.5201 - val_accuracy: 0.7468 - val_binary_accuracy: 0.7468\n",
      "Epoch 8/25\n",
      "59/59 [==============================] - 2s 34ms/step - loss: 0.6067 - accuracy: 0.7198 - binary_accuracy: 0.7198 - val_loss: 0.5141 - val_accuracy: 0.7339 - val_binary_accuracy: 0.7339\n",
      "Epoch 9/25\n",
      "59/59 [==============================] - 2s 34ms/step - loss: 0.5863 - accuracy: 0.7519 - binary_accuracy: 0.7519 - val_loss: 0.5095 - val_accuracy: 0.7468 - val_binary_accuracy: 0.7468\n",
      "Epoch 10/25\n",
      "59/59 [==============================] - 2s 34ms/step - loss: 0.5746 - accuracy: 0.7390 - binary_accuracy: 0.7390 - val_loss: 0.5206 - val_accuracy: 0.7554 - val_binary_accuracy: 0.7554\n",
      "Epoch 11/25\n",
      "59/59 [==============================] - 2s 34ms/step - loss: 0.5949 - accuracy: 0.7283 - binary_accuracy: 0.7283 - val_loss: 0.5124 - val_accuracy: 0.7468 - val_binary_accuracy: 0.7468\n",
      "Epoch 12/25\n",
      "59/59 [==============================] - 2s 34ms/step - loss: 0.5326 - accuracy: 0.7348 - binary_accuracy: 0.7348 - val_loss: 0.5159 - val_accuracy: 0.7511 - val_binary_accuracy: 0.7511\n",
      "Epoch 13/25\n",
      "59/59 [==============================] - 2s 34ms/step - loss: 0.5434 - accuracy: 0.7358 - binary_accuracy: 0.7358 - val_loss: 0.5118 - val_accuracy: 0.7511 - val_binary_accuracy: 0.7511\n",
      "Epoch 14/25\n",
      "59/59 [==============================] - 2s 34ms/step - loss: 0.5212 - accuracy: 0.7487 - binary_accuracy: 0.7487 - val_loss: 0.5210 - val_accuracy: 0.7597 - val_binary_accuracy: 0.7597\n",
      "Epoch 15/25\n",
      "59/59 [==============================] - 2s 34ms/step - loss: 0.5247 - accuracy: 0.7497 - binary_accuracy: 0.7497 - val_loss: 0.5036 - val_accuracy: 0.7597 - val_binary_accuracy: 0.7597\n",
      "Epoch 16/25\n",
      "59/59 [==============================] - 2s 33ms/step - loss: 0.5222 - accuracy: 0.7465 - binary_accuracy: 0.7465 - val_loss: 0.5004 - val_accuracy: 0.7468 - val_binary_accuracy: 0.7468\n",
      "Epoch 17/25\n",
      "59/59 [==============================] - 2s 34ms/step - loss: 0.4994 - accuracy: 0.7647 - binary_accuracy: 0.7647 - val_loss: 0.4958 - val_accuracy: 0.7554 - val_binary_accuracy: 0.7554\n",
      "Epoch 18/25\n",
      "59/59 [==============================] - 2s 34ms/step - loss: 0.5388 - accuracy: 0.7444 - binary_accuracy: 0.7444 - val_loss: 0.5077 - val_accuracy: 0.7511 - val_binary_accuracy: 0.7511\n",
      "Epoch 19/25\n",
      "59/59 [==============================] - 2s 34ms/step - loss: 0.5017 - accuracy: 0.7679 - binary_accuracy: 0.7679 - val_loss: 0.5178 - val_accuracy: 0.7511 - val_binary_accuracy: 0.7511\n",
      "Epoch 20/25\n",
      "59/59 [==============================] - 2s 34ms/step - loss: 0.5166 - accuracy: 0.7487 - binary_accuracy: 0.7487 - val_loss: 0.5207 - val_accuracy: 0.7511 - val_binary_accuracy: 0.7511\n",
      "Epoch 21/25\n",
      "59/59 [==============================] - 2s 34ms/step - loss: 0.4823 - accuracy: 0.7733 - binary_accuracy: 0.7733 - val_loss: 0.5143 - val_accuracy: 0.7382 - val_binary_accuracy: 0.7382\n",
      "Epoch 22/25\n",
      "59/59 [==============================] - 2s 34ms/step - loss: 0.4945 - accuracy: 0.7722 - binary_accuracy: 0.7722 - val_loss: 0.5397 - val_accuracy: 0.7425 - val_binary_accuracy: 0.7425\n",
      "Epoch 23/25\n",
      "59/59 [==============================] - 2s 34ms/step - loss: 0.4805 - accuracy: 0.7754 - binary_accuracy: 0.7754 - val_loss: 0.5282 - val_accuracy: 0.7468 - val_binary_accuracy: 0.7468\n",
      "Epoch 24/25\n",
      "59/59 [==============================] - 2s 34ms/step - loss: 0.4876 - accuracy: 0.7701 - binary_accuracy: 0.7701 - val_loss: 0.5399 - val_accuracy: 0.7296 - val_binary_accuracy: 0.7296\n",
      "Epoch 25/25\n",
      "59/59 [==============================] - 2s 34ms/step - loss: 0.4914 - accuracy: 0.7615 - binary_accuracy: 0.7615 - val_loss: 0.5288 - val_accuracy: 0.7253 - val_binary_accuracy: 0.7253\n"
     ]
    }
   ],
   "source": [
    "historyVGG16 = modelVGG16.fit(ds_train,\n",
    "                    epochs=initial_epochs,\n",
    "                    validation_data=ds_val)"
   ]
  },
  {
   "cell_type": "code",
   "execution_count": 49,
   "id": "94d6896e",
   "metadata": {},
   "outputs": [
    {
     "data": {
      "image/png": "[encoded data removed]",
      "text/plain": [
       "<Figure size 576x576 with 2 Axes>"
      ]
     },
     "metadata": {
      "needs_background": "light"
     },
     "output_type": "display_data"
    }
   ],
   "source": [
    "acc = historyVGG16.history['accuracy']\n",
    "val_acc = historyVGG16.history['val_accuracy']\n",
    "\n",
    "loss = historyVGG16.history['loss']\n",
    "val_loss = historyVGG16.history['val_loss']\n",
    "\n",
    "plt.figure(figsize=(8, 8))\n",
    "plt.subplot(2, 1, 1)\n",
    "plt.plot(acc, label='Training Accuracy')\n",
    "plt.plot(val_acc, label='Validation Accuracy')\n",
    "plt.legend(loc='lower right')\n",
    "plt.ylabel('Accuracy')\n",
    "plt.ylim([min(plt.ylim()),1])\n",
    "plt.title('Training and Validation Accuracy')\n",
    "\n",
    "plt.subplot(2, 1, 2)\n",
    "plt.plot(loss, label='Training Loss')\n",
    "plt.plot(val_loss, label='Validation Loss')\n",
    "plt.legend(loc='upper right')\n",
    "plt.ylabel('Cross Entropy')\n",
    "plt.ylim([0,2.0])\n",
    "plt.title('Training and Validation Loss')\n",
    "plt.xlabel('epoch')\n",
    "plt.show()"
   ]
  },
  {
   "cell_type": "code",
   "execution_count": 50,
   "id": "b80f7962",
   "metadata": {},
   "outputs": [
    {
     "name": "stdout",
     "output_type": "stream",
     "text": [
      "Prédictions ;\n",
      " - Malin(s):  103 \n",
      " - Bénins:  130 \n",
      " - Total comp:  233  vs  233\n"
     ]
    }
   ],
   "source": [
    "predictions = modelVGG16.predict(ds_val)\n",
    "b =0\n",
    "m = 0\n",
    "for element in predictions :\n",
    "    if(element[0] > 0.5) :\n",
    "        m +=1\n",
    "    elif(element[0]< 0.5) :\n",
    "        b +=1\n",
    "        \n",
    "print(\"Prédictions ;\\n - Malin(s): \", m, \"\\n - Bénins: \", b, \"\\n - Total comp: \", b+m,\" vs \",len(predictions))"
   ]
  },
  {
   "cell_type": "code",
   "execution_count": 51,
   "id": "b3f16da1",
   "metadata": {},
   "outputs": [],
   "source": [
    "def predict_class_label_number(dataset):\n",
    "    predictions =  modelVGG16.predict(dataset)\n",
    "    res = np.zeros(len(predictions))\n",
    "    i = 0 \n",
    "    for element in predictions : \n",
    "        if(element[0]> 0.5):\n",
    "            res[i] = 1\n",
    "        i += 1\n",
    "    return tf.convert_to_tensor(res)\n",
    "\n",
    "def give_labels (dataset, size):\n",
    "    lab = np.zeros(size)\n",
    "    i = 0\n",
    "    for batch in dataset:\n",
    "        for element in batch[1] :\n",
    "            lab[i] = element.numpy()\n",
    "            i +=1\n",
    "    return tf.convert_to_tensor(lab)\n",
    "    \n",
    "def show_confusion_matrix(cm, labels):\n",
    "    plt.figure(figsize=(5,5))\n",
    "    plt.imshow(cm)\n",
    "    plt.colorbar()\n",
    "    plt.xlabel('Predictions')\n",
    "    plt.ylabel('Labels')\n",
    "    plt.show()"
   ]
  },
  {
   "cell_type": "code",
   "execution_count": 52,
   "id": "fffb2869",
   "metadata": {},
   "outputs": [
    {
     "data": {
      "image/png": "[encoded data removed]",
      "text/plain": [
       "<Figure size 360x360 with 2 Axes>"
      ]
     },
     "metadata": {
      "needs_background": "light"
     },
     "output_type": "display_data"
    }
   ],
   "source": [
    "dataset = ds_val\n",
    "confusion_mtx_VGG16 = tf.math.confusion_matrix(\n",
    "    give_labels(dataset, size),\n",
    "    predict_class_label_number(dataset),\n",
    "    num_classes=2)\n",
    "show_confusion_matrix(confusion_mtx_VGG16, [0,1])"
   ]
  },
  {
   "cell_type": "markdown",
   "id": "5619e8a8",
   "metadata": {},
   "source": [
    "### 6.3 Comparison of the confusion matrices"
   ]
  },
  {
   "cell_type": "code",
   "execution_count": 59,
   "id": "7e75f698",
   "metadata": {},
   "outputs": [
    {
     "data": {
      "image/png": "[encoded data removed]",
      "text/plain": [
       "<Figure size 1080x360 with 6 Axes>"
      ]
     },
     "metadata": {
      "needs_background": "light"
     },
     "output_type": "display_data"
    }
   ],
   "source": [
    "plt.figure(figsize=(15,5))\n",
    "plt.subplot(1,3,1)\n",
    "plt.imshow(confusion_mtx_My)\n",
    "plt.title('Defined Model')\n",
    "plt.xlabel('Predictions')\n",
    "plt.ylabel('Labels')\n",
    "plt.colorbar()\n",
    "plt.subplot(1,3,2)\n",
    "plt.imshow(confusion_mtx_Mobilenet)\n",
    "plt.xlabel('Predictions')\n",
    "plt.title('Mobilenet')\n",
    "plt.colorbar()\n",
    "plt.subplot(1,3,3)\n",
    "plt.imshow(confusion_mtx_VGG16)\n",
    "plt.xlabel('Predictions')\n",
    "plt.title('VGG16')\n",
    "plt.colorbar()\n",
    "plt.show()"
   ]
  },
  {
   "cell_type": "code",
   "execution_count": null,
   "id": "6dec50a0",
   "metadata": {},
   "outputs": [],
   "source": []
  }
 ],
 "metadata": {
  "kernelspec": {
   "display_name": "Python 3 (ipykernel)",
   "language": "python",
   "name": "python3"
  },
  "language_info": {
   "codemirror_mode": {
    "name": "ipython",
    "version": 3
   },
   "file_extension": ".py",
   "mimetype": "text/x-python",
   "name": "python",
   "nbconvert_exporter": "python",
   "pygments_lexer": "ipython3",
   "version": "3.9.7"
  }
 },
 "nbformat": 4,
 "nbformat_minor": 5
}
