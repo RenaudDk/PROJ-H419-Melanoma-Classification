{
 "cells": [
  {
   "cell_type": "markdown",
   "id": "183e6aad",
   "metadata": {},
   "source": [
    "# PROJ-H419 : Melanoma Classification\n"
   ]
  },
  {
   "cell_type": "markdown",
   "id": "ecd9c799",
   "metadata": {},
   "source": [
    "## 1. Introduction\n",
    "This notebook presents a first approach to tackle the ISIC 2020 Challenge on melanoma classification. The challenge can be found on kaggle (https://www.kaggle.com/c/siim-isic-melanoma-classification) and all the datasets can be found there too. Furthermore, this notebook is widely inspired by gaggle courses on computer vision (https://www.kaggle.com/learn/computer-vision) and tensorflow tutorials (https://www.tensorflow.org/tutorials). \n",
    "\n",
    "The dataset provides tfrecord, DICOM, JPG and CSV files which contain different information about the patient. In this notebook, only the JPGs were used and were labelled with the help of the CSV files. Also, only the information about the malignancy of the melanoma is used to label the JPGs."
   ]
  },
  {
   "cell_type": "code",
   "execution_count": 1,
   "id": "792c6c05",
   "metadata": {},
   "outputs": [
    {
     "name": "stdout",
     "output_type": "stream",
     "text": [
      "2.6.0\n"
     ]
    }
   ],
   "source": [
    "import numpy as np\n",
    "import os\n",
    "import PIL\n",
    "import PIL.Image\n",
    "import tensorflow as tf\n",
    "\n",
    "\n",
    "import pathlib\n",
    "import pandas as pd\n",
    "\n",
    "import pydicom # for DICOM images\n",
    "from skimage.transform import resize\n",
    "from sklearn.metrics import plot_confusion_matrix  \n",
    "\n",
    "import matplotlib.pyplot as plt\n",
    "from matplotlib import gridspec\n",
    "%matplotlib inline\n",
    "print(tf.__version__)\n",
    "\n",
    "from tensorflow import keras\n",
    "from tensorflow.keras import layers\n",
    "from tensorflow.keras.layers.experimental import preprocessing"
   ]
  },
  {
   "cell_type": "code",
   "execution_count": 2,
   "id": "f0442180",
   "metadata": {},
   "outputs": [],
   "source": [
    "def set_seed(seed=31415):\n",
    "    np.random.seed(seed)\n",
    "    tf.random.set_seed(seed)\n",
    "    os.environ['PYTHONHASHSEED'] = str(seed)\n",
    "    os.environ['TF_DETERMINISTIC_OPS'] = '1'\n",
    "set_seed()"
   ]
  },
  {
   "cell_type": "markdown",
   "id": "17c6db48",
   "metadata": {},
   "source": [
    "## 2. Loading data"
   ]
  },
  {
   "cell_type": "code",
   "execution_count": 3,
   "id": "4db20424",
   "metadata": {},
   "outputs": [],
   "source": [
    "directory = '/Users/renau/Desktop/DATA/data_proj_melanoma'\n",
    "\n",
    "train_df = pd.read_csv(directory + '/train.csv')\n",
    "\n",
    "# Change columns names\n",
    "new_names = ['dcm_name', 'ID', 'sex', 'age', 'anatomy', 'diagnosis', 'benign_malignant', 'target']\n",
    "train_df.columns = new_names\n",
    "\n",
    "path_train = directory + '/jpeg/train/' + train_df['dcm_name'] + '.jpg'\n",
    "\n",
    "train_df['path_jpeg'] = path_train"
   ]
  },
  {
   "cell_type": "code",
   "execution_count": 4,
   "id": "8a919e12",
   "metadata": {},
   "outputs": [
    {
     "data": {
      "text/html": [
       "<div>\n",
       "<style scoped>\n",
       "    .dataframe tbody tr th:only-of-type {\n",
       "        vertical-align: middle;\n",
       "    }\n",
       "\n",
       "    .dataframe tbody tr th {\n",
       "        vertical-align: top;\n",
       "    }\n",
       "\n",
       "    .dataframe thead th {\n",
       "        text-align: right;\n",
       "    }\n",
       "</style>\n",
       "<table border=\"1\" class=\"dataframe\">\n",
       "  <thead>\n",
       "    <tr style=\"text-align: right;\">\n",
       "      <th></th>\n",
       "      <th>dcm_name</th>\n",
       "      <th>ID</th>\n",
       "      <th>sex</th>\n",
       "      <th>age</th>\n",
       "      <th>anatomy</th>\n",
       "      <th>diagnosis</th>\n",
       "      <th>benign_malignant</th>\n",
       "      <th>target</th>\n",
       "      <th>path_jpeg</th>\n",
       "    </tr>\n",
       "  </thead>\n",
       "  <tbody>\n",
       "    <tr>\n",
       "      <th>91</th>\n",
       "      <td>ISIC_0149568</td>\n",
       "      <td>IP_0962375</td>\n",
       "      <td>female</td>\n",
       "      <td>55.0</td>\n",
       "      <td>upper extremity</td>\n",
       "      <td>melanoma</td>\n",
       "      <td>malignant</td>\n",
       "      <td>1</td>\n",
       "      <td>/Users/renau/Desktop/DATA/data_proj_melanoma/j...</td>\n",
       "    </tr>\n",
       "    <tr>\n",
       "      <th>235</th>\n",
       "      <td>ISIC_0188432</td>\n",
       "      <td>IP_0135517</td>\n",
       "      <td>female</td>\n",
       "      <td>50.0</td>\n",
       "      <td>upper extremity</td>\n",
       "      <td>melanoma</td>\n",
       "      <td>malignant</td>\n",
       "      <td>1</td>\n",
       "      <td>/Users/renau/Desktop/DATA/data_proj_melanoma/j...</td>\n",
       "    </tr>\n",
       "    <tr>\n",
       "      <th>314</th>\n",
       "      <td>ISIC_0207268</td>\n",
       "      <td>IP_7735373</td>\n",
       "      <td>male</td>\n",
       "      <td>55.0</td>\n",
       "      <td>torso</td>\n",
       "      <td>melanoma</td>\n",
       "      <td>malignant</td>\n",
       "      <td>1</td>\n",
       "      <td>/Users/renau/Desktop/DATA/data_proj_melanoma/j...</td>\n",
       "    </tr>\n",
       "    <tr>\n",
       "      <th>399</th>\n",
       "      <td>ISIC_0232101</td>\n",
       "      <td>IP_8349964</td>\n",
       "      <td>male</td>\n",
       "      <td>65.0</td>\n",
       "      <td>torso</td>\n",
       "      <td>melanoma</td>\n",
       "      <td>malignant</td>\n",
       "      <td>1</td>\n",
       "      <td>/Users/renau/Desktop/DATA/data_proj_melanoma/j...</td>\n",
       "    </tr>\n",
       "    <tr>\n",
       "      <th>459</th>\n",
       "      <td>ISIC_0247330</td>\n",
       "      <td>IP_3232631</td>\n",
       "      <td>female</td>\n",
       "      <td>65.0</td>\n",
       "      <td>lower extremity</td>\n",
       "      <td>melanoma</td>\n",
       "      <td>malignant</td>\n",
       "      <td>1</td>\n",
       "      <td>/Users/renau/Desktop/DATA/data_proj_melanoma/j...</td>\n",
       "    </tr>\n",
       "  </tbody>\n",
       "</table>\n",
       "</div>"
      ],
      "text/plain": [
       "         dcm_name          ID     sex   age          anatomy diagnosis  \\\n",
       "91   ISIC_0149568  IP_0962375  female  55.0  upper extremity  melanoma   \n",
       "235  ISIC_0188432  IP_0135517  female  50.0  upper extremity  melanoma   \n",
       "314  ISIC_0207268  IP_7735373    male  55.0            torso  melanoma   \n",
       "399  ISIC_0232101  IP_8349964    male  65.0            torso  melanoma   \n",
       "459  ISIC_0247330  IP_3232631  female  65.0  lower extremity  melanoma   \n",
       "\n",
       "    benign_malignant  target  \\\n",
       "91         malignant       1   \n",
       "235        malignant       1   \n",
       "314        malignant       1   \n",
       "399        malignant       1   \n",
       "459        malignant       1   \n",
       "\n",
       "                                             path_jpeg  \n",
       "91   /Users/renau/Desktop/DATA/data_proj_melanoma/j...  \n",
       "235  /Users/renau/Desktop/DATA/data_proj_melanoma/j...  \n",
       "314  /Users/renau/Desktop/DATA/data_proj_melanoma/j...  \n",
       "399  /Users/renau/Desktop/DATA/data_proj_melanoma/j...  \n",
       "459  /Users/renau/Desktop/DATA/data_proj_melanoma/j...  "
      ]
     },
     "execution_count": 4,
     "metadata": {},
     "output_type": "execute_result"
    }
   ],
   "source": [
    "malignant_df = train_df[train_df['target'] == 1]\n",
    "malignant_df.head()"
   ]
  },
  {
   "cell_type": "code",
   "execution_count": 5,
   "id": "28e235f0",
   "metadata": {
    "scrolled": true
   },
   "outputs": [
    {
     "data": {
      "text/html": [
       "<div>\n",
       "<style scoped>\n",
       "    .dataframe tbody tr th:only-of-type {\n",
       "        vertical-align: middle;\n",
       "    }\n",
       "\n",
       "    .dataframe tbody tr th {\n",
       "        vertical-align: top;\n",
       "    }\n",
       "\n",
       "    .dataframe thead th {\n",
       "        text-align: right;\n",
       "    }\n",
       "</style>\n",
       "<table border=\"1\" class=\"dataframe\">\n",
       "  <thead>\n",
       "    <tr style=\"text-align: right;\">\n",
       "      <th></th>\n",
       "      <th>dcm_name</th>\n",
       "      <th>ID</th>\n",
       "      <th>sex</th>\n",
       "      <th>age</th>\n",
       "      <th>anatomy</th>\n",
       "      <th>diagnosis</th>\n",
       "      <th>benign_malignant</th>\n",
       "      <th>target</th>\n",
       "      <th>path_jpeg</th>\n",
       "    </tr>\n",
       "  </thead>\n",
       "  <tbody>\n",
       "    <tr>\n",
       "      <th>0</th>\n",
       "      <td>ISIC_2637011</td>\n",
       "      <td>IP_7279968</td>\n",
       "      <td>male</td>\n",
       "      <td>45.0</td>\n",
       "      <td>head/neck</td>\n",
       "      <td>unknown</td>\n",
       "      <td>benign</td>\n",
       "      <td>0</td>\n",
       "      <td>/Users/renau/Desktop/DATA/data_proj_melanoma/j...</td>\n",
       "    </tr>\n",
       "    <tr>\n",
       "      <th>1</th>\n",
       "      <td>ISIC_0015719</td>\n",
       "      <td>IP_3075186</td>\n",
       "      <td>female</td>\n",
       "      <td>45.0</td>\n",
       "      <td>upper extremity</td>\n",
       "      <td>unknown</td>\n",
       "      <td>benign</td>\n",
       "      <td>0</td>\n",
       "      <td>/Users/renau/Desktop/DATA/data_proj_melanoma/j...</td>\n",
       "    </tr>\n",
       "    <tr>\n",
       "      <th>2</th>\n",
       "      <td>ISIC_0052212</td>\n",
       "      <td>IP_2842074</td>\n",
       "      <td>female</td>\n",
       "      <td>50.0</td>\n",
       "      <td>lower extremity</td>\n",
       "      <td>nevus</td>\n",
       "      <td>benign</td>\n",
       "      <td>0</td>\n",
       "      <td>/Users/renau/Desktop/DATA/data_proj_melanoma/j...</td>\n",
       "    </tr>\n",
       "    <tr>\n",
       "      <th>3</th>\n",
       "      <td>ISIC_0068279</td>\n",
       "      <td>IP_6890425</td>\n",
       "      <td>female</td>\n",
       "      <td>45.0</td>\n",
       "      <td>head/neck</td>\n",
       "      <td>unknown</td>\n",
       "      <td>benign</td>\n",
       "      <td>0</td>\n",
       "      <td>/Users/renau/Desktop/DATA/data_proj_melanoma/j...</td>\n",
       "    </tr>\n",
       "    <tr>\n",
       "      <th>4</th>\n",
       "      <td>ISIC_0074268</td>\n",
       "      <td>IP_8723313</td>\n",
       "      <td>female</td>\n",
       "      <td>55.0</td>\n",
       "      <td>upper extremity</td>\n",
       "      <td>unknown</td>\n",
       "      <td>benign</td>\n",
       "      <td>0</td>\n",
       "      <td>/Users/renau/Desktop/DATA/data_proj_melanoma/j...</td>\n",
       "    </tr>\n",
       "  </tbody>\n",
       "</table>\n",
       "</div>"
      ],
      "text/plain": [
       "       dcm_name          ID     sex   age          anatomy diagnosis  \\\n",
       "0  ISIC_2637011  IP_7279968    male  45.0        head/neck   unknown   \n",
       "1  ISIC_0015719  IP_3075186  female  45.0  upper extremity   unknown   \n",
       "2  ISIC_0052212  IP_2842074  female  50.0  lower extremity     nevus   \n",
       "3  ISIC_0068279  IP_6890425  female  45.0        head/neck   unknown   \n",
       "4  ISIC_0074268  IP_8723313  female  55.0  upper extremity   unknown   \n",
       "\n",
       "  benign_malignant  target                                          path_jpeg  \n",
       "0           benign       0  /Users/renau/Desktop/DATA/data_proj_melanoma/j...  \n",
       "1           benign       0  /Users/renau/Desktop/DATA/data_proj_melanoma/j...  \n",
       "2           benign       0  /Users/renau/Desktop/DATA/data_proj_melanoma/j...  \n",
       "3           benign       0  /Users/renau/Desktop/DATA/data_proj_melanoma/j...  \n",
       "4           benign       0  /Users/renau/Desktop/DATA/data_proj_melanoma/j...  "
      ]
     },
     "execution_count": 5,
     "metadata": {},
     "output_type": "execute_result"
    }
   ],
   "source": [
    "benin_df = train_df[train_df['target'] == 0]\n",
    "benin_df.head()"
   ]
  },
  {
   "cell_type": "markdown",
   "id": "b2ec5d88",
   "metadata": {},
   "source": [
    "### 2.1 Imbalanced dataset\n",
    "\n",
    "This code highlights the fact that the dataset is imbalanced. The malignant files represent less than two percents of the total files. This is a problem that has to be handled otherwise this could lead to not or less detect malignant melanomas."
   ]
  },
  {
   "cell_type": "code",
   "execution_count": 6,
   "id": "7e28fb41",
   "metadata": {},
   "outputs": [
    {
     "data": {
      "text/plain": [
       "584"
      ]
     },
     "execution_count": 6,
     "metadata": {},
     "output_type": "execute_result"
    }
   ],
   "source": [
    "mal_file = malignant_df['path_jpeg'].values\n",
    "mal_labels = malignant_df['target'].values\n",
    "mal_train_ds = tf.data.Dataset.from_tensor_slices((mal_file, mal_labels))\n",
    "len(list(mal_train_ds))"
   ]
  },
  {
   "cell_type": "code",
   "execution_count": 7,
   "id": "80246e56",
   "metadata": {},
   "outputs": [
    {
     "data": {
      "text/plain": [
       "32542"
      ]
     },
     "execution_count": 7,
     "metadata": {},
     "output_type": "execute_result"
    }
   ],
   "source": [
    "ben_file = benin_df['path_jpeg'].values\n",
    "ben_labels = benin_df['target'].values\n",
    "ben_train_ds = tf.data.Dataset.from_tensor_slices((ben_file, ben_labels))\n",
    "ben_train_ds = ben_train_ds.shuffle(len(list(ben_train_ds)))\n",
    "len(list(ben_train_ds))"
   ]
  },
  {
   "cell_type": "markdown",
   "id": "8ef2091d",
   "metadata": {},
   "source": [
    "### 2.2 Making a balanced dataset\n",
    "There are different options in order to make a balanced dataset. For instance, the minority class can be oversampled or the majority class can be downsampled. In a first time downsampling was chosen and a random sample of the class in excess is taken shuffled with all the element of the class in default. Finally, the data are split into data for the training and the validation."
   ]
  },
  {
   "cell_type": "code",
   "execution_count": 8,
   "id": "0ab786bd",
   "metadata": {},
   "outputs": [
    {
     "name": "stdout",
     "output_type": "stream",
     "text": [
      "Validation dataset size is 233 and training dataset size is 935\n"
     ]
    }
   ],
   "source": [
    "def make_balanced_dataset(ds_class1, ds_class2):\n",
    "    half_size = min(len(list(ds_class1)),len(list(ds_class2)))\n",
    "    ds_1 = ds_class1.take(half_size)\n",
    "    ds_2 = ds_class2.take(half_size)\n",
    "    ds_full = ds_1.concatenate(ds_2)\n",
    "    ds_full = ds_full.shuffle(half_size*2, reshuffle_each_iteration=False)\n",
    "    return ds_full.skip((half_size*2)//5),ds_full.take((half_size*2)//5),\n",
    "\n",
    "ds_train, ds_val = make_balanced_dataset(ben_train_ds,mal_train_ds)\n",
    "size = len(list(ds_val))\n",
    "print('Validation dataset size is',size, 'and training dataset size is' , len(list(ds_train)))"
   ]
  },
  {
   "cell_type": "code",
   "execution_count": 9,
   "id": "8d9817c5",
   "metadata": {},
   "outputs": [
    {
     "name": "stdout",
     "output_type": "stream",
     "text": [
      "b'/Users/renau/Desktop/DATA/data_proj_melanoma/jpeg/train/ISIC_6257422.jpg' and target:  0\n",
      "b'/Users/renau/Desktop/DATA/data_proj_melanoma/jpeg/train/ISIC_0599605.jpg' and target:  1\n",
      "b'/Users/renau/Desktop/DATA/data_proj_melanoma/jpeg/train/ISIC_0272026.jpg' and target:  0\n",
      "b'/Users/renau/Desktop/DATA/data_proj_melanoma/jpeg/train/ISIC_2937642.jpg' and target:  1\n"
     ]
    }
   ],
   "source": [
    "ex_ds = ds_train.take(4)\n",
    "for element in ex_ds :\n",
    "    print(element[0].numpy(),'and target: ',element[1].numpy())"
   ]
  },
  {
   "cell_type": "markdown",
   "id": "5cc3ae72",
   "metadata": {},
   "source": [
    "### 2.3 Data preprocessing\n",
    "In this, the data are labelled, gathered in mini-batch and resized. Images of different size can't be used to feed the model for mathematical reasons for instance normalization of the data and for coding reasons the inputs shape of model (size of the picture) has to be specified. The size of 160x160 was chosen because VGG16 recommended using this shape and because of some limitations of computer memory."
   ]
  },
  {
   "cell_type": "code",
   "execution_count": 10,
   "id": "4fca5ce4",
   "metadata": {},
   "outputs": [],
   "source": [
    "def read_image(path, label):\n",
    "    image = tf.io.read_file(path)\n",
    "    image = tf.image.decode_image(image, channels=3, dtype = tf.uint8, expand_animations = False)\n",
    "    return image, label\n",
    "\n",
    "ds_train = ds_train.map(read_image)\n",
    "ds_val = ds_val.map(read_image)"
   ]
  },
  {
   "cell_type": "code",
   "execution_count": 11,
   "id": "b3d4279c",
   "metadata": {},
   "outputs": [
    {
     "name": "stdout",
     "output_type": "stream",
     "text": [
      "(480, 640, 3)\n",
      "(2448, 3264, 3)\n",
      "(4000, 6000, 3)\n"
     ]
    }
   ],
   "source": [
    "ex_ds = ds_train.take(3)\n",
    "for element in ex_ds :\n",
    "    print(element[0].numpy().shape)"
   ]
  },
  {
   "cell_type": "code",
   "execution_count": 12,
   "id": "34917f99",
   "metadata": {},
   "outputs": [
    {
     "name": "stdout",
     "output_type": "stream",
     "text": [
      "(16, 160, 160, 3)\n",
      "(16,)\n",
      "(16, 160, 160, 3)\n",
      "(16,)\n",
      "(16, 160, 160, 3)\n",
      "(16,)\n"
     ]
    }
   ],
   "source": [
    "def adapt_data(image, label):\n",
    "    image = tf.image.resize(image, [160,160])\n",
    "    return image, label\n",
    "\n",
    "def convert_to_float(image, label):\n",
    "    image = tf.image.convert_image_dtype(image, dtype=tf.float64)\n",
    "    return image, label\n",
    "    \n",
    "ds_train= ds_train.map(adapt_data).map(convert_to_float).batch(16)\n",
    "ds_val= ds_val.map(adapt_data).map(convert_to_float).batch(16)\n",
    "\n",
    "ex_ds = ds_train.take(3)\n",
    "for element in ex_ds :\n",
    "    print(element[0].shape)\n",
    "    print(element[1].shape)"
   ]
  },
  {
   "cell_type": "code",
   "execution_count": 13,
   "id": "ed2f5220",
   "metadata": {},
   "outputs": [],
   "source": [
    "AUTOTUNE = tf.data.AUTOTUNE\n",
    "\n",
    "ds_train = ds_train.cache().prefetch(buffer_size=AUTOTUNE)\n",
    "ds_val = ds_val.cache().prefetch(buffer_size=AUTOTUNE)"
   ]
  },
  {
   "cell_type": "markdown",
   "id": "c640960f",
   "metadata": {},
   "source": [
    "## 3. The model\n",
    "\n",
    "The model contains three mains parts:\n",
    " 1. Data augmentation: used to oversample the data during the training\n",
    " 2. Convolution layers: extract features of image\n",
    " 3. Head: use the features to determine the class\n",
    "\n",
    "The last layer uses sigmoid activation because it's a binary classification problem otherwise it would have to be a softmax activation with the same number of classes as neurons in it."
   ]
  },
  {
   "cell_type": "code",
   "execution_count": 14,
   "id": "1fbe5eb0",
   "metadata": {},
   "outputs": [],
   "source": [
    "MyModel = tf.keras.Sequential([ \n",
    "    \n",
    "# == Input == \n",
    "    \n",
    "    layers.InputLayer(input_shape=(160,160,3)),\n",
    "    \n",
    "# == Data Augmentation ==\n",
    "    \n",
    "    preprocessing.RandomContrast(factor=0.1),\n",
    "    preprocessing.RandomFlip(mode='horizontal'), \n",
    "    preprocessing.RandomFlip(mode='vertical'), \n",
    "    preprocessing.RandomRotation(factor=0.20),\n",
    "    layers.BatchNormalization(),\n",
    "\n",
    "# == Convolution == \n",
    "    \n",
    "    layers.Rescaling(1./255),\n",
    "    layers.BatchNormalization(),\n",
    "    layers.Conv2D(64, 3, activation='relu'),\n",
    "    layers.BatchNormalization(),\n",
    "    layers.MaxPooling2D(),\n",
    "    layers.Conv2D(128, 3, activation='relu'),\n",
    "    layers.BatchNormalization(),\n",
    "    layers.MaxPooling2D(),\n",
    "    layers.Conv2D(256, 3, activation='relu'),\n",
    "    layers.BatchNormalization(),\n",
    "    layers.MaxPooling2D(),\n",
    "\n",
    "# == Head ==\n",
    "    layers.Flatten(),\n",
    "    \n",
    "    layers.Dense(128, activation='relu'),\n",
    "    layers.BatchNormalization(),\n",
    "    layers.Dropout(0.2),\n",
    "    \n",
    "    layers.Dense(64, activation='relu'),\n",
    "    layers.BatchNormalization(),\n",
    "    layers.Dropout(0.2),\n",
    "    \n",
    "    layers.Dense(32, activation='relu'),\n",
    "    layers.BatchNormalization(),\n",
    "    layers.Dropout(0.2),\n",
    "\n",
    "    layers.Dense(1,activation='sigmoid')\n",
    "])"
   ]
  },
  {
   "cell_type": "code",
   "execution_count": 15,
   "id": "2adf69fa",
   "metadata": {
    "scrolled": true
   },
   "outputs": [
    {
     "name": "stdout",
     "output_type": "stream",
     "text": [
      "Model: \"sequential\"\n",
      "_________________________________________________________________\n",
      "Layer (type)                 Output Shape              Param #   \n",
      "=================================================================\n",
      "random_contrast (RandomContr (None, 160, 160, 3)       0         \n",
      "_________________________________________________________________\n",
      "random_flip (RandomFlip)     (None, 160, 160, 3)       0         \n",
      "_________________________________________________________________\n",
      "random_flip_1 (RandomFlip)   (None, 160, 160, 3)       0         \n",
      "_________________________________________________________________\n",
      "random_rotation (RandomRotat (None, 160, 160, 3)       0         \n",
      "_________________________________________________________________\n",
      "batch_normalization (BatchNo (None, 160, 160, 3)       12        \n",
      "_________________________________________________________________\n",
      "rescaling (Rescaling)        (None, 160, 160, 3)       0         \n",
      "_________________________________________________________________\n",
      "batch_normalization_1 (Batch (None, 160, 160, 3)       12        \n",
      "_________________________________________________________________\n",
      "conv2d (Conv2D)              (None, 158, 158, 64)      1792      \n",
      "_________________________________________________________________\n",
      "batch_normalization_2 (Batch (None, 158, 158, 64)      256       \n",
      "_________________________________________________________________\n",
      "max_pooling2d (MaxPooling2D) (None, 79, 79, 64)        0         \n",
      "_________________________________________________________________\n",
      "conv2d_1 (Conv2D)            (None, 77, 77, 128)       73856     \n",
      "_________________________________________________________________\n",
      "batch_normalization_3 (Batch (None, 77, 77, 128)       512       \n",
      "_________________________________________________________________\n",
      "max_pooling2d_1 (MaxPooling2 (None, 38, 38, 128)       0         \n",
      "_________________________________________________________________\n",
      "conv2d_2 (Conv2D)            (None, 36, 36, 256)       295168    \n",
      "_________________________________________________________________\n",
      "batch_normalization_4 (Batch (None, 36, 36, 256)       1024      \n",
      "_________________________________________________________________\n",
      "max_pooling2d_2 (MaxPooling2 (None, 18, 18, 256)       0         \n",
      "_________________________________________________________________\n",
      "flatten (Flatten)            (None, 82944)             0         \n",
      "_________________________________________________________________\n",
      "dense (Dense)                (None, 128)               10616960  \n",
      "_________________________________________________________________\n",
      "batch_normalization_5 (Batch (None, 128)               512       \n",
      "_________________________________________________________________\n",
      "dropout (Dropout)            (None, 128)               0         \n",
      "_________________________________________________________________\n",
      "dense_1 (Dense)              (None, 64)                8256      \n",
      "_________________________________________________________________\n",
      "batch_normalization_6 (Batch (None, 64)                256       \n",
      "_________________________________________________________________\n",
      "dropout_1 (Dropout)          (None, 64)                0         \n",
      "_________________________________________________________________\n",
      "dense_2 (Dense)              (None, 32)                2080      \n",
      "_________________________________________________________________\n",
      "batch_normalization_7 (Batch (None, 32)                128       \n",
      "_________________________________________________________________\n",
      "dropout_2 (Dropout)          (None, 32)                0         \n",
      "_________________________________________________________________\n",
      "dense_3 (Dense)              (None, 1)                 33        \n",
      "=================================================================\n",
      "Total params: 11,000,857\n",
      "Trainable params: 10,999,501\n",
      "Non-trainable params: 1,356\n",
      "_________________________________________________________________\n"
     ]
    }
   ],
   "source": [
    "MyModel.compile(\n",
    "    optimizer=tf.keras.optimizers.Adam(epsilon=0.01),\n",
    "    loss='binary_crossentropy',\n",
    "    metrics=['binary_accuracy']\n",
    ")\n",
    "MyModel.save_weights('My_model')\n",
    "MyModel.summary()"
   ]
  },
  {
   "cell_type": "markdown",
   "id": "89819876",
   "metadata": {},
   "source": [
    "## 4. Training\n",
    "\n",
    "On the training over 100 epochs even if there are dropout layers, the model seems to be overfitting a bit. That's why, only the model trained over 25 epochs is going to be used after. "
   ]
  },
  {
   "cell_type": "code",
   "execution_count": 16,
   "id": "a9fa1def",
   "metadata": {},
   "outputs": [
    {
     "name": "stdout",
     "output_type": "stream",
     "text": [
      "Epoch 1/100\n",
      "59/59 [==============================] - 12s 95ms/step - loss: 0.7195 - binary_accuracy: 0.6417 - val_loss: 0.7063 - val_binary_accuracy: 0.5064\n",
      "Epoch 2/100\n",
      "59/59 [==============================] - 2s 38ms/step - loss: 0.6698 - binary_accuracy: 0.6642 - val_loss: 0.7220 - val_binary_accuracy: 0.5064\n",
      "Epoch 3/100\n",
      "59/59 [==============================] - 2s 37ms/step - loss: 0.6331 - binary_accuracy: 0.6717 - val_loss: 0.7234 - val_binary_accuracy: 0.5064\n",
      "Epoch 4/100\n",
      "59/59 [==============================] - 2s 37ms/step - loss: 0.5805 - binary_accuracy: 0.7048 - val_loss: 0.7014 - val_binary_accuracy: 0.4936\n",
      "Epoch 5/100\n",
      "59/59 [==============================] - 2s 37ms/step - loss: 0.5835 - binary_accuracy: 0.6824 - val_loss: 0.7264 - val_binary_accuracy: 0.5064\n",
      "Epoch 6/100\n",
      "59/59 [==============================] - 2s 37ms/step - loss: 0.5825 - binary_accuracy: 0.6973 - val_loss: 0.6897 - val_binary_accuracy: 0.5408\n",
      "Epoch 7/100\n",
      "59/59 [==============================] - 2s 37ms/step - loss: 0.5547 - binary_accuracy: 0.7027 - val_loss: 0.6902 - val_binary_accuracy: 0.5193\n",
      "Epoch 8/100\n",
      "59/59 [==============================] - 2s 37ms/step - loss: 0.5702 - binary_accuracy: 0.7112 - val_loss: 0.7267 - val_binary_accuracy: 0.4721\n",
      "Epoch 9/100\n",
      "59/59 [==============================] - 2s 37ms/step - loss: 0.5252 - binary_accuracy: 0.7283 - val_loss: 0.6643 - val_binary_accuracy: 0.6094\n",
      "Epoch 10/100\n",
      "59/59 [==============================] - 2s 37ms/step - loss: 0.5328 - binary_accuracy: 0.7283 - val_loss: 0.6821 - val_binary_accuracy: 0.6180\n",
      "Epoch 11/100\n",
      "59/59 [==============================] - 2s 37ms/step - loss: 0.5195 - binary_accuracy: 0.7348 - val_loss: 0.5435 - val_binary_accuracy: 0.7124\n",
      "Epoch 12/100\n",
      "59/59 [==============================] - 2s 38ms/step - loss: 0.5159 - binary_accuracy: 0.7283 - val_loss: 0.5641 - val_binary_accuracy: 0.6996\n",
      "Epoch 13/100\n",
      "59/59 [==============================] - 2s 37ms/step - loss: 0.5126 - binary_accuracy: 0.7358 - val_loss: 0.5129 - val_binary_accuracy: 0.7382\n",
      "Epoch 14/100\n",
      "59/59 [==============================] - 2s 36ms/step - loss: 0.5055 - binary_accuracy: 0.7262 - val_loss: 0.5070 - val_binary_accuracy: 0.7554\n",
      "Epoch 15/100\n",
      "59/59 [==============================] - 2s 37ms/step - loss: 0.5152 - binary_accuracy: 0.7455 - val_loss: 0.4986 - val_binary_accuracy: 0.7554\n",
      "Epoch 16/100\n",
      "59/59 [==============================] - 2s 36ms/step - loss: 0.5114 - binary_accuracy: 0.7294 - val_loss: 0.5112 - val_binary_accuracy: 0.7768\n",
      "Epoch 17/100\n",
      "59/59 [==============================] - 2s 36ms/step - loss: 0.4841 - binary_accuracy: 0.7711 - val_loss: 0.5450 - val_binary_accuracy: 0.7296\n",
      "Epoch 18/100\n",
      "59/59 [==============================] - 2s 37ms/step - loss: 0.4861 - binary_accuracy: 0.7604 - val_loss: 0.4936 - val_binary_accuracy: 0.7639\n",
      "Epoch 19/100\n",
      "59/59 [==============================] - 2s 37ms/step - loss: 0.4776 - binary_accuracy: 0.7647 - val_loss: 0.4958 - val_binary_accuracy: 0.7511\n",
      "Epoch 20/100\n",
      "59/59 [==============================] - 2s 37ms/step - loss: 0.4758 - binary_accuracy: 0.7658 - val_loss: 0.4798 - val_binary_accuracy: 0.7639\n",
      "Epoch 21/100\n",
      "59/59 [==============================] - 2s 36ms/step - loss: 0.4992 - binary_accuracy: 0.7561 - val_loss: 0.4916 - val_binary_accuracy: 0.7468\n",
      "Epoch 22/100\n",
      "59/59 [==============================] - 2s 36ms/step - loss: 0.4856 - binary_accuracy: 0.7422 - val_loss: 0.5253 - val_binary_accuracy: 0.7425\n",
      "Epoch 23/100\n",
      "59/59 [==============================] - 2s 37ms/step - loss: 0.4702 - binary_accuracy: 0.7679 - val_loss: 0.5084 - val_binary_accuracy: 0.7639\n",
      "Epoch 24/100\n",
      "59/59 [==============================] - 2s 36ms/step - loss: 0.4528 - binary_accuracy: 0.7786 - val_loss: 0.5449 - val_binary_accuracy: 0.7554\n",
      "Epoch 25/100\n",
      "59/59 [==============================] - 2s 37ms/step - loss: 0.4671 - binary_accuracy: 0.7775 - val_loss: 0.5164 - val_binary_accuracy: 0.7725\n",
      "Epoch 26/100\n",
      "59/59 [==============================] - 2s 36ms/step - loss: 0.4639 - binary_accuracy: 0.7711 - val_loss: 0.5303 - val_binary_accuracy: 0.7554\n",
      "Epoch 27/100\n",
      "59/59 [==============================] - 2s 36ms/step - loss: 0.4754 - binary_accuracy: 0.7797 - val_loss: 0.5199 - val_binary_accuracy: 0.7854\n",
      "Epoch 28/100\n",
      "59/59 [==============================] - 2s 36ms/step - loss: 0.4368 - binary_accuracy: 0.7850 - val_loss: 0.5269 - val_binary_accuracy: 0.7554\n",
      "Epoch 29/100\n",
      "59/59 [==============================] - 2s 37ms/step - loss: 0.4352 - binary_accuracy: 0.7872 - val_loss: 0.5118 - val_binary_accuracy: 0.7682\n",
      "Epoch 30/100\n",
      "59/59 [==============================] - 2s 36ms/step - loss: 0.4301 - binary_accuracy: 0.8118 - val_loss: 0.5125 - val_binary_accuracy: 0.7597\n",
      "Epoch 31/100\n",
      "59/59 [==============================] - 2s 36ms/step - loss: 0.5042 - binary_accuracy: 0.7487 - val_loss: 0.6465 - val_binary_accuracy: 0.6996\n",
      "Epoch 32/100\n",
      "59/59 [==============================] - 2s 37ms/step - loss: 0.4821 - binary_accuracy: 0.7604 - val_loss: 0.5195 - val_binary_accuracy: 0.7639\n",
      "Epoch 33/100\n",
      "59/59 [==============================] - 2s 37ms/step - loss: 0.4875 - binary_accuracy: 0.7679 - val_loss: 0.5110 - val_binary_accuracy: 0.7897\n",
      "Epoch 34/100\n",
      "59/59 [==============================] - 2s 37ms/step - loss: 0.4562 - binary_accuracy: 0.7861 - val_loss: 0.4776 - val_binary_accuracy: 0.7725\n",
      "Epoch 35/100\n",
      "59/59 [==============================] - 2s 37ms/step - loss: 0.4461 - binary_accuracy: 0.7765 - val_loss: 0.5367 - val_binary_accuracy: 0.7511\n",
      "Epoch 36/100\n",
      "59/59 [==============================] - 2s 36ms/step - loss: 0.4394 - binary_accuracy: 0.7850 - val_loss: 0.4920 - val_binary_accuracy: 0.7811\n",
      "Epoch 37/100\n",
      "59/59 [==============================] - 2s 37ms/step - loss: 0.4368 - binary_accuracy: 0.8000 - val_loss: 0.5016 - val_binary_accuracy: 0.7639\n",
      "Epoch 38/100\n",
      "59/59 [==============================] - 2s 37ms/step - loss: 0.4370 - binary_accuracy: 0.7947 - val_loss: 0.4955 - val_binary_accuracy: 0.8026\n",
      "Epoch 39/100\n",
      "59/59 [==============================] - 2s 37ms/step - loss: 0.4171 - binary_accuracy: 0.8043 - val_loss: 0.4967 - val_binary_accuracy: 0.7768\n",
      "Epoch 40/100\n",
      "59/59 [==============================] - 2s 36ms/step - loss: 0.4116 - binary_accuracy: 0.8011 - val_loss: 0.4992 - val_binary_accuracy: 0.7468\n",
      "Epoch 41/100\n",
      "59/59 [==============================] - 2s 36ms/step - loss: 0.4253 - binary_accuracy: 0.8000 - val_loss: 0.5045 - val_binary_accuracy: 0.7725\n",
      "Epoch 42/100\n",
      "59/59 [==============================] - 2s 36ms/step - loss: 0.3936 - binary_accuracy: 0.8139 - val_loss: 0.4975 - val_binary_accuracy: 0.7811\n",
      "Epoch 43/100\n",
      "59/59 [==============================] - 2s 37ms/step - loss: 0.3870 - binary_accuracy: 0.8267 - val_loss: 0.5031 - val_binary_accuracy: 0.7725\n",
      "Epoch 44/100\n",
      "59/59 [==============================] - 2s 37ms/step - loss: 0.3829 - binary_accuracy: 0.8299 - val_loss: 0.5888 - val_binary_accuracy: 0.7725\n",
      "Epoch 45/100\n",
      "59/59 [==============================] - 2s 37ms/step - loss: 0.3846 - binary_accuracy: 0.8182 - val_loss: 0.5321 - val_binary_accuracy: 0.7811\n",
      "Epoch 46/100\n",
      "59/59 [==============================] - 2s 36ms/step - loss: 0.3933 - binary_accuracy: 0.8160 - val_loss: 0.5135 - val_binary_accuracy: 0.7811\n",
      "Epoch 47/100\n",
      "59/59 [==============================] - 2s 36ms/step - loss: 0.3900 - binary_accuracy: 0.8107 - val_loss: 0.5316 - val_binary_accuracy: 0.7811\n",
      "Epoch 48/100\n",
      "59/59 [==============================] - 2s 36ms/step - loss: 0.3857 - binary_accuracy: 0.8139 - val_loss: 0.5613 - val_binary_accuracy: 0.7554\n",
      "Epoch 49/100\n",
      "59/59 [==============================] - 2s 36ms/step - loss: 0.3792 - binary_accuracy: 0.8374 - val_loss: 0.5466 - val_binary_accuracy: 0.7897\n",
      "Epoch 50/100\n",
      "59/59 [==============================] - 2s 37ms/step - loss: 0.4043 - binary_accuracy: 0.8139 - val_loss: 0.5508 - val_binary_accuracy: 0.7511\n",
      "Epoch 51/100\n",
      "59/59 [==============================] - 2s 37ms/step - loss: 0.3866 - binary_accuracy: 0.8278 - val_loss: 0.5291 - val_binary_accuracy: 0.7897\n",
      "Epoch 52/100\n",
      "59/59 [==============================] - 2s 37ms/step - loss: 0.3616 - binary_accuracy: 0.8460 - val_loss: 0.5359 - val_binary_accuracy: 0.7768\n",
      "Epoch 53/100\n"
     ]
    },
    {
     "name": "stdout",
     "output_type": "stream",
     "text": [
      "59/59 [==============================] - 2s 37ms/step - loss: 0.3591 - binary_accuracy: 0.8374 - val_loss: 0.5674 - val_binary_accuracy: 0.7425\n",
      "Epoch 54/100\n",
      "59/59 [==============================] - 2s 37ms/step - loss: 0.3659 - binary_accuracy: 0.8342 - val_loss: 0.5229 - val_binary_accuracy: 0.7682\n",
      "Epoch 55/100\n",
      "59/59 [==============================] - 2s 37ms/step - loss: 0.3928 - binary_accuracy: 0.8214 - val_loss: 0.5371 - val_binary_accuracy: 0.7682\n",
      "Epoch 56/100\n",
      "59/59 [==============================] - 2s 37ms/step - loss: 0.3516 - binary_accuracy: 0.8374 - val_loss: 0.5874 - val_binary_accuracy: 0.7725\n",
      "Epoch 57/100\n",
      "59/59 [==============================] - 2s 37ms/step - loss: 0.3551 - binary_accuracy: 0.8278 - val_loss: 0.5233 - val_binary_accuracy: 0.7768\n",
      "Epoch 58/100\n",
      "59/59 [==============================] - 2s 37ms/step - loss: 0.3443 - binary_accuracy: 0.8332 - val_loss: 0.5439 - val_binary_accuracy: 0.7854\n",
      "Epoch 59/100\n",
      "59/59 [==============================] - 2s 37ms/step - loss: 0.3557 - binary_accuracy: 0.8321 - val_loss: 0.6214 - val_binary_accuracy: 0.7725\n",
      "Epoch 60/100\n",
      "59/59 [==============================] - 2s 37ms/step - loss: 0.3339 - binary_accuracy: 0.8545 - val_loss: 0.5721 - val_binary_accuracy: 0.7897\n",
      "Epoch 61/100\n",
      "59/59 [==============================] - 2s 37ms/step - loss: 0.3279 - binary_accuracy: 0.8631 - val_loss: 0.6526 - val_binary_accuracy: 0.7597\n",
      "Epoch 62/100\n",
      "59/59 [==============================] - 2s 37ms/step - loss: 0.3551 - binary_accuracy: 0.8471 - val_loss: 0.5770 - val_binary_accuracy: 0.7382\n",
      "Epoch 63/100\n",
      "59/59 [==============================] - 2s 37ms/step - loss: 0.3032 - binary_accuracy: 0.8749 - val_loss: 0.6052 - val_binary_accuracy: 0.7425\n",
      "Epoch 64/100\n",
      "59/59 [==============================] - 2s 37ms/step - loss: 0.2998 - binary_accuracy: 0.8588 - val_loss: 0.6081 - val_binary_accuracy: 0.7468\n",
      "Epoch 65/100\n",
      "59/59 [==============================] - 2s 37ms/step - loss: 0.3239 - binary_accuracy: 0.8610 - val_loss: 0.5837 - val_binary_accuracy: 0.7854\n",
      "Epoch 66/100\n",
      "59/59 [==============================] - 2s 37ms/step - loss: 0.3098 - binary_accuracy: 0.8631 - val_loss: 0.7169 - val_binary_accuracy: 0.7468\n",
      "Epoch 67/100\n",
      "59/59 [==============================] - 2s 37ms/step - loss: 0.3081 - binary_accuracy: 0.8599 - val_loss: 0.5769 - val_binary_accuracy: 0.7554\n",
      "Epoch 68/100\n",
      "59/59 [==============================] - 2s 37ms/step - loss: 0.3075 - binary_accuracy: 0.8578 - val_loss: 0.6396 - val_binary_accuracy: 0.7682\n",
      "Epoch 69/100\n",
      "59/59 [==============================] - 2s 37ms/step - loss: 0.3019 - binary_accuracy: 0.8620 - val_loss: 0.6421 - val_binary_accuracy: 0.7468\n",
      "Epoch 70/100\n",
      "59/59 [==============================] - 2s 37ms/step - loss: 0.2895 - binary_accuracy: 0.8706 - val_loss: 0.6695 - val_binary_accuracy: 0.7339\n",
      "Epoch 71/100\n",
      "59/59 [==============================] - 2s 37ms/step - loss: 0.3079 - binary_accuracy: 0.8631 - val_loss: 0.6407 - val_binary_accuracy: 0.7811\n",
      "Epoch 72/100\n",
      "59/59 [==============================] - 2s 37ms/step - loss: 0.2621 - binary_accuracy: 0.8898 - val_loss: 0.6732 - val_binary_accuracy: 0.7468\n",
      "Epoch 73/100\n",
      "59/59 [==============================] - 2s 37ms/step - loss: 0.3159 - binary_accuracy: 0.8599 - val_loss: 0.7617 - val_binary_accuracy: 0.7725\n",
      "Epoch 74/100\n",
      "59/59 [==============================] - 2s 37ms/step - loss: 0.2916 - binary_accuracy: 0.8727 - val_loss: 0.6322 - val_binary_accuracy: 0.7811\n",
      "Epoch 75/100\n",
      "59/59 [==============================] - 2s 37ms/step - loss: 0.2903 - binary_accuracy: 0.8781 - val_loss: 0.5989 - val_binary_accuracy: 0.7725\n",
      "Epoch 76/100\n",
      "59/59 [==============================] - 2s 37ms/step - loss: 0.2873 - binary_accuracy: 0.8727 - val_loss: 0.7278 - val_binary_accuracy: 0.7597\n",
      "Epoch 77/100\n",
      "59/59 [==============================] - 2s 37ms/step - loss: 0.2991 - binary_accuracy: 0.8663 - val_loss: 0.6302 - val_binary_accuracy: 0.7511\n",
      "Epoch 78/100\n",
      "59/59 [==============================] - 2s 37ms/step - loss: 0.2946 - binary_accuracy: 0.8695 - val_loss: 0.6724 - val_binary_accuracy: 0.7554\n",
      "Epoch 79/100\n",
      "59/59 [==============================] - 2s 37ms/step - loss: 0.2835 - binary_accuracy: 0.8738 - val_loss: 0.6280 - val_binary_accuracy: 0.7639\n",
      "Epoch 80/100\n",
      "59/59 [==============================] - 2s 37ms/step - loss: 0.2582 - binary_accuracy: 0.8824 - val_loss: 0.6556 - val_binary_accuracy: 0.7768\n",
      "Epoch 81/100\n",
      "59/59 [==============================] - 2s 37ms/step - loss: 0.2629 - binary_accuracy: 0.8888 - val_loss: 0.7176 - val_binary_accuracy: 0.7597\n",
      "Epoch 82/100\n",
      "59/59 [==============================] - 2s 36ms/step - loss: 0.2580 - binary_accuracy: 0.8930 - val_loss: 0.7371 - val_binary_accuracy: 0.7725\n",
      "Epoch 83/100\n",
      "59/59 [==============================] - 2s 36ms/step - loss: 0.2480 - binary_accuracy: 0.9027 - val_loss: 0.6260 - val_binary_accuracy: 0.7811\n",
      "Epoch 84/100\n",
      "59/59 [==============================] - 2s 36ms/step - loss: 0.2710 - binary_accuracy: 0.8802 - val_loss: 0.7025 - val_binary_accuracy: 0.7940\n",
      "Epoch 85/100\n",
      "59/59 [==============================] - 2s 36ms/step - loss: 0.2686 - binary_accuracy: 0.8888 - val_loss: 0.6641 - val_binary_accuracy: 0.7897\n",
      "Epoch 86/100\n",
      "59/59 [==============================] - 2s 37ms/step - loss: 0.2242 - binary_accuracy: 0.9005 - val_loss: 0.6970 - val_binary_accuracy: 0.7682\n",
      "Epoch 87/100\n",
      "59/59 [==============================] - 2s 37ms/step - loss: 0.2376 - binary_accuracy: 0.8866 - val_loss: 0.7057 - val_binary_accuracy: 0.7682\n",
      "Epoch 88/100\n",
      "59/59 [==============================] - 2s 37ms/step - loss: 0.2379 - binary_accuracy: 0.8952 - val_loss: 0.7359 - val_binary_accuracy: 0.7554\n",
      "Epoch 89/100\n",
      "59/59 [==============================] - 2s 37ms/step - loss: 0.2297 - binary_accuracy: 0.9037 - val_loss: 0.8787 - val_binary_accuracy: 0.7554\n",
      "Epoch 90/100\n",
      "59/59 [==============================] - 2s 37ms/step - loss: 0.2553 - binary_accuracy: 0.8770 - val_loss: 0.7126 - val_binary_accuracy: 0.7983\n",
      "Epoch 91/100\n",
      "59/59 [==============================] - 2s 37ms/step - loss: 0.2235 - binary_accuracy: 0.9016 - val_loss: 0.6384 - val_binary_accuracy: 0.7897\n",
      "Epoch 92/100\n",
      "59/59 [==============================] - 2s 37ms/step - loss: 0.2291 - binary_accuracy: 0.9070 - val_loss: 0.7881 - val_binary_accuracy: 0.7511\n",
      "Epoch 93/100\n",
      "59/59 [==============================] - 2s 37ms/step - loss: 0.2028 - binary_accuracy: 0.9198 - val_loss: 0.7242 - val_binary_accuracy: 0.7511\n",
      "Epoch 94/100\n",
      "59/59 [==============================] - 2s 36ms/step - loss: 0.2253 - binary_accuracy: 0.9048 - val_loss: 0.7174 - val_binary_accuracy: 0.7425\n",
      "Epoch 95/100\n",
      "59/59 [==============================] - 2s 37ms/step - loss: 0.2390 - binary_accuracy: 0.8984 - val_loss: 0.7428 - val_binary_accuracy: 0.7639\n",
      "Epoch 96/100\n",
      "59/59 [==============================] - 2s 37ms/step - loss: 0.2161 - binary_accuracy: 0.9187 - val_loss: 0.6932 - val_binary_accuracy: 0.7725\n",
      "Epoch 97/100\n",
      "59/59 [==============================] - 2s 36ms/step - loss: 0.2131 - binary_accuracy: 0.9144 - val_loss: 0.6706 - val_binary_accuracy: 0.7639\n",
      "Epoch 98/100\n",
      "59/59 [==============================] - 2s 36ms/step - loss: 0.1700 - binary_accuracy: 0.9401 - val_loss: 0.7068 - val_binary_accuracy: 0.7768\n",
      "Epoch 99/100\n",
      "59/59 [==============================] - 2s 37ms/step - loss: 0.1756 - binary_accuracy: 0.9273 - val_loss: 0.6688 - val_binary_accuracy: 0.8112\n",
      "Epoch 100/100\n",
      "59/59 [==============================] - 2s 37ms/step - loss: 0.2066 - binary_accuracy: 0.9123 - val_loss: 0.6717 - val_binary_accuracy: 0.7725\n"
     ]
    }
   ],
   "source": [
    "history100 = MyModel.fit(\n",
    "    ds_train,\n",
    "    validation_data=ds_val,\n",
    "    epochs=100,\n",
    ")"
   ]
  },
  {
   "cell_type": "code",
   "execution_count": 17,
   "id": "02be911c",
   "metadata": {},
   "outputs": [
    {
     "data": {
      "image/png": "[encoded data removed]",
      "text/plain": [
       "<Figure size 432x288 with 1 Axes>"
      ]
     },
     "metadata": {
      "needs_background": "light"
     },
     "output_type": "display_data"
    },
    {
     "data": {
      "image/png": "[encoded data removed]",
      "text/plain": [
       "<Figure size 432x288 with 1 Axes>"
      ]
     },
     "metadata": {
      "needs_background": "light"
     },
     "output_type": "display_data"
    }
   ],
   "source": [
    "history100_frame = pd.DataFrame(history100.history)\n",
    "history100_frame.loc[:, ['loss', 'val_loss']].plot()\n",
    "history100_frame.loc[:, ['binary_accuracy', 'val_binary_accuracy']].plot();"
   ]
  },
  {
   "cell_type": "code",
   "execution_count": 18,
   "id": "7e3bddcf",
   "metadata": {},
   "outputs": [
    {
     "name": "stdout",
     "output_type": "stream",
     "text": [
      "Epoch 1/25\n",
      "59/59 [==============================] - 2s 37ms/step - loss: 0.6832 - binary_accuracy: 0.6578 - val_loss: 0.6878 - val_binary_accuracy: 0.5107\n",
      "Epoch 2/25\n",
      "59/59 [==============================] - 2s 37ms/step - loss: 0.6403 - binary_accuracy: 0.6674 - val_loss: 0.7097 - val_binary_accuracy: 0.4936\n",
      "Epoch 3/25\n",
      "59/59 [==============================] - 2s 37ms/step - loss: 0.6055 - binary_accuracy: 0.6834 - val_loss: 0.6924 - val_binary_accuracy: 0.4936\n",
      "Epoch 4/25\n",
      "59/59 [==============================] - 2s 37ms/step - loss: 0.5836 - binary_accuracy: 0.7016 - val_loss: 0.6984 - val_binary_accuracy: 0.4936\n",
      "Epoch 5/25\n",
      "59/59 [==============================] - 2s 37ms/step - loss: 0.5778 - binary_accuracy: 0.6973 - val_loss: 0.6945 - val_binary_accuracy: 0.4936\n",
      "Epoch 6/25\n",
      "59/59 [==============================] - 2s 37ms/step - loss: 0.5759 - binary_accuracy: 0.6824 - val_loss: 0.6604 - val_binary_accuracy: 0.6266\n",
      "Epoch 7/25\n",
      "59/59 [==============================] - 2s 37ms/step - loss: 0.5635 - binary_accuracy: 0.6963 - val_loss: 0.6793 - val_binary_accuracy: 0.5193\n",
      "Epoch 8/25\n",
      "59/59 [==============================] - 2s 37ms/step - loss: 0.5418 - binary_accuracy: 0.7187 - val_loss: 0.6327 - val_binary_accuracy: 0.6953\n",
      "Epoch 9/25\n",
      "59/59 [==============================] - 2s 38ms/step - loss: 0.5354 - binary_accuracy: 0.7134 - val_loss: 0.5988 - val_binary_accuracy: 0.7124\n",
      "Epoch 10/25\n",
      "59/59 [==============================] - 2s 37ms/step - loss: 0.5353 - binary_accuracy: 0.7241 - val_loss: 0.5720 - val_binary_accuracy: 0.7124\n",
      "Epoch 11/25\n",
      "59/59 [==============================] - 2s 37ms/step - loss: 0.5045 - binary_accuracy: 0.7465 - val_loss: 0.5455 - val_binary_accuracy: 0.7124\n",
      "Epoch 12/25\n",
      "59/59 [==============================] - 2s 37ms/step - loss: 0.5033 - binary_accuracy: 0.7497 - val_loss: 0.5479 - val_binary_accuracy: 0.7296\n",
      "Epoch 13/25\n",
      "59/59 [==============================] - 2s 37ms/step - loss: 0.5078 - binary_accuracy: 0.7433 - val_loss: 0.5167 - val_binary_accuracy: 0.7554\n",
      "Epoch 14/25\n",
      "59/59 [==============================] - 2s 37ms/step - loss: 0.5089 - binary_accuracy: 0.7326 - val_loss: 0.5133 - val_binary_accuracy: 0.7511\n",
      "Epoch 15/25\n",
      "59/59 [==============================] - 2s 37ms/step - loss: 0.5004 - binary_accuracy: 0.7508 - val_loss: 0.5163 - val_binary_accuracy: 0.7511\n",
      "Epoch 16/25\n",
      "59/59 [==============================] - 2s 37ms/step - loss: 0.4778 - binary_accuracy: 0.7711 - val_loss: 0.5134 - val_binary_accuracy: 0.7468\n",
      "Epoch 17/25\n",
      "59/59 [==============================] - 2s 37ms/step - loss: 0.4865 - binary_accuracy: 0.7733 - val_loss: 0.5059 - val_binary_accuracy: 0.7511\n",
      "Epoch 18/25\n",
      "59/59 [==============================] - 2s 37ms/step - loss: 0.4693 - binary_accuracy: 0.7690 - val_loss: 0.4976 - val_binary_accuracy: 0.7468\n",
      "Epoch 19/25\n",
      "59/59 [==============================] - 2s 37ms/step - loss: 0.4917 - binary_accuracy: 0.7348 - val_loss: 0.5052 - val_binary_accuracy: 0.7725\n",
      "Epoch 20/25\n",
      "59/59 [==============================] - 2s 37ms/step - loss: 0.4592 - binary_accuracy: 0.7733 - val_loss: 0.5295 - val_binary_accuracy: 0.7554\n",
      "Epoch 21/25\n",
      "59/59 [==============================] - 2s 37ms/step - loss: 0.4626 - binary_accuracy: 0.7722 - val_loss: 0.5035 - val_binary_accuracy: 0.7725\n",
      "Epoch 22/25\n",
      "59/59 [==============================] - 2s 37ms/step - loss: 0.4574 - binary_accuracy: 0.7733 - val_loss: 0.5112 - val_binary_accuracy: 0.7639\n",
      "Epoch 23/25\n",
      "59/59 [==============================] - 2s 37ms/step - loss: 0.4582 - binary_accuracy: 0.7701 - val_loss: 0.5183 - val_binary_accuracy: 0.7725\n",
      "Epoch 24/25\n",
      "59/59 [==============================] - 2s 37ms/step - loss: 0.4476 - binary_accuracy: 0.7711 - val_loss: 0.5011 - val_binary_accuracy: 0.7768\n",
      "Epoch 25/25\n",
      "59/59 [==============================] - 2s 37ms/step - loss: 0.4471 - binary_accuracy: 0.7893 - val_loss: 0.5175 - val_binary_accuracy: 0.7468\n"
     ]
    }
   ],
   "source": [
    "MyModel.load_weights('My_model')\n",
    "history40 = MyModel.fit(\n",
    "    ds_train,\n",
    "    validation_data=ds_val,\n",
    "    epochs=25,\n",
    ")"
   ]
  },
  {
   "cell_type": "code",
   "execution_count": 19,
   "id": "de679811",
   "metadata": {},
   "outputs": [
    {
     "data": {
      "image/png": "[encoded data removed]",
      "text/plain": [
       "<Figure size 432x288 with 1 Axes>"
      ]
     },
     "metadata": {
      "needs_background": "light"
     },
     "output_type": "display_data"
    },
    {
     "data": {
      "image/png": "[encoded data removed]",
      "text/plain": [
       "<Figure size 432x288 with 1 Axes>"
      ]
     },
     "metadata": {
      "needs_background": "light"
     },
     "output_type": "display_data"
    }
   ],
   "source": [
    "history40_frame = pd.DataFrame(history40.history)\n",
    "history40_frame.loc[:, ['loss', 'val_loss']].plot()\n",
    "history40_frame.loc[:, ['binary_accuracy', 'val_binary_accuracy']].plot();"
   ]
  },
  {
   "cell_type": "markdown",
   "id": "d4ed1c67",
   "metadata": {},
   "source": [
    "## 5. Results\n",
    " "
   ]
  },
  {
   "cell_type": "code",
   "execution_count": 20,
   "id": "7e9a2463",
   "metadata": {},
   "outputs": [
    {
     "name": "stdout",
     "output_type": "stream",
     "text": [
      "Prédictions ;\n",
      " - Malin(s):  118 \n",
      " - Bénins:  115 \n",
      " - Total comp:  233  vs  233\n"
     ]
    }
   ],
   "source": [
    "predictionMy = MyModel.predict(ds_val)\n",
    "b =0\n",
    "m = 0\n",
    "for element in predictionMy :\n",
    "    if(element[0] > 0.5) :\n",
    "        m +=1\n",
    "    elif(element[0]< 0.5) :\n",
    "        b +=1\n",
    "        \n",
    "print(\"Prédictions ;\\n - Malin(s): \", m, \"\\n - Bénins: \", b, \"\\n - Total comp: \", b+m,\" vs \",len(predictionMy))"
   ]
  },
  {
   "cell_type": "code",
   "execution_count": 21,
   "id": "cd78cd6d",
   "metadata": {},
   "outputs": [],
   "source": [
    "def predict_class_label_number(dataset,model):\n",
    "    predictions =  model.predict(dataset)\n",
    "    res = np.zeros(len(predictions))\n",
    "    i = 0 \n",
    "    for element in predictions : \n",
    "        if(element[0]> 0.5):\n",
    "            res[i] = 1\n",
    "        i += 1\n",
    "    return tf.convert_to_tensor(res)\n",
    "\n",
    "def give_labels (dataset, size):\n",
    "    lab = np.zeros(size)\n",
    "    i = 0\n",
    "    for batch in dataset:\n",
    "        for element in batch[1] :\n",
    "            lab[i] = element.numpy()\n",
    "            i +=1\n",
    "    return tf.convert_to_tensor(lab)\n",
    "    \n",
    "def show_confusion_matrix(cm, labels):\n",
    "    plt.figure(figsize=(5,5))\n",
    "    plt.imshow(cm)\n",
    "    plt.colorbar()\n",
    "    plt.xlabel('Predictions')\n",
    "    plt.ylabel('Labels')\n",
    "    plt.show()"
   ]
  },
  {
   "cell_type": "code",
   "execution_count": 22,
   "id": "70d1573a",
   "metadata": {},
   "outputs": [
    {
     "data": {
      "image/png": "[encoded data removed]",
      "text/plain": [
       "<Figure size 360x360 with 2 Axes>"
      ]
     },
     "metadata": {
      "needs_background": "light"
     },
     "output_type": "display_data"
    }
   ],
   "source": [
    "confusion_mtx_My = tf.math.confusion_matrix(\n",
    "    give_labels(ds_val, size),\n",
    "    predict_class_label_number(ds_val, MyModel),\n",
    "    num_classes=2)\n",
    "show_confusion_matrix(confusion_mtx_My, [0,1])"
   ]
  },
  {
   "cell_type": "markdown",
   "id": "90af0a49",
   "metadata": {},
   "source": [
    "## 6. Comparison with other models using transfer learning\n",
    "\n",
    "In this part, the results obtained are compared to the ones obtained with transfer learning using two commonly used models for classification that are Mobilenet from Google and VGG16 from Oxford but no fine tuning will be done here. These models are pretrained on the 'imagenet' dataset. \n",
    "This part is inspired by this tutorial from tensorflow : https://www.tensorflow.org/tutorials/images/transfer_learning\n",
    "\n",
    "### 6.1 Mobilenet "
   ]
  },
  {
   "cell_type": "code",
   "execution_count": 23,
   "id": "516d7f37",
   "metadata": {},
   "outputs": [],
   "source": [
    "preprocess_input = tf.keras.applications.mobilenet_v2.preprocess_input\n",
    "IMG_SIZE = (160, 160)\n",
    "IMG_SHAPE = IMG_SIZE + (3,)\n",
    "base_model = tf.keras.applications.MobileNetV2(input_shape=IMG_SHAPE, include_top=False, weights='imagenet')"
   ]
  },
  {
   "cell_type": "code",
   "execution_count": 24,
   "id": "fdae7868",
   "metadata": {},
   "outputs": [
    {
     "name": "stdout",
     "output_type": "stream",
     "text": [
      "(16, 5, 5, 1280)\n"
     ]
    }
   ],
   "source": [
    "image_batch, label_batch = next(iter(ds_train))\n",
    "feature_batch = base_model(image_batch)\n",
    "print(feature_batch.shape)"
   ]
  },
  {
   "cell_type": "code",
   "execution_count": 25,
   "id": "4879e2bc",
   "metadata": {},
   "outputs": [],
   "source": [
    "base_model.trainable = False\n",
    "#base_model.summary()"
   ]
  },
  {
   "cell_type": "code",
   "execution_count": 26,
   "id": "71e221d2",
   "metadata": {},
   "outputs": [],
   "source": [
    "data_augmentation = tf.keras.Sequential([\n",
    "    preprocessing.RandomContrast(factor=0.1),\n",
    "    preprocessing.RandomFlip(mode='horizontal'), \n",
    "    preprocessing.RandomFlip(mode='vertical'), \n",
    "    preprocessing.RandomRotation(factor=0.20),  \n",
    "])"
   ]
  },
  {
   "cell_type": "code",
   "execution_count": 27,
   "id": "a85679c7",
   "metadata": {},
   "outputs": [
    {
     "name": "stdout",
     "output_type": "stream",
     "text": [
      "(16, 1280)\n"
     ]
    }
   ],
   "source": [
    "global_average_layer = tf.keras.layers.GlobalAveragePooling2D()\n",
    "feature_batch_average = global_average_layer(feature_batch)\n",
    "print(feature_batch_average.shape)"
   ]
  },
  {
   "cell_type": "code",
   "execution_count": 28,
   "id": "7e12a8fd",
   "metadata": {},
   "outputs": [
    {
     "name": "stdout",
     "output_type": "stream",
     "text": [
      "(16, 1)\n"
     ]
    }
   ],
   "source": [
    "prediction_layer = tf.keras.layers.Dense(1, activation = 'sigmoid')\n",
    "prediction_batch = prediction_layer(feature_batch_average)\n",
    "print(prediction_batch.shape)"
   ]
  },
  {
   "cell_type": "code",
   "execution_count": 29,
   "id": "8e25439d",
   "metadata": {},
   "outputs": [],
   "source": [
    "inputs = tf.keras.Input(shape=(160, 160, 3))\n",
    "x = data_augmentation(inputs)\n",
    "x = preprocess_input(x)\n",
    "x = base_model(x, training=False)\n",
    "x = global_average_layer(x)\n",
    "x = tf.keras.layers.Dropout(0.2)(x)\n",
    "outputs = prediction_layer(x)\n",
    "modelMobilenet = tf.keras.Model(inputs, outputs)"
   ]
  },
  {
   "cell_type": "code",
   "execution_count": 30,
   "id": "a93cb708",
   "metadata": {},
   "outputs": [],
   "source": [
    "base_learning_rate = 0.0001\n",
    "modelMobilenet.compile(optimizer=tf.keras.optimizers.Adam(learning_rate=base_learning_rate),\n",
    "              loss=tf.keras.losses.BinaryCrossentropy(from_logits=False),\n",
    "              metrics=['accuracy', 'binary_accuracy'])"
   ]
  },
  {
   "cell_type": "code",
   "execution_count": 31,
   "id": "0a257f68",
   "metadata": {},
   "outputs": [
    {
     "name": "stdout",
     "output_type": "stream",
     "text": [
      "Model: \"model\"\n",
      "_________________________________________________________________\n",
      "Layer (type)                 Output Shape              Param #   \n",
      "=================================================================\n",
      "input_3 (InputLayer)         [(None, 160, 160, 3)]     0         \n",
      "_________________________________________________________________\n",
      "sequential_1 (Sequential)    (None, 160, 160, 3)       0         \n",
      "_________________________________________________________________\n",
      "tf.math.truediv (TFOpLambda) (None, 160, 160, 3)       0         \n",
      "_________________________________________________________________\n",
      "tf.math.subtract (TFOpLambda (None, 160, 160, 3)       0         \n",
      "_________________________________________________________________\n",
      "mobilenetv2_1.00_160 (Functi (None, 5, 5, 1280)        2257984   \n",
      "_________________________________________________________________\n",
      "global_average_pooling2d (Gl (None, 1280)              0         \n",
      "_________________________________________________________________\n",
      "dropout_3 (Dropout)          (None, 1280)              0         \n",
      "_________________________________________________________________\n",
      "dense_4 (Dense)              (None, 1)                 1281      \n",
      "=================================================================\n",
      "Total params: 2,259,265\n",
      "Trainable params: 1,281\n",
      "Non-trainable params: 2,257,984\n",
      "_________________________________________________________________\n"
     ]
    }
   ],
   "source": [
    "modelMobilenet.summary()"
   ]
  },
  {
   "cell_type": "code",
   "execution_count": 32,
   "id": "7e4dbeba",
   "metadata": {},
   "outputs": [],
   "source": [
    "initial_epochs = 25"
   ]
  },
  {
   "cell_type": "code",
   "execution_count": 33,
   "id": "a05e4d64",
   "metadata": {},
   "outputs": [
    {
     "name": "stdout",
     "output_type": "stream",
     "text": [
      "Epoch 1/25\n",
      "59/59 [==============================] - 4s 27ms/step - loss: 0.7423 - accuracy: 0.5594 - binary_accuracy: 0.5594 - val_loss: 0.6646 - val_accuracy: 0.6094 - val_binary_accuracy: 0.6094\n",
      "Epoch 2/25\n",
      "59/59 [==============================] - 1s 15ms/step - loss: 0.7342 - accuracy: 0.5679 - binary_accuracy: 0.5679 - val_loss: 0.6451 - val_accuracy: 0.6567 - val_binary_accuracy: 0.6567\n",
      "Epoch 3/25\n",
      "59/59 [==============================] - 1s 15ms/step - loss: 0.6765 - accuracy: 0.6160 - binary_accuracy: 0.6160 - val_loss: 0.6303 - val_accuracy: 0.6867 - val_binary_accuracy: 0.6867\n",
      "Epoch 4/25\n",
      "59/59 [==============================] - 1s 16ms/step - loss: 0.6620 - accuracy: 0.6321 - binary_accuracy: 0.6321 - val_loss: 0.6182 - val_accuracy: 0.6781 - val_binary_accuracy: 0.6781\n",
      "Epoch 5/25\n",
      "59/59 [==============================] - 1s 15ms/step - loss: 0.6409 - accuracy: 0.6567 - binary_accuracy: 0.6567 - val_loss: 0.6062 - val_accuracy: 0.6867 - val_binary_accuracy: 0.6867\n",
      "Epoch 6/25\n",
      "59/59 [==============================] - 1s 15ms/step - loss: 0.6231 - accuracy: 0.6428 - binary_accuracy: 0.6428 - val_loss: 0.6000 - val_accuracy: 0.6867 - val_binary_accuracy: 0.6867\n",
      "Epoch 7/25\n",
      "59/59 [==============================] - 1s 15ms/step - loss: 0.6185 - accuracy: 0.6642 - binary_accuracy: 0.6642 - val_loss: 0.5918 - val_accuracy: 0.6867 - val_binary_accuracy: 0.6867\n",
      "Epoch 8/25\n",
      "59/59 [==============================] - 1s 15ms/step - loss: 0.6115 - accuracy: 0.6684 - binary_accuracy: 0.6684 - val_loss: 0.5838 - val_accuracy: 0.6910 - val_binary_accuracy: 0.6910\n",
      "Epoch 9/25\n",
      "59/59 [==============================] - 1s 15ms/step - loss: 0.5928 - accuracy: 0.6963 - binary_accuracy: 0.6963 - val_loss: 0.5776 - val_accuracy: 0.6953 - val_binary_accuracy: 0.6953\n",
      "Epoch 10/25\n",
      "59/59 [==============================] - 1s 15ms/step - loss: 0.5832 - accuracy: 0.6888 - binary_accuracy: 0.6888 - val_loss: 0.5739 - val_accuracy: 0.6953 - val_binary_accuracy: 0.6953\n",
      "Epoch 11/25\n",
      "59/59 [==============================] - 1s 15ms/step - loss: 0.5803 - accuracy: 0.7005 - binary_accuracy: 0.7005 - val_loss: 0.5709 - val_accuracy: 0.7082 - val_binary_accuracy: 0.7082\n",
      "Epoch 12/25\n",
      "59/59 [==============================] - 1s 16ms/step - loss: 0.5843 - accuracy: 0.6995 - binary_accuracy: 0.6995 - val_loss: 0.5670 - val_accuracy: 0.7210 - val_binary_accuracy: 0.7210\n",
      "Epoch 13/25\n",
      "59/59 [==============================] - 1s 15ms/step - loss: 0.5628 - accuracy: 0.7155 - binary_accuracy: 0.7155 - val_loss: 0.5653 - val_accuracy: 0.7253 - val_binary_accuracy: 0.7253\n",
      "Epoch 14/25\n",
      "59/59 [==============================] - 1s 15ms/step - loss: 0.5481 - accuracy: 0.7348 - binary_accuracy: 0.7348 - val_loss: 0.5637 - val_accuracy: 0.7210 - val_binary_accuracy: 0.7210\n",
      "Epoch 15/25\n",
      "59/59 [==============================] - 1s 15ms/step - loss: 0.5610 - accuracy: 0.7102 - binary_accuracy: 0.7102 - val_loss: 0.5573 - val_accuracy: 0.7253 - val_binary_accuracy: 0.7253\n",
      "Epoch 16/25\n",
      "59/59 [==============================] - 1s 15ms/step - loss: 0.5427 - accuracy: 0.7187 - binary_accuracy: 0.7187 - val_loss: 0.5561 - val_accuracy: 0.7296 - val_binary_accuracy: 0.7296\n",
      "Epoch 17/25\n",
      "59/59 [==============================] - 1s 15ms/step - loss: 0.5388 - accuracy: 0.7444 - binary_accuracy: 0.7444 - val_loss: 0.5561 - val_accuracy: 0.7210 - val_binary_accuracy: 0.7210\n",
      "Epoch 18/25\n",
      "59/59 [==============================] - 1s 15ms/step - loss: 0.5500 - accuracy: 0.7080 - binary_accuracy: 0.7080 - val_loss: 0.5564 - val_accuracy: 0.7253 - val_binary_accuracy: 0.7253\n",
      "Epoch 19/25\n",
      "59/59 [==============================] - 1s 15ms/step - loss: 0.5423 - accuracy: 0.7305 - binary_accuracy: 0.7305 - val_loss: 0.5511 - val_accuracy: 0.7253 - val_binary_accuracy: 0.7253\n",
      "Epoch 20/25\n",
      "59/59 [==============================] - 1s 15ms/step - loss: 0.5426 - accuracy: 0.7337 - binary_accuracy: 0.7337 - val_loss: 0.5512 - val_accuracy: 0.7296 - val_binary_accuracy: 0.7296\n",
      "Epoch 21/25\n",
      "59/59 [==============================] - 1s 15ms/step - loss: 0.5441 - accuracy: 0.7176 - binary_accuracy: 0.7176 - val_loss: 0.5510 - val_accuracy: 0.7253 - val_binary_accuracy: 0.7253\n",
      "Epoch 22/25\n",
      "59/59 [==============================] - 1s 15ms/step - loss: 0.5455 - accuracy: 0.7219 - binary_accuracy: 0.7219 - val_loss: 0.5501 - val_accuracy: 0.7339 - val_binary_accuracy: 0.7339\n",
      "Epoch 23/25\n",
      "59/59 [==============================] - 1s 15ms/step - loss: 0.5431 - accuracy: 0.7187 - binary_accuracy: 0.7187 - val_loss: 0.5487 - val_accuracy: 0.7296 - val_binary_accuracy: 0.7296\n",
      "Epoch 24/25\n",
      "59/59 [==============================] - 1s 15ms/step - loss: 0.5361 - accuracy: 0.7273 - binary_accuracy: 0.7273 - val_loss: 0.5499 - val_accuracy: 0.7253 - val_binary_accuracy: 0.7253\n",
      "Epoch 25/25\n",
      "59/59 [==============================] - 1s 15ms/step - loss: 0.5413 - accuracy: 0.7273 - binary_accuracy: 0.7273 - val_loss: 0.5482 - val_accuracy: 0.7296 - val_binary_accuracy: 0.7296\n"
     ]
    }
   ],
   "source": [
    "historyMobilenet = modelMobilenet.fit(ds_train,\n",
    "                    epochs=initial_epochs,\n",
    "                    validation_data=ds_val)"
   ]
  },
  {
   "cell_type": "code",
   "execution_count": 34,
   "id": "2c6bda0e",
   "metadata": {
    "scrolled": true
   },
   "outputs": [
    {
     "data": {
      "image/png": "[encoded data removed]",
      "text/plain": [
       "<Figure size 576x576 with 2 Axes>"
      ]
     },
     "metadata": {
      "needs_background": "light"
     },
     "output_type": "display_data"
    }
   ],
   "source": [
    "acc = historyMobilenet.history['accuracy']\n",
    "val_acc = historyMobilenet.history['val_accuracy']\n",
    "\n",
    "loss = historyMobilenet.history['loss']\n",
    "val_loss = historyMobilenet.history['val_loss']\n",
    "\n",
    "plt.figure(figsize=(8, 8))\n",
    "plt.subplot(2, 1, 1)\n",
    "plt.plot(acc, label='Training Accuracy')\n",
    "plt.plot(val_acc, label='Validation Accuracy')\n",
    "plt.legend(loc='lower right')\n",
    "plt.ylabel('Accuracy')\n",
    "plt.ylim([min(plt.ylim()),1])\n",
    "plt.title('Training and Validation Accuracy')\n",
    "\n",
    "plt.subplot(2, 1, 2)\n",
    "plt.plot(loss, label='Training Loss')\n",
    "plt.plot(val_loss, label='Validation Loss')\n",
    "plt.legend(loc='upper right')\n",
    "plt.ylabel('Cross Entropy')\n",
    "plt.ylim([0,1.0])\n",
    "plt.title('Training and Validation Loss')\n",
    "plt.xlabel('epoch')\n",
    "plt.show()"
   ]
  },
  {
   "cell_type": "code",
   "execution_count": 35,
   "id": "65e40694",
   "metadata": {},
   "outputs": [
    {
     "name": "stdout",
     "output_type": "stream",
     "text": [
      "Prédictions ;\n",
      " - Malin(s):  128 \n",
      " - Bénins:  105 \n",
      " - Total comp:  233  vs  233\n"
     ]
    }
   ],
   "source": [
    "predictionsMobilenet = modelMobilenet.predict(ds_val)\n",
    "b =0\n",
    "m = 0\n",
    "for element in predictionsMobilenet :\n",
    "    if(element[0] > 0.5) :\n",
    "        m +=1\n",
    "    elif(element[0]< 0.5) :\n",
    "        b +=1\n",
    "        \n",
    "print(\"Prédictions ;\\n - Malin(s): \", m, \"\\n - Bénins: \", b, \"\\n - Total comp: \", b+m,\" vs \",len(predictionsMobilenet))"
   ]
  },
  {
   "cell_type": "code",
   "execution_count": 36,
   "id": "68334e7a",
   "metadata": {},
   "outputs": [],
   "source": [
    "def predict_class_label_number(dataset,model):\n",
    "    predictions =  model.predict(dataset)\n",
    "    res = np.zeros(len(predictions))\n",
    "    i = 0 \n",
    "    for element in predictions : \n",
    "        if(element[0]> 0.5):\n",
    "            res[i] = 1\n",
    "        i += 1\n",
    "    return tf.convert_to_tensor(res)\n",
    "\n",
    "def give_labels (dataset, size):\n",
    "    lab = np.zeros(size)\n",
    "    i = 0\n",
    "    for batch in dataset:\n",
    "        for element in batch[1] :\n",
    "            lab[i] = element.numpy()\n",
    "            i +=1\n",
    "    return tf.convert_to_tensor(lab)\n",
    "    \n",
    "def show_confusion_matrix(cm, labels):\n",
    "    plt.figure(figsize=(5,5))\n",
    "    plt.imshow(cm)\n",
    "    plt.colorbar()\n",
    "    plt.xlabel('Predictions')\n",
    "    plt.ylabel('Labels')\n",
    "    plt.show()"
   ]
  },
  {
   "cell_type": "code",
   "execution_count": 37,
   "id": "67271261",
   "metadata": {},
   "outputs": [
    {
     "data": {
      "image/png": "[encoded data removed]",
      "text/plain": [
       "<Figure size 360x360 with 2 Axes>"
      ]
     },
     "metadata": {
      "needs_background": "light"
     },
     "output_type": "display_data"
    }
   ],
   "source": [
    "confusion_mtx_Mobilenet = tf.math.confusion_matrix(\n",
    "    give_labels(ds_val, size),\n",
    "    predict_class_label_number(ds_val, modelMobilenet),\n",
    "    num_classes=2)\n",
    "show_confusion_matrix(confusion_mtx_Mobilenet, [0,1])"
   ]
  },
  {
   "cell_type": "markdown",
   "id": "78cf0f62",
   "metadata": {},
   "source": [
    "### 6.2 VGG16 "
   ]
  },
  {
   "cell_type": "code",
   "execution_count": 38,
   "id": "dfaa8232",
   "metadata": {},
   "outputs": [],
   "source": [
    "preprocess_input = tf.keras.applications.vgg16.preprocess_input\n",
    "IMG_SIZE = (160,160)\n",
    "IMG_SHAPE = IMG_SIZE + (3,)\n",
    "base_model = tf.keras.applications.vgg16.VGG16(\n",
    "    include_top=False,\n",
    "    weights='imagenet',\n",
    "    input_tensor=None,\n",
    "    input_shape=IMG_SHAPE,\n",
    "    pooling=None,\n",
    "    classes=2,\n",
    "    classifier_activation='softmax'\n",
    ")"
   ]
  },
  {
   "cell_type": "code",
   "execution_count": 39,
   "id": "f182fc10",
   "metadata": {},
   "outputs": [
    {
     "name": "stdout",
     "output_type": "stream",
     "text": [
      "(16, 5, 5, 512)\n"
     ]
    }
   ],
   "source": [
    "image_batch, label_batch = next(iter(ds_train))\n",
    "feature_batch = base_model(image_batch)\n",
    "print(feature_batch.shape)"
   ]
  },
  {
   "cell_type": "code",
   "execution_count": 40,
   "id": "e0657aed",
   "metadata": {},
   "outputs": [
    {
     "name": "stdout",
     "output_type": "stream",
     "text": [
      "Model: \"vgg16\"\n",
      "_________________________________________________________________\n",
      "Layer (type)                 Output Shape              Param #   \n",
      "=================================================================\n",
      "input_4 (InputLayer)         [(None, 160, 160, 3)]     0         \n",
      "_________________________________________________________________\n",
      "block1_conv1 (Conv2D)        (None, 160, 160, 64)      1792      \n",
      "_________________________________________________________________\n",
      "block1_conv2 (Conv2D)        (None, 160, 160, 64)      36928     \n",
      "_________________________________________________________________\n",
      "block1_pool (MaxPooling2D)   (None, 80, 80, 64)        0         \n",
      "_________________________________________________________________\n",
      "block2_conv1 (Conv2D)        (None, 80, 80, 128)       73856     \n",
      "_________________________________________________________________\n",
      "block2_conv2 (Conv2D)        (None, 80, 80, 128)       147584    \n",
      "_________________________________________________________________\n",
      "block2_pool (MaxPooling2D)   (None, 40, 40, 128)       0         \n",
      "_________________________________________________________________\n",
      "block3_conv1 (Conv2D)        (None, 40, 40, 256)       295168    \n",
      "_________________________________________________________________\n",
      "block3_conv2 (Conv2D)        (None, 40, 40, 256)       590080    \n",
      "_________________________________________________________________\n",
      "block3_conv3 (Conv2D)        (None, 40, 40, 256)       590080    \n",
      "_________________________________________________________________\n",
      "block3_pool (MaxPooling2D)   (None, 20, 20, 256)       0         \n",
      "_________________________________________________________________\n",
      "block4_conv1 (Conv2D)        (None, 20, 20, 512)       1180160   \n",
      "_________________________________________________________________\n",
      "block4_conv2 (Conv2D)        (None, 20, 20, 512)       2359808   \n",
      "_________________________________________________________________\n",
      "block4_conv3 (Conv2D)        (None, 20, 20, 512)       2359808   \n",
      "_________________________________________________________________\n",
      "block4_pool (MaxPooling2D)   (None, 10, 10, 512)       0         \n",
      "_________________________________________________________________\n",
      "block5_conv1 (Conv2D)        (None, 10, 10, 512)       2359808   \n",
      "_________________________________________________________________\n",
      "block5_conv2 (Conv2D)        (None, 10, 10, 512)       2359808   \n",
      "_________________________________________________________________\n",
      "block5_conv3 (Conv2D)        (None, 10, 10, 512)       2359808   \n",
      "_________________________________________________________________\n",
      "block5_pool (MaxPooling2D)   (None, 5, 5, 512)         0         \n",
      "=================================================================\n",
      "Total params: 14,714,688\n",
      "Trainable params: 0\n",
      "Non-trainable params: 14,714,688\n",
      "_________________________________________________________________\n"
     ]
    }
   ],
   "source": [
    "base_model.trainable = False\n",
    "base_model.summary()"
   ]
  },
  {
   "cell_type": "code",
   "execution_count": 41,
   "id": "95f9ecab",
   "metadata": {},
   "outputs": [
    {
     "name": "stdout",
     "output_type": "stream",
     "text": [
      "(16, 512)\n"
     ]
    }
   ],
   "source": [
    "global_average_layer = tf.keras.layers.GlobalAveragePooling2D()\n",
    "feature_batch_average = global_average_layer(feature_batch)\n",
    "print(feature_batch_average.shape)"
   ]
  },
  {
   "cell_type": "code",
   "execution_count": 42,
   "id": "52ac5e8e",
   "metadata": {},
   "outputs": [
    {
     "name": "stdout",
     "output_type": "stream",
     "text": [
      "(16, 1)\n"
     ]
    }
   ],
   "source": [
    "prediction_layer = tf.keras.layers.Dense(1, activation = 'sigmoid')\n",
    "prediction_batch = prediction_layer(feature_batch_average)\n",
    "print(prediction_batch.shape)"
   ]
  },
  {
   "cell_type": "code",
   "execution_count": 43,
   "id": "94ec05cc",
   "metadata": {},
   "outputs": [],
   "source": [
    "inputs = tf.keras.Input(shape=(160,160, 3))\n",
    "x = data_augmentation(inputs)\n",
    "x = preprocess_input(x)\n",
    "x = base_model(x, training=False)\n",
    "x = global_average_layer(x)\n",
    "x = tf.keras.layers.Dropout(0.2)(x)\n",
    "outputs = prediction_layer(x)\n",
    "modelVGG16 = tf.keras.Model(inputs, outputs)"
   ]
  },
  {
   "cell_type": "code",
   "execution_count": 44,
   "id": "3c80416f",
   "metadata": {},
   "outputs": [],
   "source": [
    "base_learning_rate = 0.001\n",
    "modelVGG16.compile(optimizer=tf.keras.optimizers.Adam(learning_rate=base_learning_rate),\n",
    "              loss=tf.keras.losses.BinaryCrossentropy(from_logits=False),\n",
    "              metrics=['accuracy', 'binary_accuracy'])"
   ]
  },
  {
   "cell_type": "code",
   "execution_count": 45,
   "id": "6f2c3418",
   "metadata": {},
   "outputs": [
    {
     "name": "stdout",
     "output_type": "stream",
     "text": [
      "Model: \"model_1\"\n",
      "_________________________________________________________________\n",
      "Layer (type)                 Output Shape              Param #   \n",
      "=================================================================\n",
      "input_5 (InputLayer)         [(None, 160, 160, 3)]     0         \n",
      "_________________________________________________________________\n",
      "sequential_1 (Sequential)    (None, 160, 160, 3)       0         \n",
      "_________________________________________________________________\n",
      "tf.__operators__.getitem (Sl (None, 160, 160, 3)       0         \n",
      "_________________________________________________________________\n",
      "tf.math.add (TFOpLambda)     (None, 160, 160, 3)       0         \n",
      "_________________________________________________________________\n",
      "vgg16 (Functional)           (None, 5, 5, 512)         14714688  \n",
      "_________________________________________________________________\n",
      "global_average_pooling2d_1 ( (None, 512)               0         \n",
      "_________________________________________________________________\n",
      "dropout_4 (Dropout)          (None, 512)               0         \n",
      "_________________________________________________________________\n",
      "dense_5 (Dense)              (None, 1)                 513       \n",
      "=================================================================\n",
      "Total params: 14,715,201\n",
      "Trainable params: 513\n",
      "Non-trainable params: 14,714,688\n",
      "_________________________________________________________________\n"
     ]
    }
   ],
   "source": [
    "modelVGG16.summary()"
   ]
  },
  {
   "cell_type": "code",
   "execution_count": 46,
   "id": "c1826db1",
   "metadata": {},
   "outputs": [],
   "source": [
    "initial_epochs = 25"
   ]
  },
  {
   "cell_type": "code",
   "execution_count": 47,
   "id": "09073e13",
   "metadata": {},
   "outputs": [
    {
     "name": "stdout",
     "output_type": "stream",
     "text": [
      "Epoch 1/25\n",
      "59/59 [==============================] - 3s 37ms/step - loss: 1.5774 - accuracy: 0.5102 - binary_accuracy: 0.5102 - val_loss: 0.9904 - val_accuracy: 0.6223 - val_binary_accuracy: 0.6223\n",
      "Epoch 2/25\n",
      "59/59 [==============================] - 2s 34ms/step - loss: 1.2004 - accuracy: 0.5925 - binary_accuracy: 0.5925 - val_loss: 0.7705 - val_accuracy: 0.6738 - val_binary_accuracy: 0.6738\n",
      "Epoch 3/25\n",
      "59/59 [==============================] - 2s 34ms/step - loss: 0.9209 - accuracy: 0.6513 - binary_accuracy: 0.6513 - val_loss: 0.6217 - val_accuracy: 0.7124 - val_binary_accuracy: 0.7124\n",
      "Epoch 4/25\n",
      "59/59 [==============================] - 2s 34ms/step - loss: 0.8459 - accuracy: 0.6599 - binary_accuracy: 0.6599 - val_loss: 0.5881 - val_accuracy: 0.7082 - val_binary_accuracy: 0.7082\n",
      "Epoch 5/25\n",
      "59/59 [==============================] - 2s 34ms/step - loss: 0.7327 - accuracy: 0.6930 - binary_accuracy: 0.6930 - val_loss: 0.5820 - val_accuracy: 0.7039 - val_binary_accuracy: 0.7039\n",
      "Epoch 6/25\n",
      "59/59 [==============================] - 2s 34ms/step - loss: 0.7136 - accuracy: 0.6952 - binary_accuracy: 0.6952 - val_loss: 0.5550 - val_accuracy: 0.7511 - val_binary_accuracy: 0.7511\n",
      "Epoch 7/25\n",
      "59/59 [==============================] - 2s 34ms/step - loss: 0.6545 - accuracy: 0.7155 - binary_accuracy: 0.7155 - val_loss: 0.5610 - val_accuracy: 0.7511 - val_binary_accuracy: 0.7511\n",
      "Epoch 8/25\n",
      "59/59 [==============================] - 2s 34ms/step - loss: 0.6005 - accuracy: 0.7337 - binary_accuracy: 0.7337 - val_loss: 0.5444 - val_accuracy: 0.7339 - val_binary_accuracy: 0.7339\n",
      "Epoch 9/25\n",
      "59/59 [==============================] - 2s 34ms/step - loss: 0.5735 - accuracy: 0.7337 - binary_accuracy: 0.7337 - val_loss: 0.5404 - val_accuracy: 0.7554 - val_binary_accuracy: 0.7554\n",
      "Epoch 10/25\n",
      "59/59 [==============================] - 2s 34ms/step - loss: 0.5590 - accuracy: 0.7455 - binary_accuracy: 0.7455 - val_loss: 0.5464 - val_accuracy: 0.7382 - val_binary_accuracy: 0.7382\n",
      "Epoch 11/25\n",
      "59/59 [==============================] - 2s 34ms/step - loss: 0.5455 - accuracy: 0.7455 - binary_accuracy: 0.7455 - val_loss: 0.5238 - val_accuracy: 0.7554 - val_binary_accuracy: 0.7554\n",
      "Epoch 12/25\n",
      "59/59 [==============================] - 2s 34ms/step - loss: 0.5410 - accuracy: 0.7412 - binary_accuracy: 0.7412 - val_loss: 0.5312 - val_accuracy: 0.7597 - val_binary_accuracy: 0.7597\n",
      "Epoch 13/25\n",
      "59/59 [==============================] - 2s 34ms/step - loss: 0.5415 - accuracy: 0.7380 - binary_accuracy: 0.7380 - val_loss: 0.5293 - val_accuracy: 0.7597 - val_binary_accuracy: 0.7597\n",
      "Epoch 14/25\n",
      "59/59 [==============================] - 2s 34ms/step - loss: 0.5317 - accuracy: 0.7358 - binary_accuracy: 0.7358 - val_loss: 0.5408 - val_accuracy: 0.7768 - val_binary_accuracy: 0.7768\n",
      "Epoch 15/25\n",
      "59/59 [==============================] - 2s 34ms/step - loss: 0.5325 - accuracy: 0.7508 - binary_accuracy: 0.7508 - val_loss: 0.5198 - val_accuracy: 0.7597 - val_binary_accuracy: 0.7597\n",
      "Epoch 16/25\n",
      "59/59 [==============================] - 2s 34ms/step - loss: 0.5284 - accuracy: 0.7647 - binary_accuracy: 0.7647 - val_loss: 0.5239 - val_accuracy: 0.7639 - val_binary_accuracy: 0.7639\n",
      "Epoch 17/25\n",
      "59/59 [==============================] - 2s 34ms/step - loss: 0.5076 - accuracy: 0.7572 - binary_accuracy: 0.7572 - val_loss: 0.5228 - val_accuracy: 0.7425 - val_binary_accuracy: 0.7425\n",
      "Epoch 18/25\n",
      "59/59 [==============================] - 2s 34ms/step - loss: 0.5319 - accuracy: 0.7551 - binary_accuracy: 0.7551 - val_loss: 0.5248 - val_accuracy: 0.7511 - val_binary_accuracy: 0.7511\n",
      "Epoch 19/25\n",
      "59/59 [==============================] - 2s 34ms/step - loss: 0.5086 - accuracy: 0.7797 - binary_accuracy: 0.7797 - val_loss: 0.5429 - val_accuracy: 0.7382 - val_binary_accuracy: 0.7382\n",
      "Epoch 20/25\n",
      "59/59 [==============================] - 2s 34ms/step - loss: 0.5353 - accuracy: 0.7444 - binary_accuracy: 0.7444 - val_loss: 0.5414 - val_accuracy: 0.7554 - val_binary_accuracy: 0.7554\n",
      "Epoch 21/25\n",
      "59/59 [==============================] - 2s 34ms/step - loss: 0.5184 - accuracy: 0.7561 - binary_accuracy: 0.7561 - val_loss: 0.5631 - val_accuracy: 0.7339 - val_binary_accuracy: 0.7339\n",
      "Epoch 22/25\n",
      "59/59 [==============================] - 2s 34ms/step - loss: 0.4897 - accuracy: 0.7668 - binary_accuracy: 0.7668 - val_loss: 0.5329 - val_accuracy: 0.7468 - val_binary_accuracy: 0.7468\n",
      "Epoch 23/25\n",
      "59/59 [==============================] - 2s 34ms/step - loss: 0.4796 - accuracy: 0.7840 - binary_accuracy: 0.7840 - val_loss: 0.5268 - val_accuracy: 0.7425 - val_binary_accuracy: 0.7425\n",
      "Epoch 24/25\n",
      "59/59 [==============================] - 2s 34ms/step - loss: 0.4853 - accuracy: 0.7615 - binary_accuracy: 0.7615 - val_loss: 0.5455 - val_accuracy: 0.7339 - val_binary_accuracy: 0.7339\n",
      "Epoch 25/25\n",
      "59/59 [==============================] - 2s 34ms/step - loss: 0.4838 - accuracy: 0.7733 - binary_accuracy: 0.7733 - val_loss: 0.5382 - val_accuracy: 0.7296 - val_binary_accuracy: 0.7296\n"
     ]
    }
   ],
   "source": [
    "historyVGG16 = modelVGG16.fit(ds_train,\n",
    "                    epochs=initial_epochs,\n",
    "                    validation_data=ds_val)"
   ]
  },
  {
   "cell_type": "code",
   "execution_count": 48,
   "id": "94d6896e",
   "metadata": {},
   "outputs": [
    {
     "data": {
      "image/png": "[encoded data removed]",
      "text/plain": [
       "<Figure size 576x576 with 2 Axes>"
      ]
     },
     "metadata": {
      "needs_background": "light"
     },
     "output_type": "display_data"
    }
   ],
   "source": [
    "acc = historyVGG16.history['accuracy']\n",
    "val_acc = historyVGG16.history['val_accuracy']\n",
    "\n",
    "loss = historyVGG16.history['loss']\n",
    "val_loss = historyVGG16.history['val_loss']\n",
    "\n",
    "plt.figure(figsize=(8, 8))\n",
    "plt.subplot(2, 1, 1)\n",
    "plt.plot(acc, label='Training Accuracy')\n",
    "plt.plot(val_acc, label='Validation Accuracy')\n",
    "plt.legend(loc='lower right')\n",
    "plt.ylabel('Accuracy')\n",
    "plt.ylim([min(plt.ylim()),1])\n",
    "plt.title('Training and Validation Accuracy')\n",
    "\n",
    "plt.subplot(2, 1, 2)\n",
    "plt.plot(loss, label='Training Loss')\n",
    "plt.plot(val_loss, label='Validation Loss')\n",
    "plt.legend(loc='upper right')\n",
    "plt.ylabel('Cross Entropy')\n",
    "plt.ylim([0,2.0])\n",
    "plt.title('Training and Validation Loss')\n",
    "plt.xlabel('epoch')\n",
    "plt.show()"
   ]
  },
  {
   "cell_type": "code",
   "execution_count": 49,
   "id": "b80f7962",
   "metadata": {},
   "outputs": [
    {
     "name": "stdout",
     "output_type": "stream",
     "text": [
      "Prédictions ;\n",
      " - Malin(s):  106 \n",
      " - Bénins:  127 \n",
      " - Total comp:  233  vs  233\n"
     ]
    }
   ],
   "source": [
    "predictionVGG16 = modelVGG16.predict(ds_val)\n",
    "b =0\n",
    "m = 0\n",
    "for element in predictionVGG16 :\n",
    "    if(element[0] > 0.5) :\n",
    "        m +=1\n",
    "    elif(element[0]< 0.5) :\n",
    "        b +=1\n",
    "        \n",
    "print(\"Prédictions ;\\n - Malin(s): \", m, \"\\n - Bénins: \", b, \"\\n - Total comp: \", b+m,\" vs \",len(predictionVGG16))"
   ]
  },
  {
   "cell_type": "code",
   "execution_count": 50,
   "id": "b3f16da1",
   "metadata": {},
   "outputs": [],
   "source": [
    "def predict_class_label_number(dataset,model):\n",
    "    predictions =  model.predict(dataset)\n",
    "    res = np.zeros(len(predictions))\n",
    "    i = 0 \n",
    "    for element in predictions : \n",
    "        if(element[0]> 0.5):\n",
    "            res[i] = 1\n",
    "        i += 1\n",
    "    return tf.convert_to_tensor(res)\n",
    "\n",
    "def give_labels (dataset, size):\n",
    "    lab = np.zeros(size)\n",
    "    i = 0\n",
    "    for batch in dataset:\n",
    "        for element in batch[1] :\n",
    "            lab[i] = element.numpy()\n",
    "            i +=1\n",
    "    return tf.convert_to_tensor(lab)\n",
    "    \n",
    "def show_confusion_matrix(cm, labels):\n",
    "    plt.figure(figsize=(5,5))\n",
    "    plt.imshow(cm)\n",
    "    plt.colorbar()\n",
    "    plt.xlabel('Predictions')\n",
    "    plt.ylabel('Labels')\n",
    "    plt.show()"
   ]
  },
  {
   "cell_type": "code",
   "execution_count": 51,
   "id": "fffb2869",
   "metadata": {},
   "outputs": [
    {
     "data": {
      "image/png": "[encoded data removed]",
      "text/plain": [
       "<Figure size 360x360 with 2 Axes>"
      ]
     },
     "metadata": {
      "needs_background": "light"
     },
     "output_type": "display_data"
    }
   ],
   "source": [
    "confusion_mtx_VGG16 = tf.math.confusion_matrix(\n",
    "    give_labels(ds_val, size),\n",
    "    predict_class_label_number(ds_val,modelVGG16),\n",
    "    num_classes=2)\n",
    "show_confusion_matrix(confusion_mtx_VGG16, [0,1])"
   ]
  },
  {
   "cell_type": "markdown",
   "id": "5619e8a8",
   "metadata": {},
   "source": [
    "### 6.3 Comparison of the confusion matrices"
   ]
  },
  {
   "cell_type": "code",
   "execution_count": 52,
   "id": "7e75f698",
   "metadata": {},
   "outputs": [
    {
     "data": {
      "image/png": "[encoded data removed]",
      "text/plain": [
       "<Figure size 1080x360 with 6 Axes>"
      ]
     },
     "metadata": {
      "needs_background": "light"
     },
     "output_type": "display_data"
    }
   ],
   "source": [
    "plt.figure(figsize=(15,5))\n",
    "plt.subplot(1,3,1)\n",
    "plt.imshow(confusion_mtx_My)\n",
    "plt.title('Defined Model')\n",
    "plt.xlabel('Predictions')\n",
    "plt.ylabel('Labels')\n",
    "plt.colorbar()\n",
    "plt.subplot(1,3,2)\n",
    "plt.imshow(confusion_mtx_Mobilenet)\n",
    "plt.xlabel('Predictions')\n",
    "plt.title('Mobilenet')\n",
    "plt.colorbar()\n",
    "plt.subplot(1,3,3)\n",
    "plt.imshow(confusion_mtx_VGG16)\n",
    "plt.xlabel('Predictions')\n",
    "plt.title('VGG16')\n",
    "plt.colorbar()\n",
    "plt.show()"
   ]
  },
  {
   "cell_type": "code",
   "execution_count": null,
   "id": "6dec50a0",
   "metadata": {},
   "outputs": [],
   "source": []
  }
 ],
 "metadata": {
  "kernelspec": {
   "display_name": "Python 3 (ipykernel)",
   "language": "python",
   "name": "python3"
  },
  "language_info": {
   "codemirror_mode": {
    "name": "ipython",
    "version": 3
   },
   "file_extension": ".py",
   "mimetype": "text/x-python",
   "name": "python",
   "nbconvert_exporter": "python",
   "pygments_lexer": "ipython3",
   "version": "3.9.7"
  }
 },
 "nbformat": 4,
 "nbformat_minor": 5
}
