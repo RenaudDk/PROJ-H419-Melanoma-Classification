{
 "cells": [
  {
   "cell_type": "markdown",
   "id": "eae82575",
   "metadata": {},
   "source": [
    "# WIP Data augmentation \n"
   ]
  },
  {
   "cell_type": "code",
   "execution_count": 1,
   "id": "c2a75b1a",
   "metadata": {},
   "outputs": [
    {
     "name": "stdout",
     "output_type": "stream",
     "text": [
      "2.6.0\n"
     ]
    }
   ],
   "source": [
    "import numpy as np\n",
    "import os\n",
    "import PIL\n",
    "import PIL.Image\n",
    "import tensorflow as tf\n",
    "\n",
    "\n",
    "import pathlib\n",
    "import pandas as pd\n",
    "\n",
    "import pydicom # for DICOM images\n",
    "from skimage.transform import resize\n",
    "\n",
    "import matplotlib.pyplot as plt\n",
    "from matplotlib import gridspec\n",
    "%matplotlib inline\n",
    "print(tf.__version__)"
   ]
  },
  {
   "cell_type": "code",
   "execution_count": 2,
   "id": "c1022b6e",
   "metadata": {},
   "outputs": [],
   "source": [
    "def set_seed(seed=31415):\n",
    "    np.random.seed(seed)\n",
    "    tf.random.set_seed(seed)\n",
    "    os.environ['PYTHONHASHSEED'] = str(seed)\n",
    "    os.environ['TF_DETERMINISTIC_OPS'] = '1'\n",
    "set_seed()"
   ]
  },
  {
   "cell_type": "code",
   "execution_count": 3,
   "id": "d0e7b5f0",
   "metadata": {},
   "outputs": [
    {
     "name": "stdout",
     "output_type": "stream",
     "text": [
      "Train has 33,126 rows and Test has 10,982 rows.\n"
     ]
    }
   ],
   "source": [
    "# Directory\n",
    "directory = '/Users/renau/Desktop/DATA/data_proj_melanoma'\n",
    "\n",
    "# Import the 2 csv s\n",
    "train_df = pd.read_csv(directory + '/train.csv')\n",
    "test_df = pd.read_csv(directory + '/test.csv')\n",
    "\n",
    "print('Train has {:,} rows and Test has {:,} rows.'.format(len(train_df), len(test_df)))\n",
    "\n",
    "# Change columns names\n",
    "new_names = ['dcm_name', 'ID', 'sex', 'age', 'anatomy', 'diagnosis', 'benign_malignant', 'target']\n",
    "train_df.columns = new_names\n",
    "test_df.columns = new_names[:5]"
   ]
  },
  {
   "cell_type": "code",
   "execution_count": 4,
   "id": "5e09f3c8",
   "metadata": {},
   "outputs": [],
   "source": [
    "# === JPEG ===\n",
    "# Create the paths\n",
    "path_train = directory + '/jpeg/train/' + train_df['dcm_name'] + '.jpg'\n",
    "path_test = directory + '/jpeg/test/' + test_df['dcm_name'] + '.jpg'\n",
    "\n",
    "# Append to the original dataframes\n",
    "train_df['path_jpeg'] = path_train\n",
    "test_df['path_jpeg'] = path_test"
   ]
  },
  {
   "cell_type": "code",
   "execution_count": 5,
   "id": "670fb0a1",
   "metadata": {
    "scrolled": true
   },
   "outputs": [
    {
     "data": {
      "text/html": [
       "<div>\n",
       "<style scoped>\n",
       "    .dataframe tbody tr th:only-of-type {\n",
       "        vertical-align: middle;\n",
       "    }\n",
       "\n",
       "    .dataframe tbody tr th {\n",
       "        vertical-align: top;\n",
       "    }\n",
       "\n",
       "    .dataframe thead th {\n",
       "        text-align: right;\n",
       "    }\n",
       "</style>\n",
       "<table border=\"1\" class=\"dataframe\">\n",
       "  <thead>\n",
       "    <tr style=\"text-align: right;\">\n",
       "      <th></th>\n",
       "      <th>dcm_name</th>\n",
       "      <th>ID</th>\n",
       "      <th>sex</th>\n",
       "      <th>age</th>\n",
       "      <th>anatomy</th>\n",
       "      <th>diagnosis</th>\n",
       "      <th>benign_malignant</th>\n",
       "      <th>target</th>\n",
       "      <th>path_jpeg</th>\n",
       "    </tr>\n",
       "  </thead>\n",
       "  <tbody>\n",
       "    <tr>\n",
       "      <th>91</th>\n",
       "      <td>ISIC_0149568</td>\n",
       "      <td>IP_0962375</td>\n",
       "      <td>female</td>\n",
       "      <td>55.0</td>\n",
       "      <td>upper extremity</td>\n",
       "      <td>melanoma</td>\n",
       "      <td>malignant</td>\n",
       "      <td>1</td>\n",
       "      <td>/Users/renau/Desktop/DATA/data_proj_melanoma/j...</td>\n",
       "    </tr>\n",
       "    <tr>\n",
       "      <th>235</th>\n",
       "      <td>ISIC_0188432</td>\n",
       "      <td>IP_0135517</td>\n",
       "      <td>female</td>\n",
       "      <td>50.0</td>\n",
       "      <td>upper extremity</td>\n",
       "      <td>melanoma</td>\n",
       "      <td>malignant</td>\n",
       "      <td>1</td>\n",
       "      <td>/Users/renau/Desktop/DATA/data_proj_melanoma/j...</td>\n",
       "    </tr>\n",
       "    <tr>\n",
       "      <th>314</th>\n",
       "      <td>ISIC_0207268</td>\n",
       "      <td>IP_7735373</td>\n",
       "      <td>male</td>\n",
       "      <td>55.0</td>\n",
       "      <td>torso</td>\n",
       "      <td>melanoma</td>\n",
       "      <td>malignant</td>\n",
       "      <td>1</td>\n",
       "      <td>/Users/renau/Desktop/DATA/data_proj_melanoma/j...</td>\n",
       "    </tr>\n",
       "    <tr>\n",
       "      <th>399</th>\n",
       "      <td>ISIC_0232101</td>\n",
       "      <td>IP_8349964</td>\n",
       "      <td>male</td>\n",
       "      <td>65.0</td>\n",
       "      <td>torso</td>\n",
       "      <td>melanoma</td>\n",
       "      <td>malignant</td>\n",
       "      <td>1</td>\n",
       "      <td>/Users/renau/Desktop/DATA/data_proj_melanoma/j...</td>\n",
       "    </tr>\n",
       "    <tr>\n",
       "      <th>459</th>\n",
       "      <td>ISIC_0247330</td>\n",
       "      <td>IP_3232631</td>\n",
       "      <td>female</td>\n",
       "      <td>65.0</td>\n",
       "      <td>lower extremity</td>\n",
       "      <td>melanoma</td>\n",
       "      <td>malignant</td>\n",
       "      <td>1</td>\n",
       "      <td>/Users/renau/Desktop/DATA/data_proj_melanoma/j...</td>\n",
       "    </tr>\n",
       "  </tbody>\n",
       "</table>\n",
       "</div>"
      ],
      "text/plain": [
       "         dcm_name          ID     sex   age          anatomy diagnosis  \\\n",
       "91   ISIC_0149568  IP_0962375  female  55.0  upper extremity  melanoma   \n",
       "235  ISIC_0188432  IP_0135517  female  50.0  upper extremity  melanoma   \n",
       "314  ISIC_0207268  IP_7735373    male  55.0            torso  melanoma   \n",
       "399  ISIC_0232101  IP_8349964    male  65.0            torso  melanoma   \n",
       "459  ISIC_0247330  IP_3232631  female  65.0  lower extremity  melanoma   \n",
       "\n",
       "    benign_malignant  target  \\\n",
       "91         malignant       1   \n",
       "235        malignant       1   \n",
       "314        malignant       1   \n",
       "399        malignant       1   \n",
       "459        malignant       1   \n",
       "\n",
       "                                             path_jpeg  \n",
       "91   /Users/renau/Desktop/DATA/data_proj_melanoma/j...  \n",
       "235  /Users/renau/Desktop/DATA/data_proj_melanoma/j...  \n",
       "314  /Users/renau/Desktop/DATA/data_proj_melanoma/j...  \n",
       "399  /Users/renau/Desktop/DATA/data_proj_melanoma/j...  \n",
       "459  /Users/renau/Desktop/DATA/data_proj_melanoma/j...  "
      ]
     },
     "execution_count": 5,
     "metadata": {},
     "output_type": "execute_result"
    }
   ],
   "source": [
    "malignant_df = train_df[train_df['target'] == 1]\n",
    "malignant_df.head()"
   ]
  },
  {
   "cell_type": "code",
   "execution_count": 6,
   "id": "d5691d32",
   "metadata": {
    "scrolled": true
   },
   "outputs": [
    {
     "data": {
      "text/html": [
       "<div>\n",
       "<style scoped>\n",
       "    .dataframe tbody tr th:only-of-type {\n",
       "        vertical-align: middle;\n",
       "    }\n",
       "\n",
       "    .dataframe tbody tr th {\n",
       "        vertical-align: top;\n",
       "    }\n",
       "\n",
       "    .dataframe thead th {\n",
       "        text-align: right;\n",
       "    }\n",
       "</style>\n",
       "<table border=\"1\" class=\"dataframe\">\n",
       "  <thead>\n",
       "    <tr style=\"text-align: right;\">\n",
       "      <th></th>\n",
       "      <th>dcm_name</th>\n",
       "      <th>ID</th>\n",
       "      <th>sex</th>\n",
       "      <th>age</th>\n",
       "      <th>anatomy</th>\n",
       "      <th>diagnosis</th>\n",
       "      <th>benign_malignant</th>\n",
       "      <th>target</th>\n",
       "      <th>path_jpeg</th>\n",
       "    </tr>\n",
       "  </thead>\n",
       "  <tbody>\n",
       "    <tr>\n",
       "      <th>0</th>\n",
       "      <td>ISIC_2637011</td>\n",
       "      <td>IP_7279968</td>\n",
       "      <td>male</td>\n",
       "      <td>45.0</td>\n",
       "      <td>head/neck</td>\n",
       "      <td>unknown</td>\n",
       "      <td>benign</td>\n",
       "      <td>0</td>\n",
       "      <td>/Users/renau/Desktop/DATA/data_proj_melanoma/j...</td>\n",
       "    </tr>\n",
       "    <tr>\n",
       "      <th>1</th>\n",
       "      <td>ISIC_0015719</td>\n",
       "      <td>IP_3075186</td>\n",
       "      <td>female</td>\n",
       "      <td>45.0</td>\n",
       "      <td>upper extremity</td>\n",
       "      <td>unknown</td>\n",
       "      <td>benign</td>\n",
       "      <td>0</td>\n",
       "      <td>/Users/renau/Desktop/DATA/data_proj_melanoma/j...</td>\n",
       "    </tr>\n",
       "    <tr>\n",
       "      <th>2</th>\n",
       "      <td>ISIC_0052212</td>\n",
       "      <td>IP_2842074</td>\n",
       "      <td>female</td>\n",
       "      <td>50.0</td>\n",
       "      <td>lower extremity</td>\n",
       "      <td>nevus</td>\n",
       "      <td>benign</td>\n",
       "      <td>0</td>\n",
       "      <td>/Users/renau/Desktop/DATA/data_proj_melanoma/j...</td>\n",
       "    </tr>\n",
       "    <tr>\n",
       "      <th>3</th>\n",
       "      <td>ISIC_0068279</td>\n",
       "      <td>IP_6890425</td>\n",
       "      <td>female</td>\n",
       "      <td>45.0</td>\n",
       "      <td>head/neck</td>\n",
       "      <td>unknown</td>\n",
       "      <td>benign</td>\n",
       "      <td>0</td>\n",
       "      <td>/Users/renau/Desktop/DATA/data_proj_melanoma/j...</td>\n",
       "    </tr>\n",
       "    <tr>\n",
       "      <th>4</th>\n",
       "      <td>ISIC_0074268</td>\n",
       "      <td>IP_8723313</td>\n",
       "      <td>female</td>\n",
       "      <td>55.0</td>\n",
       "      <td>upper extremity</td>\n",
       "      <td>unknown</td>\n",
       "      <td>benign</td>\n",
       "      <td>0</td>\n",
       "      <td>/Users/renau/Desktop/DATA/data_proj_melanoma/j...</td>\n",
       "    </tr>\n",
       "  </tbody>\n",
       "</table>\n",
       "</div>"
      ],
      "text/plain": [
       "       dcm_name          ID     sex   age          anatomy diagnosis  \\\n",
       "0  ISIC_2637011  IP_7279968    male  45.0        head/neck   unknown   \n",
       "1  ISIC_0015719  IP_3075186  female  45.0  upper extremity   unknown   \n",
       "2  ISIC_0052212  IP_2842074  female  50.0  lower extremity     nevus   \n",
       "3  ISIC_0068279  IP_6890425  female  45.0        head/neck   unknown   \n",
       "4  ISIC_0074268  IP_8723313  female  55.0  upper extremity   unknown   \n",
       "\n",
       "  benign_malignant  target                                          path_jpeg  \n",
       "0           benign       0  /Users/renau/Desktop/DATA/data_proj_melanoma/j...  \n",
       "1           benign       0  /Users/renau/Desktop/DATA/data_proj_melanoma/j...  \n",
       "2           benign       0  /Users/renau/Desktop/DATA/data_proj_melanoma/j...  \n",
       "3           benign       0  /Users/renau/Desktop/DATA/data_proj_melanoma/j...  \n",
       "4           benign       0  /Users/renau/Desktop/DATA/data_proj_melanoma/j...  "
      ]
     },
     "execution_count": 6,
     "metadata": {},
     "output_type": "execute_result"
    }
   ],
   "source": [
    "benin_df = train_df[train_df['target'] == 0]\n",
    "benin_df.head()"
   ]
  },
  {
   "cell_type": "code",
   "execution_count": 7,
   "id": "fe8c4729",
   "metadata": {},
   "outputs": [
    {
     "data": {
      "text/plain": [
       "584"
      ]
     },
     "execution_count": 7,
     "metadata": {},
     "output_type": "execute_result"
    }
   ],
   "source": [
    "mal_file = malignant_df['path_jpeg'].values\n",
    "mal_labels = malignant_df['target'].values\n",
    "mal_train_ds = tf.data.Dataset.from_tensor_slices((mal_file, mal_labels))\n",
    "len(list(mal_train_ds))"
   ]
  },
  {
   "cell_type": "code",
   "execution_count": 8,
   "id": "ae0eff34",
   "metadata": {},
   "outputs": [
    {
     "data": {
      "text/plain": [
       "32542"
      ]
     },
     "execution_count": 8,
     "metadata": {},
     "output_type": "execute_result"
    }
   ],
   "source": [
    "ben_file = benin_df['path_jpeg'].values\n",
    "ben_labels = benin_df['target'].values\n",
    "ben_train_ds = tf.data.Dataset.from_tensor_slices((ben_file, ben_labels))\n",
    "len(list(ben_train_ds))"
   ]
  },
  {
   "cell_type": "code",
   "execution_count": 9,
   "id": "8d15a23f",
   "metadata": {},
   "outputs": [
    {
     "data": {
      "text/plain": [
       "32542"
      ]
     },
     "execution_count": 9,
     "metadata": {},
     "output_type": "execute_result"
    }
   ],
   "source": [
    "ben_train_ds = ben_train_ds.shuffle(len(list(ben_train_ds)))\n",
    "len(list(ben_train_ds))"
   ]
  },
  {
   "cell_type": "code",
   "execution_count": 10,
   "id": "77b57288",
   "metadata": {},
   "outputs": [
    {
     "name": "stdout",
     "output_type": "stream",
     "text": [
      "233 935\n"
     ]
    }
   ],
   "source": [
    "def make_balanced_dataset(ds_class1, ds_class2):\n",
    "    half_size = min(len(list(ds_class1)),len(list(ds_class2)))\n",
    "    ds_1 = ds_class1.take(half_size)\n",
    "    ds_2 = ds_class2.take(half_size)\n",
    "    ds_full = ds_1.concatenate(ds_2)\n",
    "    ds_full = ds_full.shuffle(half_size*2, reshuffle_each_iteration=False)\n",
    "    return ds_full.skip((half_size*2)//5),ds_full.take((half_size*2)//5),\n",
    "#print(make_balanced_dataset(ben_train_ds,mal_train_ds))   \n",
    "ds_train, ds_val = make_balanced_dataset(ben_train_ds,mal_train_ds)\n",
    "size = len(list(ds_val))\n",
    "print(size, len(list(ds_train)))"
   ]
  },
  {
   "cell_type": "code",
   "execution_count": 11,
   "id": "7452be65",
   "metadata": {
    "scrolled": false
   },
   "outputs": [
    {
     "name": "stdout",
     "output_type": "stream",
     "text": [
      "b'/Users/renau/Desktop/DATA/data_proj_melanoma/jpeg/train/ISIC_6257422.jpg' and target:  0\n",
      "b'/Users/renau/Desktop/DATA/data_proj_melanoma/jpeg/train/ISIC_0599605.jpg' and target:  1\n",
      "b'/Users/renau/Desktop/DATA/data_proj_melanoma/jpeg/train/ISIC_0272026.jpg' and target:  0\n",
      "b'/Users/renau/Desktop/DATA/data_proj_melanoma/jpeg/train/ISIC_2937642.jpg' and target:  1\n"
     ]
    }
   ],
   "source": [
    "ex_ds = ds_train.take(4)\n",
    "for element in ex_ds :\n",
    "    print(element[0].numpy(),'and target: ',element[1].numpy())"
   ]
  },
  {
   "cell_type": "code",
   "execution_count": 12,
   "id": "724bf6ee",
   "metadata": {},
   "outputs": [],
   "source": [
    "def read_image(path, label):\n",
    "    image = tf.io.read_file(path)\n",
    "    image = tf.image.decode_image(image, channels=3, dtype = tf.uint8, expand_animations = False)\n",
    "    return image, label\n",
    "\n",
    "ds_train = ds_train.map(read_image)\n",
    "ds_val = ds_val.map(read_image)"
   ]
  },
  {
   "cell_type": "code",
   "execution_count": 13,
   "id": "ae09d9ef",
   "metadata": {
    "scrolled": true
   },
   "outputs": [
    {
     "name": "stdout",
     "output_type": "stream",
     "text": [
      "(480, 640, 3)\n",
      "(2448, 3264, 3)\n",
      "(4000, 6000, 3)\n"
     ]
    }
   ],
   "source": [
    "ex_ds = ds_train.take(3)\n",
    "for element in ex_ds :\n",
    "    print(element[0].numpy().shape)"
   ]
  },
  {
   "cell_type": "code",
   "execution_count": 14,
   "id": "222d1391-24e9-436b-9c34-cd8474bcd4e3",
   "metadata": {},
   "outputs": [
    {
     "name": "stdout",
     "output_type": "stream",
     "text": [
      "(16, 256, 256, 3)\n",
      "(16,)\n",
      "(16, 256, 256, 3)\n",
      "(16,)\n",
      "(16, 256, 256, 3)\n",
      "(16,)\n"
     ]
    }
   ],
   "source": [
    "def adapt_data(image, label):\n",
    "    image = tf.image.resize(image, [256,256])\n",
    "    return image, label\n",
    "\n",
    "def convert_to_float(image, label):\n",
    "    image = tf.image.convert_image_dtype(image, dtype=tf.float64)\n",
    "    return image, label\n",
    "    \n",
    "ds_train= ds_train.map(adapt_data).map(convert_to_float).batch(16)\n",
    "ds_val= ds_val.map(adapt_data).map(convert_to_float).batch(16)\n",
    "\n",
    "ex_ds = ds_train.take(3)\n",
    "for element in ex_ds :\n",
    "    print(element[0].shape)\n",
    "    print(element[1].shape)"
   ]
  },
  {
   "cell_type": "code",
   "execution_count": 15,
   "id": "c16f2e9b",
   "metadata": {},
   "outputs": [],
   "source": [
    "AUTOTUNE = tf.data.AUTOTUNE\n",
    "\n",
    "ds_train = ds_train.cache().prefetch(buffer_size=AUTOTUNE)\n",
    "ds_val = ds_val.cache().prefetch(buffer_size=AUTOTUNE)"
   ]
  },
  {
   "cell_type": "code",
   "execution_count": 16,
   "id": "c41ebe5f",
   "metadata": {},
   "outputs": [],
   "source": [
    "from tensorflow import keras\n",
    "from tensorflow.keras import layers\n",
    "from tensorflow.keras.layers.experimental import preprocessing\n",
    "\n",
    "model = tf.keras.Sequential([ \n",
    "    \n",
    "# == Input == \n",
    "    \n",
    "    layers.InputLayer(\n",
    "    input_shape=(256,256,3)),\n",
    "    \n",
    "# == Data Augmentation ==\n",
    "    \n",
    "    preprocessing.RandomContrast(factor=0.1),\n",
    "    preprocessing.RandomFlip(mode='horizontal'), \n",
    "    preprocessing.RandomFlip(mode='vertical'), \n",
    "    preprocessing.RandomRotation(factor=0.20),\n",
    "\n",
    "# == CONV == \n",
    "    \n",
    "    layers.Rescaling(1./255),\n",
    "    layers.BatchNormalization(),\n",
    "    layers.Conv2D(32, 3, activation='relu'),\n",
    "    layers.MaxPooling2D(),\n",
    "    layers.Conv2D(32, 3, activation='relu'),\n",
    "    layers.MaxPooling2D(),\n",
    "    layers.Conv2D(32, 3, activation='relu'),\n",
    "    layers.MaxPooling2D(),\n",
    "\n",
    "# == HEAD ==\n",
    "    layers.Flatten(),\n",
    "    \n",
    "    layers.Dense(128, activation='relu'),\n",
    "    layers.BatchNormalization(),\n",
    "    layers.Dropout(0.2),\n",
    "    \n",
    "    layers.Dense(64, activation='relu'),\n",
    "    layers.BatchNormalization(),\n",
    "    layers.Dropout(0.2),\n",
    "    \n",
    "    layers.Dense(32, activation='relu'),\n",
    "    layers.BatchNormalization(),\n",
    "    layers.Dropout(0.2),\n",
    "    \n",
    "    layers.Dense(1,activation='sigmoid')\n",
    "])"
   ]
  },
  {
   "cell_type": "code",
   "execution_count": 17,
   "id": "2f942f43",
   "metadata": {},
   "outputs": [],
   "source": [
    "model.compile(\n",
    "    optimizer=tf.keras.optimizers.Adam(epsilon=0.01),\n",
    "    loss='binary_crossentropy',\n",
    "    metrics=['binary_accuracy']\n",
    ")"
   ]
  },
  {
   "cell_type": "code",
   "execution_count": null,
   "id": "04c25c91",
   "metadata": {
    "scrolled": true
   },
   "outputs": [
    {
     "name": "stdout",
     "output_type": "stream",
     "text": [
      "Epoch 1/200\n",
      "59/59 [==============================] - 2s 32ms/step - loss: 0.3535 - binary_accuracy: 0.8278 - val_loss: 0.6049 - val_binary_accuracy: 0.7639\n",
      "Epoch 2/200\n",
      "59/59 [==============================] - 2s 33ms/step - loss: 0.3449 - binary_accuracy: 0.8428 - val_loss: 0.5538 - val_binary_accuracy: 0.7854\n",
      "Epoch 3/200\n",
      "59/59 [==============================] - 2s 35ms/step - loss: 0.3399 - binary_accuracy: 0.8439 - val_loss: 0.5931 - val_binary_accuracy: 0.7768\n",
      "Epoch 4/200\n",
      "59/59 [==============================] - 2s 32ms/step - loss: 0.3242 - binary_accuracy: 0.8631 - val_loss: 0.5571 - val_binary_accuracy: 0.7768\n",
      "Epoch 5/200\n",
      "31/59 [==============>...............] - ETA: 0s - loss: 0.3376 - binary_accuracy: 0.8488"
     ]
    }
   ],
   "source": [
    "history = model.fit(\n",
    "    ds_train,\n",
    "    validation_data=ds_val,\n",
    "    epochs=200,\n",
    ")"
   ]
  },
  {
   "cell_type": "code",
   "execution_count": null,
   "id": "62fe4e6f",
   "metadata": {
    "scrolled": true
   },
   "outputs": [],
   "source": [
    "import pandas as pd\n",
    "history_frame = pd.DataFrame(history.history)\n",
    "history_frame.loc[:, ['loss', 'val_loss']].plot()\n",
    "history_frame.loc[:, ['binary_accuracy', 'val_binary_accuracy']].plot();"
   ]
  },
  {
   "cell_type": "code",
   "execution_count": 20,
   "id": "377b9d3e",
   "metadata": {
    "scrolled": true
   },
   "outputs": [
    {
     "name": "stdout",
     "output_type": "stream",
     "text": [
      "Prédictions ;\n",
      " - Malin(s):  126 \n",
      " - Bénins:  192 \n",
      " - doutes:  617 \n",
      " - Total comp:  935  vs  935\n"
     ]
    }
   ],
   "source": [
    "predictions = model.predict(ds_train)\n",
    "\n",
    "b =0\n",
    "m = 0\n",
    "u = 0\n",
    "for element in predictions :\n",
    "    if(element[0] > 0.95) :\n",
    "        m +=1\n",
    "    elif(element[0]< 0.05) :\n",
    "        b +=1\n",
    "    else :\n",
    "        u +=1\n",
    "        \n",
    "print(\"Prédictions ;\\n - Malin(s): \", m, \"\\n - Bénins: \", b, \"\\n - doutes: \", u, \"\\n - Total comp: \", b+u+m,\" vs \",len(predictions))"
   ]
  },
  {
   "cell_type": "code",
   "execution_count": 21,
   "id": "a648f006",
   "metadata": {},
   "outputs": [
    {
     "name": "stdout",
     "output_type": "stream",
     "text": [
      "Prédictions ;\n",
      " - Malin(s):  111 \n",
      " - Bénins:  122 \n",
      " - Total comp:  233  vs  233\n"
     ]
    }
   ],
   "source": [
    "predictions = model.predict(ds_val)\n",
    "\n",
    "b =0\n",
    "m = 0\n",
    "for element in predictions :\n",
    "    if(element[0] > 0.5) :\n",
    "        m +=1\n",
    "    elif(element[0]< 0.5) :\n",
    "        b +=1\n",
    "        \n",
    "print(\"Prédictions ;\\n - Malin(s): \", m, \"\\n - Bénins: \", b, \"\\n - Total comp: \", b+m,\" vs \",len(predictions))"
   ]
  },
  {
   "cell_type": "code",
   "execution_count": 22,
   "id": "785ced0b",
   "metadata": {},
   "outputs": [],
   "source": [
    "from sklearn.metrics import plot_confusion_matrix  \n",
    "\n",
    "def predict_class_label_number(dataset):\n",
    "    predictions =  model.predict(dataset)\n",
    "    res = np.zeros(len(predictions))\n",
    "    i = 0 \n",
    "    for element in predictions : \n",
    "        if(element[0]> 0.5):\n",
    "            res[i] = 1\n",
    "        i += 1\n",
    "    return tf.convert_to_tensor(res)\n",
    "\n",
    "def give_labels (dataset, size):\n",
    "    lab = np.zeros(size)\n",
    "    i = 0\n",
    "    for batch in dataset:\n",
    "        for element in batch[1] :\n",
    "            lab[i] = element.numpy()\n",
    "            i +=1\n",
    "    return tf.convert_to_tensor(lab)\n",
    "    \n",
    "def show_confusion_matrix(cm, labels):\n",
    "    plt.figure(figsize=(5,5))\n",
    "    plt.imshow(cm)\n",
    "    plt.colorbar()\n",
    "    plt.xlabel('Prediction')\n",
    "    plt.ylabel('Label')\n",
    "    plt.show()"
   ]
  },
  {
   "cell_type": "code",
   "execution_count": 23,
   "id": "59fe0431",
   "metadata": {
    "scrolled": false
   },
   "outputs": [
    {
     "data": {
      "image/png": "[encoded data removed]",
      "text/plain": [
       "<Figure size 360x360 with 2 Axes>"
      ]
     },
     "metadata": {
      "needs_background": "light"
     },
     "output_type": "display_data"
    }
   ],
   "source": [
    "dataset = ds_val\n",
    "#size = define upper bcs easier\n",
    "confusion_mtx = tf.math.confusion_matrix(\n",
    "    give_labels(dataset, size),\n",
    "    predict_class_label_number(dataset),\n",
    "    num_classes=2)\n",
    "show_confusion_matrix(confusion_mtx, [0,1])"
   ]
  },
  {
   "cell_type": "code",
   "execution_count": null,
   "id": "148dda0f",
   "metadata": {},
   "outputs": [],
   "source": []
  },
  {
   "cell_type": "code",
   "execution_count": null,
   "id": "df37a641",
   "metadata": {},
   "outputs": [],
   "source": []
  },
  {
   "cell_type": "code",
   "execution_count": null,
   "id": "5514bc73",
   "metadata": {},
   "outputs": [],
   "source": []
  }
 ],
 "metadata": {
  "kernelspec": {
   "display_name": "Python 3 (ipykernel)",
   "language": "python",
   "name": "python3"
  },
  "language_info": {
   "codemirror_mode": {
    "name": "ipython",
    "version": 3
   },
   "file_extension": ".py",
   "mimetype": "text/x-python",
   "name": "python",
   "nbconvert_exporter": "python",
   "pygments_lexer": "ipython3",
   "version": "3.9.7"
  }
 },
 "nbformat": 4,
 "nbformat_minor": 5
}
