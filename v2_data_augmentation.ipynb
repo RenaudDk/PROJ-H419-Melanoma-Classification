{
 "cells": [
  {
   "cell_type": "markdown",
   "id": "eae82575",
   "metadata": {},
   "source": [
    "# WIP Data augmentation \n"
   ]
  },
  {
   "cell_type": "code",
   "execution_count": 63,
   "id": "c2a75b1a",
   "metadata": {},
   "outputs": [
    {
     "name": "stdout",
     "output_type": "stream",
     "text": [
      "2.6.0\n"
     ]
    }
   ],
   "source": [
    "import numpy as np\n",
    "import os\n",
    "import PIL\n",
    "import PIL.Image\n",
    "import tensorflow as tf\n",
    "\n",
    "\n",
    "import pathlib\n",
    "import pandas as pd\n",
    "\n",
    "import pydicom # for DICOM images\n",
    "from skimage.transform import resize\n",
    "\n",
    "import matplotlib.pyplot as plt\n",
    "from matplotlib import gridspec\n",
    "%matplotlib inline\n",
    "print(tf.__version__)"
   ]
  },
  {
   "cell_type": "code",
   "execution_count": 64,
   "id": "c1022b6e",
   "metadata": {},
   "outputs": [],
   "source": [
    "def set_seed(seed=31415):\n",
    "    np.random.seed(seed)\n",
    "    tf.random.set_seed(seed)\n",
    "    os.environ['PYTHONHASHSEED'] = str(seed)\n",
    "    os.environ['TF_DETERMINISTIC_OPS'] = '1'\n",
    "set_seed()"
   ]
  },
  {
   "cell_type": "code",
   "execution_count": 89,
   "id": "d0e7b5f0",
   "metadata": {},
   "outputs": [
    {
     "name": "stdout",
     "output_type": "stream",
     "text": [
      "Train has 33,126 rows and Test has 10,982 rows.\n"
     ]
    }
   ],
   "source": [
    "# Directory\n",
    "directory = '/Users/renau/Desktop/DATA/data_proj_melanoma'\n",
    "\n",
    "# Import the 2 csv s\n",
    "train_df = pd.read_csv(directory + '/train.csv')\n",
    "test_df = pd.read_csv(directory + '/test.csv')\n",
    "\n",
    "print('Train has {:,} rows and Test has {:,} rows.'.format(len(train_df), len(test_df)))\n",
    "\n",
    "# Change columns names\n",
    "new_names = ['dcm_name', 'ID', 'sex', 'age', 'anatomy', 'diagnosis', 'benign_malignant', 'target']\n",
    "train_df.columns = new_names\n",
    "test_df.columns = new_names[:5]"
   ]
  },
  {
   "cell_type": "code",
   "execution_count": 90,
   "id": "5e09f3c8",
   "metadata": {},
   "outputs": [],
   "source": [
    "# === JPEG ===\n",
    "# Create the paths\n",
    "path_train = directory + '/jpeg/train/' + train_df['dcm_name'] + '.jpg'\n",
    "path_test = directory + '/jpeg/test/' + test_df['dcm_name'] + '.jpg'\n",
    "\n",
    "# Append to the original dataframes\n",
    "train_df['path_jpeg'] = path_train\n",
    "test_df['path_jpeg'] = path_test"
   ]
  },
  {
   "cell_type": "code",
   "execution_count": 91,
   "id": "670fb0a1",
   "metadata": {
    "scrolled": true
   },
   "outputs": [
    {
     "data": {
      "text/html": [
       "<div>\n",
       "<style scoped>\n",
       "    .dataframe tbody tr th:only-of-type {\n",
       "        vertical-align: middle;\n",
       "    }\n",
       "\n",
       "    .dataframe tbody tr th {\n",
       "        vertical-align: top;\n",
       "    }\n",
       "\n",
       "    .dataframe thead th {\n",
       "        text-align: right;\n",
       "    }\n",
       "</style>\n",
       "<table border=\"1\" class=\"dataframe\">\n",
       "  <thead>\n",
       "    <tr style=\"text-align: right;\">\n",
       "      <th></th>\n",
       "      <th>dcm_name</th>\n",
       "      <th>ID</th>\n",
       "      <th>sex</th>\n",
       "      <th>age</th>\n",
       "      <th>anatomy</th>\n",
       "      <th>diagnosis</th>\n",
       "      <th>benign_malignant</th>\n",
       "      <th>target</th>\n",
       "      <th>path_jpeg</th>\n",
       "    </tr>\n",
       "  </thead>\n",
       "  <tbody>\n",
       "    <tr>\n",
       "      <th>91</th>\n",
       "      <td>ISIC_0149568</td>\n",
       "      <td>IP_0962375</td>\n",
       "      <td>female</td>\n",
       "      <td>55.0</td>\n",
       "      <td>upper extremity</td>\n",
       "      <td>melanoma</td>\n",
       "      <td>malignant</td>\n",
       "      <td>1</td>\n",
       "      <td>/Users/renau/Desktop/DATA/data_proj_melanoma/j...</td>\n",
       "    </tr>\n",
       "    <tr>\n",
       "      <th>235</th>\n",
       "      <td>ISIC_0188432</td>\n",
       "      <td>IP_0135517</td>\n",
       "      <td>female</td>\n",
       "      <td>50.0</td>\n",
       "      <td>upper extremity</td>\n",
       "      <td>melanoma</td>\n",
       "      <td>malignant</td>\n",
       "      <td>1</td>\n",
       "      <td>/Users/renau/Desktop/DATA/data_proj_melanoma/j...</td>\n",
       "    </tr>\n",
       "    <tr>\n",
       "      <th>314</th>\n",
       "      <td>ISIC_0207268</td>\n",
       "      <td>IP_7735373</td>\n",
       "      <td>male</td>\n",
       "      <td>55.0</td>\n",
       "      <td>torso</td>\n",
       "      <td>melanoma</td>\n",
       "      <td>malignant</td>\n",
       "      <td>1</td>\n",
       "      <td>/Users/renau/Desktop/DATA/data_proj_melanoma/j...</td>\n",
       "    </tr>\n",
       "    <tr>\n",
       "      <th>399</th>\n",
       "      <td>ISIC_0232101</td>\n",
       "      <td>IP_8349964</td>\n",
       "      <td>male</td>\n",
       "      <td>65.0</td>\n",
       "      <td>torso</td>\n",
       "      <td>melanoma</td>\n",
       "      <td>malignant</td>\n",
       "      <td>1</td>\n",
       "      <td>/Users/renau/Desktop/DATA/data_proj_melanoma/j...</td>\n",
       "    </tr>\n",
       "    <tr>\n",
       "      <th>459</th>\n",
       "      <td>ISIC_0247330</td>\n",
       "      <td>IP_3232631</td>\n",
       "      <td>female</td>\n",
       "      <td>65.0</td>\n",
       "      <td>lower extremity</td>\n",
       "      <td>melanoma</td>\n",
       "      <td>malignant</td>\n",
       "      <td>1</td>\n",
       "      <td>/Users/renau/Desktop/DATA/data_proj_melanoma/j...</td>\n",
       "    </tr>\n",
       "  </tbody>\n",
       "</table>\n",
       "</div>"
      ],
      "text/plain": [
       "         dcm_name          ID     sex   age          anatomy diagnosis  \\\n",
       "91   ISIC_0149568  IP_0962375  female  55.0  upper extremity  melanoma   \n",
       "235  ISIC_0188432  IP_0135517  female  50.0  upper extremity  melanoma   \n",
       "314  ISIC_0207268  IP_7735373    male  55.0            torso  melanoma   \n",
       "399  ISIC_0232101  IP_8349964    male  65.0            torso  melanoma   \n",
       "459  ISIC_0247330  IP_3232631  female  65.0  lower extremity  melanoma   \n",
       "\n",
       "    benign_malignant  target  \\\n",
       "91         malignant       1   \n",
       "235        malignant       1   \n",
       "314        malignant       1   \n",
       "399        malignant       1   \n",
       "459        malignant       1   \n",
       "\n",
       "                                             path_jpeg  \n",
       "91   /Users/renau/Desktop/DATA/data_proj_melanoma/j...  \n",
       "235  /Users/renau/Desktop/DATA/data_proj_melanoma/j...  \n",
       "314  /Users/renau/Desktop/DATA/data_proj_melanoma/j...  \n",
       "399  /Users/renau/Desktop/DATA/data_proj_melanoma/j...  \n",
       "459  /Users/renau/Desktop/DATA/data_proj_melanoma/j...  "
      ]
     },
     "execution_count": 91,
     "metadata": {},
     "output_type": "execute_result"
    }
   ],
   "source": [
    "malignant_df = train_df[train_df['target'] == 1]\n",
    "malignant_df.head()"
   ]
  },
  {
   "cell_type": "code",
   "execution_count": 92,
   "id": "d5691d32",
   "metadata": {
    "scrolled": true
   },
   "outputs": [
    {
     "data": {
      "text/html": [
       "<div>\n",
       "<style scoped>\n",
       "    .dataframe tbody tr th:only-of-type {\n",
       "        vertical-align: middle;\n",
       "    }\n",
       "\n",
       "    .dataframe tbody tr th {\n",
       "        vertical-align: top;\n",
       "    }\n",
       "\n",
       "    .dataframe thead th {\n",
       "        text-align: right;\n",
       "    }\n",
       "</style>\n",
       "<table border=\"1\" class=\"dataframe\">\n",
       "  <thead>\n",
       "    <tr style=\"text-align: right;\">\n",
       "      <th></th>\n",
       "      <th>dcm_name</th>\n",
       "      <th>ID</th>\n",
       "      <th>sex</th>\n",
       "      <th>age</th>\n",
       "      <th>anatomy</th>\n",
       "      <th>diagnosis</th>\n",
       "      <th>benign_malignant</th>\n",
       "      <th>target</th>\n",
       "      <th>path_jpeg</th>\n",
       "    </tr>\n",
       "  </thead>\n",
       "  <tbody>\n",
       "    <tr>\n",
       "      <th>0</th>\n",
       "      <td>ISIC_2637011</td>\n",
       "      <td>IP_7279968</td>\n",
       "      <td>male</td>\n",
       "      <td>45.0</td>\n",
       "      <td>head/neck</td>\n",
       "      <td>unknown</td>\n",
       "      <td>benign</td>\n",
       "      <td>0</td>\n",
       "      <td>/Users/renau/Desktop/DATA/data_proj_melanoma/j...</td>\n",
       "    </tr>\n",
       "    <tr>\n",
       "      <th>1</th>\n",
       "      <td>ISIC_0015719</td>\n",
       "      <td>IP_3075186</td>\n",
       "      <td>female</td>\n",
       "      <td>45.0</td>\n",
       "      <td>upper extremity</td>\n",
       "      <td>unknown</td>\n",
       "      <td>benign</td>\n",
       "      <td>0</td>\n",
       "      <td>/Users/renau/Desktop/DATA/data_proj_melanoma/j...</td>\n",
       "    </tr>\n",
       "    <tr>\n",
       "      <th>2</th>\n",
       "      <td>ISIC_0052212</td>\n",
       "      <td>IP_2842074</td>\n",
       "      <td>female</td>\n",
       "      <td>50.0</td>\n",
       "      <td>lower extremity</td>\n",
       "      <td>nevus</td>\n",
       "      <td>benign</td>\n",
       "      <td>0</td>\n",
       "      <td>/Users/renau/Desktop/DATA/data_proj_melanoma/j...</td>\n",
       "    </tr>\n",
       "    <tr>\n",
       "      <th>3</th>\n",
       "      <td>ISIC_0068279</td>\n",
       "      <td>IP_6890425</td>\n",
       "      <td>female</td>\n",
       "      <td>45.0</td>\n",
       "      <td>head/neck</td>\n",
       "      <td>unknown</td>\n",
       "      <td>benign</td>\n",
       "      <td>0</td>\n",
       "      <td>/Users/renau/Desktop/DATA/data_proj_melanoma/j...</td>\n",
       "    </tr>\n",
       "    <tr>\n",
       "      <th>4</th>\n",
       "      <td>ISIC_0074268</td>\n",
       "      <td>IP_8723313</td>\n",
       "      <td>female</td>\n",
       "      <td>55.0</td>\n",
       "      <td>upper extremity</td>\n",
       "      <td>unknown</td>\n",
       "      <td>benign</td>\n",
       "      <td>0</td>\n",
       "      <td>/Users/renau/Desktop/DATA/data_proj_melanoma/j...</td>\n",
       "    </tr>\n",
       "  </tbody>\n",
       "</table>\n",
       "</div>"
      ],
      "text/plain": [
       "       dcm_name          ID     sex   age          anatomy diagnosis  \\\n",
       "0  ISIC_2637011  IP_7279968    male  45.0        head/neck   unknown   \n",
       "1  ISIC_0015719  IP_3075186  female  45.0  upper extremity   unknown   \n",
       "2  ISIC_0052212  IP_2842074  female  50.0  lower extremity     nevus   \n",
       "3  ISIC_0068279  IP_6890425  female  45.0        head/neck   unknown   \n",
       "4  ISIC_0074268  IP_8723313  female  55.0  upper extremity   unknown   \n",
       "\n",
       "  benign_malignant  target                                          path_jpeg  \n",
       "0           benign       0  /Users/renau/Desktop/DATA/data_proj_melanoma/j...  \n",
       "1           benign       0  /Users/renau/Desktop/DATA/data_proj_melanoma/j...  \n",
       "2           benign       0  /Users/renau/Desktop/DATA/data_proj_melanoma/j...  \n",
       "3           benign       0  /Users/renau/Desktop/DATA/data_proj_melanoma/j...  \n",
       "4           benign       0  /Users/renau/Desktop/DATA/data_proj_melanoma/j...  "
      ]
     },
     "execution_count": 92,
     "metadata": {},
     "output_type": "execute_result"
    }
   ],
   "source": [
    "benin_df = train_df[train_df['target'] == 0]\n",
    "benin_df.head()"
   ]
  },
  {
   "cell_type": "code",
   "execution_count": 93,
   "id": "fe8c4729",
   "metadata": {},
   "outputs": [
    {
     "data": {
      "text/plain": [
       "584"
      ]
     },
     "execution_count": 93,
     "metadata": {},
     "output_type": "execute_result"
    }
   ],
   "source": [
    "mal_file = malignant_df['path_jpeg'].values\n",
    "mal_labels = malignant_df['target'].values\n",
    "mal_train_ds = tf.data.Dataset.from_tensor_slices((mal_file, mal_labels))\n",
    "len(list(mal_train_ds))"
   ]
  },
  {
   "cell_type": "code",
   "execution_count": 94,
   "id": "ae0eff34",
   "metadata": {},
   "outputs": [
    {
     "data": {
      "text/plain": [
       "32542"
      ]
     },
     "execution_count": 94,
     "metadata": {},
     "output_type": "execute_result"
    }
   ],
   "source": [
    "ben_file = benin_df['path_jpeg'].values\n",
    "ben_labels = benin_df['target'].values\n",
    "ben_train_ds = tf.data.Dataset.from_tensor_slices((ben_file, ben_labels))\n",
    "len(list(ben_train_ds))"
   ]
  },
  {
   "cell_type": "code",
   "execution_count": 95,
   "id": "8d15a23f",
   "metadata": {},
   "outputs": [
    {
     "data": {
      "text/plain": [
       "584"
      ]
     },
     "execution_count": 95,
     "metadata": {},
     "output_type": "execute_result"
    }
   ],
   "source": [
    "benPart_train_ds = ben_train_ds.take(len(list(mal_train_ds)))\n",
    "#benPart_train_ds = ben_train_ds.take(15000)\n",
    "len(list(benPart_train_ds))"
   ]
  },
  {
   "cell_type": "code",
   "execution_count": 96,
   "id": "8ad0efcf",
   "metadata": {},
   "outputs": [
    {
     "data": {
      "text/plain": [
       "1168"
      ]
     },
     "execution_count": 96,
     "metadata": {},
     "output_type": "execute_result"
    }
   ],
   "source": [
    "train_ds = mal_train_ds.concatenate(benPart_train_ds)\n",
    "#train_ds = ben_train_ds.take(1000)\n",
    "shuf_train_ds = train_ds.shuffle(len(list(train_ds)))\n",
    "len(list(shuf_train_ds))"
   ]
  },
  {
   "cell_type": "code",
   "execution_count": 97,
   "id": "77b57288",
   "metadata": {},
   "outputs": [
    {
     "name": "stdout",
     "output_type": "stream",
     "text": [
      "233 935\n"
     ]
    }
   ],
   "source": [
    "def make_balanced_dataset(ds_class1, ds_class2):\n",
    "    half_size = min(len(list(ds_class1)),len(list(ds_class2)))\n",
    "    ds_1 = ds_class1.take(half_size)\n",
    "    ds_2 = ds_class2.take(half_size)\n",
    "    ds_full = ds_1.concatenate(ds_2)\n",
    "    ds_full = ds_full.shuffle(half_size*2, reshuffle_each_iteration=False)\n",
    "    return ds_full.skip((half_size*2)//5),ds_full.take((half_size*2)//5),\n",
    "#print(make_balanced_dataset(ben_train_ds,mal_train_ds))   \n",
    "ds_train, ds_val = make_balanced_dataset(ben_train_ds,mal_train_ds)\n",
    "size = len(list(ds_val))\n",
    "print(size, len(list(ds_train)))"
   ]
  },
  {
   "cell_type": "code",
   "execution_count": 98,
   "id": "7452be65",
   "metadata": {
    "scrolled": false
   },
   "outputs": [
    {
     "name": "stdout",
     "output_type": "stream",
     "text": [
      "b'/Users/renau/Desktop/DATA/data_proj_melanoma/jpeg/train/ISIC_0263478.jpg' and target:  0\n",
      "b'/Users/renau/Desktop/DATA/data_proj_melanoma/jpeg/train/ISIC_8545949.jpg' and target:  1\n",
      "b'/Users/renau/Desktop/DATA/data_proj_melanoma/jpeg/train/ISIC_0182020.jpg' and target:  0\n",
      "b'/Users/renau/Desktop/DATA/data_proj_melanoma/jpeg/train/ISIC_6784593.jpg' and target:  1\n"
     ]
    }
   ],
   "source": [
    "ex_ds = ds_train.take(4)\n",
    "for element in ex_ds :\n",
    "    print(element[0].numpy(),'and target: ',element[1].numpy())"
   ]
  },
  {
   "cell_type": "code",
   "execution_count": 99,
   "id": "724bf6ee",
   "metadata": {},
   "outputs": [],
   "source": [
    "def read_image(path, label):\n",
    "    image = tf.io.read_file(path)\n",
    "    image = tf.image.decode_image(image, channels=3, dtype = tf.uint8, expand_animations = False)\n",
    "    return image, label\n",
    "\n",
    "ds_train = ds_train.map(read_image)\n",
    "ds_val = ds_val.map(read_image)"
   ]
  },
  {
   "cell_type": "code",
   "execution_count": 100,
   "id": "ae09d9ef",
   "metadata": {
    "scrolled": true
   },
   "outputs": [
    {
     "name": "stdout",
     "output_type": "stream",
     "text": [
      "(4000, 6000, 3)\n",
      "(1053, 1872, 3)\n",
      "(4000, 6000, 3)\n"
     ]
    }
   ],
   "source": [
    "ex_ds = ds_train.take(3)\n",
    "for element in ex_ds :\n",
    "    print(element[0].numpy().shape)"
   ]
  },
  {
   "cell_type": "code",
   "execution_count": 101,
   "id": "222d1391-24e9-436b-9c34-cd8474bcd4e3",
   "metadata": {},
   "outputs": [
    {
     "name": "stdout",
     "output_type": "stream",
     "text": [
      "(32, 256, 256, 3)\n",
      "(32,)\n",
      "(32, 256, 256, 3)\n",
      "(32,)\n",
      "(32, 256, 256, 3)\n",
      "(32,)\n"
     ]
    }
   ],
   "source": [
    "def adapt_data(image, label):\n",
    "    image = tf.image.resize(image, [256,256])\n",
    "    return image, label\n",
    "\n",
    "def convert_to_float(image, label):\n",
    "    image = tf.image.convert_image_dtype(image, dtype=tf.float64)\n",
    "    return image, label\n",
    "    \n",
    "ds_train= ds_train.map(adapt_data).map(convert_to_float).batch(32)\n",
    "ds_val= ds_val.map(adapt_data).map(convert_to_float).batch(32)\n",
    "\n",
    "ex_ds = ds_train.take(3)\n",
    "for element in ex_ds :\n",
    "    print(element[0].shape)\n",
    "    print(element[1].shape)"
   ]
  },
  {
   "cell_type": "code",
   "execution_count": 102,
   "id": "c16f2e9b",
   "metadata": {},
   "outputs": [],
   "source": [
    "AUTOTUNE = tf.data.AUTOTUNE\n",
    "\n",
    "ds_train = ds_train.cache().prefetch(buffer_size=AUTOTUNE)\n",
    "ds_val = ds_val.cache().prefetch(buffer_size=AUTOTUNE)"
   ]
  },
  {
   "cell_type": "code",
   "execution_count": 103,
   "id": "c41ebe5f",
   "metadata": {},
   "outputs": [],
   "source": [
    "from tensorflow import keras\n",
    "from tensorflow.keras import layers\n",
    "\n",
    "model = tf.keras.Sequential([\n",
    "  tf.keras.layers.Rescaling(1./255),\n",
    "  tf.keras.layers.Conv2D(32, 3, activation='relu'),\n",
    "  tf.keras.layers.MaxPooling2D(),\n",
    "  tf.keras.layers.Conv2D(32, 3, activation='relu'),\n",
    "  tf.keras.layers.MaxPooling2D(),\n",
    "  tf.keras.layers.Conv2D(32, 3, activation='relu'),\n",
    "  tf.keras.layers.MaxPooling2D(),\n",
    "  tf.keras.layers.Flatten(),\n",
    "  tf.keras.layers.Dense(128, activation='relu'),\n",
    "  tf.keras.layers.Dense(1,activation='sigmoid')\n",
    "])"
   ]
  },
  {
   "cell_type": "code",
   "execution_count": 104,
   "id": "2f942f43",
   "metadata": {},
   "outputs": [],
   "source": [
    "model.compile(\n",
    "    optimizer=tf.keras.optimizers.Adam(epsilon=0.01),\n",
    "    loss='binary_crossentropy',\n",
    "    metrics=['binary_accuracy']\n",
    ")"
   ]
  },
  {
   "cell_type": "code",
   "execution_count": 105,
   "id": "04c25c91",
   "metadata": {
    "scrolled": false
   },
   "outputs": [
    {
     "name": "stdout",
     "output_type": "stream",
     "text": [
      "Epoch 1/150\n",
      "30/30 [==============================] - 6s 186ms/step - loss: 0.6910 - binary_accuracy: 0.5380 - val_loss: 0.6772 - val_binary_accuracy: 0.6137\n",
      "Epoch 2/150\n",
      "30/30 [==============================] - 1s 38ms/step - loss: 0.6667 - binary_accuracy: 0.5936 - val_loss: 0.6644 - val_binary_accuracy: 0.6094\n",
      "Epoch 3/150\n",
      "30/30 [==============================] - 1s 36ms/step - loss: 0.6503 - binary_accuracy: 0.6310 - val_loss: 0.6615 - val_binary_accuracy: 0.6137\n",
      "Epoch 4/150\n",
      "30/30 [==============================] - 1s 36ms/step - loss: 0.6334 - binary_accuracy: 0.6449 - val_loss: 0.6457 - val_binary_accuracy: 0.6180\n",
      "Epoch 5/150\n",
      "30/30 [==============================] - 1s 36ms/step - loss: 0.6140 - binary_accuracy: 0.6727 - val_loss: 0.6130 - val_binary_accuracy: 0.6695\n",
      "Epoch 6/150\n",
      "30/30 [==============================] - 1s 36ms/step - loss: 0.5928 - binary_accuracy: 0.6824 - val_loss: 0.5904 - val_binary_accuracy: 0.6910\n",
      "Epoch 7/150\n",
      "30/30 [==============================] - 1s 36ms/step - loss: 0.5723 - binary_accuracy: 0.7005 - val_loss: 0.5789 - val_binary_accuracy: 0.6910\n",
      "Epoch 8/150\n",
      "30/30 [==============================] - 1s 36ms/step - loss: 0.5632 - binary_accuracy: 0.7112 - val_loss: 0.5673 - val_binary_accuracy: 0.6996\n",
      "Epoch 9/150\n",
      "30/30 [==============================] - 1s 36ms/step - loss: 0.5490 - binary_accuracy: 0.7241 - val_loss: 0.5718 - val_binary_accuracy: 0.6953\n",
      "Epoch 10/150\n",
      "30/30 [==============================] - 1s 36ms/step - loss: 0.5212 - binary_accuracy: 0.7476 - val_loss: 0.5722 - val_binary_accuracy: 0.7082\n",
      "Epoch 11/150\n",
      "30/30 [==============================] - 1s 36ms/step - loss: 0.5030 - binary_accuracy: 0.7540 - val_loss: 0.5529 - val_binary_accuracy: 0.7039\n",
      "Epoch 12/150\n",
      "30/30 [==============================] - 1s 36ms/step - loss: 0.4925 - binary_accuracy: 0.7636 - val_loss: 0.5488 - val_binary_accuracy: 0.7210\n",
      "Epoch 13/150\n",
      "30/30 [==============================] - 1s 36ms/step - loss: 0.4820 - binary_accuracy: 0.7711 - val_loss: 0.5493 - val_binary_accuracy: 0.7082\n",
      "Epoch 14/150\n",
      "30/30 [==============================] - 1s 36ms/step - loss: 0.4779 - binary_accuracy: 0.7658 - val_loss: 0.5442 - val_binary_accuracy: 0.7253\n",
      "Epoch 15/150\n",
      "30/30 [==============================] - 1s 36ms/step - loss: 0.4683 - binary_accuracy: 0.7722 - val_loss: 0.5484 - val_binary_accuracy: 0.7253\n",
      "Epoch 16/150\n",
      "30/30 [==============================] - 1s 36ms/step - loss: 0.4628 - binary_accuracy: 0.7733 - val_loss: 0.5424 - val_binary_accuracy: 0.7253\n",
      "Epoch 17/150\n",
      "30/30 [==============================] - 1s 36ms/step - loss: 0.4536 - binary_accuracy: 0.7733 - val_loss: 0.5330 - val_binary_accuracy: 0.7382\n",
      "Epoch 18/150\n",
      "30/30 [==============================] - 1s 36ms/step - loss: 0.4470 - binary_accuracy: 0.7882 - val_loss: 0.5220 - val_binary_accuracy: 0.7382\n",
      "Epoch 19/150\n",
      "30/30 [==============================] - 1s 36ms/step - loss: 0.4391 - binary_accuracy: 0.7914 - val_loss: 0.5184 - val_binary_accuracy: 0.7425\n",
      "Epoch 20/150\n",
      "30/30 [==============================] - 1s 36ms/step - loss: 0.4303 - binary_accuracy: 0.7936 - val_loss: 0.5135 - val_binary_accuracy: 0.7554\n",
      "Epoch 21/150\n",
      "30/30 [==============================] - 1s 36ms/step - loss: 0.4242 - binary_accuracy: 0.7957 - val_loss: 0.5058 - val_binary_accuracy: 0.7511\n",
      "Epoch 22/150\n",
      "30/30 [==============================] - 1s 36ms/step - loss: 0.4161 - binary_accuracy: 0.8043 - val_loss: 0.4962 - val_binary_accuracy: 0.7639\n",
      "Epoch 23/150\n",
      "30/30 [==============================] - 1s 36ms/step - loss: 0.4099 - binary_accuracy: 0.8086 - val_loss: 0.4880 - val_binary_accuracy: 0.7768\n",
      "Epoch 24/150\n",
      "30/30 [==============================] - 1s 36ms/step - loss: 0.4037 - binary_accuracy: 0.8171 - val_loss: 0.4782 - val_binary_accuracy: 0.7854\n",
      "Epoch 25/150\n",
      "30/30 [==============================] - 1s 36ms/step - loss: 0.4050 - binary_accuracy: 0.8075 - val_loss: 0.4783 - val_binary_accuracy: 0.7768\n",
      "Epoch 26/150\n",
      "30/30 [==============================] - 1s 36ms/step - loss: 0.3882 - binary_accuracy: 0.8193 - val_loss: 0.4990 - val_binary_accuracy: 0.7511\n",
      "Epoch 27/150\n",
      "30/30 [==============================] - 1s 36ms/step - loss: 0.3732 - binary_accuracy: 0.8257 - val_loss: 0.5171 - val_binary_accuracy: 0.7468\n",
      "Epoch 28/150\n",
      "30/30 [==============================] - 1s 35ms/step - loss: 0.3561 - binary_accuracy: 0.8332 - val_loss: 0.5065 - val_binary_accuracy: 0.7639\n",
      "Epoch 29/150\n",
      "30/30 [==============================] - 1s 36ms/step - loss: 0.3515 - binary_accuracy: 0.8321 - val_loss: 0.4888 - val_binary_accuracy: 0.7682\n",
      "Epoch 30/150\n",
      "30/30 [==============================] - 1s 36ms/step - loss: 0.3365 - binary_accuracy: 0.8364 - val_loss: 0.4932 - val_binary_accuracy: 0.7639\n",
      "Epoch 31/150\n",
      "30/30 [==============================] - 1s 36ms/step - loss: 0.3150 - binary_accuracy: 0.8620 - val_loss: 0.5199 - val_binary_accuracy: 0.7597\n",
      "Epoch 32/150\n",
      "30/30 [==============================] - 1s 36ms/step - loss: 0.3028 - binary_accuracy: 0.8706 - val_loss: 0.5546 - val_binary_accuracy: 0.7382\n",
      "Epoch 33/150\n",
      "30/30 [==============================] - 1s 36ms/step - loss: 0.2901 - binary_accuracy: 0.8759 - val_loss: 0.5906 - val_binary_accuracy: 0.7382\n",
      "Epoch 34/150\n",
      "30/30 [==============================] - 1s 36ms/step - loss: 0.2940 - binary_accuracy: 0.8770 - val_loss: 0.5802 - val_binary_accuracy: 0.7425\n",
      "Epoch 35/150\n",
      "30/30 [==============================] - 1s 36ms/step - loss: 0.2956 - binary_accuracy: 0.8759 - val_loss: 0.6043 - val_binary_accuracy: 0.7210\n",
      "Epoch 36/150\n",
      "30/30 [==============================] - 1s 36ms/step - loss: 0.2481 - binary_accuracy: 0.9091 - val_loss: 0.5886 - val_binary_accuracy: 0.7511\n",
      "Epoch 37/150\n",
      "30/30 [==============================] - 1s 36ms/step - loss: 0.2355 - binary_accuracy: 0.9166 - val_loss: 0.6018 - val_binary_accuracy: 0.7511\n",
      "Epoch 38/150\n",
      "30/30 [==============================] - 1s 36ms/step - loss: 0.2217 - binary_accuracy: 0.9219 - val_loss: 0.5977 - val_binary_accuracy: 0.7554\n",
      "Epoch 39/150\n",
      "30/30 [==============================] - 1s 36ms/step - loss: 0.2065 - binary_accuracy: 0.9294 - val_loss: 0.6435 - val_binary_accuracy: 0.7339\n",
      "Epoch 40/150\n",
      "30/30 [==============================] - 1s 37ms/step - loss: 0.1945 - binary_accuracy: 0.9326 - val_loss: 0.6682 - val_binary_accuracy: 0.7468\n",
      "Epoch 41/150\n",
      "30/30 [==============================] - 1s 36ms/step - loss: 0.1847 - binary_accuracy: 0.9455 - val_loss: 0.6514 - val_binary_accuracy: 0.7511\n",
      "Epoch 42/150\n",
      "30/30 [==============================] - 1s 36ms/step - loss: 0.1782 - binary_accuracy: 0.9465 - val_loss: 0.7090 - val_binary_accuracy: 0.7253\n",
      "Epoch 43/150\n",
      "30/30 [==============================] - 1s 36ms/step - loss: 0.1807 - binary_accuracy: 0.9444 - val_loss: 0.8154 - val_binary_accuracy: 0.7039\n",
      "Epoch 44/150\n",
      "30/30 [==============================] - 1s 36ms/step - loss: 0.1919 - binary_accuracy: 0.9273 - val_loss: 0.9942 - val_binary_accuracy: 0.6781\n",
      "Epoch 45/150\n",
      "30/30 [==============================] - 1s 35ms/step - loss: 0.2155 - binary_accuracy: 0.9155 - val_loss: 1.0428 - val_binary_accuracy: 0.6824\n",
      "Epoch 46/150\n",
      "30/30 [==============================] - 1s 36ms/step - loss: 0.3517 - binary_accuracy: 0.8481 - val_loss: 0.6256 - val_binary_accuracy: 0.7296\n",
      "Epoch 47/150\n",
      "30/30 [==============================] - 1s 36ms/step - loss: 0.4290 - binary_accuracy: 0.8064 - val_loss: 0.5378 - val_binary_accuracy: 0.7682\n",
      "Epoch 48/150\n",
      "30/30 [==============================] - 1s 36ms/step - loss: 0.3135 - binary_accuracy: 0.8524 - val_loss: 0.5383 - val_binary_accuracy: 0.7468\n",
      "Epoch 49/150\n",
      "30/30 [==============================] - 1s 36ms/step - loss: 0.2680 - binary_accuracy: 0.8749 - val_loss: 0.6085 - val_binary_accuracy: 0.7253\n",
      "Epoch 50/150\n",
      "30/30 [==============================] - 1s 36ms/step - loss: 0.2580 - binary_accuracy: 0.8866 - val_loss: 0.5969 - val_binary_accuracy: 0.7425\n",
      "Epoch 51/150\n",
      "30/30 [==============================] - 1s 36ms/step - loss: 0.2229 - binary_accuracy: 0.9155 - val_loss: 0.5595 - val_binary_accuracy: 0.7554\n",
      "Epoch 52/150\n",
      "30/30 [==============================] - 1s 36ms/step - loss: 0.1943 - binary_accuracy: 0.9209 - val_loss: 0.6391 - val_binary_accuracy: 0.7253\n",
      "Epoch 53/150\n"
     ]
    },
    {
     "name": "stdout",
     "output_type": "stream",
     "text": [
      "30/30 [==============================] - 1s 36ms/step - loss: 0.1845 - binary_accuracy: 0.9219 - val_loss: 0.6880 - val_binary_accuracy: 0.7425\n",
      "Epoch 54/150\n",
      "30/30 [==============================] - 1s 36ms/step - loss: 0.2084 - binary_accuracy: 0.9112 - val_loss: 0.7094 - val_binary_accuracy: 0.7511\n",
      "Epoch 55/150\n",
      "30/30 [==============================] - 1s 36ms/step - loss: 0.1958 - binary_accuracy: 0.9230 - val_loss: 0.7002 - val_binary_accuracy: 0.7597\n",
      "Epoch 56/150\n",
      "30/30 [==============================] - 1s 36ms/step - loss: 0.1805 - binary_accuracy: 0.9230 - val_loss: 0.6413 - val_binary_accuracy: 0.7382\n",
      "Epoch 57/150\n",
      "30/30 [==============================] - 1s 36ms/step - loss: 0.1748 - binary_accuracy: 0.9305 - val_loss: 0.6713 - val_binary_accuracy: 0.7597\n",
      "Epoch 58/150\n",
      "30/30 [==============================] - 1s 36ms/step - loss: 0.1591 - binary_accuracy: 0.9433 - val_loss: 0.5909 - val_binary_accuracy: 0.7468\n",
      "Epoch 59/150\n",
      "30/30 [==============================] - 1s 36ms/step - loss: 0.1333 - binary_accuracy: 0.9487 - val_loss: 0.7471 - val_binary_accuracy: 0.7339\n",
      "Epoch 60/150\n",
      "30/30 [==============================] - 1s 36ms/step - loss: 0.1012 - binary_accuracy: 0.9701 - val_loss: 0.7185 - val_binary_accuracy: 0.7511\n",
      "Epoch 61/150\n",
      "30/30 [==============================] - 1s 36ms/step - loss: 0.0944 - binary_accuracy: 0.9701 - val_loss: 0.7526 - val_binary_accuracy: 0.7339\n",
      "Epoch 62/150\n",
      "30/30 [==============================] - 1s 36ms/step - loss: 0.0844 - binary_accuracy: 0.9711 - val_loss: 0.8214 - val_binary_accuracy: 0.7597\n",
      "Epoch 63/150\n",
      "30/30 [==============================] - 1s 36ms/step - loss: 0.0922 - binary_accuracy: 0.9733 - val_loss: 0.9454 - val_binary_accuracy: 0.7167\n",
      "Epoch 64/150\n",
      "30/30 [==============================] - 1s 36ms/step - loss: 0.0953 - binary_accuracy: 0.9711 - val_loss: 0.7446 - val_binary_accuracy: 0.7468\n",
      "Epoch 65/150\n",
      "30/30 [==============================] - 1s 36ms/step - loss: 0.1059 - binary_accuracy: 0.9647 - val_loss: 0.8449 - val_binary_accuracy: 0.7382\n",
      "Epoch 66/150\n",
      "30/30 [==============================] - 1s 36ms/step - loss: 0.0854 - binary_accuracy: 0.9668 - val_loss: 0.8452 - val_binary_accuracy: 0.7339\n",
      "Epoch 67/150\n",
      "30/30 [==============================] - 1s 36ms/step - loss: 0.1844 - binary_accuracy: 0.9283 - val_loss: 0.7664 - val_binary_accuracy: 0.7124\n",
      "Epoch 68/150\n",
      "30/30 [==============================] - 1s 36ms/step - loss: 0.1178 - binary_accuracy: 0.9615 - val_loss: 0.8572 - val_binary_accuracy: 0.7210\n",
      "Epoch 69/150\n",
      "30/30 [==============================] - 1s 36ms/step - loss: 0.0847 - binary_accuracy: 0.9754 - val_loss: 0.8130 - val_binary_accuracy: 0.7468\n",
      "Epoch 70/150\n",
      "30/30 [==============================] - 1s 36ms/step - loss: 0.0988 - binary_accuracy: 0.9636 - val_loss: 0.8946 - val_binary_accuracy: 0.7296\n",
      "Epoch 71/150\n",
      "30/30 [==============================] - 1s 36ms/step - loss: 0.1388 - binary_accuracy: 0.9444 - val_loss: 1.1491 - val_binary_accuracy: 0.7124\n",
      "Epoch 72/150\n",
      "30/30 [==============================] - 1s 36ms/step - loss: 0.2123 - binary_accuracy: 0.9134 - val_loss: 0.9350 - val_binary_accuracy: 0.7382\n",
      "Epoch 73/150\n",
      "30/30 [==============================] - 1s 36ms/step - loss: 0.1452 - binary_accuracy: 0.9444 - val_loss: 0.9321 - val_binary_accuracy: 0.6867\n",
      "Epoch 74/150\n",
      "30/30 [==============================] - 1s 36ms/step - loss: 0.1015 - binary_accuracy: 0.9658 - val_loss: 0.8186 - val_binary_accuracy: 0.7339\n",
      "Epoch 75/150\n",
      "30/30 [==============================] - 1s 36ms/step - loss: 0.0796 - binary_accuracy: 0.9786 - val_loss: 1.0023 - val_binary_accuracy: 0.6867\n",
      "Epoch 76/150\n",
      "30/30 [==============================] - 1s 36ms/step - loss: 0.0721 - binary_accuracy: 0.9807 - val_loss: 1.0577 - val_binary_accuracy: 0.6953\n",
      "Epoch 77/150\n",
      "30/30 [==============================] - 1s 36ms/step - loss: 0.0562 - binary_accuracy: 0.9840 - val_loss: 0.9940 - val_binary_accuracy: 0.6953\n",
      "Epoch 78/150\n",
      "30/30 [==============================] - 1s 36ms/step - loss: 0.0600 - binary_accuracy: 0.9850 - val_loss: 0.9342 - val_binary_accuracy: 0.7253\n",
      "Epoch 79/150\n",
      "30/30 [==============================] - 1s 36ms/step - loss: 0.0623 - binary_accuracy: 0.9818 - val_loss: 1.0505 - val_binary_accuracy: 0.7296\n",
      "Epoch 80/150\n",
      "30/30 [==============================] - 1s 36ms/step - loss: 0.0603 - binary_accuracy: 0.9775 - val_loss: 0.9013 - val_binary_accuracy: 0.7597\n",
      "Epoch 81/150\n",
      "30/30 [==============================] - 1s 36ms/step - loss: 0.0451 - binary_accuracy: 0.9882 - val_loss: 1.0131 - val_binary_accuracy: 0.6824\n",
      "Epoch 82/150\n",
      "30/30 [==============================] - 1s 36ms/step - loss: 0.0334 - binary_accuracy: 0.9904 - val_loss: 1.0060 - val_binary_accuracy: 0.7167\n",
      "Epoch 83/150\n",
      "30/30 [==============================] - 1s 36ms/step - loss: 0.0367 - binary_accuracy: 0.9882 - val_loss: 1.1529 - val_binary_accuracy: 0.7253\n",
      "Epoch 84/150\n",
      "30/30 [==============================] - 1s 36ms/step - loss: 0.0380 - binary_accuracy: 0.9914 - val_loss: 1.1794 - val_binary_accuracy: 0.6738\n",
      "Epoch 85/150\n",
      "30/30 [==============================] - 1s 36ms/step - loss: 0.0300 - binary_accuracy: 0.9936 - val_loss: 1.0440 - val_binary_accuracy: 0.7468\n",
      "Epoch 86/150\n",
      "30/30 [==============================] - 1s 36ms/step - loss: 0.0558 - binary_accuracy: 0.9733 - val_loss: 1.0606 - val_binary_accuracy: 0.7210\n",
      "Epoch 87/150\n",
      "30/30 [==============================] - 1s 36ms/step - loss: 0.0721 - binary_accuracy: 0.9765 - val_loss: 1.2381 - val_binary_accuracy: 0.7124\n",
      "Epoch 88/150\n",
      "30/30 [==============================] - 1s 36ms/step - loss: 0.0697 - binary_accuracy: 0.9797 - val_loss: 1.0506 - val_binary_accuracy: 0.7082\n",
      "Epoch 89/150\n",
      "30/30 [==============================] - 1s 36ms/step - loss: 0.0450 - binary_accuracy: 0.9872 - val_loss: 1.0506 - val_binary_accuracy: 0.7124\n",
      "Epoch 90/150\n",
      "30/30 [==============================] - 1s 36ms/step - loss: 0.0472 - binary_accuracy: 0.9829 - val_loss: 0.9385 - val_binary_accuracy: 0.7554\n",
      "Epoch 91/150\n",
      "30/30 [==============================] - 1s 36ms/step - loss: 0.0595 - binary_accuracy: 0.9818 - val_loss: 0.9953 - val_binary_accuracy: 0.7511\n",
      "Epoch 92/150\n",
      "30/30 [==============================] - 1s 36ms/step - loss: 0.0539 - binary_accuracy: 0.9829 - val_loss: 1.0834 - val_binary_accuracy: 0.7296\n",
      "Epoch 93/150\n",
      "30/30 [==============================] - 1s 36ms/step - loss: 0.0636 - binary_accuracy: 0.9818 - val_loss: 0.9273 - val_binary_accuracy: 0.7425\n",
      "Epoch 94/150\n",
      "30/30 [==============================] - 1s 36ms/step - loss: 0.0334 - binary_accuracy: 0.9914 - val_loss: 1.0691 - val_binary_accuracy: 0.7296\n",
      "Epoch 95/150\n",
      "30/30 [==============================] - 1s 36ms/step - loss: 0.0235 - binary_accuracy: 0.9957 - val_loss: 1.0516 - val_binary_accuracy: 0.7339\n",
      "Epoch 96/150\n",
      "30/30 [==============================] - 1s 36ms/step - loss: 0.0204 - binary_accuracy: 0.9968 - val_loss: 1.1744 - val_binary_accuracy: 0.7468\n",
      "Epoch 97/150\n",
      "30/30 [==============================] - 1s 36ms/step - loss: 0.0082 - binary_accuracy: 0.9979 - val_loss: 1.0665 - val_binary_accuracy: 0.7511\n",
      "Epoch 98/150\n",
      "30/30 [==============================] - 1s 36ms/step - loss: 0.0207 - binary_accuracy: 0.9968 - val_loss: 1.1355 - val_binary_accuracy: 0.7425\n",
      "Epoch 99/150\n",
      "30/30 [==============================] - 1s 36ms/step - loss: 0.0270 - binary_accuracy: 0.9904 - val_loss: 1.1506 - val_binary_accuracy: 0.7639\n",
      "Epoch 100/150\n",
      "30/30 [==============================] - 1s 36ms/step - loss: 0.0086 - binary_accuracy: 1.0000 - val_loss: 1.1136 - val_binary_accuracy: 0.7511\n",
      "Epoch 101/150\n",
      "30/30 [==============================] - 1s 36ms/step - loss: 0.0083 - binary_accuracy: 1.0000 - val_loss: 1.2343 - val_binary_accuracy: 0.7554\n",
      "Epoch 102/150\n",
      "30/30 [==============================] - 1s 36ms/step - loss: 0.0112 - binary_accuracy: 0.9979 - val_loss: 1.2391 - val_binary_accuracy: 0.7597\n",
      "Epoch 103/150\n",
      "30/30 [==============================] - 1s 36ms/step - loss: 0.0075 - binary_accuracy: 0.9979 - val_loss: 1.2598 - val_binary_accuracy: 0.7511\n",
      "Epoch 104/150\n",
      "30/30 [==============================] - 1s 36ms/step - loss: 0.0075 - binary_accuracy: 1.0000 - val_loss: 1.2345 - val_binary_accuracy: 0.7296\n",
      "Epoch 105/150\n"
     ]
    },
    {
     "name": "stdout",
     "output_type": "stream",
     "text": [
      "30/30 [==============================] - 1s 36ms/step - loss: 0.0053 - binary_accuracy: 1.0000 - val_loss: 1.2034 - val_binary_accuracy: 0.7382\n",
      "Epoch 106/150\n",
      "30/30 [==============================] - 1s 36ms/step - loss: 0.0070 - binary_accuracy: 1.0000 - val_loss: 1.1684 - val_binary_accuracy: 0.7511\n",
      "Epoch 107/150\n",
      "30/30 [==============================] - 1s 36ms/step - loss: 0.0062 - binary_accuracy: 0.9979 - val_loss: 1.2995 - val_binary_accuracy: 0.7511\n",
      "Epoch 108/150\n",
      "30/30 [==============================] - 1s 36ms/step - loss: 0.0044 - binary_accuracy: 1.0000 - val_loss: 1.1933 - val_binary_accuracy: 0.7511\n",
      "Epoch 109/150\n",
      "30/30 [==============================] - 1s 36ms/step - loss: 0.0133 - binary_accuracy: 0.9947 - val_loss: 1.5188 - val_binary_accuracy: 0.7382\n",
      "Epoch 110/150\n",
      "30/30 [==============================] - 1s 36ms/step - loss: 0.0252 - binary_accuracy: 0.9914 - val_loss: 1.2101 - val_binary_accuracy: 0.7682\n",
      "Epoch 111/150\n",
      "30/30 [==============================] - 1s 36ms/step - loss: 0.0161 - binary_accuracy: 0.9989 - val_loss: 1.2190 - val_binary_accuracy: 0.7382\n",
      "Epoch 112/150\n",
      "30/30 [==============================] - 1s 36ms/step - loss: 0.0044 - binary_accuracy: 1.0000 - val_loss: 1.2239 - val_binary_accuracy: 0.7296\n",
      "Epoch 113/150\n",
      "30/30 [==============================] - 1s 36ms/step - loss: 0.0097 - binary_accuracy: 0.9947 - val_loss: 1.2675 - val_binary_accuracy: 0.7468\n",
      "Epoch 114/150\n",
      "30/30 [==============================] - 1s 36ms/step - loss: 0.0077 - binary_accuracy: 0.9989 - val_loss: 1.3061 - val_binary_accuracy: 0.7511\n",
      "Epoch 115/150\n",
      "30/30 [==============================] - 1s 36ms/step - loss: 0.0024 - binary_accuracy: 1.0000 - val_loss: 1.2255 - val_binary_accuracy: 0.7339\n",
      "Epoch 116/150\n",
      "30/30 [==============================] - 1s 36ms/step - loss: 0.0015 - binary_accuracy: 1.0000 - val_loss: 1.2557 - val_binary_accuracy: 0.7210\n",
      "Epoch 117/150\n",
      "30/30 [==============================] - 1s 36ms/step - loss: 5.6374e-04 - binary_accuracy: 1.0000 - val_loss: 1.2723 - val_binary_accuracy: 0.7210\n",
      "Epoch 118/150\n",
      "30/30 [==============================] - 1s 35ms/step - loss: 4.7545e-04 - binary_accuracy: 1.0000 - val_loss: 1.2864 - val_binary_accuracy: 0.7210\n",
      "Epoch 119/150\n",
      "30/30 [==============================] - 1s 37ms/step - loss: 4.2944e-04 - binary_accuracy: 1.0000 - val_loss: 1.2994 - val_binary_accuracy: 0.7210\n",
      "Epoch 120/150\n",
      "30/30 [==============================] - 1s 36ms/step - loss: 3.9839e-04 - binary_accuracy: 1.0000 - val_loss: 1.3102 - val_binary_accuracy: 0.7253\n",
      "Epoch 121/150\n",
      "30/30 [==============================] - 1s 35ms/step - loss: 3.7256e-04 - binary_accuracy: 1.0000 - val_loss: 1.3197 - val_binary_accuracy: 0.7253\n",
      "Epoch 122/150\n",
      "30/30 [==============================] - 1s 36ms/step - loss: 3.5106e-04 - binary_accuracy: 1.0000 - val_loss: 1.3290 - val_binary_accuracy: 0.7253\n",
      "Epoch 123/150\n",
      "30/30 [==============================] - 1s 37ms/step - loss: 3.3216e-04 - binary_accuracy: 1.0000 - val_loss: 1.3375 - val_binary_accuracy: 0.7253\n",
      "Epoch 124/150\n",
      "30/30 [==============================] - 1s 36ms/step - loss: 3.1584e-04 - binary_accuracy: 1.0000 - val_loss: 1.3457 - val_binary_accuracy: 0.7253\n",
      "Epoch 125/150\n",
      "30/30 [==============================] - 1s 37ms/step - loss: 3.0135e-04 - binary_accuracy: 1.0000 - val_loss: 1.3528 - val_binary_accuracy: 0.7253\n",
      "Epoch 126/150\n",
      "30/30 [==============================] - 1s 36ms/step - loss: 2.8859e-04 - binary_accuracy: 1.0000 - val_loss: 1.3600 - val_binary_accuracy: 0.7253\n",
      "Epoch 127/150\n",
      "30/30 [==============================] - 1s 36ms/step - loss: 2.7707e-04 - binary_accuracy: 1.0000 - val_loss: 1.3667 - val_binary_accuracy: 0.7253\n",
      "Epoch 128/150\n",
      "30/30 [==============================] - 1s 37ms/step - loss: 2.6650e-04 - binary_accuracy: 1.0000 - val_loss: 1.3733 - val_binary_accuracy: 0.7253\n",
      "Epoch 129/150\n",
      "30/30 [==============================] - 1s 37ms/step - loss: 2.5671e-04 - binary_accuracy: 1.0000 - val_loss: 1.3795 - val_binary_accuracy: 0.7253\n",
      "Epoch 130/150\n",
      "30/30 [==============================] - 1s 36ms/step - loss: 2.4766e-04 - binary_accuracy: 1.0000 - val_loss: 1.3853 - val_binary_accuracy: 0.7253\n",
      "Epoch 131/150\n",
      "30/30 [==============================] - 1s 37ms/step - loss: 2.3929e-04 - binary_accuracy: 1.0000 - val_loss: 1.3913 - val_binary_accuracy: 0.7253\n",
      "Epoch 132/150\n",
      "30/30 [==============================] - 1s 37ms/step - loss: 2.3154e-04 - binary_accuracy: 1.0000 - val_loss: 1.3973 - val_binary_accuracy: 0.7253\n",
      "Epoch 133/150\n",
      "30/30 [==============================] - 1s 36ms/step - loss: 2.2430e-04 - binary_accuracy: 1.0000 - val_loss: 1.4028 - val_binary_accuracy: 0.7296\n",
      "Epoch 134/150\n",
      "30/30 [==============================] - 1s 35ms/step - loss: 2.1744e-04 - binary_accuracy: 1.0000 - val_loss: 1.4081 - val_binary_accuracy: 0.7296\n",
      "Epoch 135/150\n",
      "30/30 [==============================] - 1s 37ms/step - loss: 2.1104e-04 - binary_accuracy: 1.0000 - val_loss: 1.4131 - val_binary_accuracy: 0.7296\n",
      "Epoch 136/150\n",
      "30/30 [==============================] - 1s 36ms/step - loss: 2.0508e-04 - binary_accuracy: 1.0000 - val_loss: 1.4182 - val_binary_accuracy: 0.7296\n",
      "Epoch 137/150\n",
      "30/30 [==============================] - 1s 36ms/step - loss: 1.9941e-04 - binary_accuracy: 1.0000 - val_loss: 1.4230 - val_binary_accuracy: 0.7296\n",
      "Epoch 138/150\n",
      "30/30 [==============================] - 1s 36ms/step - loss: 1.9407e-04 - binary_accuracy: 1.0000 - val_loss: 1.4277 - val_binary_accuracy: 0.7296\n",
      "Epoch 139/150\n",
      "30/30 [==============================] - 1s 36ms/step - loss: 1.8895e-04 - binary_accuracy: 1.0000 - val_loss: 1.4330 - val_binary_accuracy: 0.7296\n",
      "Epoch 140/150\n",
      "30/30 [==============================] - 1s 36ms/step - loss: 1.8409e-04 - binary_accuracy: 1.0000 - val_loss: 1.4379 - val_binary_accuracy: 0.7296\n",
      "Epoch 141/150\n",
      "30/30 [==============================] - 1s 37ms/step - loss: 1.7936e-04 - binary_accuracy: 1.0000 - val_loss: 1.4424 - val_binary_accuracy: 0.7296\n",
      "Epoch 142/150\n",
      "30/30 [==============================] - 1s 36ms/step - loss: 1.7494e-04 - binary_accuracy: 1.0000 - val_loss: 1.4469 - val_binary_accuracy: 0.7296\n",
      "Epoch 143/150\n",
      "30/30 [==============================] - 1s 36ms/step - loss: 1.7071e-04 - binary_accuracy: 1.0000 - val_loss: 1.4513 - val_binary_accuracy: 0.7296\n",
      "Epoch 144/150\n",
      "30/30 [==============================] - 1s 36ms/step - loss: 1.6665e-04 - binary_accuracy: 1.0000 - val_loss: 1.4554 - val_binary_accuracy: 0.7296\n",
      "Epoch 145/150\n",
      "30/30 [==============================] - 1s 37ms/step - loss: 1.6278e-04 - binary_accuracy: 1.0000 - val_loss: 1.4597 - val_binary_accuracy: 0.7296\n",
      "Epoch 146/150\n",
      "30/30 [==============================] - 1s 36ms/step - loss: 1.5905e-04 - binary_accuracy: 1.0000 - val_loss: 1.4636 - val_binary_accuracy: 0.7296\n",
      "Epoch 147/150\n",
      "30/30 [==============================] - 1s 35ms/step - loss: 1.5544e-04 - binary_accuracy: 1.0000 - val_loss: 1.4677 - val_binary_accuracy: 0.7296\n",
      "Epoch 148/150\n",
      "30/30 [==============================] - 1s 36ms/step - loss: 1.5208e-04 - binary_accuracy: 1.0000 - val_loss: 1.4717 - val_binary_accuracy: 0.7296\n",
      "Epoch 149/150\n",
      "30/30 [==============================] - 1s 35ms/step - loss: 1.4873e-04 - binary_accuracy: 1.0000 - val_loss: 1.4754 - val_binary_accuracy: 0.7296\n",
      "Epoch 150/150\n",
      "30/30 [==============================] - 1s 35ms/step - loss: 1.4560e-04 - binary_accuracy: 1.0000 - val_loss: 1.4793 - val_binary_accuracy: 0.7296\n"
     ]
    }
   ],
   "source": [
    "history = model.fit(\n",
    "    ds_train,\n",
    "    validation_data=ds_val,\n",
    "    epochs=150,\n",
    ")"
   ]
  },
  {
   "cell_type": "code",
   "execution_count": 106,
   "id": "62fe4e6f",
   "metadata": {
    "scrolled": true
   },
   "outputs": [
    {
     "data": {
      "image/png": "[encoded data removed]",
      "text/plain": [
       "<Figure size 432x288 with 1 Axes>"
      ]
     },
     "metadata": {
      "needs_background": "light"
     },
     "output_type": "display_data"
    },
    {
     "data": {
      "image/png": "[encoded data removed]",
      "text/plain": [
       "<Figure size 432x288 with 1 Axes>"
      ]
     },
     "metadata": {
      "needs_background": "light"
     },
     "output_type": "display_data"
    }
   ],
   "source": [
    "import pandas as pd\n",
    "history_frame = pd.DataFrame(history.history)\n",
    "history_frame.loc[:, ['loss', 'val_loss']].plot()\n",
    "history_frame.loc[:, ['binary_accuracy', 'val_binary_accuracy']].plot();"
   ]
  },
  {
   "cell_type": "code",
   "execution_count": 107,
   "id": "377b9d3e",
   "metadata": {
    "scrolled": true
   },
   "outputs": [
    {
     "name": "stdout",
     "output_type": "stream",
     "text": [
      "Prédictions ;\n",
      " - Malin(s):  467 \n",
      " - Bénins:  468 \n",
      " - doutes:  0 \n",
      " - Totale comp:  935  vs  935\n"
     ]
    }
   ],
   "source": [
    "predictions = model.predict(ds_train)\n",
    "\n",
    "b =0\n",
    "m = 0\n",
    "u = 0\n",
    "for element in predictions :\n",
    "    if(element[0] > 0.95) :\n",
    "        m +=1\n",
    "    elif(element[0]< 0.05) :\n",
    "        b +=1\n",
    "    else :\n",
    "        u +=1\n",
    "        \n",
    "print(\"Prédictions ;\\n - Malin(s): \", m, \"\\n - Bénins: \", b, \"\\n - doutes: \", u, \"\\n - Totale comp: \", b+u+m,\" vs \",len(predictions))"
   ]
  },
  {
   "cell_type": "code",
   "execution_count": 112,
   "id": "a648f006",
   "metadata": {},
   "outputs": [
    {
     "name": "stdout",
     "output_type": "stream",
     "text": [
      "Prédictions ;\n",
      " - Malin(s):  120 \n",
      " - Bénins:  113 \n",
      " - Totale comp:  233  vs  233\n"
     ]
    }
   ],
   "source": [
    "predictions = model.predict(ds_val)\n",
    "\n",
    "b =0\n",
    "m = 0\n",
    "for element in predictions :\n",
    "    if(element[0] > 0.5) :\n",
    "        m +=1\n",
    "    elif(element[0]< 0.5) :\n",
    "        b +=1\n",
    "        \n",
    "print(\"Prédictions ;\\n - Malin(s): \", m, \"\\n - Bénins: \", b, \"\\n - Totale comp: \", b+u+m,\" vs \",len(predictions))"
   ]
  },
  {
   "cell_type": "code",
   "execution_count": 109,
   "id": "785ced0b",
   "metadata": {},
   "outputs": [],
   "source": [
    "from sklearn.metrics import plot_confusion_matrix  \n",
    "\n",
    "def predict_class_label_number(dataset):\n",
    "    predictions =  model.predict(dataset)\n",
    "    res = np.zeros(len(predictions))\n",
    "    i = 0 \n",
    "    for element in predictions : \n",
    "        if(element[0]> 0.5):\n",
    "            res[i] = 1\n",
    "        i += 1\n",
    "    return tf.convert_to_tensor(res)\n",
    "\n",
    "def give_labels (dataset, size):\n",
    "    lab = np.zeros(size)\n",
    "    i = 0\n",
    "    for batch in dataset:\n",
    "        for element in batch[1] :\n",
    "            lab[i] = element.numpy()\n",
    "            i +=1\n",
    "    return tf.convert_to_tensor(lab)\n",
    "    \n",
    "def show_confusion_matrix(cm, labels):\n",
    "    plt.figure(figsize=(5,5))\n",
    "    plt.imshow(cm)\n",
    "    plt.colorbar()\n",
    "    plt.xlabel('Prediction')\n",
    "    plt.ylabel('Label')\n",
    "    plt.show()"
   ]
  },
  {
   "cell_type": "code",
   "execution_count": 110,
   "id": "59fe0431",
   "metadata": {
    "scrolled": false
   },
   "outputs": [
    {
     "data": {
      "image/png": "[encoded data removed]",
      "text/plain": [
       "<Figure size 360x360 with 2 Axes>"
      ]
     },
     "metadata": {
      "needs_background": "light"
     },
     "output_type": "display_data"
    }
   ],
   "source": [
    "dataset = ds_val\n",
    "#size = define upper bcs easier\n",
    "confusion_mtx = tf.math.confusion_matrix(\n",
    "    give_labels(dataset, size),\n",
    "    predict_class_label_number(dataset),\n",
    "    num_classes=2)\n",
    "show_confusion_matrix(confusion_mtx, [0,1])"
   ]
  },
  {
   "cell_type": "code",
   "execution_count": null,
   "id": "148dda0f",
   "metadata": {},
   "outputs": [],
   "source": []
  }
 ],
 "metadata": {
  "kernelspec": {
   "display_name": "Python 3 (ipykernel)",
   "language": "python",
   "name": "python3"
  },
  "language_info": {
   "codemirror_mode": {
    "name": "ipython",
    "version": 3
   },
   "file_extension": ".py",
   "mimetype": "text/x-python",
   "name": "python",
   "nbconvert_exporter": "python",
   "pygments_lexer": "ipython3",
   "version": "3.9.7"
  }
 },
 "nbformat": 4,
 "nbformat_minor": 5
}
